{
 "cells": [
  {
   "cell_type": "code",
   "execution_count": 21,
   "metadata": {
    "collapsed": true
   },
   "outputs": [],
   "source": [
    "import tensorflow as tf\n",
    "import matplotlib.pyplot as plt\n",
    "\n",
    "%matplotlib inline"
   ]
  },
  {
   "cell_type": "code",
   "execution_count": 22,
   "metadata": {},
   "outputs": [
    {
     "name": "stdout",
     "output_type": "stream",
     "text": [
      "Extracting MNIST_data/train-images-idx3-ubyte.gz\n",
      "Extracting MNIST_data/train-labels-idx1-ubyte.gz\n",
      "Extracting MNIST_data/t10k-images-idx3-ubyte.gz\n",
      "Extracting MNIST_data/t10k-labels-idx1-ubyte.gz\n"
     ]
    }
   ],
   "source": [
    "from tensorflow.examples.tutorials.mnist import input_data\n",
    "\n",
    "mnist = input_data.read_data_sets(\"MNIST_data/\", one_hot=True)"
   ]
  },
  {
   "cell_type": "code",
   "execution_count": 32,
   "metadata": {},
   "outputs": [
    {
     "name": "stdout",
     "output_type": "stream",
     "text": [
      "(?, 784)\n",
      "(?, 10)\n"
     ]
    }
   ],
   "source": [
    "logs_path = '/Users/shijian/git/temp_tensorboard'\n",
    "\n",
    "with tf.name_scope(\"input\"):\n",
    "    input_images = tf.placeholder(tf.float32, shape=[None, mnist.train.images.shape[1]])\n",
    "    input_labels = tf.placeholder(tf.float32, shape=[None, mnist.train.labels.shape[1]])\n",
    "\n",
    "print(input_images.shape)\n",
    "print(input_labels.shape)"
   ]
  },
  {
   "cell_type": "code",
   "execution_count": 24,
   "metadata": {
    "collapsed": true
   },
   "outputs": [],
   "source": [
    "hidden_units = 768\n",
    "with tf.name_scope(\"weights\"):\n",
    "    input_weights = tf.Variable(tf.random_normal([int(input_images.shape[1]), hidden_units]))\n",
    "\n",
    "with tf.name_scope(\"biases\")\n",
    "    input_biases = tf.Variable(tf.constant(0.1, shape=[hidden_units])) # can avoid dead neuros by adding initial bias"
   ]
  },
  {
   "cell_type": "code",
   "execution_count": 33,
   "metadata": {
    "collapsed": true
   },
   "outputs": [],
   "source": [
    "with tf.name_scope(\"hidden_layer_wb\"):\n",
    "    hidden_weights = tf.Variable(tf.random_normal([hidden_units, 10]))\n",
    "    hidden_biases = tf.Variable(tf.constant(0.1, shape=[10]))\n",
    "\n",
    "with tf.name_scope(\"hidden_layer_cau\"):\n",
    "    input_layer = tf.matmul(input_images, input_weights) + input_biases\n",
    "    input_dropout = tf.nn.dropout(input_layer, 0.5)\n",
    "    input_active = tf.nn.relu(input_layer)\n",
    "\n",
    "    logits = tf.matmul(input_active, hidden_weights) + hidden_biases"
   ]
  },
  {
   "cell_type": "code",
   "execution_count": 34,
   "metadata": {
    "collapsed": true
   },
   "outputs": [],
   "source": [
    "with tf.name_scope(\"cost\"):\n",
    "    loss_function = tf.reduce_mean(tf.nn.softmax_cross_entropy_with_logits(logits=logits, labels=input_labels))"
   ]
  },
  {
   "cell_type": "code",
   "execution_count": 35,
   "metadata": {
    "collapsed": true
   },
   "outputs": [],
   "source": [
    "with tf.name_scope(\"train\"):\n",
    "    optimizer = tf.train.GradientDescentOptimizer(0.4).minimize(loss_function)"
   ]
  },
  {
   "cell_type": "code",
   "execution_count": 36,
   "metadata": {
    "collapsed": true
   },
   "outputs": [],
   "source": [
    "with tf.name_scope(\"accuracy\"):\n",
    "    correct_prediction = tf.equal(tf.argmax(logits, axis=1), tf.argmax(input_labels,axis=1))\n",
    "    accuracy = tf.reduce_mean(tf.cast(correct_prediction, tf.float32))"
   ]
  },
  {
   "cell_type": "code",
   "execution_count": 37,
   "metadata": {},
   "outputs": [
    {
     "data": {
      "text/plain": [
       "<tf.Tensor 'accuracy_3:0' shape=() dtype=string>"
      ]
     },
     "execution_count": 37,
     "metadata": {},
     "output_type": "execute_result"
    }
   ],
   "source": [
    "tf.summary.scalar(\"cost\", loss_function)\n",
    "tf.summary.scalar(\"accuracy\", accuracy)"
   ]
  },
  {
   "cell_type": "code",
   "execution_count": 38,
   "metadata": {
    "collapsed": true
   },
   "outputs": [],
   "source": [
    "summary_all = tf.summary.merge_all()"
   ]
  },
  {
   "cell_type": "code",
   "execution_count": 40,
   "metadata": {},
   "outputs": [
    {
     "name": "stdout",
     "output_type": "stream",
     "text": [
      "Training epoch 100\n",
      "Accuracy: 0.8936\n",
      "Training epoch 200\n",
      "Accuracy: 0.9165\n",
      "Training epoch 300\n",
      "Accuracy: 0.9189\n",
      "Training epoch 400\n",
      "Accuracy: 0.9265\n",
      "Training epoch 500\n",
      "Accuracy: 0.9286\n",
      "Training epoch 600\n",
      "Accuracy: 0.9298\n",
      "Training epoch 700\n",
      "Accuracy: 0.9358\n",
      "Training epoch 800\n",
      "Accuracy: 0.9314\n",
      "Training epoch 900\n",
      "Accuracy: 0.9335\n",
      "Training epoch 1000\n",
      "Accuracy: 0.9322\n",
      "Training epoch 1100\n",
      "Accuracy: 0.9398\n",
      "Training epoch 1200\n",
      "Accuracy: 0.9402\n",
      "Training epoch 1300\n",
      "Accuracy: 0.9386\n",
      "Training epoch 1400\n",
      "Accuracy: 0.9404\n",
      "Training epoch 1500\n",
      "Accuracy: 0.9406\n",
      "Training epoch 1600\n",
      "Accuracy: 0.9427\n",
      "Training epoch 1700\n",
      "Accuracy: 0.9426\n",
      "Training epoch 1800\n",
      "Accuracy: 0.9408\n",
      "Training epoch 1900\n",
      "Accuracy: 0.9431\n",
      "Training epoch 2000\n",
      "Accuracy: 0.9427\n",
      "Training epoch 2100\n",
      "Accuracy: 0.9434\n",
      "Training epoch 2200\n",
      "Accuracy: 0.9445\n",
      "Training epoch 2300\n",
      "Accuracy: 0.9444\n",
      "Training epoch 2400\n",
      "Accuracy: 0.9426\n",
      "Training epoch 2500\n",
      "Accuracy: 0.9438\n",
      "Training epoch 2600\n",
      "Accuracy: 0.942\n",
      "Training epoch 2700\n",
      "Accuracy: 0.9454\n",
      "Training epoch 2800\n",
      "Accuracy: 0.9439\n",
      "Training epoch 2900\n",
      "Accuracy: 0.9438\n",
      "Training epoch 3000\n",
      "Accuracy: 0.9447\n"
     ]
    }
   ],
   "source": [
    "with tf.Session() as sess:\n",
    "    init = tf.global_variables_initializer()\n",
    "    sess.run(init)\n",
    " \n",
    "    # create training logs for tensorflow\n",
    "    writer = tf.summary.FileWriter(logs_path, graph=tf.get_default_graph())\n",
    "    \n",
    "    for x in range(3000):\n",
    "        batch = mnist.train.next_batch(128)\n",
    "        optimizer.run(feed_dict={input_images: batch[0], input_labels: batch[1]})\n",
    "        if ((x+1) % 100 == 0):\n",
    "            print(\"Training epoch \" + str(x+1))\n",
    "            ac, summary_single = sess.run([accuracy, summary_all], feed_dict={input_images: mnist.test.images, input_labels: mnist.test.labels})\n",
    "            print(\"Accuracy: \" + str(ac))\n",
    "            writer.add_summary(summary_single, x)\n",
    "       \n",
    "    "
   ]
  },
  {
   "cell_type": "markdown",
   "metadata": {},
   "source": [
    "# CNN"
   ]
  },
  {
   "cell_type": "code",
   "execution_count": null,
   "metadata": {
    "collapsed": true
   },
   "outputs": [],
   "source": [
    "def weight_variable(shape):\n",
    "  initial = tf.truncated_normal(shape, stddev=0.1, seed=1)\n",
    "  return tf.Variable(initial)\n",
    "\n",
    "def bias_variable(shape):\n",
    "  initial = tf.constant(0.1, shape=shape)\n",
    "  return tf.Variable(initial)\n",
    "\n",
    "def conv2d(x, W):\n",
    "  return tf.nn.conv2d(x, W, strides=[1, 1, 1, 1], padding='SAME')\n",
    "\n",
    "def max_pool_2x2(x):\n",
    "  return tf.nn.max_pool(x, ksize=[1, 2, 2, 1],\n",
    "                        strides=[1, 2, 2, 1], padding='SAME')"
   ]
  },
  {
   "cell_type": "code",
   "execution_count": null,
   "metadata": {
    "collapsed": true
   },
   "outputs": [],
   "source": [
    "input_images = tf.placeholder(tf.float32, shape=[None, mnist.train.images.shape[1]])\n",
    "input_labels = tf.placeholder(tf.float32, shape=[None, mnist.train.labels.shape[1]])"
   ]
  },
  {
   "cell_type": "code",
   "execution_count": null,
   "metadata": {
    "collapsed": true
   },
   "outputs": [],
   "source": [
    "W_conv1 = weight_variable([5, 5, 1, 32])\n",
    "b_conv1 = bias_variable([32])\n",
    "\n",
    "x_image = tf.reshape(input_images, [-1, 28, 28, 1])\n",
    "\n",
    "h_conv1 = tf.nn.relu(conv2d(x_image, W_conv1) + b_conv1)\n",
    "h_pool1 = max_pool_2x2(h_conv1)"
   ]
  },
  {
   "cell_type": "code",
   "execution_count": null,
   "metadata": {
    "collapsed": true
   },
   "outputs": [],
   "source": [
    "W_conv2 = weight_variable([5, 5, 32, 64])\n",
    "b_conv2 = bias_variable([64])\n",
    "\n",
    "h_conv2 = tf.nn.relu(conv2d(h_pool1, W_conv2) + b_conv2)\n",
    "h_pool2 = max_pool_2x2(h_conv2)"
   ]
  },
  {
   "cell_type": "code",
   "execution_count": null,
   "metadata": {
    "collapsed": true
   },
   "outputs": [],
   "source": [
    "W_conv3 = weight_variable([5, 5, 64, 128])\n",
    "b_conv3 = bias_variable([128])\n",
    "\n",
    "h_conv3 = tf.nn.relu(conv2d(h_pool2, W_conv3) + b_conv3)\n",
    "h_pool3 = max_pool_2x2(h_conv3)"
   ]
  },
  {
   "cell_type": "code",
   "execution_count": null,
   "metadata": {
    "collapsed": true
   },
   "outputs": [],
   "source": [
    "# W_fc1 = weight_variable([4 * 4 * 128, 1024])\n",
    "# b_fc1 = bias_variable([1024])\n",
    "# h_pool2_flat = tf.reshape(h_pool3, [-1, 4*4*128])\n",
    "\n",
    "W_fc1 = weight_variable([7 * 7 * 64, 1024])\n",
    "b_fc1 = bias_variable([1024])\n",
    "h_pool2_flat = tf.reshape(h_pool2, [-1, 7*7*64])\n",
    "\n",
    "h_fc1 = tf.nn.relu(tf.matmul(h_pool2_flat, W_fc1) + b_fc1)"
   ]
  },
  {
   "cell_type": "code",
   "execution_count": null,
   "metadata": {
    "collapsed": true
   },
   "outputs": [],
   "source": [
    "keep_prob = tf.placeholder(tf.float32)\n",
    "h_fc1_drop = tf.nn.dropout(h_fc1, keep_prob)"
   ]
  },
  {
   "cell_type": "code",
   "execution_count": null,
   "metadata": {
    "collapsed": true
   },
   "outputs": [],
   "source": [
    "W_fc2 = weight_variable([1024, 10])\n",
    "b_fc2 = bias_variable([10])\n",
    "\n",
    "y_conv = tf.matmul(h_fc1_drop, W_fc2) + b_fc2"
   ]
  },
  {
   "cell_type": "code",
   "execution_count": null,
   "metadata": {
    "collapsed": true
   },
   "outputs": [],
   "source": [
    "cross_entropy = tf.reduce_mean(\n",
    "    tf.nn.softmax_cross_entropy_with_logits(labels=input_labels, logits=y_conv))\n",
    "train_step = tf.train.AdamOptimizer(1e-4).minimize(cross_entropy)\n",
    "correct_prediction = tf.equal(tf.argmax(y_conv, axis=1), tf.argmax(input_labels, axis=1))\n",
    "accuracy = tf.reduce_mean(tf.cast(correct_prediction, tf.float32))\n",
    "\n",
    "with tf.Session() as sess:\n",
    "  sess.run(tf.global_variables_initializer())\n",
    "  for i in range(10000):\n",
    "    batch = mnist.train.next_batch(100)\n",
    "    if i % 100 == 0:\n",
    "      train_accuracy = accuracy.eval(feed_dict={\n",
    "          input_images: batch[0], input_labels: batch[1], keep_prob: 1.0})\n",
    "      print('step %d, training accuracy %g' % (i, train_accuracy))\n",
    "    train_step.run(feed_dict={input_images: batch[0], input_labels: batch[1], keep_prob: 0.5})\n",
    "\n",
    "  print('test accuracy %g' % accuracy.eval(feed_dict={\n",
    "      input_images: mnist.test.images, input_labels: mnist.test.labels, keep_prob: 1.0}))"
   ]
  },
  {
   "cell_type": "code",
   "execution_count": null,
   "metadata": {
    "collapsed": true
   },
   "outputs": [],
   "source": [
    "plt.imshow(mnist.train.images[0].reshape([28, 28]))\n"
   ]
  },
  {
   "cell_type": "code",
   "execution_count": null,
   "metadata": {
    "collapsed": true
   },
   "outputs": [],
   "source": []
  }
 ],
 "metadata": {
  "kernelspec": {
   "display_name": "Python 3",
   "language": "python",
   "name": "python3"
  },
  "language_info": {
   "codemirror_mode": {
    "name": "ipython",
    "version": 3
   },
   "file_extension": ".py",
   "mimetype": "text/x-python",
   "name": "python",
   "nbconvert_exporter": "python",
   "pygments_lexer": "ipython3",
   "version": "3.5.4"
  }
 },
 "nbformat": 4,
 "nbformat_minor": 2
}
