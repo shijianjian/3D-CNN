{
 "cells": [
  {
   "cell_type": "markdown",
   "metadata": {
    "_cell_guid": "30e4853b-8e8b-47b6-b1ad-c3b202fafd0e",
    "_uuid": "80d9114438599127b8ab20a0a2ff34b69f7acde4"
   },
   "source": [
    "### 3D CNN with tensorflow"
   ]
  },
  {
   "cell_type": "code",
   "execution_count": 1,
   "metadata": {
    "_cell_guid": "2f1be7f0-b4ee-4e29-8fc6-eaee2d51266d",
    "_uuid": "4820de16b36485c4efc8d265192ff967e73af932"
   },
   "outputs": [
    {
     "name": "stderr",
     "output_type": "stream",
     "text": [
      "Using TensorFlow backend.\n"
     ]
    }
   ],
   "source": [
    "# This Python 3 environment comes with many helpful analytics libraries installed\n",
    "# It is defined by the kaggle/python docker image: https://github.com/kaggle/docker-python\n",
    "# For example, here's several helpful packages to load in \n",
    "\n",
    "import numpy as np # linear algebra\n",
    "import pandas as pd # data processing, CSV file I/O (e.g. pd.read_csv)\n",
    "import tensorflow as tf\n",
    "from keras.utils import to_categorical\n",
    "import matplotlib.pyplot as plt\n",
    "from mpl_toolkits.mplot3d import Axes3D # for 3d plotting\n",
    "\n",
    "import h5py\n",
    "\n",
    "%matplotlib inline\n",
    "\n",
    "# Input data files are available in the {path} directory.\n",
    "# For example, running this (by clicking run or pressing Shift+Enter) will list the files in the input directory\n",
    "\n",
    "from subprocess import check_output\n",
    "# print(check_output([\"dir\", data_path]).decode(\"utf8\"))\n",
    "\n",
    "# Any results you write to the current directory are saved as output."
   ]
  },
  {
   "cell_type": "markdown",
   "metadata": {
    "_cell_guid": "804a5c4c-09be-4df6-a4cb-9dca3eececb2",
    "_uuid": "9bf530082bc90558d122eeb798303ea1ca9c4e8b"
   },
   "source": [
    "#### Load data"
   ]
  },
  {
   "cell_type": "code",
   "execution_count": 2,
   "metadata": {
    "_cell_guid": "b7119878-be78-41f3-8400-44790d918603",
    "_uuid": "6493b00474f6a82617b9b3ceafd1d68dcd98e466"
   },
   "outputs": [],
   "source": [
    "import sys\n",
    "import os\n",
    "if sys.platform == 'darwin':\n",
    "    data_path = os.getcwd() + \"/3d-mnist/full_dataset_vectors.h5\"\n",
    "else:\n",
    "    data_path = os.getcwd() + \"\\\\3d-mnist\\\\full_dataset_vectors.h5\"\n",
    "    \n",
    "# load the data\n",
    "with h5py.File(data_path, 'r') as hf:\n",
    "    x_train_raw = hf[\"X_train\"][:]\n",
    "    y_train_raw = hf[\"y_train\"][:]\n",
    "    x_test_raw = hf[\"X_test\"][:]\n",
    "    y_test_raw = hf[\"y_test\"][:]\n",
    "\n",
    "\n",
    "# length check\n",
    "assert(len(x_train_raw) == len(y_train_raw))\n",
    "assert(len(x_test_raw) == len(y_test_raw))"
   ]
  },
  {
   "cell_type": "code",
   "execution_count": 3,
   "metadata": {
    "_cell_guid": "b1c7c5b4-f8a3-4d23-8899-46c6e4101423",
    "_uuid": "7cc12f2b5ef67a871a32684e48e05ead8b4e6c2e",
    "collapsed": true
   },
   "outputs": [],
   "source": [
    "# 1D vector to rgb values, provided by ../input/plot3d.py\n",
    "def array_to_color(array, cmap=\"Oranges\"):\n",
    "    s_m = plt.cm.ScalarMappable(cmap=cmap)\n",
    "    return s_m.to_rgba(array)[:,:-1]\n",
    "\n",
    "# Transform data from 1d to 3d rgb\n",
    "def rgb_data_transform(data):\n",
    "    data_t = []\n",
    "    for i in range(data.shape[0]):\n",
    "        data_t.append(array_to_color(data[i]).reshape(16, 16, 16, 3))\n",
    "    return np.asarray(data_t, dtype=np.float32)"
   ]
  },
  {
   "cell_type": "code",
   "execution_count": 4,
   "metadata": {
    "_cell_guid": "4fe40a86-6544-4fef-b4f8-31e95c19244f",
    "_uuid": "d1524605b35210bd1269e33a267feaa6b7993ad3"
   },
   "outputs": [],
   "source": [
    "n_classes = 10 # from 0 to 9, 10 labels totally\n",
    "\n",
    "x_train = rgb_data_transform(x_train_raw)\n",
    "x_test = rgb_data_transform(x_test_raw)\n",
    "\n",
    "y_train = to_categorical(y_train_raw, n_classes)\n",
    "y_test = to_categorical(y_test_raw, n_classes)"
   ]
  },
  {
   "cell_type": "code",
   "execution_count": 5,
   "metadata": {},
   "outputs": [
    {
     "data": {
      "text/plain": [
       "(10000, 16, 16, 16, 3)"
      ]
     },
     "execution_count": 5,
     "metadata": {},
     "output_type": "execute_result"
    }
   ],
   "source": [
    "x_train.shape"
   ]
  },
  {
   "cell_type": "markdown",
   "metadata": {
    "_cell_guid": "d64d93a6-c61b-4123-a681-c98a81fb4a03",
    "_uuid": "890bd0b2e0011891ec58b6d2b669cf359031fe14"
   },
   "source": [
    "Input placeholder init"
   ]
  },
  {
   "cell_type": "code",
   "execution_count": 6,
   "metadata": {
    "_cell_guid": "61a2eb92-edbb-477e-bb3f-118f095abca3",
    "_uuid": "57151c573ef896e8fd4441a556a589a7acb0c972",
    "collapsed": true
   },
   "outputs": [],
   "source": [
    "with tf.name_scope('inputs'):\n",
    "    x_input = tf.placeholder(tf.float32, shape=[None, 16, 16, 16, 3])\n",
    "    y_input = tf.placeholder(tf.float32, shape=[None, n_classes]) "
   ]
  },
  {
   "cell_type": "markdown",
   "metadata": {
    "_cell_guid": "380b1652-bbb7-4efb-bdcc-d8a1ea1694ed",
    "_uuid": "057d15848c078ba3aabd60bb4d08186b16371a48"
   },
   "source": [
    "Construct CNN model with 3 conv layers and apply dropout in final layer."
   ]
  },
  {
   "cell_type": "code",
   "execution_count": 7,
   "metadata": {
    "_cell_guid": "4c48d4d7-fd7b-42cc-ab8f-7b8c86113fc7",
    "_uuid": "dd3f141deeaa101627569b8472430db7d67ad644",
    "collapsed": true
   },
   "outputs": [],
   "source": [
    "def cnn_model(x_train_data, keep_rate=0.7, seed=None):\n",
    "    \n",
    "    with tf.name_scope(\"layer_a\"):\n",
    "        # conv => 16*16*16\n",
    "        conv1 = tf.layers.conv3d(inputs=x_train_data, filters=16, kernel_size=[3,3,3], padding='same', activation=tf.nn.relu)\n",
    "        # conv => 16*16*16\n",
    "        conv2 = tf.layers.conv3d(inputs=conv1, filters=32, kernel_size=[3,3,3], padding='same', activation=tf.nn.relu)\n",
    "        # pool => 8*8*8\n",
    "        pool3 = tf.layers.max_pooling3d(inputs=conv2, pool_size=[2, 2, 2], strides=2)\n",
    "        \n",
    "    with tf.name_scope(\"layer_c\"):\n",
    "        # conv => 8*8*8\n",
    "        conv4 = tf.layers.conv3d(inputs=pool3, filters=64, kernel_size=[3,3,3], padding='same', activation=tf.nn.relu)\n",
    "        # conv => 8*8*8\n",
    "        conv5 = tf.layers.conv3d(inputs=conv4, filters=128, kernel_size=[3,3,3], padding='same', activation=tf.nn.relu)\n",
    "        # pool => 4*4*4\n",
    "        pool6 = tf.layers.max_pooling3d(inputs=conv5, pool_size=[2, 2, 2], strides=2)\n",
    "        \n",
    "    with tf.name_scope(\"batch_norm\"):\n",
    "        cnn3d_bn = tf.layers.batch_normalization(inputs=pool6, training=True)\n",
    "        \n",
    "    with tf.name_scope(\"fully_con\"):\n",
    "        flattening = tf.reshape(cnn3d_bn, [-1, 4*4*4*128])\n",
    "        dense = tf.layers.dense(inputs=flattening, units=1024, activation=tf.nn.relu)\n",
    "        # (1-keep_rate) is the probability that the node will be kept\n",
    "        dropout = tf.layers.dropout(inputs=dense, rate=keep_rate, training=True)\n",
    "        \n",
    "    with tf.name_scope(\"y_conv\"):\n",
    "        y_conv = tf.layers.dense(inputs=dropout, units=10)\n",
    "    \n",
    "    return y_conv"
   ]
  },
  {
   "cell_type": "code",
   "execution_count": 12,
   "metadata": {
    "_cell_guid": "90d1bee1-5ca8-48ea-bac0-a77057b0a3a2",
    "_uuid": "f65e5ca048c402af5bdb36ae975148f89186d586",
    "collapsed": true
   },
   "outputs": [],
   "source": [
    "def train_neural_network(x_train_data, y_train_data, x_test_data, y_test_data, learning_rate=0.1, keep_rate=0.7, epochs=10, batch_size=128, using_gpu=False):\n",
    "\n",
    "    if using_gpu:\n",
    "        device_name = '/gpu:1' \n",
    "    else:\n",
    "        device_name = '/cpu:0'\n",
    "\n",
    "    with tf.device(device_name):\n",
    "        with tf.name_scope(\"cross_entropy\"):\n",
    "            prediction = cnn_model(x_input, keep_rate, seed=1)\n",
    "            cost = tf.reduce_mean(tf.nn.softmax_cross_entropy_with_logits(logits=prediction, labels=y_input))\n",
    "                              \n",
    "        with tf.name_scope(\"training\"):\n",
    "            optimizer = tf.train.AdamOptimizer(learning_rate).minimize(cost)\n",
    "\n",
    "        correct = tf.equal(tf.argmax(prediction, 1), tf.argmax(y_input, 1))\n",
    "        accuracy = tf.reduce_mean(tf.cast(correct, 'float'))\n",
    " \n",
    "    sess = tf.Session()\n",
    "    \n",
    "    if using_gpu:\n",
    "        # GPU using BFC\n",
    "        config = tf.ConfigProto()\n",
    "        config.gpu_options.allocator_type = 'BFC'\n",
    "        sess =  tf.Session(config= config)\n",
    "            \n",
    "    sess.run(tf.global_variables_initializer())\n",
    "    import datetime\n",
    "\n",
    "    start_time = datetime.datetime.now()\n",
    "\n",
    "    iterations = int(len(x_train_data)/batch_size) + 1\n",
    "    # run epochs\n",
    "    for epoch in range(epochs):\n",
    "        start_time_epoch = datetime.datetime.now()\n",
    "        print('Epoch', epoch, 'started', end='')\n",
    "        epoch_loss = 0\n",
    "        # mini batch\n",
    "        for itr in range(iterations):\n",
    "            mini_batch_x = x_train_data[itr*batch_size: (itr+1)*batch_size]\n",
    "            mini_batch_y = y_train_data[itr*batch_size: (itr+1)*batch_size]\n",
    "            _optimizer, _cost = sess.run([optimizer, cost], feed_dict={x_input: mini_batch_x, y_input: mini_batch_y})\n",
    "            epoch_loss += _cost\n",
    "\n",
    "        #  using mini batch in case not enough memory\n",
    "        acc = 0\n",
    "        itrs = int(len(x_test_data)/batch_size) + 1\n",
    "        for itr in range(itrs):\n",
    "            mini_batch_x_test = x_test_data[itr*batch_size: (itr+1)*batch_size]\n",
    "            mini_batch_y_test = y_test_data[itr*batch_size: (itr+1)*batch_size]\n",
    "            acc += sess.run(accuracy, feed_dict={x_input: mini_batch_x_test, y_input: mini_batch_y_test})\n",
    "\n",
    "        end_time_epoch = datetime.datetime.now()\n",
    "        print(' Testing Set Accuracy:',acc/itrs, ' Time elapse: ', str(end_time_epoch - start_time_epoch))\n",
    "\n",
    "    end_time = datetime.datetime.now()\n",
    "    print('Time elapse: ', str(end_time - start_time))\n",
    "    sess.close()"
   ]
  },
  {
   "cell_type": "code",
   "execution_count": 13,
   "metadata": {
    "_cell_guid": "40ce9098-4483-48f2-872c-f69e80720fb7",
    "_kg_hide-input": false,
    "_kg_hide-output": false,
    "_uuid": "5d3eb08fb7f71324b9df7173109442b9bb88629c"
   },
   "outputs": [
    {
     "name": "stdout",
     "output_type": "stream",
     "text": [
      "/cpu:0\n",
      "Epoch 0 started Testing Set Accuracy: 0.184027777985  Time elapse:  0:00:17.232568\n",
      "Epoch 1 started Testing Set Accuracy: 0.173611111939  Time elapse:  0:00:16.316635\n",
      "Epoch 2 started Testing Set Accuracy: 0.149305555969  Time elapse:  0:00:15.993002\n",
      "Epoch 3 started Testing Set Accuracy: 0.121527777985  Time elapse:  0:00:15.275975\n",
      "Epoch 4 started Testing Set Accuracy: 0.0746527779847  Time elapse:  0:00:15.670613\n",
      "Epoch 5 started Testing Set Accuracy: 0.164930555969  Time elapse:  0:00:15.257762\n",
      "Epoch 6 started Testing Set Accuracy: 0.201388895512  Time elapse:  0:00:15.357258\n",
      "Epoch 7 started Testing Set Accuracy: 0.161458335817  Time elapse:  0:00:15.274576\n",
      "Epoch 8 started Testing Set Accuracy: 0.164930555969  Time elapse:  0:00:15.197053\n",
      "Epoch 9 started Testing Set Accuracy: 0.220486111939  Time elapse:  0:00:15.442548\n",
      "Epoch 10 started Testing Set Accuracy: 0.0902777779847  Time elapse:  0:00:15.444761\n",
      "Epoch 11 started Testing Set Accuracy: 0.09375  Time elapse:  0:00:16.742738\n",
      "Epoch 12 started Testing Set Accuracy: 0.0902777779847  Time elapse:  0:00:16.937450\n",
      "Epoch 13 started Testing Set Accuracy: 0.145833335817  Time elapse:  0:00:16.814111\n",
      "Epoch 14 started Testing Set Accuracy: 0.149305555969  Time elapse:  0:00:15.394571\n",
      "Epoch 15 started Testing Set Accuracy: 0.192708335817  Time elapse:  0:00:15.297498\n",
      "Epoch 16 started Testing Set Accuracy: 0.078125  Time elapse:  0:00:15.100467\n",
      "Epoch 17 started Testing Set Accuracy: 0.152777777985  Time elapse:  0:00:15.576500\n",
      "Epoch 18 started Testing Set Accuracy: 0.130208335817  Time elapse:  0:00:15.562811\n",
      "Epoch 19 started Testing Set Accuracy: 0.145833335817  Time elapse:  0:00:15.478220\n",
      "Epoch 20 started Testing Set Accuracy: 0.157986111939  Time elapse:  0:00:16.198468\n",
      "Epoch 21 started Testing Set Accuracy: 0.164930555969  Time elapse:  0:00:15.551780\n",
      "Epoch 22 started Testing Set Accuracy: 0.208333335817  Time elapse:  0:00:15.244872\n",
      "Epoch 23 started Testing Set Accuracy: 0.211805555969  Time elapse:  0:00:15.243404\n",
      "Epoch 24 started Testing Set Accuracy: 0.0989583358169  Time elapse:  0:00:15.142443\n",
      "Epoch 25 started Testing Set Accuracy: 0.236111111939  Time elapse:  0:00:15.368139\n",
      "Epoch 26 started Testing Set Accuracy: 0.322916671634  Time elapse:  0:00:15.207896\n",
      "Epoch 27 started Testing Set Accuracy: 0.137152777985  Time elapse:  0:00:15.237753\n",
      "Epoch 28 started Testing Set Accuracy: 0.196180555969  Time elapse:  0:00:15.261046\n",
      "Epoch 29 started Testing Set Accuracy: 0.239583335817  Time elapse:  0:00:15.424061\n",
      "Epoch 30 started Testing Set Accuracy: 0.105902777985  Time elapse:  0:00:15.169137\n",
      "Epoch 31 started Testing Set Accuracy: 0.157986111939  Time elapse:  0:00:15.215427\n",
      "Epoch 32 started Testing Set Accuracy: 0.248263895512  Time elapse:  0:00:15.159109\n",
      "Epoch 33 started Testing Set Accuracy: 0.149305555969  Time elapse:  0:00:15.305718\n",
      "Epoch 34 started Testing Set Accuracy: 0.220486111939  Time elapse:  0:00:15.190653\n",
      "Epoch 35 started Testing Set Accuracy: 0.220486111939  Time elapse:  0:00:15.212849\n",
      "Epoch 36 started Testing Set Accuracy: 0.180555555969  Time elapse:  0:00:15.234994\n",
      "Epoch 37 started Testing Set Accuracy: 0.09375  Time elapse:  0:00:15.276160\n",
      "Epoch 38 started Testing Set Accuracy: 0.145833335817  Time elapse:  0:00:15.244973\n",
      "Epoch 39 started Testing Set Accuracy: 0.149305555969  Time elapse:  0:00:15.154452\n",
      "Epoch 40 started Testing Set Accuracy: 0.152777777985  Time elapse:  0:00:15.300055\n",
      "Epoch 41 started Testing Set Accuracy: 0.102430555969  Time elapse:  0:00:15.329480\n",
      "Epoch 42 started Testing Set Accuracy: 0.161458335817  Time elapse:  0:00:15.174208\n",
      "Epoch 43 started Testing Set Accuracy: 0.173611111939  Time elapse:  0:00:15.196760\n",
      "Epoch 44 started Testing Set Accuracy: 0.236111111939  Time elapse:  0:00:15.582925\n",
      "Epoch 45 started Testing Set Accuracy: 0.149305555969  Time elapse:  0:00:15.248681\n",
      "Epoch 46 started Testing Set Accuracy: 0.168402777985  Time elapse:  0:00:15.418313\n",
      "Epoch 47 started Testing Set Accuracy: 0.09375  Time elapse:  0:00:15.104259\n",
      "Epoch 48 started Testing Set Accuracy: 0.164930555969  Time elapse:  0:00:15.269125\n",
      "Epoch 49 started Testing Set Accuracy: 0.152777777985  Time elapse:  0:00:15.365191\n",
      "Time elapse:  0:12:54.410167\n"
     ]
    }
   ],
   "source": [
    "train_neural_network(x_train[:10], y_train[:10], x_test[:50], y_test[:50], learning_rate=0.01, batch_size=32, epochs=50, using_gpu=False)"
   ]
  },
  {
   "cell_type": "code",
   "execution_count": null,
   "metadata": {
    "_cell_guid": "5cf7a8ed-4176-41f8-b7e7-5146abc04909",
    "_uuid": "8538e0f728b698a5111abc2613ef89c923a5e62f",
    "collapsed": true
   },
   "outputs": [],
   "source": [
    "with tf.Session() as sess:\n",
    "    prediction = cnn_model(x_input, keep_rate=0.5)\n",
    "    sess.run(tf.global_variables_initializer())\n",
    "    correct = tf.equal(tf.argmax(prediction, 1), tf.argmax(y_input, 1))\n",
    "    accuracy = tf.reduce_mean(tf.cast(correct, 'float'))\n",
    "    print('Accuracy:',accuracy.eval({x_input:x_train[:2], y_input:y_train[:2]}))"
   ]
  },
  {
   "cell_type": "code",
   "execution_count": null,
   "metadata": {
    "_cell_guid": "13d0a892-d681-4ba1-b799-c5b36c4d5c0d",
    "_uuid": "a8d051d3d591c51be0d614bcdc544eeee20b4e34",
    "collapsed": true
   },
   "outputs": [],
   "source": [
    "fig = plt.figure(figsize=(16,9))\n",
    "for i in range(16):\n",
    "    ax = fig.add_subplot(4,4,i+1)\n",
    "    plt.imshow(x_train[1][i,:,:])\n",
    "\n",
    "print(y_train[1])"
   ]
  },
  {
   "cell_type": "code",
   "execution_count": null,
   "metadata": {
    "collapsed": true
   },
   "outputs": [],
   "source": []
  }
 ],
 "metadata": {
  "kernelspec": {
   "display_name": "Python 3",
   "language": "python",
   "name": "python3"
  },
  "language_info": {
   "codemirror_mode": {
    "name": "ipython",
    "version": 3
   },
   "file_extension": ".py",
   "mimetype": "text/x-python",
   "name": "python",
   "nbconvert_exporter": "python",
   "pygments_lexer": "ipython3",
   "version": "3.5.4"
  }
 },
 "nbformat": 4,
 "nbformat_minor": 1
}
