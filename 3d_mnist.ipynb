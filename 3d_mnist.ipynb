{
 "cells": [
  {
   "cell_type": "markdown",
   "metadata": {
    "_cell_guid": "30e4853b-8e8b-47b6-b1ad-c3b202fafd0e",
    "_uuid": "80d9114438599127b8ab20a0a2ff34b69f7acde4"
   },
   "source": [
    "### 3D CNN with tensorflow"
   ]
  },
  {
   "cell_type": "code",
   "execution_count": 1,
   "metadata": {
    "_cell_guid": "2f1be7f0-b4ee-4e29-8fc6-eaee2d51266d",
    "_uuid": "4820de16b36485c4efc8d265192ff967e73af932"
   },
   "outputs": [
    {
     "name": "stderr",
     "output_type": "stream",
     "text": [
      "Using TensorFlow backend.\n"
     ]
    },
    {
     "name": "stdout",
     "output_type": "stream",
     "text": [
      "C:\\Users\\212606295\\Desktop\\3D-CNN\\3d-mnist\n"
     ]
    }
   ],
   "source": [
    "# This Python 3 environment comes with many helpful analytics libraries installed\n",
    "# It is defined by the kaggle/python docker image: https://github.com/kaggle/docker-python\n",
    "# For example, here's several helpful packages to load in \n",
    "\n",
    "import numpy as np # linear algebra\n",
    "import pandas as pd # data processing, CSV file I/O (e.g. pd.read_csv)\n",
    "import tensorflow as tf\n",
    "import keras\n",
    "import matplotlib.pyplot as plt\n",
    "from mpl_toolkits.mplot3d import Axes3D # for 3d plotting\n",
    "\n",
    "import h5py\n",
    "\n",
    "%matplotlib inline\n",
    "\n",
    "import os\n",
    "data_path = os.getcwd() + \"\\\\3d-mnist\"\n",
    "# Input data files are available in the {path} directory.\n",
    "# For example, running this (by clicking run or pressing Shift+Enter) will list the files in the input directory\n",
    "print(data_path)\n",
    "from subprocess import check_output\n",
    "# print(check_output([\"dir\", data_path]).decode(\"utf8\"))\n",
    "\n",
    "# Any results you write to the current directory are saved as output."
   ]
  },
  {
   "cell_type": "markdown",
   "metadata": {
    "_cell_guid": "804a5c4c-09be-4df6-a4cb-9dca3eececb2",
    "_uuid": "9bf530082bc90558d122eeb798303ea1ca9c4e8b"
   },
   "source": [
    "#### Load data"
   ]
  },
  {
   "cell_type": "code",
   "execution_count": 2,
   "metadata": {
    "_cell_guid": "b7119878-be78-41f3-8400-44790d918603",
    "_uuid": "6493b00474f6a82617b9b3ceafd1d68dcd98e466",
    "collapsed": true
   },
   "outputs": [],
   "source": [
    "# load the data\n",
    "with h5py.File(data_path + '/full_dataset_vectors.h5', 'r') as hf:\n",
    "    x_train_raw = hf[\"X_train\"][:]\n",
    "    y_train_raw = hf[\"y_train\"][:]\n",
    "    x_test_raw = hf[\"X_test\"][:]\n",
    "    y_test_raw = hf[\"y_test\"][:]\n",
    "\n",
    "\n",
    "# length check\n",
    "assert(len(x_train_raw) == len(y_train_raw))\n",
    "assert(len(x_test_raw) == len(y_test_raw))"
   ]
  },
  {
   "cell_type": "code",
   "execution_count": 3,
   "metadata": {
    "_cell_guid": "b1c7c5b4-f8a3-4d23-8899-46c6e4101423",
    "_uuid": "7cc12f2b5ef67a871a32684e48e05ead8b4e6c2e",
    "collapsed": true
   },
   "outputs": [],
   "source": [
    "# 1D vector to rgb values, provided by ../input/plot3d.py\n",
    "def array_to_color(array, cmap=\"Oranges\"):\n",
    "    s_m = plt.cm.ScalarMappable(cmap=cmap)\n",
    "    return s_m.to_rgba(array)[:,:-1]\n",
    "\n",
    "# Transform data from 1d to 3d rgb\n",
    "def rgb_data_transform(data):\n",
    "    data_t = []\n",
    "    for i in range(data.shape[0]):\n",
    "        data_t.append(array_to_color(data[i]).reshape(16, 16, 16, 3))\n",
    "    return np.asarray(data_t, dtype=np.float32)"
   ]
  },
  {
   "cell_type": "code",
   "execution_count": 4,
   "metadata": {
    "_cell_guid": "4fe40a86-6544-4fef-b4f8-31e95c19244f",
    "_uuid": "d1524605b35210bd1269e33a267feaa6b7993ad3",
    "collapsed": true
   },
   "outputs": [],
   "source": [
    "n_classes = 10 # from 0 to 9, 10 labels totally\n",
    "\n",
    "x_train = rgb_data_transform(x_train_raw)\n",
    "x_test = rgb_data_transform(x_test_raw)\n",
    "\n",
    "y_train = keras.utils.to_categorical(y_train_raw, n_classes)\n",
    "y_test = keras.utils.to_categorical(y_test_raw, n_classes)"
   ]
  },
  {
   "cell_type": "code",
   "execution_count": 5,
   "metadata": {},
   "outputs": [
    {
     "data": {
      "text/plain": [
       "(10000, 16, 16, 16, 3)"
      ]
     },
     "execution_count": 5,
     "metadata": {},
     "output_type": "execute_result"
    }
   ],
   "source": [
    "x_train.shape"
   ]
  },
  {
   "cell_type": "markdown",
   "metadata": {
    "_cell_guid": "5b0c75ed-9785-488d-8636-e32fe1079353",
    "_uuid": "63b3078faed9be3ec1725da09802ee1d2a29e9d4"
   },
   "source": [
    "#### 3D Conv & Pooling layer \n",
    "Stride [batch, width, height, depth, channel]\n",
    "\n",
    "PS: Tensorflow does not support multi-stride in channel yet, so the last param has to be 1 for now"
   ]
  },
  {
   "cell_type": "code",
   "execution_count": 9,
   "metadata": {
    "_cell_guid": "9777041a-3f1e-44a7-816c-4921f6e64d3f",
    "_uuid": "420ffc3b27a21f177613c4ad6741ee9d61d3f5db",
    "collapsed": true
   },
   "outputs": [],
   "source": [
    "def conv3d(x, W):\n",
    "    with tf.device(\"/gpu:1\"):\n",
    "        return tf.nn.conv3d(x, W, strides=[1,1,1,1,1], padding='SAME')\n",
    "\n",
    "def maxpool3d(x):\n",
    "    with tf.device(\"/gpu:1\"):\n",
    "        return tf.nn.max_pool3d(x, ksize=[1,2,2,2,1], strides=[1,2,2,2,1], padding='SAME')"
   ]
  },
  {
   "cell_type": "markdown",
   "metadata": {
    "_cell_guid": "d64d93a6-c61b-4123-a681-c98a81fb4a03",
    "_uuid": "890bd0b2e0011891ec58b6d2b669cf359031fe14"
   },
   "source": [
    "Input placeholder init"
   ]
  },
  {
   "cell_type": "code",
   "execution_count": 10,
   "metadata": {
    "_cell_guid": "61a2eb92-edbb-477e-bb3f-118f095abca3",
    "_uuid": "57151c573ef896e8fd4441a556a589a7acb0c972",
    "collapsed": true
   },
   "outputs": [],
   "source": [
    "with tf.name_scope('inputs'):\n",
    "    x_input = tf.placeholder(tf.float32, shape=[None, 16, 16, 16, 3])\n",
    "    y_input = tf.placeholder(tf.float32, shape=[None, n_classes]) "
   ]
  },
  {
   "cell_type": "markdown",
   "metadata": {
    "_cell_guid": "380b1652-bbb7-4efb-bdcc-d8a1ea1694ed",
    "_uuid": "057d15848c078ba3aabd60bb4d08186b16371a48"
   },
   "source": [
    "Construct CNN model with 3 conv layers and apply dropout in final layer."
   ]
  },
  {
   "cell_type": "code",
   "execution_count": 20,
   "metadata": {
    "_cell_guid": "4c48d4d7-fd7b-42cc-ab8f-7b8c86113fc7",
    "_uuid": "dd3f141deeaa101627569b8472430db7d67ad644",
    "collapsed": true
   },
   "outputs": [],
   "source": [
    "def cnn_model(x_train_data, keep_rate=0.7, seed=None):\n",
    "    weights = {'W_conv1':tf.Variable(tf.random_normal([3,3,3,3,32], seed=seed)), #  conv => 14*14*14\n",
    "               'W_conv2':tf.Variable(tf.random_normal([3,3,3,32,64], seed=seed)), # conv => 12*12*12~ pool 6*6*6\n",
    "               'W_conv3':tf.Variable(tf.random_normal([3,3,3,64,128], seed=seed)),# conv => 4*4*4\n",
    "               'W_conv4':tf.Variable(tf.random_normal([3,3,3,128,256], seed=seed)),# conv => 2*2*2 ~ pool 1*1*1\n",
    "               'W_fc1':tf.Variable(tf.random_normal([4*4*4*256,4096], seed=seed)),\n",
    "               'W_fc2':tf.Variable(tf.random_normal([4096,1024], seed=seed)),\n",
    "               'out':tf.Variable(tf.random_normal([1024, n_classes], seed=seed))}\n",
    "\n",
    "#     biases = { 'b_conv1':tf.Variable(tf.random_normal([256], seed=seed)),\n",
    "#                'b_conv2':tf.Variable(tf.random_normal([512], seed=seed)),\n",
    "#                'b_conv3':tf.Variable(tf.random_normal([1024], seed=seed)),\n",
    "#                'b_fc1':tf.Variable(tf.random_normal([4096], seed=seed)),\n",
    "#                'b_fc2':tf.Variable(tf.random_normal([1024], seed=seed)),\n",
    "#                'out':tf.Variable(tf.random_normal([n_classes], seed=seed))}\n",
    "    \n",
    "    biases = { 'b_conv1':tf.Variable(tf.constant(0.1, shape=[32])),\n",
    "               'b_conv2':tf.Variable(tf.constant(0.1, shape=[64])),\n",
    "               'b_conv3':tf.Variable(tf.constant(0.1, shape=[128])),\n",
    "               'b_conv4':tf.Variable(tf.constant(0.1, shape=[256])),\n",
    "               'b_fc1':tf.Variable(tf.constant(0.1, shape=[4096])),\n",
    "               'b_fc2':tf.Variable(tf.constant(0.1, shape=[1024])),\n",
    "               'out':tf.Variable(tf.constant(0.1, shape=[n_classes]))}\n",
    "    \n",
    "    with tf.name_scope(\"layer_a\"):\n",
    "        conv1 = tf.layers.conv3d(inputs=x_train_data, filters=16, kernel_size=[3,3,3], padding='same', activation=tf.nn.relu)\n",
    "        conv2 = tf.layers.conv3d(inputs=conv1, filters=32, kernel_size=[3,3,3], padding='same', activation=tf.nn.relu)\n",
    "        pool3 = tf.layers.max_pooling3d(inputs=conv2, pool_size=[2, 2, 2], strides=2)\n",
    "#         conv1 = tf.nn.relu(conv3d(x_train_data, weights['W_conv1']) + biases['b_conv1'])\n",
    "#         conv2 = tf.nn.relu(conv3d(conv1, weights['W_conv2']) + biases['b_conv2'])\n",
    "#         conv2 = maxpool3d(conv2)\n",
    "\n",
    "#     with tf.name_scope(\"layer_b\"):\n",
    "#         conv2 = tf.nn.relu(conv3d(conv1, weights['W_conv2']) + biases['b_conv2'])\n",
    "#         conv2 = maxpool3d(conv2)\n",
    "        \n",
    "    with tf.name_scope(\"layer_c\"):\n",
    "        conv4 = tf.layers.conv3d(inputs=pool3, filters=64, kernel_size=[3,3,3], padding='same', activation=tf.nn.relu)\n",
    "        conv5 = tf.layers.conv3d(inputs=conv4, filters=128, kernel_size=[3,3,3], padding='same', activation=tf.nn.relu)\n",
    "        pool6 = tf.layers.max_pooling3d(inputs=conv5, pool_size=[2, 2, 2], strides=2)\n",
    "#         conv3 = tf.nn.relu(conv3d(conv2, weights['W_conv3']) + biases['b_conv3'])\n",
    "#         conv4 = tf.nn.relu(conv3d(conv3, weights['W_conv4']) + biases['b_conv4'])\n",
    "#         conv4 = maxpool3d(conv4)\n",
    "        \n",
    "    with tf.name_scope(\"batch_norm\"):\n",
    "        cnn3d_bn = tf.layers.batch_normalization(\n",
    "            inputs=pool6,training=True\n",
    "        )\n",
    "#         cnn3d_bn = tf.contrib.layers.batch_norm(\n",
    "#             conv4,\n",
    "#             data_format='NHWC',\n",
    "#             center=True,\n",
    "#             scale=True,\n",
    "#             is_training=True)\n",
    "        \n",
    "    with tf.name_scope(\"fully_con\"):\n",
    "        flattening = tf.reshape(cnn3d_bn, [-1, 4*4*4*128])\n",
    "        dense = tf.layers.dense(inputs=flattening, units=1024, activation=tf.nn.relu)\n",
    "        dropout = tf.layers.dropout(inputs=dense, rate=0.4, training=True)\n",
    "#         fc = tf.nn.relu(tf.matmul(flattening, weights['W_fc1']) + biases['b_fc1'])\n",
    "#         fc = tf.nn.dropout(fc, keep_rate)\n",
    "        \n",
    "#     with tf.name_scope(\"fully_con2\"):\n",
    "#         fc2 = tf.nn.relu(tf.matmul(fc, weights['W_fc2']) + biases['b_fc2'])\n",
    "#         fc2 = tf.nn.dropout(fc2, keep_rate)\n",
    "        \n",
    "#     with tf.name_scope(\"fully_con2\"):\n",
    "#         fc2 = tf.nn.relu(tf.matmul(fc, weights['W_fc2']) + biases['b_fc2'])\n",
    "#         fc2 = tf.nn.dropout(fc2, keep_rate)\n",
    "    \n",
    "    with tf.name_scope(\"y_conv\"):\n",
    "#         y_conv = tf.matmul(fc2, weights['out']) + biases['out']\n",
    "        y_conv = tf.layers.dense(inputs=dropout, units=10)\n",
    "    \n",
    "    return y_conv"
   ]
  },
  {
   "cell_type": "code",
   "execution_count": 21,
   "metadata": {
    "_cell_guid": "90d1bee1-5ca8-48ea-bac0-a77057b0a3a2",
    "_uuid": "f65e5ca048c402af5bdb36ae975148f89186d586",
    "collapsed": true
   },
   "outputs": [],
   "source": [
    "def train_neural_network(x_train_data, y_train_data, x_test_data, y_test_data, learning_rate=0.1, keep_rate=0.7, epochs=10, batch_size=128, using_gpu=False):\n",
    "\n",
    "    if using_gpu:\n",
    "        device_name = '/gpu:1'\n",
    "    else:\n",
    "        device_name = '/cpu:0'\n",
    "\n",
    "    with tf.device(device_name):\n",
    "        with tf.name_scope(\"cross_entropy\"):\n",
    "            prediction = cnn_model(x_input, keep_rate, seed=1)\n",
    "            cost = tf.reduce_mean(tf.nn.softmax_cross_entropy_with_logits(logits=prediction, labels=y_input))\n",
    "                              \n",
    "        with tf.name_scope(\"training\"):\n",
    "            optimizer = tf.train.AdamOptimizer(learning_rate).minimize(cost)\n",
    "\n",
    "        correct = tf.equal(tf.argmax(prediction, 1), tf.argmax(y_input, 1))\n",
    "        accuracy = tf.reduce_mean(tf.cast(correct, 'float'))\n",
    "\n",
    "        iterations = int(len(x_train_data)/batch_size) + 1\n",
    "    \n",
    "    # GPU using BFC\n",
    "    config = tf.ConfigProto()\n",
    "    config.gpu_options.allocator_type = 'BFC'\n",
    "    with tf.Session(config = config) as sess:\n",
    "        sess.run(tf.global_variables_initializer())\n",
    "        import datetime\n",
    "        \n",
    "        start_time = datetime.datetime.now()\n",
    "        \n",
    "        # run epochs\n",
    "        for epoch in range(epochs):\n",
    "            print('Epoch', epoch, 'started', end='')\n",
    "            epoch_loss = 0\n",
    "            # mini batch\n",
    "            for itr in range(iterations):\n",
    "                epoch_x = x_train_data[itr*batch_size: (itr+1)*batch_size]\n",
    "                epoch_y = y_train_data[itr*batch_size: (itr+1)*batch_size]\n",
    "                _optimizer, _cost = sess.run([optimizer, cost], feed_dict={x_input: epoch_x, y_input: epoch_y})\n",
    "                epoch_loss += _cost\n",
    "#                 print('.',_cost, end='')\n",
    "                if itr>0 and itr%10 == 0: # separate for low gpu memory\n",
    "                    pass\n",
    "#                     print('\\nAccuracy for:', epoch+1, '/',epochs, ':', (accuracy.eval({x_input:x_train_data[:2000], y_input:y_train_data[:2000]}) + accuracy.eval({x_input:x_train_data[2000:4000], y_input:y_train_data[2000:4000]}))/2, 'loss:', epoch_loss)\n",
    "            \n",
    "#             print('\\nAccuracy for:', epoch+1, '/',epochs, ':',(accuracy.eval({x_input:x_train_data[:2000], y_input:y_train_data[:2000]}) + accuracy.eval({x_input:x_train_data[2000:4000], y_input:y_train_data[2000:4000]}))/2, 'loss:', epoch_loss)\n",
    "\n",
    "            acc = 0\n",
    "            itrs = len(x_test_data)\n",
    "            for itr in range(itrs):\n",
    "                acc += accuracy.eval({x_input:x_test_data[itr : (itr+1)], y_input:y_test_data[itr : (itr+1)]})\n",
    "\n",
    "            print('Testing Set Accuracy:',acc/itrs)\n",
    "        \n",
    "        end_time = datetime.datetime.now()\n",
    "        print('Time elapse: ', str(end_time - start_time))"
   ]
  },
  {
   "cell_type": "code",
   "execution_count": null,
   "metadata": {
    "_cell_guid": "40ce9098-4483-48f2-872c-f69e80720fb7",
    "_kg_hide-input": false,
    "_kg_hide-output": false,
    "_uuid": "5d3eb08fb7f71324b9df7173109442b9bb88629c"
   },
   "outputs": [
    {
     "name": "stdout",
     "output_type": "stream",
     "text": [
      "Epoch 0 startedTesting Set Accuracy: 0.545\n",
      "Epoch 1 startedTesting Set Accuracy: 0.595\n",
      "Epoch 2 startedTesting Set Accuracy: 0.619\n",
      "Epoch 3 startedTesting Set Accuracy: 0.656\n",
      "Epoch 4 startedTesting Set Accuracy: 0.66\n",
      "Epoch 5 startedTesting Set Accuracy: 0.6845\n",
      "Epoch 6 startedTesting Set Accuracy: 0.6785\n",
      "Epoch 7 startedTesting Set Accuracy: 0.7015\n",
      "Epoch 8 started"
     ]
    }
   ],
   "source": [
    "train_neural_network(x_train[:], y_train[:], x_test[:], y_test[:], learning_rate=0.0001, batch_size=32,epochs=50, using_gpu=True)"
   ]
  },
  {
   "cell_type": "code",
   "execution_count": null,
   "metadata": {
    "_cell_guid": "5cf7a8ed-4176-41f8-b7e7-5146abc04909",
    "_uuid": "8538e0f728b698a5111abc2613ef89c923a5e62f",
    "collapsed": true
   },
   "outputs": [],
   "source": [
    "with tf.Session() as sess:\n",
    "    prediction = cnn_model(x_input, keep_rate=0.5)\n",
    "    sess.run(tf.global_variables_initializer())\n",
    "    correct = tf.equal(tf.argmax(prediction, 1), tf.argmax(y_input, 1))\n",
    "    accuracy = tf.reduce_mean(tf.cast(correct, 'float'))\n",
    "    print('Accuracy:',accuracy.eval({x_input:x_train[:2], y_input:y_train[:2]}))"
   ]
  },
  {
   "cell_type": "code",
   "execution_count": null,
   "metadata": {
    "_cell_guid": "13d0a892-d681-4ba1-b799-c5b36c4d5c0d",
    "_uuid": "a8d051d3d591c51be0d614bcdc544eeee20b4e34",
    "collapsed": true
   },
   "outputs": [],
   "source": [
    "fig = plt.figure(figsize=(16,9))\n",
    "for i in range(16):\n",
    "    ax = fig.add_subplot(4,4,i+1)\n",
    "    plt.imshow(x_train[1][i,:,:])\n",
    "\n",
    "print(y_train[1])"
   ]
  },
  {
   "cell_type": "code",
   "execution_count": null,
   "metadata": {
    "collapsed": true
   },
   "outputs": [],
   "source": []
  }
 ],
 "metadata": {
  "kernelspec": {
   "display_name": "Python 3",
   "language": "python",
   "name": "python3"
  },
  "language_info": {
   "codemirror_mode": {
    "name": "ipython",
    "version": 3
   },
   "file_extension": ".py",
   "mimetype": "text/x-python",
   "name": "python",
   "nbconvert_exporter": "python",
   "pygments_lexer": "ipython3",
   "version": "3.6.2"
  }
 },
 "nbformat": 4,
 "nbformat_minor": 1
}
