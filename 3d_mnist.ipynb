{
 "cells": [
  {
   "cell_type": "markdown",
   "metadata": {
    "_cell_guid": "30e4853b-8e8b-47b6-b1ad-c3b202fafd0e",
    "_uuid": "80d9114438599127b8ab20a0a2ff34b69f7acde4"
   },
   "source": [
    "### 3D CNN with tensorflow"
   ]
  },
  {
   "cell_type": "code",
   "execution_count": 1,
   "metadata": {
    "_cell_guid": "2f1be7f0-b4ee-4e29-8fc6-eaee2d51266d",
    "_uuid": "4820de16b36485c4efc8d265192ff967e73af932"
   },
   "outputs": [
    {
     "name": "stdout",
     "output_type": "stream",
     "text": [
      "full_dataset_vectors.h5\n",
      "plot3D.py\n",
      "test_point_clouds.h5\n",
      "train_point_clouds.h5\n",
      "voxelgrid.py\n",
      "\n"
     ]
    }
   ],
   "source": [
    "# This Python 3 environment comes with many helpful analytics libraries installed\n",
    "# It is defined by the kaggle/python docker image: https://github.com/kaggle/docker-python\n",
    "# For example, here's several helpful packages to load in \n",
    "\n",
    "import numpy as np # linear algebra\n",
    "import pandas as pd # data processing, CSV file I/O (e.g. pd.read_csv)\n",
    "import tensorflow as tf\n",
    "import matplotlib.pyplot as plt\n",
    "from mpl_toolkits.mplot3d import Axes3D # for 3d plotting\n",
    "\n",
    "import h5py\n",
    "\n",
    "%matplotlib inline\n",
    "\n",
    "import os\n",
    "data_path = os.getcwd() + \"/3d-mnist\"\n",
    "# Input data files are available in the {path} directory.\n",
    "# For example, running this (by clicking run or pressing Shift+Enter) will list the files in the input directory\n",
    "\n",
    "from subprocess import check_output\n",
    "print(check_output([\"ls\", data_path]).decode(\"utf8\"))\n",
    "\n",
    "# Any results you write to the current directory are saved as output."
   ]
  },
  {
   "cell_type": "markdown",
   "metadata": {
    "_cell_guid": "804a5c4c-09be-4df6-a4cb-9dca3eececb2",
    "_uuid": "9bf530082bc90558d122eeb798303ea1ca9c4e8b"
   },
   "source": [
    "#### Load data"
   ]
  },
  {
   "cell_type": "code",
   "execution_count": 2,
   "metadata": {
    "_cell_guid": "b7119878-be78-41f3-8400-44790d918603",
    "_uuid": "6493b00474f6a82617b9b3ceafd1d68dcd98e466",
    "collapsed": true
   },
   "outputs": [],
   "source": [
    "# load the data\n",
    "with h5py.File(data_path + '/full_dataset_vectors.h5', 'r') as hf:\n",
    "    x_train_raw = hf[\"X_train\"][:]\n",
    "    y_train_raw = hf[\"y_train\"][:]\n",
    "    x_test_raw = hf[\"X_test\"][:]\n",
    "    y_test_raw = hf[\"y_test\"][:]\n",
    "\n",
    "\n",
    "# length check\n",
    "assert(len(x_train_raw) == len(y_train_raw))\n",
    "assert(len(x_test_raw) == len(y_test_raw))"
   ]
  },
  {
   "cell_type": "code",
   "execution_count": 3,
   "metadata": {
    "_cell_guid": "b1c7c5b4-f8a3-4d23-8899-46c6e4101423",
    "_uuid": "7cc12f2b5ef67a871a32684e48e05ead8b4e6c2e",
    "collapsed": true
   },
   "outputs": [],
   "source": [
    "# 1D vector to rgb values, provided by ../input/plot3d.py\n",
    "def array_to_color(array, cmap=\"Oranges\"):\n",
    "    s_m = plt.cm.ScalarMappable(cmap=cmap)\n",
    "    return s_m.to_rgba(array)[:,:-1]\n",
    "\n",
    "# Transform data from 1d to 3d rgb\n",
    "def rgb_data_transform(data):\n",
    "    data_t = []\n",
    "    # reshape data from 4096 vectors to 16*16*16 matrices\n",
    "    for data_num in range(len(data)):\n",
    "        data_rgb = array_to_color(x_train_raw[data_num])\n",
    "        reshaped_data = np.reshape(data_rgb, newshape=(16, 16, 16, 3))\n",
    "        data_t.append(reshaped_data)\n",
    "    return np.asarray(data_t, dtype=np.float32)\n",
    "\n",
    "def y_one_hot(y, n_classes):\n",
    "    datas = []\n",
    "    for num in range(len(y)):\n",
    "        data = np.zeros(n_classes)\n",
    "        data[y[num]] = 1\n",
    "        datas.append(data)\n",
    "    return datas"
   ]
  },
  {
   "cell_type": "code",
   "execution_count": 4,
   "metadata": {
    "_cell_guid": "4fe40a86-6544-4fef-b4f8-31e95c19244f",
    "_uuid": "d1524605b35210bd1269e33a267feaa6b7993ad3",
    "collapsed": true
   },
   "outputs": [],
   "source": [
    "n_classes = 10 # from 0 to 9, 10 labels totally\n",
    "\n",
    "x_train = rgb_data_transform(x_train_raw)\n",
    "y_train = y_one_hot(y_train_raw, n_classes)\n",
    "x_test = rgb_data_transform(x_test_raw)\n",
    "y_test = y_one_hot(y_test_raw, n_classes)"
   ]
  },
  {
   "cell_type": "markdown",
   "metadata": {
    "_cell_guid": "5b0c75ed-9785-488d-8636-e32fe1079353",
    "_uuid": "63b3078faed9be3ec1725da09802ee1d2a29e9d4"
   },
   "source": [
    "#### 3D Conv & Pooling layer \n",
    "Stride [batch, width, height, depth, channel]\n",
    "\n",
    "PS: Tensorflow does not support multi-stride in channel yet, so the last param has to be 1 for now"
   ]
  },
  {
   "cell_type": "code",
   "execution_count": 5,
   "metadata": {
    "_cell_guid": "9777041a-3f1e-44a7-816c-4921f6e64d3f",
    "_uuid": "420ffc3b27a21f177613c4ad6741ee9d61d3f5db",
    "collapsed": true
   },
   "outputs": [],
   "source": [
    "def conv3d(x, W):\n",
    "    return tf.nn.conv3d(x, W, strides=[1,1,1,1,1], padding='SAME')\n",
    "\n",
    "def maxpool3d(x):\n",
    "    return tf.nn.max_pool3d(x, ksize=[1,2,2,2,1], strides=[1,2,2,2,1], padding='SAME')"
   ]
  },
  {
   "cell_type": "markdown",
   "metadata": {
    "_cell_guid": "d64d93a6-c61b-4123-a681-c98a81fb4a03",
    "_uuid": "890bd0b2e0011891ec58b6d2b669cf359031fe14"
   },
   "source": [
    "Input placeholder init"
   ]
  },
  {
   "cell_type": "code",
   "execution_count": 6,
   "metadata": {
    "_cell_guid": "61a2eb92-edbb-477e-bb3f-118f095abca3",
    "_uuid": "57151c573ef896e8fd4441a556a589a7acb0c972",
    "collapsed": true
   },
   "outputs": [],
   "source": [
    "with tf.name_scope('inputs'):\n",
    "    x_input = tf.placeholder(tf.float32, shape=[None, 16, 16, 16, 3])\n",
    "    y_input = tf.placeholder(tf.float32, shape=[None, n_classes]) "
   ]
  },
  {
   "cell_type": "markdown",
   "metadata": {
    "_cell_guid": "380b1652-bbb7-4efb-bdcc-d8a1ea1694ed",
    "_uuid": "057d15848c078ba3aabd60bb4d08186b16371a48"
   },
   "source": [
    "Construct CNN model with 3 conv layers and apply dropout in final layer."
   ]
  },
  {
   "cell_type": "code",
   "execution_count": 55,
   "metadata": {
    "_cell_guid": "4c48d4d7-fd7b-42cc-ab8f-7b8c86113fc7",
    "_uuid": "dd3f141deeaa101627569b8472430db7d67ad644",
    "collapsed": true
   },
   "outputs": [],
   "source": [
    "def cnn_model(x_train_data, keep_rate=0.7, seed=None):\n",
    "    weights = {'W_conv1':tf.Variable(tf.random_normal([3,3,3,3,16], seed=seed)), #  conv => 14*14*14\n",
    "               'W_conv2':tf.Variable(tf.random_normal([3,3,3,16,32], seed=seed)), # conv => 12*12*12~ pool 6*6*6\n",
    "               'W_conv3':tf.Variable(tf.random_normal([3,3,3,32,64], seed=seed)),# conv => 4*4*4\n",
    "               'W_conv4':tf.Variable(tf.random_normal([3,3,3,64,128], seed=seed)),# conv => 2*2*2 ~ pool 1*1*1\n",
    "               'W_fc1':tf.Variable(tf.random_normal([4*4*4*128,1024], seed=seed)),\n",
    "               'out':tf.Variable(tf.random_normal([1024, n_classes], seed=seed))}\n",
    "\n",
    "#     biases = { 'b_conv1':tf.Variable(tf.random_normal([256], seed=seed)),\n",
    "#                'b_conv2':tf.Variable(tf.random_normal([512], seed=seed)),\n",
    "#                'b_conv3':tf.Variable(tf.random_normal([1024], seed=seed)),\n",
    "#                'b_fc1':tf.Variable(tf.random_normal([4096], seed=seed)),\n",
    "#                'b_fc2':tf.Variable(tf.random_normal([1024], seed=seed)),\n",
    "#                'out':tf.Variable(tf.random_normal([n_classes], seed=seed))}\n",
    "    \n",
    "    biases = { 'b_conv1':tf.Variable(tf.constant(0.1, shape=[16])),\n",
    "               'b_conv2':tf.Variable(tf.constant(0.1, shape=[32])),\n",
    "               'b_conv3':tf.Variable(tf.constant(0.1, shape=[64])),\n",
    "               'b_conv4':tf.Variable(tf.constant(0.1, shape=[128])),\n",
    "               'b_fc1':tf.Variable(tf.constant(0.1, shape=[1024])),\n",
    "               'out':tf.Variable(tf.constant(0.1, shape=[n_classes]))}\n",
    "    \n",
    "    with tf.name_scope(\"layer_a\"):\n",
    "        conv1 = tf.nn.relu(conv3d(x_train_data, weights['W_conv1']) + biases['b_conv1'])\n",
    "        conv2 = tf.nn.relu(conv3d(conv1, weights['W_conv2']) + biases['b_conv2'])\n",
    "        conv2 = maxpool3d(conv2)\n",
    "\n",
    "#     with tf.name_scope(\"layer_b\"):\n",
    "#         conv2 = tf.nn.relu(conv3d(conv1, weights['W_conv2']) + biases['b_conv2'])\n",
    "#         conv2 = maxpool3d(conv2)\n",
    "        \n",
    "    with tf.name_scope(\"layer_c\"):\n",
    "        conv3 = tf.nn.relu(conv3d(conv2, weights['W_conv3']) + biases['b_conv3'])\n",
    "        conv4 = tf.nn.relu(conv3d(conv3, weights['W_conv4']) + biases['b_conv4'])\n",
    "        conv4 = maxpool3d(conv4)\n",
    "        \n",
    "    with tf.name_scope(\"batch_norm\"):\n",
    "        cnn3d_bn = tf.contrib.layers.batch_norm(\n",
    "            conv4,\n",
    "            data_format='NHWC',\n",
    "            center=True,\n",
    "            scale=True,\n",
    "            is_training=True)\n",
    "        \n",
    "    with tf.name_scope(\"fully_con\"):\n",
    "        flattening = tf.reshape(cnn3d_bn, [-1, 4*4*4*128])\n",
    "        fc = tf.nn.relu(tf.matmul(flattening, weights['W_fc1']) + biases['b_fc1'])\n",
    "        fc = tf.nn.dropout(fc, keep_rate)\n",
    "        \n",
    "#     with tf.name_scope(\"fully_con2\"):\n",
    "#         fc2 = tf.nn.relu(tf.matmul(fc, weights['W_fc2']) + biases['b_fc2'])\n",
    "#         fc2 = tf.nn.dropout(fc2, keep_rate)\n",
    "    \n",
    "    with tf.name_scope(\"y_conv\"):\n",
    "        y_conv = tf.matmul(fc, weights['out']) + biases['out']\n",
    "    \n",
    "    return y_conv"
   ]
  },
  {
   "cell_type": "code",
   "execution_count": 60,
   "metadata": {
    "_cell_guid": "90d1bee1-5ca8-48ea-bac0-a77057b0a3a2",
    "_uuid": "f65e5ca048c402af5bdb36ae975148f89186d586"
   },
   "outputs": [],
   "source": [
    "def train_neural_network(x_train_data, y_train_data, x_test_data, y_test_data, learning_rate=0.05, keep_rate=0.7, epochs=10, batch_size=128):\n",
    "\n",
    "\n",
    "    with tf.name_scope(\"cross_entropy\"):\n",
    "        prediction = cnn_model(x_input, keep_rate, seed=1)\n",
    "        cost = tf.reduce_mean(tf.nn.softmax_cross_entropy_with_logits(logits=prediction, labels=y_input))\n",
    "                              \n",
    "    with tf.name_scope(\"training\"):\n",
    "        optimizer = tf.train.AdamOptimizer(learning_rate).minimize(cost)\n",
    "       \n",
    "    correct = tf.equal(tf.argmax(prediction, 1), tf.argmax(y_input, 1))\n",
    "    accuracy = tf.reduce_mean(tf.cast(correct, 'float'))\n",
    "    \n",
    "    iterations = int(len(x_train_data)/batch_size) + 1\n",
    "    \n",
    "    with tf.Session() as sess:\n",
    "        sess.run(tf.global_variables_initializer())\n",
    "        import datetime\n",
    "        \n",
    "        start_time = datetime.datetime.now()\n",
    "        \n",
    "        # run epochs\n",
    "        for epoch in range(epochs):\n",
    "            print('Epoch', epoch, 'started', end='')\n",
    "            epoch_loss = 0\n",
    "            # mini batch\n",
    "            for itr in range(iterations):\n",
    "                epoch_x = x_train_data[itr*batch_size: (itr+1)*batch_size]\n",
    "                epoch_y = y_train_data[itr*batch_size: (itr+1)*batch_size]\n",
    "                _optimizer, _cost = sess.run([optimizer, cost], feed_dict={x_input: epoch_x, y_input: epoch_y})\n",
    "                epoch_loss += _cost\n",
    "                print('.',_cost, end='')\n",
    "                if itr>0 and itr%10 == 0:\n",
    "                    print('\\nAccuracy at:', itr, ':', accuracy.eval({x_input:x_train_data, y_input:y_train_data}))\n",
    "                \n",
    "            print('\\nAccuracy for:', epoch+1, '/',epochs, ':', accuracy.eval({x_input:x_train_data, y_input:y_train_data}), 'loss:', epoch_loss)\n",
    "            \n",
    "            print('Testing Set Accuracy:',accuracy.eval({x_input:x_test_data, y_input:y_test_data}))\n",
    "        \n",
    "        end_time = datetime.datetime.now()\n",
    "        print('Time elapse: ', str(end_time - start_time))"
   ]
  },
  {
   "cell_type": "code",
   "execution_count": 62,
   "metadata": {
    "_cell_guid": "40ce9098-4483-48f2-872c-f69e80720fb7",
    "_kg_hide-input": false,
    "_kg_hide-output": false,
    "_uuid": "5d3eb08fb7f71324b9df7173109442b9bb88629c"
   },
   "outputs": [
    {
     "name": "stdout",
     "output_type": "stream",
     "text": [
      "Epoch 0 started. 3480.54\n",
      "Accuracy for: 1 / 50 : 0.24 loss: 3480.54394531\n",
      "Testing Set Accuracy: 0.1\n",
      "Epoch 1 started. 4813.9\n",
      "Accuracy for: 2 / 50 : 0.1 loss: 4813.89550781\n",
      "Testing Set Accuracy: 0.1\n",
      "Epoch 2 started. 5786.56\n",
      "Accuracy for: 3 / 50 : 0.18 loss: 5786.56103516\n",
      "Testing Set Accuracy: 0.04\n",
      "Epoch 3 started. 6237.96\n",
      "Accuracy for: 4 / 50 : 0.1 loss: 6237.96240234\n",
      "Testing Set Accuracy: 0.12\n",
      "Epoch 4 started. 5477.65\n",
      "Accuracy for: 5 / 50 : 0.18 loss: 5477.65234375\n",
      "Testing Set Accuracy: 0.04\n",
      "Epoch 5 started. 3575.86\n",
      "Accuracy for: 6 / 50 : 0.46 loss: 3575.85620117\n",
      "Testing Set Accuracy: 0.08\n",
      "Epoch 6 started. 2504.43\n",
      "Accuracy for: 7 / 50 : 0.34 loss: 2504.42626953\n",
      "Testing Set Accuracy: 0.12\n",
      "Epoch 7 started. 2058.21\n",
      "Accuracy for: 8 / 50 : 0.44 loss: 2058.20727539\n",
      "Testing Set Accuracy: 0.1\n",
      "Epoch 8 started. 1902.97\n",
      "Accuracy for: 9 / 50 : 0.34 loss: 1902.96716309\n",
      "Testing Set Accuracy: 0.1\n",
      "Epoch 9 started. 1321.85\n",
      "Accuracy for: 10 / 50 : 0.38 loss: 1321.85327148\n",
      "Testing Set Accuracy: 0.1\n",
      "Epoch 10 started. 1833.46\n",
      "Accuracy for: 11 / 50 : 0.3 loss: 1833.45654297\n",
      "Testing Set Accuracy: 0.1\n",
      "Epoch 11 started. 1655.74\n",
      "Accuracy for: 12 / 50 : 0.48 loss: 1655.73706055\n",
      "Testing Set Accuracy: 0.18\n",
      "Epoch 12 started. 976.199\n",
      "Accuracy for: 13 / 50 : 0.52 loss: 976.199279785\n",
      "Testing Set Accuracy: 0.1\n",
      "Epoch 13 started. 785.972\n",
      "Accuracy for: 14 / 50 : 0.48 loss: 785.972473145\n",
      "Testing Set Accuracy: 0.08\n",
      "Epoch 14 started. 1012.04\n",
      "Accuracy for: 15 / 50 : 0.58 loss: 1012.03826904\n",
      "Testing Set Accuracy: 0.08\n",
      "Epoch 15 started. 918.591\n",
      "Accuracy for: 16 / 50 : 0.58 loss: 918.590881348\n",
      "Testing Set Accuracy: 0.1\n",
      "Epoch 16 started. 615.912\n",
      "Accuracy for: 17 / 50 : 0.62 loss: 615.911865234\n",
      "Testing Set Accuracy: 0.06\n",
      "Epoch 17 started. 456.241\n",
      "Accuracy for: 18 / 50 : 0.56 loss: 456.240692139\n",
      "Testing Set Accuracy: 0.04\n",
      "Epoch 18 started. 464.295\n",
      "Accuracy for: 19 / 50 : 0.66 loss: 464.295196533\n",
      "Testing Set Accuracy: 0.08\n",
      "Epoch 19 started. 383.937\n",
      "Accuracy for: 20 / 50 : 0.72 loss: 383.937225342\n",
      "Testing Set Accuracy: 0.04\n",
      "Epoch 20 started. 227.395\n",
      "Accuracy for: 21 / 50 : 0.7 loss: 227.395019531\n",
      "Testing Set Accuracy: 0.12\n",
      "Epoch 21 started. 445.176\n",
      "Accuracy for: 22 / 50 : 0.7 loss: 445.175933838\n",
      "Testing Set Accuracy: 0.08\n",
      "Epoch 22 started. 275.083\n",
      "Accuracy for: 23 / 50 : 0.76 loss: 275.083282471\n",
      "Testing Set Accuracy: 0.04\n",
      "Epoch 23 started. 339.506\n",
      "Accuracy for: 24 / 50 : 0.84 loss: 339.505859375\n",
      "Testing Set Accuracy: 0.1\n",
      "Epoch 24 started. 116.135\n",
      "Accuracy for: 25 / 50 : 0.84 loss: 116.135231018\n",
      "Testing Set Accuracy: 0.06\n",
      "Epoch 25 started. 135.678\n",
      "Accuracy for: 26 / 50 : 0.84 loss: 135.677810669\n",
      "Testing Set Accuracy: 0.06\n",
      "Epoch 26 started. 247.951\n",
      "Accuracy for: 27 / 50 : 0.86 loss: 247.950836182\n",
      "Testing Set Accuracy: 0.04\n",
      "Epoch 27 started. 114.346\n",
      "Accuracy for: 28 / 50 : 0.92 loss: 114.34601593\n",
      "Testing Set Accuracy: 0.08\n",
      "Epoch 28 started. 43.3172\n",
      "Accuracy for: 29 / 50 : 0.88 loss: 43.3171844482\n",
      "Testing Set Accuracy: 0.04\n",
      "Epoch 29 started. 71.8503\n",
      "Accuracy for: 30 / 50 : 0.94 loss: 71.8503341675\n",
      "Testing Set Accuracy: 0.06\n",
      "Epoch 30 started. 71.3859\n",
      "Accuracy for: 31 / 50 : 0.98 loss: 71.3859100342\n",
      "Testing Set Accuracy: 0.04\n",
      "Epoch 31 started. 64.0291\n",
      "Accuracy for: 32 / 50 : 0.94 loss: 64.0291442871\n",
      "Testing Set Accuracy: 0.04\n",
      "Epoch 32 started. 84.6707\n",
      "Accuracy for: 33 / 50 : 0.96 loss: 84.6706619263\n",
      "Testing Set Accuracy: 0.08\n",
      "Epoch 33 started. 64.7988\n",
      "Accuracy for: 34 / 50 : 0.98 loss: 64.7987670898\n",
      "Testing Set Accuracy: 0.04\n",
      "Epoch 34 started. 62.8304\n",
      "Accuracy for: 35 / 50 : 0.92 loss: 62.8304100037\n",
      "Testing Set Accuracy: 0.08\n",
      "Epoch 35 started. 114.168\n",
      "Accuracy for: 36 / 50 : 0.98 loss: 114.168167114\n",
      "Testing Set Accuracy: 0.04\n",
      "Epoch 36 started. 8.94615\n",
      "Accuracy for: 37 / 50 : 0.92 loss: 8.94614505768\n",
      "Testing Set Accuracy: 0.04\n",
      "Epoch 37 started. 0.0\n",
      "Accuracy for: 38 / 50 : 0.94 loss: 0.0\n",
      "Testing Set Accuracy: 0.04\n",
      "Epoch 38 started. 52.2554\n",
      "Accuracy for: 39 / 50 : 0.96 loss: 52.2554283142\n",
      "Testing Set Accuracy: 0.06\n",
      "Epoch 39 started. 35.9373\n",
      "Accuracy for: 40 / 50 : 0.94 loss: 35.9373130798\n",
      "Testing Set Accuracy: 0.04\n",
      "Epoch 40 started. 6.3185\n",
      "Accuracy for: 41 / 50 : 0.96 loss: 6.31849622726\n",
      "Testing Set Accuracy: 0.04\n",
      "Epoch 41 started. 0.0\n",
      "Accuracy for: 42 / 50 : 1.0 loss: 0.0\n",
      "Testing Set Accuracy: 0.04\n",
      "Epoch 42 started. 24.0697\n",
      "Accuracy for: 43 / 50 : 0.98 loss: 24.0696754456\n",
      "Testing Set Accuracy: 0.02\n",
      "Epoch 43 started. 3.26135\n",
      "Accuracy for: 44 / 50 : 1.0 loss: 3.26134777069\n",
      "Testing Set Accuracy: 0.06\n",
      "Epoch 44 started. 0.0\n",
      "Accuracy for: 45 / 50 : 1.0 loss: 0.0\n",
      "Testing Set Accuracy: 0.04\n",
      "Epoch 45 started. 67.5088\n",
      "Accuracy for: 46 / 50 : 1.0 loss: 67.5087509155\n",
      "Testing Set Accuracy: 0.04\n",
      "Epoch 46 started. 13.0738\n",
      "Accuracy for: 47 / 50 : 0.98 loss: 13.07380867\n",
      "Testing Set Accuracy: 0.04\n",
      "Epoch 47 started. 0.0\n",
      "Accuracy for: 48 / 50 : 1.0 loss: 0.0\n",
      "Testing Set Accuracy: 0.04\n",
      "Epoch 48 started. 9.25422\n",
      "Accuracy for: 49 / 50 : 1.0 loss: 9.25421619415\n",
      "Testing Set Accuracy: 0.04\n",
      "Epoch 49 started. 0.0\n",
      "Accuracy for: 50 / 50 : 1.0 loss: 0.0\n",
      "Testing Set Accuracy: 0.04\n",
      "Time elapse:  0:56:45.985506\n"
     ]
    }
   ],
   "source": [
    "train_neural_network(x_train[:50], y_train[:50], x_test[:50], y_test[:50], learning_rate=0.005, epochs=50)"
   ]
  },
  {
   "cell_type": "code",
   "execution_count": null,
   "metadata": {
    "_cell_guid": "5cf7a8ed-4176-41f8-b7e7-5146abc04909",
    "_uuid": "8538e0f728b698a5111abc2613ef89c923a5e62f"
   },
   "outputs": [],
   "source": [
    "with tf.Session() as sess:\n",
    "    prediction = cnn_model(x_input, keep_rate=0.5)\n",
    "    sess.run(tf.global_variables_initializer())\n",
    "    correct = tf.equal(tf.argmax(prediction, 1), tf.argmax(y_input, 1))\n",
    "    accuracy = tf.reduce_mean(tf.cast(correct, 'float'))\n",
    "    print('Accuracy:',accuracy.eval({x_input:x_train[:2], y_input:y_train[:2]}))"
   ]
  },
  {
   "cell_type": "code",
   "execution_count": null,
   "metadata": {
    "_cell_guid": "13d0a892-d681-4ba1-b799-c5b36c4d5c0d",
    "_uuid": "a8d051d3d591c51be0d614bcdc544eeee20b4e34"
   },
   "outputs": [],
   "source": [
    "fig = plt.figure(figsize=(16,9))\n",
    "for i in range(16):\n",
    "    ax = fig.add_subplot(4,4,i+1)\n",
    "    plt.imshow(x_train[1][i,:,:])\n",
    "\n",
    "print(y_train[1])"
   ]
  },
  {
   "cell_type": "code",
   "execution_count": null,
   "metadata": {
    "collapsed": true
   },
   "outputs": [],
   "source": []
  }
 ],
 "metadata": {
  "kernelspec": {
   "display_name": "Python 3",
   "language": "python",
   "name": "python3"
  },
  "language_info": {
   "codemirror_mode": {
    "name": "ipython",
    "version": 3
   },
   "file_extension": ".py",
   "mimetype": "text/x-python",
   "name": "python",
   "nbconvert_exporter": "python",
   "pygments_lexer": "ipython3",
   "version": "3.5.4"
  }
 },
 "nbformat": 4,
 "nbformat_minor": 1
}
