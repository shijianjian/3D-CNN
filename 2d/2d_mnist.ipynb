{
 "cells": [
  {
   "cell_type": "code",
   "execution_count": 1,
   "metadata": {
    "collapsed": true
   },
   "outputs": [],
   "source": [
    "import tensorflow as tf\n",
    "import matplotlib.pyplot as plt\n",
    "\n",
    "%matplotlib inline"
   ]
  },
  {
   "cell_type": "code",
   "execution_count": 2,
   "metadata": {},
   "outputs": [
    {
     "name": "stdout",
     "output_type": "stream",
     "text": [
      "Extracting MNIST_data/train-images-idx3-ubyte.gz\n",
      "Extracting MNIST_data/train-labels-idx1-ubyte.gz\n",
      "Extracting MNIST_data/t10k-images-idx3-ubyte.gz\n",
      "Extracting MNIST_data/t10k-labels-idx1-ubyte.gz\n"
     ]
    }
   ],
   "source": [
    "tf.reset_default_graph()\n",
    "from tensorflow.examples.tutorials.mnist import input_data\n",
    "\n",
    "mnist = input_data.read_data_sets(\"MNIST_data/\", one_hot=True)"
   ]
  },
  {
   "cell_type": "code",
   "execution_count": 3,
   "metadata": {
    "collapsed": true
   },
   "outputs": [],
   "source": [
    "import os\n",
    "\n",
    "logs_path = os.path.join(os.getcwd(), '2d_mnist_dnn_tensorboard')"
   ]
  },
  {
   "cell_type": "code",
   "execution_count": 4,
   "metadata": {},
   "outputs": [
    {
     "name": "stdout",
     "output_type": "stream",
     "text": [
      "(?, 784)\n",
      "(?, 10)\n"
     ]
    }
   ],
   "source": [
    "with tf.name_scope(\"input\"):\n",
    "    input_images = tf.placeholder(tf.float32, shape=[None, mnist.train.images.shape[1]], name='input_images')\n",
    "    input_labels = tf.placeholder(tf.float32, shape=[None, mnist.train.labels.shape[1]], name='input_labels')\n",
    "\n",
    "print(input_images.shape)\n",
    "print(input_labels.shape)"
   ]
  },
  {
   "cell_type": "code",
   "execution_count": 5,
   "metadata": {
    "collapsed": true
   },
   "outputs": [],
   "source": [
    "hidden_units = 768\n",
    "with tf.name_scope(\"weights\"):\n",
    "    input_weights = tf.Variable(tf.random_normal([int(input_images.shape[1]), hidden_units]), name='input_weights')\n",
    "\n",
    "with tf.name_scope(\"biases\"):\n",
    "    input_biases = tf.Variable(tf.constant(0.1, shape=[hidden_units]), name='input_biases') # can avoid dead neuros by adding initial bias"
   ]
  },
  {
   "cell_type": "code",
   "execution_count": 6,
   "metadata": {
    "collapsed": true
   },
   "outputs": [],
   "source": [
    "with tf.name_scope(\"hidden_layer_wb\"):\n",
    "    hidden_weights = tf.Variable(tf.random_normal([hidden_units, 10]), name='hidden_weights')\n",
    "    hidden_biases = tf.Variable(tf.constant(0.1, shape=[10]), name='hidden_biases')\n",
    "\n",
    "with tf.name_scope(\"hidden_layer_cau\"):\n",
    "    input_layer = tf.matmul(input_images, input_weights) + input_biases\n",
    "    input_dropout = tf.nn.dropout(input_layer, 0.5)\n",
    "    input_active = tf.nn.relu(input_layer)\n",
    "\n",
    "    logits = tf.matmul(input_active, hidden_weights) + hidden_biases"
   ]
  },
  {
   "cell_type": "code",
   "execution_count": 7,
   "metadata": {
    "collapsed": true
   },
   "outputs": [],
   "source": [
    "with tf.name_scope(\"cost\"):\n",
    "    loss_function = tf.reduce_mean(tf.nn.softmax_cross_entropy_with_logits(logits=logits, labels=input_labels))"
   ]
  },
  {
   "cell_type": "code",
   "execution_count": 8,
   "metadata": {
    "collapsed": true
   },
   "outputs": [],
   "source": [
    "with tf.name_scope(\"train\"):\n",
    "    optimizer = tf.train.GradientDescentOptimizer(0.4).minimize(loss_function)"
   ]
  },
  {
   "cell_type": "code",
   "execution_count": 9,
   "metadata": {
    "collapsed": true
   },
   "outputs": [],
   "source": [
    "with tf.name_scope(\"accuracy\"):\n",
    "    correct_prediction = tf.equal(tf.argmax(logits, axis=1), tf.argmax(input_labels,axis=1))\n",
    "    accuracy = tf.reduce_mean(tf.cast(correct_prediction, tf.float32))"
   ]
  },
  {
   "cell_type": "code",
   "execution_count": 10,
   "metadata": {
    "collapsed": true
   },
   "outputs": [],
   "source": [
    "tf.summary.scalar(\"cost\", loss_function)\n",
    "tf.summary.scalar(\"accuracy\", accuracy)\n",
    "# command line for tensorboard $tensorboard --logdir=train:`logs_path`/train,test:`logs_path`/test --port 6006\n",
    "# merge all summaries into a single \"operation\" which can execute in a session\n",
    "summary_all = tf.summary.merge_all()"
   ]
  },
  {
   "cell_type": "code",
   "execution_count": 11,
   "metadata": {},
   "outputs": [],
   "source": [
    "def save_model(sess, saver, model_name=\"model\", global_step=None):\n",
    "    \"\"\"\n",
    "    Save current model into ./models folder\n",
    "    \"\"\"\n",
    "    suffix = 'meta'\n",
    "    with sess.as_default():\n",
    "        \n",
    "        import os\n",
    "        model_path = os.path.join(os.getcwd(), 'models')\n",
    "        model_fqn = os.path.join(model_path, model_name + '-' + str(global_step))\n",
    "        \n",
    "        saver.save(sess, model_fqn, meta_graph_suffix=suffix)\n",
    "        \n",
    "        saver.export_meta_graph(filename=model_fqn + \".\" + suffix)"
   ]
  },
  {
   "cell_type": "code",
   "execution_count": 12,
   "metadata": {},
   "outputs": [
    {
     "name": "stdout",
     "output_type": "stream",
     "text": [
      "Epoch 1\n",
      "\tTraining batch 100 Accuracy: 0.8851\n",
      "\tTraining batch 200 Accuracy: 0.9033\n",
      "\tTraining batch 300 Accuracy: 0.9107\n",
      "\tTraining batch 400 Accuracy: 0.9169\n",
      "Epoch 2\n",
      "\tTraining batch 100 Accuracy: 0.9243\n",
      "\tTraining batch 200 Accuracy: 0.9256\n",
      "\tTraining batch 300 Accuracy: 0.9279\n",
      "\tTraining batch 400 Accuracy: 0.9287\n",
      "Epoch 3\n",
      "\tTraining batch 100 Accuracy: 0.9332\n",
      "\tTraining batch 200 Accuracy: 0.9337\n",
      "\tTraining batch 300 Accuracy: 0.9329\n",
      "\tTraining batch 400 Accuracy: 0.9355\n"
     ]
    }
   ],
   "source": [
    "sess = tf.Session()\n",
    "init = tf.global_variables_initializer()\n",
    "sess.run(init)\n",
    "\n",
    "# create training logs for tensorflow\n",
    "train_writer = tf.summary.FileWriter(os.path.join(logs_path, 'train'), graph=tf.get_default_graph())\n",
    "test_writer = tf.summary.FileWriter(os.path.join(logs_path, 'test'), graph=tf.get_default_graph())\n",
    "\n",
    "with sess.as_default():\n",
    "    \n",
    "    for i in range(3):\n",
    "        print(\"Epoch\", i+1)\n",
    "        for x in range(int(mnist.train.num_examples/128)+1):\n",
    "            batch = mnist.train.next_batch(128)\n",
    "            _, train_sum = sess.run([optimizer, summary_all], feed_dict={input_images: batch[0], input_labels: batch[1]})\n",
    "            if ((x+1) % 100 == 0):\n",
    "                print(\"\\tTraining batch \" + str(x+1), end='')\n",
    "                ac, test_sum = sess.run([accuracy, summary_all], feed_dict={input_images: mnist.test.images, input_labels: mnist.test.labels})\n",
    "                print(\" Accuracy: \" + str(ac))\n",
    "                train_writer.add_summary(train_sum, i*(int(mnist.train.num_examples/128)+1)+x+1)\n",
    "                test_writer.add_summary(test_sum, i*(int(mnist.train.num_examples/128)+1)+x+1)\n",
    "                train_writer.flush()\n",
    "                test_writer.flush()\n",
    "                \n",
    "    \n",
    "                saver = tf.train.Saver()\n",
    "                save_model(sess, saver, global_step=i*(int(mnist.train.num_examples/128)+1)+x+1)\n",
    "       \n",
    "    train_writer.close()\n",
    "    test_writer.close()\n",
    "    \n",
    "sess.close()"
   ]
  },
  {
   "cell_type": "code",
   "execution_count": 33,
   "metadata": {
    "scrolled": false
   },
   "outputs": [
    {
     "ename": "InvalidArgumentError",
     "evalue": "You must feed a value for placeholder tensor 'input/input_images' with dtype float\n\t [[Node: input/input_images = Placeholder[dtype=DT_FLOAT, shape=[], _device=\"/job:localhost/replica:0/task:0/cpu:0\"]()]]\n\nCaused by op 'input/input_images', defined at:\n  File \"/Users/shijian/anaconda3/lib/python3.5/runpy.py\", line 193, in _run_module_as_main\n    \"__main__\", mod_spec)\n  File \"/Users/shijian/anaconda3/lib/python3.5/runpy.py\", line 85, in _run_code\n    exec(code, run_globals)\n  File \"/Users/shijian/anaconda3/lib/python3.5/site-packages/ipykernel_launcher.py\", line 16, in <module>\n    app.launch_new_instance()\n  File \"/Users/shijian/anaconda3/lib/python3.5/site-packages/traitlets/config/application.py\", line 658, in launch_instance\n    app.start()\n  File \"/Users/shijian/anaconda3/lib/python3.5/site-packages/ipykernel/kernelapp.py\", line 477, in start\n    ioloop.IOLoop.instance().start()\n  File \"/Users/shijian/anaconda3/lib/python3.5/site-packages/zmq/eventloop/ioloop.py\", line 177, in start\n    super(ZMQIOLoop, self).start()\n  File \"/Users/shijian/anaconda3/lib/python3.5/site-packages/tornado/ioloop.py\", line 888, in start\n    handler_func(fd_obj, events)\n  File \"/Users/shijian/anaconda3/lib/python3.5/site-packages/tornado/stack_context.py\", line 277, in null_wrapper\n    return fn(*args, **kwargs)\n  File \"/Users/shijian/anaconda3/lib/python3.5/site-packages/zmq/eventloop/zmqstream.py\", line 440, in _handle_events\n    self._handle_recv()\n  File \"/Users/shijian/anaconda3/lib/python3.5/site-packages/zmq/eventloop/zmqstream.py\", line 472, in _handle_recv\n    self._run_callback(callback, msg)\n  File \"/Users/shijian/anaconda3/lib/python3.5/site-packages/zmq/eventloop/zmqstream.py\", line 414, in _run_callback\n    callback(*args, **kwargs)\n  File \"/Users/shijian/anaconda3/lib/python3.5/site-packages/tornado/stack_context.py\", line 277, in null_wrapper\n    return fn(*args, **kwargs)\n  File \"/Users/shijian/anaconda3/lib/python3.5/site-packages/ipykernel/kernelbase.py\", line 283, in dispatcher\n    return self.dispatch_shell(stream, msg)\n  File \"/Users/shijian/anaconda3/lib/python3.5/site-packages/ipykernel/kernelbase.py\", line 235, in dispatch_shell\n    handler(stream, idents, msg)\n  File \"/Users/shijian/anaconda3/lib/python3.5/site-packages/ipykernel/kernelbase.py\", line 399, in execute_request\n    user_expressions, allow_stdin)\n  File \"/Users/shijian/anaconda3/lib/python3.5/site-packages/ipykernel/ipkernel.py\", line 196, in do_execute\n    res = shell.run_cell(code, store_history=store_history, silent=silent)\n  File \"/Users/shijian/anaconda3/lib/python3.5/site-packages/ipykernel/zmqshell.py\", line 533, in run_cell\n    return super(ZMQInteractiveShell, self).run_cell(*args, **kwargs)\n  File \"/Users/shijian/anaconda3/lib/python3.5/site-packages/IPython/core/interactiveshell.py\", line 2698, in run_cell\n    interactivity=interactivity, compiler=compiler, result=result)\n  File \"/Users/shijian/anaconda3/lib/python3.5/site-packages/IPython/core/interactiveshell.py\", line 2802, in run_ast_nodes\n    if self.run_code(code, result):\n  File \"/Users/shijian/anaconda3/lib/python3.5/site-packages/IPython/core/interactiveshell.py\", line 2862, in run_code\n    exec(code_obj, self.user_global_ns, self.user_ns)\n  File \"<ipython-input-33-46796851fef5>\", line 5, in <module>\n    saver = tf.train.import_meta_graph(model_fqn + \".meta\")\n  File \"/Users/shijian/anaconda3/lib/python3.5/site-packages/tensorflow/python/training/saver.py\", line 1577, in import_meta_graph\n    **kwargs)\n  File \"/Users/shijian/anaconda3/lib/python3.5/site-packages/tensorflow/python/framework/meta_graph.py\", line 498, in import_scoped_meta_graph\n    producer_op_list=producer_op_list)\n  File \"/Users/shijian/anaconda3/lib/python3.5/site-packages/tensorflow/python/framework/importer.py\", line 287, in import_graph_def\n    op_def=op_def)\n  File \"/Users/shijian/anaconda3/lib/python3.5/site-packages/tensorflow/python/framework/ops.py\", line 2395, in create_op\n    original_op=self._default_original_op, op_def=op_def)\n  File \"/Users/shijian/anaconda3/lib/python3.5/site-packages/tensorflow/python/framework/ops.py\", line 1264, in __init__\n    self._traceback = _extract_stack()\n\nInvalidArgumentError (see above for traceback): You must feed a value for placeholder tensor 'input/input_images' with dtype float\n\t [[Node: input/input_images = Placeholder[dtype=DT_FLOAT, shape=[], _device=\"/job:localhost/replica:0/task:0/cpu:0\"]()]]\n",
     "output_type": "error",
     "traceback": [
      "\u001b[0;31m---------------------------------------------------------------------------\u001b[0m",
      "\u001b[0;31mInvalidArgumentError\u001b[0m                      Traceback (most recent call last)",
      "\u001b[0;32m~/anaconda3/lib/python3.5/site-packages/tensorflow/python/client/session.py\u001b[0m in \u001b[0;36m_do_call\u001b[0;34m(self, fn, *args)\u001b[0m\n\u001b[1;32m   1021\u001b[0m     \u001b[0;32mtry\u001b[0m\u001b[0;34m:\u001b[0m\u001b[0;34m\u001b[0m\u001b[0m\n\u001b[0;32m-> 1022\u001b[0;31m       \u001b[0;32mreturn\u001b[0m \u001b[0mfn\u001b[0m\u001b[0;34m(\u001b[0m\u001b[0;34m*\u001b[0m\u001b[0margs\u001b[0m\u001b[0;34m)\u001b[0m\u001b[0;34m\u001b[0m\u001b[0m\n\u001b[0m\u001b[1;32m   1023\u001b[0m     \u001b[0;32mexcept\u001b[0m \u001b[0merrors\u001b[0m\u001b[0;34m.\u001b[0m\u001b[0mOpError\u001b[0m \u001b[0;32mas\u001b[0m \u001b[0me\u001b[0m\u001b[0;34m:\u001b[0m\u001b[0;34m\u001b[0m\u001b[0m\n",
      "\u001b[0;32m~/anaconda3/lib/python3.5/site-packages/tensorflow/python/client/session.py\u001b[0m in \u001b[0;36m_run_fn\u001b[0;34m(session, feed_dict, fetch_list, target_list, options, run_metadata)\u001b[0m\n\u001b[1;32m   1003\u001b[0m                                  \u001b[0mfeed_dict\u001b[0m\u001b[0;34m,\u001b[0m \u001b[0mfetch_list\u001b[0m\u001b[0;34m,\u001b[0m \u001b[0mtarget_list\u001b[0m\u001b[0;34m,\u001b[0m\u001b[0;34m\u001b[0m\u001b[0m\n\u001b[0;32m-> 1004\u001b[0;31m                                  status, run_metadata)\n\u001b[0m\u001b[1;32m   1005\u001b[0m \u001b[0;34m\u001b[0m\u001b[0m\n",
      "\u001b[0;32m~/anaconda3/lib/python3.5/contextlib.py\u001b[0m in \u001b[0;36m__exit__\u001b[0;34m(self, type, value, traceback)\u001b[0m\n\u001b[1;32m     65\u001b[0m             \u001b[0;32mtry\u001b[0m\u001b[0;34m:\u001b[0m\u001b[0;34m\u001b[0m\u001b[0m\n\u001b[0;32m---> 66\u001b[0;31m                 \u001b[0mnext\u001b[0m\u001b[0;34m(\u001b[0m\u001b[0mself\u001b[0m\u001b[0;34m.\u001b[0m\u001b[0mgen\u001b[0m\u001b[0;34m)\u001b[0m\u001b[0;34m\u001b[0m\u001b[0m\n\u001b[0m\u001b[1;32m     67\u001b[0m             \u001b[0;32mexcept\u001b[0m \u001b[0mStopIteration\u001b[0m\u001b[0;34m:\u001b[0m\u001b[0;34m\u001b[0m\u001b[0m\n",
      "\u001b[0;32m~/anaconda3/lib/python3.5/site-packages/tensorflow/python/framework/errors_impl.py\u001b[0m in \u001b[0;36mraise_exception_on_not_ok_status\u001b[0;34m()\u001b[0m\n\u001b[1;32m    468\u001b[0m           \u001b[0mcompat\u001b[0m\u001b[0;34m.\u001b[0m\u001b[0mas_text\u001b[0m\u001b[0;34m(\u001b[0m\u001b[0mpywrap_tensorflow\u001b[0m\u001b[0;34m.\u001b[0m\u001b[0mTF_Message\u001b[0m\u001b[0;34m(\u001b[0m\u001b[0mstatus\u001b[0m\u001b[0;34m)\u001b[0m\u001b[0;34m)\u001b[0m\u001b[0;34m,\u001b[0m\u001b[0;34m\u001b[0m\u001b[0m\n\u001b[0;32m--> 469\u001b[0;31m           pywrap_tensorflow.TF_GetCode(status))\n\u001b[0m\u001b[1;32m    470\u001b[0m   \u001b[0;32mfinally\u001b[0m\u001b[0;34m:\u001b[0m\u001b[0;34m\u001b[0m\u001b[0m\n",
      "\u001b[0;31mInvalidArgumentError\u001b[0m: You must feed a value for placeholder tensor 'input/input_images' with dtype float\n\t [[Node: input/input_images = Placeholder[dtype=DT_FLOAT, shape=[], _device=\"/job:localhost/replica:0/task:0/cpu:0\"]()]]",
      "\nDuring handling of the above exception, another exception occurred:\n",
      "\u001b[0;31mInvalidArgumentError\u001b[0m                      Traceback (most recent call last)",
      "\u001b[0;32m<ipython-input-33-46796851fef5>\u001b[0m in \u001b[0;36m<module>\u001b[0;34m()\u001b[0m\n\u001b[1;32m     15\u001b[0m \u001b[0;34m\u001b[0m\u001b[0m\n\u001b[1;32m     16\u001b[0m     \u001b[0;31m# To get the value (numpy array)\u001b[0m\u001b[0;34m\u001b[0m\u001b[0;34m\u001b[0m\u001b[0m\n\u001b[0;32m---> 17\u001b[0;31m     \u001b[0mW1_value\u001b[0m \u001b[0;34m=\u001b[0m \u001b[0msess\u001b[0m\u001b[0;34m.\u001b[0m\u001b[0mrun\u001b[0m\u001b[0;34m(\u001b[0m\u001b[0mW1\u001b[0m\u001b[0;34m)\u001b[0m\u001b[0;34m\u001b[0m\u001b[0m\n\u001b[0m\u001b[1;32m     18\u001b[0m \u001b[0;34m\u001b[0m\u001b[0m\n\u001b[1;32m     19\u001b[0m     \u001b[0mprint\u001b[0m\u001b[0;34m(\u001b[0m\u001b[0mW1_value\u001b[0m\u001b[0;34m)\u001b[0m\u001b[0;34m\u001b[0m\u001b[0m\n",
      "\u001b[0;32m~/anaconda3/lib/python3.5/site-packages/tensorflow/python/client/session.py\u001b[0m in \u001b[0;36mrun\u001b[0;34m(self, fetches, feed_dict, options, run_metadata)\u001b[0m\n\u001b[1;32m    765\u001b[0m     \u001b[0;32mtry\u001b[0m\u001b[0;34m:\u001b[0m\u001b[0;34m\u001b[0m\u001b[0m\n\u001b[1;32m    766\u001b[0m       result = self._run(None, fetches, feed_dict, options_ptr,\n\u001b[0;32m--> 767\u001b[0;31m                          run_metadata_ptr)\n\u001b[0m\u001b[1;32m    768\u001b[0m       \u001b[0;32mif\u001b[0m \u001b[0mrun_metadata\u001b[0m\u001b[0;34m:\u001b[0m\u001b[0;34m\u001b[0m\u001b[0m\n\u001b[1;32m    769\u001b[0m         \u001b[0mproto_data\u001b[0m \u001b[0;34m=\u001b[0m \u001b[0mtf_session\u001b[0m\u001b[0;34m.\u001b[0m\u001b[0mTF_GetBuffer\u001b[0m\u001b[0;34m(\u001b[0m\u001b[0mrun_metadata_ptr\u001b[0m\u001b[0;34m)\u001b[0m\u001b[0;34m\u001b[0m\u001b[0m\n",
      "\u001b[0;32m~/anaconda3/lib/python3.5/site-packages/tensorflow/python/client/session.py\u001b[0m in \u001b[0;36m_run\u001b[0;34m(self, handle, fetches, feed_dict, options, run_metadata)\u001b[0m\n\u001b[1;32m    963\u001b[0m     \u001b[0;32mif\u001b[0m \u001b[0mfinal_fetches\u001b[0m \u001b[0;32mor\u001b[0m \u001b[0mfinal_targets\u001b[0m\u001b[0;34m:\u001b[0m\u001b[0;34m\u001b[0m\u001b[0m\n\u001b[1;32m    964\u001b[0m       results = self._do_run(handle, final_targets, final_fetches,\n\u001b[0;32m--> 965\u001b[0;31m                              feed_dict_string, options, run_metadata)\n\u001b[0m\u001b[1;32m    966\u001b[0m     \u001b[0;32melse\u001b[0m\u001b[0;34m:\u001b[0m\u001b[0;34m\u001b[0m\u001b[0m\n\u001b[1;32m    967\u001b[0m       \u001b[0mresults\u001b[0m \u001b[0;34m=\u001b[0m \u001b[0;34m[\u001b[0m\u001b[0;34m]\u001b[0m\u001b[0;34m\u001b[0m\u001b[0m\n",
      "\u001b[0;32m~/anaconda3/lib/python3.5/site-packages/tensorflow/python/client/session.py\u001b[0m in \u001b[0;36m_do_run\u001b[0;34m(self, handle, target_list, fetch_list, feed_dict, options, run_metadata)\u001b[0m\n\u001b[1;32m   1013\u001b[0m     \u001b[0;32mif\u001b[0m \u001b[0mhandle\u001b[0m \u001b[0;32mis\u001b[0m \u001b[0;32mNone\u001b[0m\u001b[0;34m:\u001b[0m\u001b[0;34m\u001b[0m\u001b[0m\n\u001b[1;32m   1014\u001b[0m       return self._do_call(_run_fn, self._session, feed_dict, fetch_list,\n\u001b[0;32m-> 1015\u001b[0;31m                            target_list, options, run_metadata)\n\u001b[0m\u001b[1;32m   1016\u001b[0m     \u001b[0;32melse\u001b[0m\u001b[0;34m:\u001b[0m\u001b[0;34m\u001b[0m\u001b[0m\n\u001b[1;32m   1017\u001b[0m       return self._do_call(_prun_fn, self._session, handle, feed_dict,\n",
      "\u001b[0;32m~/anaconda3/lib/python3.5/site-packages/tensorflow/python/client/session.py\u001b[0m in \u001b[0;36m_do_call\u001b[0;34m(self, fn, *args)\u001b[0m\n\u001b[1;32m   1033\u001b[0m         \u001b[0;32mexcept\u001b[0m \u001b[0mKeyError\u001b[0m\u001b[0;34m:\u001b[0m\u001b[0;34m\u001b[0m\u001b[0m\n\u001b[1;32m   1034\u001b[0m           \u001b[0;32mpass\u001b[0m\u001b[0;34m\u001b[0m\u001b[0m\n\u001b[0;32m-> 1035\u001b[0;31m       \u001b[0;32mraise\u001b[0m \u001b[0mtype\u001b[0m\u001b[0;34m(\u001b[0m\u001b[0me\u001b[0m\u001b[0;34m)\u001b[0m\u001b[0;34m(\u001b[0m\u001b[0mnode_def\u001b[0m\u001b[0;34m,\u001b[0m \u001b[0mop\u001b[0m\u001b[0;34m,\u001b[0m \u001b[0mmessage\u001b[0m\u001b[0;34m)\u001b[0m\u001b[0;34m\u001b[0m\u001b[0m\n\u001b[0m\u001b[1;32m   1036\u001b[0m \u001b[0;34m\u001b[0m\u001b[0m\n\u001b[1;32m   1037\u001b[0m   \u001b[0;32mdef\u001b[0m \u001b[0m_extend_graph\u001b[0m\u001b[0;34m(\u001b[0m\u001b[0mself\u001b[0m\u001b[0;34m)\u001b[0m\u001b[0;34m:\u001b[0m\u001b[0;34m\u001b[0m\u001b[0m\n",
      "\u001b[0;31mInvalidArgumentError\u001b[0m: You must feed a value for placeholder tensor 'input/input_images' with dtype float\n\t [[Node: input/input_images = Placeholder[dtype=DT_FLOAT, shape=[], _device=\"/job:localhost/replica:0/task:0/cpu:0\"]()]]\n\nCaused by op 'input/input_images', defined at:\n  File \"/Users/shijian/anaconda3/lib/python3.5/runpy.py\", line 193, in _run_module_as_main\n    \"__main__\", mod_spec)\n  File \"/Users/shijian/anaconda3/lib/python3.5/runpy.py\", line 85, in _run_code\n    exec(code, run_globals)\n  File \"/Users/shijian/anaconda3/lib/python3.5/site-packages/ipykernel_launcher.py\", line 16, in <module>\n    app.launch_new_instance()\n  File \"/Users/shijian/anaconda3/lib/python3.5/site-packages/traitlets/config/application.py\", line 658, in launch_instance\n    app.start()\n  File \"/Users/shijian/anaconda3/lib/python3.5/site-packages/ipykernel/kernelapp.py\", line 477, in start\n    ioloop.IOLoop.instance().start()\n  File \"/Users/shijian/anaconda3/lib/python3.5/site-packages/zmq/eventloop/ioloop.py\", line 177, in start\n    super(ZMQIOLoop, self).start()\n  File \"/Users/shijian/anaconda3/lib/python3.5/site-packages/tornado/ioloop.py\", line 888, in start\n    handler_func(fd_obj, events)\n  File \"/Users/shijian/anaconda3/lib/python3.5/site-packages/tornado/stack_context.py\", line 277, in null_wrapper\n    return fn(*args, **kwargs)\n  File \"/Users/shijian/anaconda3/lib/python3.5/site-packages/zmq/eventloop/zmqstream.py\", line 440, in _handle_events\n    self._handle_recv()\n  File \"/Users/shijian/anaconda3/lib/python3.5/site-packages/zmq/eventloop/zmqstream.py\", line 472, in _handle_recv\n    self._run_callback(callback, msg)\n  File \"/Users/shijian/anaconda3/lib/python3.5/site-packages/zmq/eventloop/zmqstream.py\", line 414, in _run_callback\n    callback(*args, **kwargs)\n  File \"/Users/shijian/anaconda3/lib/python3.5/site-packages/tornado/stack_context.py\", line 277, in null_wrapper\n    return fn(*args, **kwargs)\n  File \"/Users/shijian/anaconda3/lib/python3.5/site-packages/ipykernel/kernelbase.py\", line 283, in dispatcher\n    return self.dispatch_shell(stream, msg)\n  File \"/Users/shijian/anaconda3/lib/python3.5/site-packages/ipykernel/kernelbase.py\", line 235, in dispatch_shell\n    handler(stream, idents, msg)\n  File \"/Users/shijian/anaconda3/lib/python3.5/site-packages/ipykernel/kernelbase.py\", line 399, in execute_request\n    user_expressions, allow_stdin)\n  File \"/Users/shijian/anaconda3/lib/python3.5/site-packages/ipykernel/ipkernel.py\", line 196, in do_execute\n    res = shell.run_cell(code, store_history=store_history, silent=silent)\n  File \"/Users/shijian/anaconda3/lib/python3.5/site-packages/ipykernel/zmqshell.py\", line 533, in run_cell\n    return super(ZMQInteractiveShell, self).run_cell(*args, **kwargs)\n  File \"/Users/shijian/anaconda3/lib/python3.5/site-packages/IPython/core/interactiveshell.py\", line 2698, in run_cell\n    interactivity=interactivity, compiler=compiler, result=result)\n  File \"/Users/shijian/anaconda3/lib/python3.5/site-packages/IPython/core/interactiveshell.py\", line 2802, in run_ast_nodes\n    if self.run_code(code, result):\n  File \"/Users/shijian/anaconda3/lib/python3.5/site-packages/IPython/core/interactiveshell.py\", line 2862, in run_code\n    exec(code_obj, self.user_global_ns, self.user_ns)\n  File \"<ipython-input-33-46796851fef5>\", line 5, in <module>\n    saver = tf.train.import_meta_graph(model_fqn + \".meta\")\n  File \"/Users/shijian/anaconda3/lib/python3.5/site-packages/tensorflow/python/training/saver.py\", line 1577, in import_meta_graph\n    **kwargs)\n  File \"/Users/shijian/anaconda3/lib/python3.5/site-packages/tensorflow/python/framework/meta_graph.py\", line 498, in import_scoped_meta_graph\n    producer_op_list=producer_op_list)\n  File \"/Users/shijian/anaconda3/lib/python3.5/site-packages/tensorflow/python/framework/importer.py\", line 287, in import_graph_def\n    op_def=op_def)\n  File \"/Users/shijian/anaconda3/lib/python3.5/site-packages/tensorflow/python/framework/ops.py\", line 2395, in create_op\n    original_op=self._default_original_op, op_def=op_def)\n  File \"/Users/shijian/anaconda3/lib/python3.5/site-packages/tensorflow/python/framework/ops.py\", line 1264, in __init__\n    self._traceback = _extract_stack()\n\nInvalidArgumentError (see above for traceback): You must feed a value for placeholder tensor 'input/input_images' with dtype float\n\t [[Node: input/input_images = Placeholder[dtype=DT_FLOAT, shape=[], _device=\"/job:localhost/replica:0/task:0/cpu:0\"]()]]\n"
     ]
    }
   ],
   "source": [
    "new_graph = tf.Graph()\n",
    "with tf.Session(graph=new_graph) as sess:\n",
    "    import os\n",
    "    model_fqn = os.path.join(os.getcwd(), 'models', 'model-730')\n",
    "    saver = tf.train.import_meta_graph(model_fqn + \".meta\")\n",
    "    saver.restore(sess, model_fqn)\n",
    "    # Initalize the variables\n",
    "    sess.run(tf.global_variables_initializer())\n",
    "\n",
    "    # Get default graph (supply your custom graph if you have one)\n",
    "    graph = tf.get_default_graph()\n",
    "#     print([n.name for n in tf.get_default_graph().as_graph_def().node])\n",
    "    # It will give tensor object\n",
    "    W1 = graph.get_tensor_by_name('input/input_images:0')\n",
    "\n",
    "    # To get the value (numpy array)\n",
    "    W1_value = sess.run(W1)\n",
    "    \n",
    "    print(W1_value)\n",
    "#     for step in xrange(1000000):\n",
    "#         sess.run(train_op)"
   ]
  },
  {
   "cell_type": "code",
   "execution_count": 39,
   "metadata": {},
   "outputs": [
    {
     "name": "stdout",
     "output_type": "stream",
     "text": [
      "wall_time: 1508854176.0\n",
      "file_version: \"brain.Event:2\"\n",
      "\n",
      "wall_time: 1508854176.992708\n",
      "graph_def: \"\\nd\\n\\021input/Placeholder\\022\\013Placeholder*(\\n\\016_output_shapes\\022\\026\\n\\024:\\022\\022\\013\\010\\377\\377\\377\\377\\377\\377\\377\\377\\377\\001\\022\\003\\010\\220\\006*\\013\\n\\005shape\\022\\002:\\000*\\013\\n\\005dtype\\022\\0020\\001\\ne\\n\\023input/Placeholder_1\\022\\013Placeholder*\\'\\n\\016_output_shapes\\022\\025\\n\\023:\\021\\022\\013\\010\\377\\377\\377\\377\\377\\377\\377\\377\\377\\001\\022\\002\\010\\n*\\013\\n\\005shape\\022\\002:\\000*\\013\\n\\005dtype\\022\\0020\\001\\nl\\n\\033weights/random_normal/shape\\022\\005Const*\\032\\n\\016_output_shapes\\022\\010\\n\\006:\\004\\022\\002\\010\\002*\\035\\n\\005value\\022\\024B\\022\\010\\003\\022\\004\\022\\002\\010\\002\\\"\\010\\020\\003\\000\\000\\000\\003\\000\\000*\\013\\n\\005dtype\\022\\0020\\003\\n_\\n\\032weights/random_normal/mean\\022\\005Const*\\026\\n\\016_output_shapes\\022\\004\\n\\002:\\000*\\025\\n\\005value\\022\\014B\\n\\010\\001\\022\\000*\\004\\000\\000\\000\\000*\\013\\n\\005dtype\\022\\0020\\001\\na\\n\\034weights/random_normal/stddev\\022\\005Const*\\026\\n\\016_output_shapes\\022\\004\\n\\002:\\000*\\025\\n\\005value\\022\\014B\\n\\010\\001\\022\\000*\\004\\000\\000\\200?*\\013\\n\\005dtype\\022\\0020\\001\\n\\260\\001\\n*weights/random_normal/RandomStandardNormal\\022\\024RandomStandardNormal\\032\\033weights/random_normal/shape* \\n\\016_output_shapes\\022\\016\\n\\014:\\n\\022\\003\\010\\220\\006\\022\\003\\010\\200\\006*\\007\\n\\001T\\022\\0020\\003*\\n\\n\\004seed\\022\\002\\030\\000*\\013\\n\\005seed2\\022\\002\\030\\000*\\013\\n\\005dtype\\022\\0020\\001\\n\\225\\001\\n\\031weights/random_normal/mul\\022\\003Mul\\032*weights/random_normal/RandomStandardNormal\\032\\034weights/random_normal/stddev* \\n\\016_output_shapes\\022\\016\\n\\014:\\n\\022\\003\\010\\220\\006\\022\\003\\010\\200\\006*\\007\\n\\001T\\022\\0020\\001\\n~\\n\\025weights/random_normal\\022\\003Add\\032\\031weights/random_normal/mul\\032\\032weights/random_normal/mean* \\n\\016_output_shapes\\022\\016\\n\\014:\\n\\022\\003\\010\\220\\006\\022\\003\\010\\200\\006*\\007\\n\\001T\\022\\0020\\001\\n\\210\\001\\n\\020weights/Variable\\022\\nVariableV2* \\n\\016_output_shapes\\022\\016\\n\\014:\\n\\022\\003\\010\\220\\006\\022\\003\\010\\200\\006*\\025\\n\\005shape\\022\\014:\\n\\022\\003\\010\\220\\006\\022\\003\\010\\200\\006*\\021\\n\\013shared_name\\022\\002\\022\\000*\\013\\n\\005dtype\\022\\0020\\001*\\017\\n\\tcontainer\\022\\002\\022\\000\\n\\303\\001\\n\\027weights/Variable/Assign\\022\\006Assign\\032\\020weights/Variable\\032\\025weights/random_normal* \\n\\016_output_shapes\\022\\016\\n\\014:\\n\\022\\003\\010\\220\\006\\022\\003\\010\\200\\006*#\\n\\006_class\\022\\031\\n\\027\\022\\025loc:@weights/Variable*\\007\\n\\001T\\022\\0020\\001*\\024\\n\\016validate_shape\\022\\002(\\001*\\021\\n\\013use_locking\\022\\002(\\001\\n\\203\\001\\n\\025weights/Variable/read\\022\\010Identity\\032\\020weights/Variable* \\n\\016_output_shapes\\022\\016\\n\\014:\\n\\022\\003\\010\\220\\006\\022\\003\\010\\200\\006*#\\n\\006_class\\022\\031\\n\\027\\022\\025loc:@weights/Variable*\\007\\n\\001T\\022\\0020\\001\\n[\\n\\014biases/Const\\022\\005Const*\\033\\n\\016_output_shapes\\022\\t\\n\\007:\\005\\022\\003\\010\\200\\006*\\032\\n\\005value\\022\\021B\\017\\010\\001\\022\\005\\022\\003\\010\\200\\006*\\004\\315\\314\\314=*\\013\\n\\005dtype\\022\\0020\\001\\n}\\n\\017biases/Variable\\022\\nVariableV2*\\033\\n\\016_output_shapes\\022\\t\\n\\007:\\005\\022\\003\\010\\200\\006*\\020\\n\\005shape\\022\\007:\\005\\022\\003\\010\\200\\006*\\021\\n\\013shared_name\\022\\002\\022\\000*\\013\\n\\005dtype\\022\\0020\\001*\\017\\n\\tcontainer\\022\\002\\022\\000\\n\\262\\001\\n\\026biases/Variable/Assign\\022\\006Assign\\032\\017biases/Variable\\032\\014biases/Const*\\033\\n\\016_output_shapes\\022\\t\\n\\007:\\005\\022\\003\\010\\200\\006*\\\"\\n\\006_class\\022\\030\\n\\026\\022\\024loc:@biases/Variable*\\007\\n\\001T\\022\\0020\\001*\\024\\n\\016validate_shape\\022\\002(\\001*\\021\\n\\013use_locking\\022\\002(\\001\\n{\\n\\024biases/Variable/read\\022\\010Identity\\032\\017biases/Variable*\\033\\n\\016_output_shapes\\022\\t\\n\\007:\\005\\022\\003\\010\\200\\006*\\\"\\n\\006_class\\022\\030\\n\\026\\022\\024loc:@biases/Variable*\\007\\n\\001T\\022\\0020\\001\\nt\\n#hidden_layer_wb/random_normal/shape\\022\\005Const*\\032\\n\\016_output_shapes\\022\\010\\n\\006:\\004\\022\\002\\010\\002*\\035\\n\\005value\\022\\024B\\022\\010\\003\\022\\004\\022\\002\\010\\002\\\"\\010\\000\\003\\000\\000\\n\\000\\000\\000*\\013\\n\\005dtype\\022\\0020\\003\\ng\\n\\\"hidden_layer_wb/random_normal/mean\\022\\005Const*\\026\\n\\016_output_shapes\\022\\004\\n\\002:\\000*\\025\\n\\005value\\022\\014B\\n\\010\\001\\022\\000*\\004\\000\\000\\000\\000*\\013\\n\\005dtype\\022\\0020\\001\\ni\\n$hidden_layer_wb/random_normal/stddev\\022\\005Const*\\026\\n\\016_output_shapes\\022\\004\\n\\002:\\000*\\025\\n\\005value\\022\\014B\\n\\010\\001\\022\\000*\\004\\000\\000\\200?*\\013\\n\\005dtype\\022\\0020\\001\\n\\277\\001\\n2hidden_layer_wb/random_normal/RandomStandardNormal\\022\\024RandomStandardNormal\\032#hidden_layer_wb/random_normal/shape*\\037\\n\\016_output_shapes\\022\\r\\n\\013:\\t\\022\\003\\010\\200\\006\\022\\002\\010\\n*\\007\\n\\001T\\022\\0020\\003*\\n\\n\\004seed\\022\\002\\030\\000*\\013\\n\\005seed2\\022\\002\\030\\000*\\013\\n\\005dtype\\022\\0020\\001\\n\\254\\001\\n!hidden_layer_wb/random_normal/mul\\022\\003Mul\\0322hidden_layer_wb/random_normal/RandomStandardNormal\\032$hidden_layer_wb/random_normal/stddev*\\037\\n\\016_output_shapes\\022\\r\\n\\013:\\t\\022\\003\\010\\200\\006\\022\\002\\010\\n*\\007\\n\\001T\\022\\0020\\001\\n\\225\\001\\n\\035hidden_layer_wb/random_normal\\022\\003Add\\032!hidden_layer_wb/random_normal/mul\\032\\\"hidden_layer_wb/random_normal/mean*\\037\\n\\016_output_shapes\\022\\r\\n\\013:\\t\\022\\003\\010\\200\\006\\022\\002\\010\\n*\\007\\n\\001T\\022\\0020\\001\\n\\216\\001\\n\\030hidden_layer_wb/Variable\\022\\nVariableV2*\\037\\n\\016_output_shapes\\022\\r\\n\\013:\\t\\022\\003\\010\\200\\006\\022\\002\\010\\n*\\024\\n\\005shape\\022\\013:\\t\\022\\003\\010\\200\\006\\022\\002\\010\\n*\\021\\n\\013shared_name\\022\\002\\022\\000*\\013\\n\\005dtype\\022\\0020\\001*\\017\\n\\tcontainer\\022\\002\\022\\000\\n\\342\\001\\n\\037hidden_layer_wb/Variable/Assign\\022\\006Assign\\032\\030hidden_layer_wb/Variable\\032\\035hidden_layer_wb/random_normal*\\037\\n\\016_output_shapes\\022\\r\\n\\013:\\t\\022\\003\\010\\200\\006\\022\\002\\010\\n*+\\n\\006_class\\022!\\n\\037\\022\\035loc:@hidden_layer_wb/Variable*\\007\\n\\001T\\022\\0020\\001*\\024\\n\\016validate_shape\\022\\002(\\001*\\021\\n\\013use_locking\\022\\002(\\001\\n\\232\\001\\n\\035hidden_layer_wb/Variable/read\\022\\010Identity\\032\\030hidden_layer_wb/Variable*\\037\\n\\016_output_shapes\\022\\r\\n\\013:\\t\\022\\003\\010\\200\\006\\022\\002\\010\\n*+\\n\\006_class\\022!\\n\\037\\022\\035loc:@hidden_layer_wb/Variable*\\007\\n\\001T\\022\\0020\\001\\nb\\n\\025hidden_layer_wb/Const\\022\\005Const*\\032\\n\\016_output_shapes\\022\\010\\n\\006:\\004\\022\\002\\010\\n*\\031\\n\\005value\\022\\020B\\016\\010\\001\\022\\004\\022\\002\\010\\n*\\004\\315\\314\\314=*\\013\\n\\005dtype\\022\\0020\\001\\n\\206\\001\\n\\032hidden_layer_wb/Variable_1\\022\\nVariableV2*\\032\\n\\016_output_shapes\\022\\010\\n\\006:\\004\\022\\002\\010\\n*\\017\\n\\005shape\\022\\006:\\004\\022\\002\\010\\n*\\021\\n\\013shared_name\\022\\002\\022\\000*\\013\\n\\005dtype\\022\\0020\\001*\\017\\n\\tcontainer\\022\\002\\022\\000\\n\\333\\001\\n!hidden_layer_wb/Variable_1/Assign\\022\\006Assign\\032\\032hidden_layer_wb/Variable_1\\032\\025hidden_layer_wb/Const*\\032\\n\\016_output_shapes\\022\\010\\n\\006:\\004\\022\\002\\010\\n*-\\n\\006_class\\022#\\n!\\022\\037loc:@hidden_layer_wb/Variable_1*\\007\\n\\001T\\022\\0020\\001*\\024\\n\\016validate_shape\\022\\002(\\001*\\021\\n\\013use_locking\\022\\002(\\001\\n\\233\\001\\n\\037hidden_layer_wb/Variable_1/read\\022\\010Identity\\032\\032hidden_layer_wb/Variable_1*\\032\\n\\016_output_shapes\\022\\010\\n\\006:\\004\\022\\002\\010\\n*-\\n\\006_class\\022#\\n!\\022\\037loc:@hidden_layer_wb/Variable_1*\\007\\n\\001T\\022\\0020\\001\\n\\244\\001\\n\\027hidden_layer_cau/MatMul\\022\\006MatMul\\032\\021input/Placeholder\\032\\025weights/Variable/read*(\\n\\016_output_shapes\\022\\026\\n\\024:\\022\\022\\013\\010\\377\\377\\377\\377\\377\\377\\377\\377\\377\\001\\022\\003\\010\\200\\006*\\007\\n\\001T\\022\\0020\\001*\\021\\n\\013transpose_a\\022\\002(\\000*\\021\\n\\013transpose_b\\022\\002(\\000\\n}\\n\\024hidden_layer_cau/add\\022\\003Add\\032\\027hidden_layer_cau/MatMul\\032\\024biases/Variable/read*(\\n\\016_output_shapes\\022\\026\\n\\024:\\022\\022\\013\\010\\377\\377\\377\\377\\377\\377\\377\\377\\377\\001\\022\\003\\010\\200\\006*\\007\\n\\001T\\022\\0020\\001\\ng\\n\\\"hidden_layer_cau/dropout/keep_prob\\022\\005Const*\\026\\n\\016_output_shapes\\022\\004\\n\\002:\\000*\\025\\n\\005value\\022\\014B\\n\\010\\001\\022\\000*\\004\\000\\000\\000?*\\013\\n\\005dtype\\022\\0020\\001\\nr\\n\\036hidden_layer_cau/dropout/Shape\\022\\005Shape\\032\\024hidden_layer_cau/add*\\016\\n\\010out_type\\022\\0020\\003*\\032\\n\\016_output_shapes\\022\\010\\n\\006:\\004\\022\\002\\010\\002*\\007\\n\\001T\\022\\0020\\001\\np\\n+hidden_layer_cau/dropout/random_uniform/min\\022\\005Const*\\026\\n\\016_output_shapes\\022\\004\\n\\002:\\000*\\025\\n\\005value\\022\\014B\\n\\010\\001\\022\\000*\\004\\000\\000\\000\\000*\\013\\n\\005dtype\\022\\0020\\001\\np\\n+hidden_layer_cau/dropout/random_uniform/max\\022\\005Const*\\026\\n\\016_output_shapes\\022\\004\\n\\002:\\000*\\025\\n\\005value\\022\\014B\\n\\010\\001\\022\\000*\\004\\000\\000\\200?*\\013\\n\\005dtype\\022\\0020\\001\\n\\277\\001\\n5hidden_layer_cau/dropout/random_uniform/RandomUniform\\022\\rRandomUniform\\032\\036hidden_layer_cau/dropout/Shape*(\\n\\016_output_shapes\\022\\026\\n\\024:\\022\\022\\013\\010\\377\\377\\377\\377\\377\\377\\377\\377\\377\\001\\022\\003\\010\\200\\006*\\007\\n\\001T\\022\\0020\\003*\\n\\n\\004seed\\022\\002\\030\\000*\\013\\n\\005seed2\\022\\002\\030\\000*\\013\\n\\005dtype\\022\\0020\\001\\n\\255\\001\\n+hidden_layer_cau/dropout/random_uniform/sub\\022\\003Sub\\032+hidden_layer_cau/dropout/random_uniform/max\\032+hidden_layer_cau/dropout/random_uniform/min*\\026\\n\\016_output_shapes\\022\\004\\n\\002:\\000*\\007\\n\\001T\\022\\0020\\001\\n\\311\\001\\n+hidden_layer_cau/dropout/random_uniform/mul\\022\\003Mul\\0325hidden_layer_cau/dropout/random_uniform/RandomUniform\\032+hidden_layer_cau/dropout/random_uniform/sub*(\\n\\016_output_shapes\\022\\026\\n\\024:\\022\\022\\013\\010\\377\\377\\377\\377\\377\\377\\377\\377\\377\\001\\022\\003\\010\\200\\006*\\007\\n\\001T\\022\\0020\\001\\n\\273\\001\\n\\'hidden_layer_cau/dropout/random_uniform\\022\\003Add\\032+hidden_layer_cau/dropout/random_uniform/mul\\032+hidden_layer_cau/dropout/random_uniform/min*(\\n\\016_output_shapes\\022\\026\\n\\024:\\022\\022\\013\\010\\377\\377\\377\\377\\377\\377\\377\\377\\377\\001\\022\\003\\010\\200\\006*\\007\\n\\001T\\022\\0020\\001\\n\\243\\001\\n\\034hidden_layer_cau/dropout/add\\022\\003Add\\032\\\"hidden_layer_cau/dropout/keep_prob\\032\\'hidden_layer_cau/dropout/random_uniform*(\\n\\016_output_shapes\\022\\026\\n\\024:\\022\\022\\013\\010\\377\\377\\377\\377\\377\\377\\377\\377\\377\\001\\022\\003\\010\\200\\006*\\007\\n\\001T\\022\\0020\\001\\nx\\n\\036hidden_layer_cau/dropout/Floor\\022\\005Floor\\032\\034hidden_layer_cau/dropout/add*(\\n\\016_output_shapes\\022\\026\\n\\024:\\022\\022\\013\\010\\377\\377\\377\\377\\377\\377\\377\\377\\377\\001\\022\\003\\010\\200\\006*\\007\\n\\001T\\022\\0020\\001\\n\\224\\001\\n\\034hidden_layer_cau/dropout/div\\022\\007RealDiv\\032\\024hidden_layer_cau/add\\032\\\"hidden_layer_cau/dropout/keep_prob*(\\n\\016_output_shapes\\022\\026\\n\\024:\\022\\022\\013\\010\\377\\377\\377\\377\\377\\377\\377\\377\\377\\001\\022\\003\\010\\200\\006*\\007\\n\\001T\\022\\0020\\001\\n\\224\\001\\n\\034hidden_layer_cau/dropout/mul\\022\\003Mul\\032\\034hidden_layer_cau/dropout/div\\032\\036hidden_layer_cau/dropout/Floor*(\\n\\016_output_shapes\\022\\026\\n\\024:\\022\\022\\013\\010\\377\\377\\377\\377\\377\\377\\377\\377\\377\\001\\022\\003\\010\\200\\006*\\007\\n\\001T\\022\\0020\\001\\nf\\n\\025hidden_layer_cau/Relu\\022\\004Relu\\032\\024hidden_layer_cau/add*(\\n\\016_output_shapes\\022\\026\\n\\024:\\022\\022\\013\\010\\377\\377\\377\\377\\377\\377\\377\\377\\377\\001\\022\\003\\010\\200\\006*\\007\\n\\001T\\022\\0020\\001\\n\\261\\001\\n\\031hidden_layer_cau/MatMul_1\\022\\006MatMul\\032\\025hidden_layer_cau/Relu\\032\\035hidden_layer_wb/Variable/read*\\'\\n\\016_output_shapes\\022\\025\\n\\023:\\021\\022\\013\\010\\377\\377\\377\\377\\377\\377\\377\\377\\377\\001\\022\\002\\010\\n*\\007\\n\\001T\\022\\0020\\001*\\021\\n\\013transpose_a\\022\\002(\\000*\\021\\n\\013transpose_b\\022\\002(\\000\\n\\213\\001\\n\\026hidden_layer_cau/add_1\\022\\003Add\\032\\031hidden_layer_cau/MatMul_1\\032\\037hidden_layer_wb/Variable_1/read*\\'\\n\\016_output_shapes\\022\\025\\n\\023:\\021\\022\\013\\010\\377\\377\\377\\377\\377\\377\\377\\377\\377\\001\\022\\002\\010\\n*\\007\\n\\001T\\022\\0020\\001\\nK\\n\\tcost/Rank\\022\\005Const*\\026\\n\\016_output_shapes\\022\\004\\n\\002:\\000*\\022\\n\\005value\\022\\tB\\007\\010\\003\\022\\000:\\001\\002*\\013\\n\\005dtype\\022\\0020\\003\\n`\\n\\ncost/Shape\\022\\005Shape\\032\\026hidden_layer_cau/add_1*\\016\\n\\010out_type\\022\\0020\\003*\\032\\n\\016_output_shapes\\022\\010\\n\\006:\\004\\022\\002\\010\\002*\\007\\n\\001T\\022\\0020\\001\\nM\\n\\013cost/Rank_1\\022\\005Const*\\026\\n\\016_output_shapes\\022\\004\\n\\002:\\000*\\022\\n\\005value\\022\\tB\\007\\010\\003\\022\\000:\\001\\002*\\013\\n\\005dtype\\022\\0020\\003\\nb\\n\\014cost/Shape_1\\022\\005Shape\\032\\026hidden_layer_cau/add_1*\\016\\n\\010out_type\\022\\0020\\003*\\032\\n\\016_output_shapes\\022\\010\\n\\006:\\004\\022\\002\\010\\002*\\007\\n\\001T\\022\\0020\\001\\nL\\n\\ncost/Sub/y\\022\\005Const*\\026\\n\\016_output_shapes\\022\\004\\n\\002:\\000*\\022\\n\\005value\\022\\tB\\007\\010\\003\\022\\000:\\001\\001*\\013\\n\\005dtype\\022\\0020\\003\\nI\\n\\010cost/Sub\\022\\003Sub\\032\\013cost/Rank_1\\032\\ncost/Sub/y*\\026\\n\\016_output_shapes\\022\\004\\n\\002:\\000*\\007\\n\\001T\\022\\0020\\003\\n\\\\\\n\\020cost/Slice/begin\\022\\004Pack\\032\\010cost/Sub*\\032\\n\\016_output_shapes\\022\\010\\n\\006:\\004\\022\\002\\010\\001*\\007\\n\\001N\\022\\002\\030\\001*\\007\\n\\001T\\022\\0020\\003*\\n\\n\\004axis\\022\\002\\030\\000\\nY\\n\\017cost/Slice/size\\022\\005Const*\\032\\n\\016_output_shapes\\022\\010\\n\\006:\\004\\022\\002\\010\\001*\\026\\n\\005value\\022\\rB\\013\\010\\003\\022\\004\\022\\002\\010\\001:\\001\\001*\\013\\n\\005dtype\\022\\0020\\003\\nv\\n\\ncost/Slice\\022\\005Slice\\032\\014cost/Shape_1\\032\\020cost/Slice/begin\\032\\017cost/Slice/size*\\032\\n\\016_output_shapes\\022\\010\\n\\006:\\004\\022\\002\\010\\001*\\007\\n\\001T\\022\\0020\\003*\\013\\n\\005Index\\022\\0020\\003\\ng\\n\\024cost/concat/values_0\\022\\005Const*\\032\\n\\016_output_shapes\\022\\010\\n\\006:\\004\\022\\002\\010\\001*\\037\\n\\005value\\022\\026B\\024\\010\\003\\022\\004\\022\\002\\010\\001:\\n\\377\\377\\377\\377\\377\\377\\377\\377\\377\\001*\\013\\n\\005dtype\\022\\0020\\003\\nR\\n\\020cost/concat/axis\\022\\005Const*\\026\\n\\016_output_shapes\\022\\004\\n\\002:\\000*\\022\\n\\005value\\022\\tB\\007\\010\\003\\022\\000:\\001\\000*\\013\\n\\005dtype\\022\\0020\\003\\n\\205\\001\\n\\013cost/concat\\022\\010ConcatV2\\032\\024cost/concat/values_0\\032\\ncost/Slice\\032\\020cost/concat/axis*\\032\\n\\016_output_shapes\\022\\010\\n\\006:\\004\\022\\002\\010\\002*\\007\\n\\001N\\022\\002\\030\\002*\\007\\n\\001T\\022\\0020\\003*\\n\\n\\004Tidx\\022\\0020\\003\\n\\205\\001\\n\\014cost/Reshape\\022\\007Reshape\\032\\026hidden_layer_cau/add_1\\032\\013cost/concat*\\014\\n\\006Tshape\\022\\0020\\003*0\\n\\016_output_shapes\\022\\036\\n\\034:\\032\\022\\013\\010\\377\\377\\377\\377\\377\\377\\377\\377\\377\\001\\022\\013\\010\\377\\377\\377\\377\\377\\377\\377\\377\\377\\001*\\007\\n\\001T\\022\\0020\\001\\nM\\n\\013cost/Rank_2\\022\\005Const*\\026\\n\\016_output_shapes\\022\\004\\n\\002:\\000*\\022\\n\\005value\\022\\tB\\007\\010\\003\\022\\000:\\001\\002*\\013\\n\\005dtype\\022\\0020\\003\\n_\\n\\014cost/Shape_2\\022\\005Shape\\032\\023input/Placeholder_1*\\016\\n\\010out_type\\022\\0020\\003*\\032\\n\\016_output_shapes\\022\\010\\n\\006:\\004\\022\\002\\010\\002*\\007\\n\\001T\\022\\0020\\001\\nN\\n\\014cost/Sub_1/y\\022\\005Const*\\026\\n\\016_output_shapes\\022\\004\\n\\002:\\000*\\022\\n\\005value\\022\\tB\\007\\010\\003\\022\\000:\\001\\001*\\013\\n\\005dtype\\022\\0020\\003\\nM\\n\\ncost/Sub_1\\022\\003Sub\\032\\013cost/Rank_2\\032\\014cost/Sub_1/y*\\026\\n\\016_output_shapes\\022\\004\\n\\002:\\000*\\007\\n\\001T\\022\\0020\\003\\n`\\n\\022cost/Slice_1/begin\\022\\004Pack\\032\\ncost/Sub_1*\\032\\n\\016_output_shapes\\022\\010\\n\\006:\\004\\022\\002\\010\\001*\\007\\n\\001N\\022\\002\\030\\001*\\007\\n\\001T\\022\\0020\\003*\\n\\n\\004axis\\022\\002\\030\\000\\n[\\n\\021cost/Slice_1/size\\022\\005Const*\\032\\n\\016_output_shapes\\022\\010\\n\\006:\\004\\022\\002\\010\\001*\\026\\n\\005value\\022\\rB\\013\\010\\003\\022\\004\\022\\002\\010\\001:\\001\\001*\\013\\n\\005dtype\\022\\0020\\003\\n|\\n\\014cost/Slice_1\\022\\005Slice\\032\\014cost/Shape_2\\032\\022cost/Slice_1/begin\\032\\021cost/Slice_1/size*\\032\\n\\016_output_shapes\\022\\010\\n\\006:\\004\\022\\002\\010\\001*\\007\\n\\001T\\022\\0020\\003*\\013\\n\\005Index\\022\\0020\\003\\ni\\n\\026cost/concat_1/values_0\\022\\005Const*\\032\\n\\016_output_shapes\\022\\010\\n\\006:\\004\\022\\002\\010\\001*\\037\\n\\005value\\022\\026B\\024\\010\\003\\022\\004\\022\\002\\010\\001:\\n\\377\\377\\377\\377\\377\\377\\377\\377\\377\\001*\\013\\n\\005dtype\\022\\0020\\003\\nT\\n\\022cost/concat_1/axis\\022\\005Const*\\026\\n\\016_output_shapes\\022\\004\\n\\002:\\000*\\022\\n\\005value\\022\\tB\\007\\010\\003\\022\\000:\\001\\000*\\013\\n\\005dtype\\022\\0020\\003\\n\\215\\001\\n\\rcost/concat_1\\022\\010ConcatV2\\032\\026cost/concat_1/values_0\\032\\014cost/Slice_1\\032\\022cost/concat_1/axis*\\032\\n\\016_output_shapes\\022\\010\\n\\006:\\004\\022\\002\\010\\002*\\007\\n\\001N\\022\\002\\030\\002*\\007\\n\\001T\\022\\0020\\003*\\n\\n\\004Tidx\\022\\0020\\003\\n\\206\\001\\n\\016cost/Reshape_1\\022\\007Reshape\\032\\023input/Placeholder_1\\032\\rcost/concat_1*\\014\\n\\006Tshape\\022\\0020\\003*0\\n\\016_output_shapes\\022\\036\\n\\034:\\032\\022\\013\\010\\377\\377\\377\\377\\377\\377\\377\\377\\377\\001\\022\\013\\010\\377\\377\\377\\377\\377\\377\\377\\377\\377\\001*\\007\\n\\001T\\022\\0020\\001\\n\\253\\001\\n\\\"cost/SoftmaxCrossEntropyWithLogits\\022\\035SoftmaxCrossEntropyWithLogits\\032\\014cost/Reshape\\032\\016cost/Reshape_1*?\\n\\016_output_shapes\\022-\\n+:\\r\\022\\013\\010\\377\\377\\377\\377\\377\\377\\377\\377\\377\\001:\\032\\022\\013\\010\\377\\377\\377\\377\\377\\377\\377\\377\\377\\001\\022\\013\\010\\377\\377\\377\\377\\377\\377\\377\\377\\377\\001*\\007\\n\\001T\\022\\0020\\001\\nN\\n\\014cost/Sub_2/y\\022\\005Const*\\026\\n\\016_output_shapes\\022\\004\\n\\002:\\000*\\022\\n\\005value\\022\\tB\\007\\010\\003\\022\\000:\\001\\001*\\013\\n\\005dtype\\022\\0020\\003\\nK\\n\\ncost/Sub_2\\022\\003Sub\\032\\tcost/Rank\\032\\014cost/Sub_2/y*\\026\\n\\016_output_shapes\\022\\004\\n\\002:\\000*\\007\\n\\001T\\022\\0020\\003\\n\\\\\\n\\022cost/Slice_2/begin\\022\\005Const*\\032\\n\\016_output_shapes\\022\\010\\n\\006:\\004\\022\\002\\010\\001*\\026\\n\\005value\\022\\rB\\013\\010\\003\\022\\004\\022\\002\\010\\001:\\001\\000*\\013\\n\\005dtype\\022\\0020\\003\\n_\\n\\021cost/Slice_2/size\\022\\004Pack\\032\\ncost/Sub_2*\\032\\n\\016_output_shapes\\022\\010\\n\\006:\\004\\022\\002\\010\\001*\\007\\n\\001N\\022\\002\\030\\001*\\007\\n\\001T\\022\\0020\\003*\\n\\n\\004axis\\022\\002\\030\\000\\n\\203\\001\\n\\014cost/Slice_2\\022\\005Slice\\032\\ncost/Shape\\032\\022cost/Slice_2/begin\\032\\021cost/Slice_2/size*#\\n\\016_output_shapes\\022\\021\\n\\017:\\r\\022\\013\\010\\377\\377\\377\\377\\377\\377\\377\\377\\377\\001*\\007\\n\\001T\\022\\0020\\003*\\013\\n\\005Index\\022\\0020\\003\\n\\207\\001\\n\\016cost/Reshape_2\\022\\007Reshape\\032\\\"cost/SoftmaxCrossEntropyWithLogits\\032\\014cost/Slice_2*\\014\\n\\006Tshape\\022\\0020\\003*#\\n\\016_output_shapes\\022\\021\\n\\017:\\r\\022\\013\\010\\377\\377\\377\\377\\377\\377\\377\\377\\377\\001*\\007\\n\\001T\\022\\0020\\001\\nT\\n\\ncost/Const\\022\\005Const*\\032\\n\\016_output_shapes\\022\\010\\n\\006:\\004\\022\\002\\010\\001*\\026\\n\\005value\\022\\rB\\013\\010\\003\\022\\004\\022\\002\\010\\001:\\001\\000*\\013\\n\\005dtype\\022\\0020\\003\\nk\\n\\tcost/Mean\\022\\004Mean\\032\\016cost/Reshape_2\\032\\ncost/Const*\\026\\n\\016_output_shapes\\022\\004\\n\\002:\\000*\\017\\n\\tkeep_dims\\022\\002(\\000*\\007\\n\\001T\\022\\0020\\001*\\n\\n\\004Tidx\\022\\0020\\003\\nX\\n\\025train/gradients/Shape\\022\\005Const*\\030\\n\\016_output_shapes\\022\\006\\n\\004:\\002\\022\\000*\\021\\n\\005value\\022\\010B\\006\\010\\003\\022\\002\\022\\000*\\013\\n\\005dtype\\022\\0020\\003\\nZ\\n\\025train/gradients/Const\\022\\005Const*\\026\\n\\016_output_shapes\\022\\004\\n\\002:\\000*\\025\\n\\005value\\022\\014B\\n\\010\\001\\022\\000*\\004\\000\\000\\200?*\\013\\n\\005dtype\\022\\0020\\001\\nk\\n\\024train/gradients/Fill\\022\\004Fill\\032\\025train/gradients/Shape\\032\\025train/gradients/Const*\\026\\n\\016_output_shapes\\022\\004\\n\\002:\\000*\\007\\n\\001T\\022\\0020\\001\\nv\\n,train/gradients/cost/Mean_grad/Reshape/shape\\022\\005Const*\\032\\n\\016_output_shapes\\022\\010\\n\\006:\\004\\022\\002\\010\\001*\\026\\n\\005value\\022\\rB\\013\\010\\003\\022\\004\\022\\002\\010\\001:\\001\\001*\\013\\n\\005dtype\\022\\0020\\003\\n\\250\\001\\n&train/gradients/cost/Mean_grad/Reshape\\022\\007Reshape\\032\\024train/gradients/Fill\\032,train/gradients/cost/Mean_grad/Reshape/shape*\\014\\n\\006Tshape\\022\\0020\\003*\\032\\n\\016_output_shapes\\022\\010\\n\\006:\\004\\022\\002\\010\\001*\\007\\n\\001T\\022\\0020\\001\\nr\\n$train/gradients/cost/Mean_grad/Shape\\022\\005Shape\\032\\016cost/Reshape_2*\\016\\n\\010out_type\\022\\0020\\003*\\032\\n\\016_output_shapes\\022\\010\\n\\006:\\004\\022\\002\\010\\001*\\007\\n\\001T\\022\\0020\\001\\n\\271\\001\\n#train/gradients/cost/Mean_grad/Tile\\022\\004Tile\\032&train/gradients/cost/Mean_grad/Reshape\\032$train/gradients/cost/Mean_grad/Shape*#\\n\\016_output_shapes\\022\\021\\n\\017:\\r\\022\\013\\010\\377\\377\\377\\377\\377\\377\\377\\377\\377\\001*\\007\\n\\001T\\022\\0020\\001*\\020\\n\\nTmultiples\\022\\0020\\003\\nt\\n&train/gradients/cost/Mean_grad/Shape_1\\022\\005Shape\\032\\016cost/Reshape_2*\\016\\n\\010out_type\\022\\0020\\003*\\032\\n\\016_output_shapes\\022\\010\\n\\006:\\004\\022\\002\\010\\001*\\007\\n\\001T\\022\\0020\\001\\ni\\n&train/gradients/cost/Mean_grad/Shape_2\\022\\005Const*\\030\\n\\016_output_shapes\\022\\006\\n\\004:\\002\\022\\000*\\021\\n\\005value\\022\\010B\\006\\010\\003\\022\\002\\022\\000*\\013\\n\\005dtype\\022\\0020\\003\\nn\\n$train/gradients/cost/Mean_grad/Const\\022\\005Const*\\032\\n\\016_output_shapes\\022\\010\\n\\006:\\004\\022\\002\\010\\001*\\026\\n\\005value\\022\\rB\\013\\010\\003\\022\\004\\022\\002\\010\\001:\\001\\000*\\013\\n\\005dtype\\022\\0020\\003\\n\\267\\001\\n#train/gradients/cost/Mean_grad/Prod\\022\\004Prod\\032&train/gradients/cost/Mean_grad/Shape_1\\032$train/gradients/cost/Mean_grad/Const*\\026\\n\\016_output_shapes\\022\\004\\n\\002:\\000*\\017\\n\\tkeep_dims\\022\\002(\\000*\\007\\n\\001T\\022\\0020\\003*\\n\\n\\004Tidx\\022\\0020\\003\\np\\n&train/gradients/cost/Mean_grad/Const_1\\022\\005Const*\\032\\n\\016_output_shapes\\022\\010\\n\\006:\\004\\022\\002\\010\\001*\\026\\n\\005value\\022\\rB\\013\\010\\003\\022\\004\\022\\002\\010\\001:\\001\\000*\\013\\n\\005dtype\\022\\0020\\003\\n\\273\\001\\n%train/gradients/cost/Mean_grad/Prod_1\\022\\004Prod\\032&train/gradients/cost/Mean_grad/Shape_2\\032&train/gradients/cost/Mean_grad/Const_1*\\026\\n\\016_output_shapes\\022\\004\\n\\002:\\000*\\017\\n\\tkeep_dims\\022\\002(\\000*\\007\\n\\001T\\022\\0020\\003*\\n\\n\\004Tidx\\022\\0020\\003\\nj\\n(train/gradients/cost/Mean_grad/Maximum/y\\022\\005Const*\\026\\n\\016_output_shapes\\022\\004\\n\\002:\\000*\\022\\n\\005value\\022\\tB\\007\\010\\003\\022\\000:\\001\\001*\\013\\n\\005dtype\\022\\0020\\003\\n\\243\\001\\n&train/gradients/cost/Mean_grad/Maximum\\022\\007Maximum\\032%train/gradients/cost/Mean_grad/Prod_1\\032(train/gradients/cost/Mean_grad/Maximum/y*\\026\\n\\016_output_shapes\\022\\004\\n\\002:\\000*\\007\\n\\001T\\022\\0020\\003\\n\\241\\001\\n\\'train/gradients/cost/Mean_grad/floordiv\\022\\010FloorDiv\\032#train/gradients/cost/Mean_grad/Prod\\032&train/gradients/cost/Mean_grad/Maximum*\\026\\n\\016_output_shapes\\022\\004\\n\\002:\\000*\\007\\n\\001T\\022\\0020\\003\\n\\204\\001\\n#train/gradients/cost/Mean_grad/Cast\\022\\004Cast\\032\\'train/gradients/cost/Mean_grad/floordiv*\\n\\n\\004SrcT\\022\\0020\\003*\\026\\n\\016_output_shapes\\022\\004\\n\\002:\\000*\\n\\n\\004DstT\\022\\0020\\001\\n\\251\\001\\n&train/gradients/cost/Mean_grad/truediv\\022\\007RealDiv\\032#train/gradients/cost/Mean_grad/Tile\\032#train/gradients/cost/Mean_grad/Cast*#\\n\\016_output_shapes\\022\\021\\n\\017:\\r\\022\\013\\010\\377\\377\\377\\377\\377\\377\\377\\377\\377\\001*\\007\\n\\001T\\022\\0020\\001\\n\\213\\001\\n)train/gradients/cost/Reshape_2_grad/Shape\\022\\005Shape\\032\\\"cost/SoftmaxCrossEntropyWithLogits*\\016\\n\\010out_type\\022\\0020\\003*\\032\\n\\016_output_shapes\\022\\010\\n\\006:\\004\\022\\002\\010\\001*\\007\\n\\001T\\022\\0020\\001\\n\\305\\001\\n+train/gradients/cost/Reshape_2_grad/Reshape\\022\\007Reshape\\032&train/gradients/cost/Mean_grad/truediv\\032)train/gradients/cost/Reshape_2_grad/Shape*\\014\\n\\006Tshape\\022\\0020\\003*#\\n\\016_output_shapes\\022\\021\\n\\017:\\r\\022\\013\\010\\377\\377\\377\\377\\377\\377\\377\\377\\377\\001*\\007\\n\\001T\\022\\0020\\001\\n\\210\\001\\n\\032train/gradients/zeros_like\\022\\tZerosLike\\032$cost/SoftmaxCrossEntropyWithLogits:1*0\\n\\016_output_shapes\\022\\036\\n\\034:\\032\\022\\013\\010\\377\\377\\377\\377\\377\\377\\377\\377\\377\\001\\022\\013\\010\\377\\377\\377\\377\\377\\377\\377\\377\\377\\001*\\007\\n\\001T\\022\\0020\\001\\n\\273\\001\\nGtrain/gradients/cost/SoftmaxCrossEntropyWithLogits_grad/PreventGradient\\022\\017PreventGradient\\032$cost/SoftmaxCrossEntropyWithLogits:1*0\\n\\016_output_shapes\\022\\036\\n\\034:\\032\\022\\013\\010\\377\\377\\377\\377\\377\\377\\377\\377\\377\\001\\022\\013\\010\\377\\377\\377\\377\\377\\377\\377\\377\\377\\001*\\007\\n\\001T\\022\\0020\\001\\n\\221\\001\\nFtrain/gradients/cost/SoftmaxCrossEntropyWithLogits_grad/ExpandDims/dim\\022\\005Const*\\026\\n\\016_output_shapes\\022\\004\\n\\002:\\000*\\033\\n\\005value\\022\\022B\\020\\010\\003\\022\\000:\\n\\377\\377\\377\\377\\377\\377\\377\\377\\377\\001*\\013\\n\\005dtype\\022\\0020\\003\\n\\203\\002\\nBtrain/gradients/cost/SoftmaxCrossEntropyWithLogits_grad/ExpandDims\\022\\nExpandDims\\032+train/gradients/cost/Reshape_2_grad/Reshape\\032Ftrain/gradients/cost/SoftmaxCrossEntropyWithLogits_grad/ExpandDims/dim*\\n\\n\\004Tdim\\022\\0020\\003*\\'\\n\\016_output_shapes\\022\\025\\n\\023:\\021\\022\\013\\010\\377\\377\\377\\377\\377\\377\\377\\377\\377\\001\\022\\002\\010\\001*\\007\\n\\001T\\022\\0020\\001\\n\\212\\002\\n;train/gradients/cost/SoftmaxCrossEntropyWithLogits_grad/mul\\022\\003Mul\\032Btrain/gradients/cost/SoftmaxCrossEntropyWithLogits_grad/ExpandDims\\032Gtrain/gradients/cost/SoftmaxCrossEntropyWithLogits_grad/PreventGradient*0\\n\\016_output_shapes\\022\\036\\n\\034:\\032\\022\\013\\010\\377\\377\\377\\377\\377\\377\\377\\377\\377\\001\\022\\013\\010\\377\\377\\377\\377\\377\\377\\377\\377\\377\\001*\\007\\n\\001T\\022\\0020\\001\\n}\\n\\'train/gradients/cost/Reshape_grad/Shape\\022\\005Shape\\032\\026hidden_layer_cau/add_1*\\016\\n\\010out_type\\022\\0020\\003*\\032\\n\\016_output_shapes\\022\\010\\n\\006:\\004\\022\\002\\010\\002*\\007\\n\\001T\\022\\0020\\001\\n\\332\\001\\n)train/gradients/cost/Reshape_grad/Reshape\\022\\007Reshape\\032;train/gradients/cost/SoftmaxCrossEntropyWithLogits_grad/mul\\032\\'train/gradients/cost/Reshape_grad/Shape*\\014\\n\\006Tshape\\022\\0020\\003*\\'\\n\\016_output_shapes\\022\\025\\n\\023:\\021\\022\\013\\010\\377\\377\\377\\377\\377\\377\\377\\377\\377\\001\\022\\002\\010\\n*\\007\\n\\001T\\022\\0020\\001\\n\\212\\001\\n1train/gradients/hidden_layer_cau/add_1_grad/Shape\\022\\005Shape\\032\\031hidden_layer_cau/MatMul_1*\\016\\n\\010out_type\\022\\0020\\003*\\032\\n\\016_output_shapes\\022\\010\\n\\006:\\004\\022\\002\\010\\002*\\007\\n\\001T\\022\\0020\\001\\n}\\n3train/gradients/hidden_layer_cau/add_1_grad/Shape_1\\022\\005Const*\\032\\n\\016_output_shapes\\022\\010\\n\\006:\\004\\022\\002\\010\\001*\\026\\n\\005value\\022\\rB\\013\\010\\003\\022\\004\\022\\002\\010\\001:\\001\\n*\\013\\n\\005dtype\\022\\0020\\003\\n\\377\\001\\nAtrain/gradients/hidden_layer_cau/add_1_grad/BroadcastGradientArgs\\022\\025BroadcastGradientArgs\\0321train/gradients/hidden_layer_cau/add_1_grad/Shape\\0323train/gradients/hidden_layer_cau/add_1_grad/Shape_1*2\\n\\016_output_shapes\\022 \\n\\036:\\r\\022\\013\\010\\377\\377\\377\\377\\377\\377\\377\\377\\377\\001:\\r\\022\\013\\010\\377\\377\\377\\377\\377\\377\\377\\377\\377\\001*\\007\\n\\001T\\022\\0020\\003\\n\\344\\001\\n/train/gradients/hidden_layer_cau/add_1_grad/Sum\\022\\003Sum\\032)train/gradients/cost/Reshape_grad/Reshape\\032Atrain/gradients/hidden_layer_cau/add_1_grad/BroadcastGradientArgs*\\030\\n\\016_output_shapes\\022\\006\\n\\004:\\002\\030\\001*\\017\\n\\tkeep_dims\\022\\002(\\000*\\007\\n\\001T\\022\\0020\\001*\\n\\n\\004Tidx\\022\\0020\\003\\n\\342\\001\\n3train/gradients/hidden_layer_cau/add_1_grad/Reshape\\022\\007Reshape\\032/train/gradients/hidden_layer_cau/add_1_grad/Sum\\0321train/gradients/hidden_layer_cau/add_1_grad/Shape*\\014\\n\\006Tshape\\022\\0020\\003*\\'\\n\\016_output_shapes\\022\\025\\n\\023:\\021\\022\\013\\010\\377\\377\\377\\377\\377\\377\\377\\377\\377\\001\\022\\002\\010\\n*\\007\\n\\001T\\022\\0020\\001\\n\\350\\001\\n1train/gradients/hidden_layer_cau/add_1_grad/Sum_1\\022\\003Sum\\032)train/gradients/cost/Reshape_grad/Reshape\\032Ctrain/gradients/hidden_layer_cau/add_1_grad/BroadcastGradientArgs:1*\\030\\n\\016_output_shapes\\022\\006\\n\\004:\\002\\030\\001*\\017\\n\\tkeep_dims\\022\\002(\\000*\\007\\n\\001T\\022\\0020\\001*\\n\\n\\004Tidx\\022\\0020\\003\\n\\333\\001\\n5train/gradients/hidden_layer_cau/add_1_grad/Reshape_1\\022\\007Reshape\\0321train/gradients/hidden_layer_cau/add_1_grad/Sum_1\\0323train/gradients/hidden_layer_cau/add_1_grad/Shape_1*\\014\\n\\006Tshape\\022\\0020\\003*\\032\\n\\016_output_shapes\\022\\010\\n\\006:\\004\\022\\002\\010\\n*\\007\\n\\001T\\022\\0020\\001\\n\\262\\001\\n<train/gradients/hidden_layer_cau/add_1_grad/tuple/group_deps\\022\\004NoOp\\0324^train/gradients/hidden_layer_cau/add_1_grad/Reshape\\0326^train/gradients/hidden_layer_cau/add_1_grad/Reshape_1\\n\\276\\002\\nDtrain/gradients/hidden_layer_cau/add_1_grad/tuple/control_dependency\\022\\010Identity\\0323train/gradients/hidden_layer_cau/add_1_grad/Reshape\\032=^train/gradients/hidden_layer_cau/add_1_grad/tuple/group_deps*\\'\\n\\016_output_shapes\\022\\025\\n\\023:\\021\\022\\013\\010\\377\\377\\377\\377\\377\\377\\377\\377\\377\\001\\022\\002\\010\\n*F\\n\\006_class\\022<\\n:\\0228loc:@train/gradients/hidden_layer_cau/add_1_grad/Reshape*\\007\\n\\001T\\022\\0020\\001\\n\\267\\002\\nFtrain/gradients/hidden_layer_cau/add_1_grad/tuple/control_dependency_1\\022\\010Identity\\0325train/gradients/hidden_layer_cau/add_1_grad/Reshape_1\\032=^train/gradients/hidden_layer_cau/add_1_grad/tuple/group_deps*\\032\\n\\016_output_shapes\\022\\010\\n\\006:\\004\\022\\002\\010\\n*H\\n\\006_class\\022>\\n<\\022:loc:@train/gradients/hidden_layer_cau/add_1_grad/Reshape_1*\\007\\n\\001T\\022\\0020\\001\\n\\375\\001\\n5train/gradients/hidden_layer_cau/MatMul_1_grad/MatMul\\022\\006MatMul\\032Dtrain/gradients/hidden_layer_cau/add_1_grad/tuple/control_dependency\\032\\035hidden_layer_wb/Variable/read*(\\n\\016_output_shapes\\022\\026\\n\\024:\\022\\022\\013\\010\\377\\377\\377\\377\\377\\377\\377\\377\\377\\001\\022\\003\\010\\200\\006*\\007\\n\\001T\\022\\0020\\001*\\021\\n\\013transpose_a\\022\\002(\\000*\\021\\n\\013transpose_b\\022\\002(\\001\\n\\356\\001\\n7train/gradients/hidden_layer_cau/MatMul_1_grad/MatMul_1\\022\\006MatMul\\032\\025hidden_layer_cau/Relu\\032Dtrain/gradients/hidden_layer_cau/add_1_grad/tuple/control_dependency*\\037\\n\\016_output_shapes\\022\\r\\n\\013:\\t\\022\\003\\010\\200\\006\\022\\002\\010\\n*\\007\\n\\001T\\022\\0020\\001*\\021\\n\\013transpose_a\\022\\002(\\001*\\021\\n\\013transpose_b\\022\\002(\\000\\n\\271\\001\\n?train/gradients/hidden_layer_cau/MatMul_1_grad/tuple/group_deps\\022\\004NoOp\\0326^train/gradients/hidden_layer_cau/MatMul_1_grad/MatMul\\0328^train/gradients/hidden_layer_cau/MatMul_1_grad/MatMul_1\\n\\311\\002\\nGtrain/gradients/hidden_layer_cau/MatMul_1_grad/tuple/control_dependency\\022\\010Identity\\0325train/gradients/hidden_layer_cau/MatMul_1_grad/MatMul\\032@^train/gradients/hidden_layer_cau/MatMul_1_grad/tuple/group_deps*(\\n\\016_output_shapes\\022\\026\\n\\024:\\022\\022\\013\\010\\377\\377\\377\\377\\377\\377\\377\\377\\377\\001\\022\\003\\010\\200\\006*H\\n\\006_class\\022>\\n<\\022:loc:@train/gradients/hidden_layer_cau/MatMul_1_grad/MatMul*\\007\\n\\001T\\022\\0020\\001\\n\\306\\002\\nItrain/gradients/hidden_layer_cau/MatMul_1_grad/tuple/control_dependency_1\\022\\010Identity\\0327train/gradients/hidden_layer_cau/MatMul_1_grad/MatMul_1\\032@^train/gradients/hidden_layer_cau/MatMul_1_grad/tuple/group_deps*\\037\\n\\016_output_shapes\\022\\r\\n\\013:\\t\\022\\003\\010\\200\\006\\022\\002\\010\\n*J\\n\\006_class\\022@\\n>\\022<loc:@train/gradients/hidden_layer_cau/MatMul_1_grad/MatMul_1*\\007\\n\\001T\\022\\0020\\001\\n\\322\\001\\n3train/gradients/hidden_layer_cau/Relu_grad/ReluGrad\\022\\010ReluGrad\\032Gtrain/gradients/hidden_layer_cau/MatMul_1_grad/tuple/control_dependency\\032\\025hidden_layer_cau/Relu*(\\n\\016_output_shapes\\022\\026\\n\\024:\\022\\022\\013\\010\\377\\377\\377\\377\\377\\377\\377\\377\\377\\001\\022\\003\\010\\200\\006*\\007\\n\\001T\\022\\0020\\001\\n\\206\\001\\n/train/gradients/hidden_layer_cau/add_grad/Shape\\022\\005Shape\\032\\027hidden_layer_cau/MatMul*\\016\\n\\010out_type\\022\\0020\\003*\\032\\n\\016_output_shapes\\022\\010\\n\\006:\\004\\022\\002\\010\\002*\\007\\n\\001T\\022\\0020\\001\\n|\\n1train/gradients/hidden_layer_cau/add_grad/Shape_1\\022\\005Const*\\032\\n\\016_output_shapes\\022\\010\\n\\006:\\004\\022\\002\\010\\001*\\027\\n\\005value\\022\\016B\\014\\010\\003\\022\\004\\022\\002\\010\\001:\\002\\200\\006*\\013\\n\\005dtype\\022\\0020\\003\\n\\371\\001\\n?train/gradients/hidden_layer_cau/add_grad/BroadcastGradientArgs\\022\\025BroadcastGradientArgs\\032/train/gradients/hidden_layer_cau/add_grad/Shape\\0321train/gradients/hidden_layer_cau/add_grad/Shape_1*2\\n\\016_output_shapes\\022 \\n\\036:\\r\\022\\013\\010\\377\\377\\377\\377\\377\\377\\377\\377\\377\\001:\\r\\022\\013\\010\\377\\377\\377\\377\\377\\377\\377\\377\\377\\001*\\007\\n\\001T\\022\\0020\\003\\n\\352\\001\\n-train/gradients/hidden_layer_cau/add_grad/Sum\\022\\003Sum\\0323train/gradients/hidden_layer_cau/Relu_grad/ReluGrad\\032?train/gradients/hidden_layer_cau/add_grad/BroadcastGradientArgs*\\030\\n\\016_output_shapes\\022\\006\\n\\004:\\002\\030\\001*\\017\\n\\tkeep_dims\\022\\002(\\000*\\007\\n\\001T\\022\\0020\\001*\\n\\n\\004Tidx\\022\\0020\\003\\n\\335\\001\\n1train/gradients/hidden_layer_cau/add_grad/Reshape\\022\\007Reshape\\032-train/gradients/hidden_layer_cau/add_grad/Sum\\032/train/gradients/hidden_layer_cau/add_grad/Shape*\\014\\n\\006Tshape\\022\\0020\\003*(\\n\\016_output_shapes\\022\\026\\n\\024:\\022\\022\\013\\010\\377\\377\\377\\377\\377\\377\\377\\377\\377\\001\\022\\003\\010\\200\\006*\\007\\n\\001T\\022\\0020\\001\\n\\356\\001\\n/train/gradients/hidden_layer_cau/add_grad/Sum_1\\022\\003Sum\\0323train/gradients/hidden_layer_cau/Relu_grad/ReluGrad\\032Atrain/gradients/hidden_layer_cau/add_grad/BroadcastGradientArgs:1*\\030\\n\\016_output_shapes\\022\\006\\n\\004:\\002\\030\\001*\\017\\n\\tkeep_dims\\022\\002(\\000*\\007\\n\\001T\\022\\0020\\001*\\n\\n\\004Tidx\\022\\0020\\003\\n\\326\\001\\n3train/gradients/hidden_layer_cau/add_grad/Reshape_1\\022\\007Reshape\\032/train/gradients/hidden_layer_cau/add_grad/Sum_1\\0321train/gradients/hidden_layer_cau/add_grad/Shape_1*\\014\\n\\006Tshape\\022\\0020\\003*\\033\\n\\016_output_shapes\\022\\t\\n\\007:\\005\\022\\003\\010\\200\\006*\\007\\n\\001T\\022\\0020\\001\\n\\254\\001\\n:train/gradients/hidden_layer_cau/add_grad/tuple/group_deps\\022\\004NoOp\\0322^train/gradients/hidden_layer_cau/add_grad/Reshape\\0324^train/gradients/hidden_layer_cau/add_grad/Reshape_1\\n\\267\\002\\nBtrain/gradients/hidden_layer_cau/add_grad/tuple/control_dependency\\022\\010Identity\\0321train/gradients/hidden_layer_cau/add_grad/Reshape\\032;^train/gradients/hidden_layer_cau/add_grad/tuple/group_deps*(\\n\\016_output_shapes\\022\\026\\n\\024:\\022\\022\\013\\010\\377\\377\\377\\377\\377\\377\\377\\377\\377\\001\\022\\003\\010\\200\\006*D\\n\\006_class\\022:\\n8\\0226loc:@train/gradients/hidden_layer_cau/add_grad/Reshape*\\007\\n\\001T\\022\\0020\\001\\n\\260\\002\\nDtrain/gradients/hidden_layer_cau/add_grad/tuple/control_dependency_1\\022\\010Identity\\0323train/gradients/hidden_layer_cau/add_grad/Reshape_1\\032;^train/gradients/hidden_layer_cau/add_grad/tuple/group_deps*\\033\\n\\016_output_shapes\\022\\t\\n\\007:\\005\\022\\003\\010\\200\\006*F\\n\\006_class\\022<\\n:\\0228loc:@train/gradients/hidden_layer_cau/add_grad/Reshape_1*\\007\\n\\001T\\022\\0020\\001\\n\\361\\001\\n3train/gradients/hidden_layer_cau/MatMul_grad/MatMul\\022\\006MatMul\\032Btrain/gradients/hidden_layer_cau/add_grad/tuple/control_dependency\\032\\025weights/Variable/read*(\\n\\016_output_shapes\\022\\026\\n\\024:\\022\\022\\013\\010\\377\\377\\377\\377\\377\\377\\377\\377\\377\\001\\022\\003\\010\\220\\006*\\007\\n\\001T\\022\\0020\\001*\\021\\n\\013transpose_a\\022\\002(\\000*\\021\\n\\013transpose_b\\022\\002(\\001\\n\\347\\001\\n5train/gradients/hidden_layer_cau/MatMul_grad/MatMul_1\\022\\006MatMul\\032\\021input/Placeholder\\032Btrain/gradients/hidden_layer_cau/add_grad/tuple/control_dependency* \\n\\016_output_shapes\\022\\016\\n\\014:\\n\\022\\003\\010\\220\\006\\022\\003\\010\\200\\006*\\007\\n\\001T\\022\\0020\\001*\\021\\n\\013transpose_a\\022\\002(\\001*\\021\\n\\013transpose_b\\022\\002(\\000\\n\\263\\001\\n=train/gradients/hidden_layer_cau/MatMul_grad/tuple/group_deps\\022\\004NoOp\\0324^train/gradients/hidden_layer_cau/MatMul_grad/MatMul\\0326^train/gradients/hidden_layer_cau/MatMul_grad/MatMul_1\\n\\301\\002\\nEtrain/gradients/hidden_layer_cau/MatMul_grad/tuple/control_dependency\\022\\010Identity\\0323train/gradients/hidden_layer_cau/MatMul_grad/MatMul\\032>^train/gradients/hidden_layer_cau/MatMul_grad/tuple/group_deps*(\\n\\016_output_shapes\\022\\026\\n\\024:\\022\\022\\013\\010\\377\\377\\377\\377\\377\\377\\377\\377\\377\\001\\022\\003\\010\\220\\006*F\\n\\006_class\\022<\\n:\\0228loc:@train/gradients/hidden_layer_cau/MatMul_grad/MatMul*\\007\\n\\001T\\022\\0020\\001\\n\\277\\002\\nGtrain/gradients/hidden_layer_cau/MatMul_grad/tuple/control_dependency_1\\022\\010Identity\\0325train/gradients/hidden_layer_cau/MatMul_grad/MatMul_1\\032>^train/gradients/hidden_layer_cau/MatMul_grad/tuple/group_deps* \\n\\016_output_shapes\\022\\016\\n\\014:\\n\\022\\003\\010\\220\\006\\022\\003\\010\\200\\006*H\\n\\006_class\\022>\\n<\\022:loc:@train/gradients/hidden_layer_cau/MatMul_grad/MatMul_1*\\007\\n\\001T\\022\\0020\\001\\nh\\n#train/GradientDescent/learning_rate\\022\\005Const*\\026\\n\\016_output_shapes\\022\\004\\n\\002:\\000*\\025\\n\\005value\\022\\014B\\n\\010\\001\\022\\000*\\004\\315\\314\\314>*\\013\\n\\005dtype\\022\\0020\\001\\n\\275\\002\\nBtrain/GradientDescent/update_weights/Variable/ApplyGradientDescent\\022\\024ApplyGradientDescent\\032\\020weights/Variable\\032#train/GradientDescent/learning_rate\\032Gtrain/gradients/hidden_layer_cau/MatMul_grad/tuple/control_dependency_1* \\n\\016_output_shapes\\022\\016\\n\\014:\\n\\022\\003\\010\\220\\006\\022\\003\\010\\200\\006*#\\n\\006_class\\022\\031\\n\\027\\022\\025loc:@weights/Variable*\\007\\n\\001T\\022\\0020\\001*\\021\\n\\013use_locking\\022\\002(\\000\\n\\262\\002\\nAtrain/GradientDescent/update_biases/Variable/ApplyGradientDescent\\022\\024ApplyGradientDescent\\032\\017biases/Variable\\032#train/GradientDescent/learning_rate\\032Dtrain/gradients/hidden_layer_cau/add_grad/tuple/control_dependency_1*\\033\\n\\016_output_shapes\\022\\t\\n\\007:\\005\\022\\003\\010\\200\\006*\\\"\\n\\006_class\\022\\030\\n\\026\\022\\024loc:@biases/Variable*\\007\\n\\001T\\022\\0020\\001*\\021\\n\\013use_locking\\022\\002(\\000\\n\\326\\002\\nJtrain/GradientDescent/update_hidden_layer_wb/Variable/ApplyGradientDescent\\022\\024ApplyGradientDescent\\032\\030hidden_layer_wb/Variable\\032#train/GradientDescent/learning_rate\\032Itrain/gradients/hidden_layer_cau/MatMul_1_grad/tuple/control_dependency_1*\\037\\n\\016_output_shapes\\022\\r\\n\\013:\\t\\022\\003\\010\\200\\006\\022\\002\\010\\n*+\\n\\006_class\\022!\\n\\037\\022\\035loc:@hidden_layer_wb/Variable*\\007\\n\\001T\\022\\0020\\001*\\021\\n\\013use_locking\\022\\002(\\000\\n\\324\\002\\nLtrain/GradientDescent/update_hidden_layer_wb/Variable_1/ApplyGradientDescent\\022\\024ApplyGradientDescent\\032\\032hidden_layer_wb/Variable_1\\032#train/GradientDescent/learning_rate\\032Ftrain/gradients/hidden_layer_cau/add_1_grad/tuple/control_dependency_1*\\032\\n\\016_output_shapes\\022\\010\\n\\006:\\004\\022\\002\\010\\n*-\\n\\006_class\\022#\\n!\\022\\037loc:@hidden_layer_wb/Variable_1*\\007\\n\\001T\\022\\0020\\001*\\021\\n\\013use_locking\\022\\002(\\000\\n\\302\\002\\n\\025train/GradientDescent\\022\\004NoOp\\032C^train/GradientDescent/update_weights/Variable/ApplyGradientDescent\\032B^train/GradientDescent/update_biases/Variable/ApplyGradientDescent\\032K^train/GradientDescent/update_hidden_layer_wb/Variable/ApplyGradientDescent\\032M^train/GradientDescent/update_hidden_layer_wb/Variable_1/ApplyGradientDescent\\n[\\n\\031accuracy/ArgMax/dimension\\022\\005Const*\\026\\n\\016_output_shapes\\022\\004\\n\\002:\\000*\\022\\n\\005value\\022\\tB\\007\\010\\003\\022\\000:\\001\\001*\\013\\n\\005dtype\\022\\0020\\003\\n\\206\\001\\n\\017accuracy/ArgMax\\022\\006ArgMax\\032\\026hidden_layer_cau/add_1\\032\\031accuracy/ArgMax/dimension*#\\n\\016_output_shapes\\022\\021\\n\\017:\\r\\022\\013\\010\\377\\377\\377\\377\\377\\377\\377\\377\\377\\001*\\007\\n\\001T\\022\\0020\\001*\\n\\n\\004Tidx\\022\\0020\\003\\n]\\n\\033accuracy/ArgMax_1/dimension\\022\\005Const*\\026\\n\\016_output_shapes\\022\\004\\n\\002:\\000*\\022\\n\\005value\\022\\tB\\007\\010\\003\\022\\000:\\001\\001*\\013\\n\\005dtype\\022\\0020\\003\\n\\207\\001\\n\\021accuracy/ArgMax_1\\022\\006ArgMax\\032\\023input/Placeholder_1\\032\\033accuracy/ArgMax_1/dimension*#\\n\\016_output_shapes\\022\\021\\n\\017:\\r\\022\\013\\010\\377\\377\\377\\377\\377\\377\\377\\377\\377\\001*\\007\\n\\001T\\022\\0020\\001*\\n\\n\\004Tidx\\022\\0020\\003\\ni\\n\\016accuracy/Equal\\022\\005Equal\\032\\017accuracy/ArgMax\\032\\021accuracy/ArgMax_1*#\\n\\016_output_shapes\\022\\021\\n\\017:\\r\\022\\013\\010\\377\\377\\377\\377\\377\\377\\377\\377\\377\\001*\\007\\n\\001T\\022\\0020\\t\\nb\\n\\raccuracy/Cast\\022\\004Cast\\032\\016accuracy/Equal*\\n\\n\\004SrcT\\022\\0020\\n*#\\n\\016_output_shapes\\022\\021\\n\\017:\\r\\022\\013\\010\\377\\377\\377\\377\\377\\377\\377\\377\\377\\001*\\n\\n\\004DstT\\022\\0020\\001\\nX\\n\\016accuracy/Const\\022\\005Const*\\032\\n\\016_output_shapes\\022\\010\\n\\006:\\004\\022\\002\\010\\001*\\026\\n\\005value\\022\\rB\\013\\010\\003\\022\\004\\022\\002\\010\\001:\\001\\000*\\013\\n\\005dtype\\022\\0020\\003\\nr\\n\\raccuracy/Mean\\022\\004Mean\\032\\raccuracy/Cast\\032\\016accuracy/Const*\\026\\n\\016_output_shapes\\022\\004\\n\\002:\\000*\\017\\n\\tkeep_dims\\022\\002(\\000*\\007\\n\\001T\\022\\0020\\001*\\n\\n\\004Tidx\\022\\0020\\003\\nR\\n\\013cost_1/tags\\022\\005Const*\\026\\n\\016_output_shapes\\022\\004\\n\\002:\\000*\\027\\n\\005value\\022\\016B\\014\\010\\007\\022\\000B\\006cost_1*\\013\\n\\005dtype\\022\\0020\\007\\nP\\n\\006cost_1\\022\\rScalarSummary\\032\\013cost_1/tags\\032\\tcost/Mean*\\026\\n\\016_output_shapes\\022\\004\\n\\002:\\000*\\007\\n\\001T\\022\\0020\\001\\nZ\\n\\017accuracy_1/tags\\022\\005Const*\\026\\n\\016_output_shapes\\022\\004\\n\\002:\\000*\\033\\n\\005value\\022\\022B\\020\\010\\007\\022\\000B\\naccuracy_1*\\013\\n\\005dtype\\022\\0020\\007\\n\\\\\\n\\naccuracy_1\\022\\rScalarSummary\\032\\017accuracy_1/tags\\032\\raccuracy/Mean*\\026\\n\\016_output_shapes\\022\\004\\n\\002:\\000*\\007\\n\\001T\\022\\0020\\001\\nW\\n\\022Merge/MergeSummary\\022\\014MergeSummary\\032\\006cost_1\\032\\naccuracy_1*\\026\\n\\016_output_shapes\\022\\004\\n\\002:\\000*\\007\\n\\001N\\022\\002\\030\\002\\n\\205\\001\\n\\004init\\022\\004NoOp\\032\\030^weights/Variable/Assign\\032\\027^biases/Variable/Assign\\032 ^hidden_layer_wb/Variable/Assign\\032\\\"^hidden_layer_wb/Variable_1/Assign\\n\\207\\001\\n\\006init_1\\022\\004NoOp\\032\\030^weights/Variable/Assign\\032\\027^biases/Variable/Assign\\032 ^hidden_layer_wb/Variable/Assign\\032\\\"^hidden_layer_wb/Variable_1/Assign\\n\\207\\001\\n\\006init_2\\022\\004NoOp\\032\\030^weights/Variable/Assign\\032\\027^biases/Variable/Assign\\032 ^hidden_layer_wb/Variable/Assign\\032\\\"^hidden_layer_wb/Variable_1/Assign\\n\\207\\001\\n\\006init_3\\022\\004NoOp\\032\\030^weights/Variable/Assign\\032\\027^biases/Variable/Assign\\032 ^hidden_layer_wb/Variable/Assign\\032\\\"^hidden_layer_wb/Variable_1/Assign\\\"\\002\\010\\025\"\n",
      "\n",
      "wall_time: 1508854177.130462\n",
      "meta_graph_def: \"\\n\\355\\031\\022\\305\\031\\n9\\n\\003Add\\022\\006\\n\\001x\\\"\\001T\\022\\006\\n\\001y\\\"\\001T\\032\\006\\n\\001z\\\"\\001T\\\"\\032\\n\\001T\\022\\004type:\\017\\n\\r2\\013\\023\\001\\002\\004\\006\\005\\003\\t\\010\\022\\007\\n\\200\\001\\n\\024ApplyGradientDescent\\022\\013\\n\\003var\\\"\\001T\\200\\001\\001\\022\\n\\n\\005alpha\\\"\\001T\\022\\n\\n\\005delta\\\"\\001T\\032\\013\\n\\003out\\\"\\001T\\200\\001\\001\\\"\\035\\n\\001T\\022\\004type:\\022\\n\\0202\\016\\001\\002\\t\\003\\004\\021\\005\\006\\010\\022\\013\\014\\r\\023\\\"\\027\\n\\013use_locking\\022\\004bool\\032\\002(\\000\\nl\\n\\006ArgMax\\022\\n\\n\\005input\\\"\\001T\\022\\021\\n\\tdimension\\\"\\004Tidx\\032\\n\\n\\006output\\030\\t\\\"\\035\\n\\001T\\022\\004type:\\022\\n\\0202\\016\\001\\002\\t\\003\\004\\021\\005\\006\\010\\022\\013\\014\\r\\023\\\"\\030\\n\\004Tidx\\022\\004type\\032\\0020\\003:\\006\\n\\0042\\002\\003\\t\\nx\\n\\006Assign\\022\\013\\n\\003ref\\\"\\001T\\200\\001\\001\\022\\n\\n\\005value\\\"\\001T\\032\\022\\n\\noutput_ref\\\"\\001T\\200\\001\\001\\\"\\t\\n\\001T\\022\\004type\\\"\\032\\n\\016validate_shape\\022\\004bool\\032\\002(\\001\\\"\\027\\n\\013use_locking\\022\\004bool\\032\\002(\\001\\230\\001\\001\\nR\\n\\025BroadcastGradientArgs\\022\\007\\n\\002s0\\\"\\001T\\022\\007\\n\\002s1\\\"\\001T\\032\\007\\n\\002r0\\\"\\001T\\032\\007\\n\\002r1\\\"\\001T\\\"\\025\\n\\001T\\022\\004type\\032\\0020\\003:\\006\\n\\0042\\002\\003\\t\\n8\\n\\004Cast\\022\\t\\n\\001x\\\"\\004SrcT\\032\\t\\n\\001y\\\"\\004DstT\\\"\\014\\n\\004SrcT\\022\\004type\\\"\\014\\n\\004DstT\\022\\004type\\nh\\n\\010ConcatV2\\022\\016\\n\\006values\\\"\\001T*\\001N\\022\\014\\n\\004axis\\\"\\004Tidx\\032\\013\\n\\006output\\\"\\001T\\\"\\014\\n\\001N\\022\\003int(\\0010\\002\\\"\\t\\n\\001T\\022\\004type\\\"\\030\\n\\004Tidx\\022\\004type\\032\\0020\\003:\\006\\n\\0042\\002\\003\\t\\n8\\n\\005Const\\032\\017\\n\\006output\\\"\\005dtype\\\"\\017\\n\\005value\\022\\006tensor\\\"\\r\\n\\005dtype\\022\\004type\\nA\\n\\005Equal\\022\\006\\n\\001x\\\"\\001T\\022\\006\\n\\001y\\\"\\001T\\032\\005\\n\\001z\\030\\n\\\"\\036\\n\\001T\\022\\004type:\\023\\n\\0212\\017\\023\\001\\002\\004\\006\\005\\003\\t\\010\\014\\013\\r\\007\\n\\022\\220\\001\\001\\nW\\n\\nExpandDims\\022\\n\\n\\005input\\\"\\001T\\022\\013\\n\\003dim\\\"\\004Tdim\\032\\013\\n\\006output\\\"\\001T\\\"\\t\\n\\001T\\022\\004type\\\"\\030\\n\\004Tdim\\022\\004type\\032\\0020\\003:\\006\\n\\0042\\002\\003\\t\\n4\\n\\004Fill\\022\\010\\n\\004dims\\030\\003\\022\\n\\n\\005value\\\"\\001T\\032\\013\\n\\006output\\\"\\001T\\\"\\t\\n\\001T\\022\\004type\\n+\\n\\005Floor\\022\\006\\n\\001x\\\"\\001T\\032\\006\\n\\001y\\\"\\001T\\\"\\022\\n\\001T\\022\\004type:\\007\\n\\0052\\003\\023\\001\\002\\n>\\n\\010FloorDiv\\022\\006\\n\\001x\\\"\\001T\\022\\006\\n\\001y\\\"\\001T\\032\\006\\n\\001z\\\"\\001T\\\"\\032\\n\\001T\\022\\004type:\\017\\n\\r2\\013\\023\\001\\002\\004\\006\\021\\005\\003\\t\\010\\022\\n.\\n\\010Identity\\022\\n\\n\\005input\\\"\\001T\\032\\013\\n\\006output\\\"\\001T\\\"\\t\\n\\001T\\022\\004type\\no\\n\\006MatMul\\022\\006\\n\\001a\\\"\\001T\\022\\006\\n\\001b\\\"\\001T\\032\\014\\n\\007product\\\"\\001T\\\"\\027\\n\\013transpose_a\\022\\004bool\\032\\002(\\000\\\"\\027\\n\\013transpose_b\\022\\004bool\\032\\002(\\000\\\"\\025\\n\\001T\\022\\004type:\\n\\n\\0102\\006\\023\\001\\002\\003\\010\\022\\n:\\n\\007Maximum\\022\\006\\n\\001x\\\"\\001T\\022\\006\\n\\001y\\\"\\001T\\032\\006\\n\\001z\\\"\\001T\\\"\\024\\n\\001T\\022\\004type:\\t\\n\\0072\\005\\023\\001\\002\\003\\t\\220\\001\\001\\n\\212\\001\\n\\004Mean\\022\\n\\n\\005input\\\"\\001T\\022\\031\\n\\021reduction_indices\\\"\\004Tidx\\032\\013\\n\\006output\\\"\\001T\\\"\\025\\n\\tkeep_dims\\022\\004bool\\032\\002(\\000\\\"\\035\\n\\001T\\022\\004type:\\022\\n\\0202\\016\\001\\002\\t\\003\\004\\021\\005\\006\\010\\022\\013\\014\\r\\023\\\"\\030\\n\\004Tidx\\022\\004type\\032\\0020\\003:\\006\\n\\0042\\002\\003\\t\\n8\\n\\014MergeSummary\\022\\r\\n\\006inputs\\030\\007*\\001N\\032\\013\\n\\007summary\\030\\007\\\"\\014\\n\\001N\\022\\003int(\\0010\\001\\n<\\n\\003Mul\\022\\006\\n\\001x\\\"\\001T\\022\\006\\n\\001y\\\"\\001T\\032\\006\\n\\001z\\\"\\001T\\\"\\032\\n\\001T\\022\\004type:\\017\\n\\r2\\013\\023\\001\\002\\004\\006\\021\\005\\003\\t\\010\\022\\220\\001\\001\\n\\006\\n\\004NoOp\\nM\\n\\004Pack\\022\\016\\n\\006values\\\"\\001T*\\001N\\032\\013\\n\\006output\\\"\\001T\\\"\\014\\n\\001N\\022\\003int(\\0010\\001\\\"\\t\\n\\001T\\022\\004type\\\"\\017\\n\\004axis\\022\\003int\\032\\002\\030\\000\\nA\\n\\013Placeholder\\032\\017\\n\\006output\\\"\\005dtype\\\"\\r\\n\\005dtype\\022\\004type\\\"\\022\\n\\005shape\\022\\005shape\\032\\002:\\000\\n5\\n\\017PreventGradient\\022\\n\\n\\005input\\\"\\001T\\032\\013\\n\\006output\\\"\\001T\\\"\\t\\n\\001T\\022\\004type\\n\\212\\001\\n\\004Prod\\022\\n\\n\\005input\\\"\\001T\\022\\031\\n\\021reduction_indices\\\"\\004Tidx\\032\\013\\n\\006output\\\"\\001T\\\"\\025\\n\\tkeep_dims\\022\\004bool\\032\\002(\\000\\\"\\035\\n\\001T\\022\\004type:\\022\\n\\0202\\016\\001\\002\\t\\003\\004\\021\\005\\006\\010\\022\\013\\014\\r\\023\\\"\\030\\n\\004Tidx\\022\\004type\\032\\0020\\003:\\006\\n\\0042\\002\\003\\t\\n\\204\\001\\n\\024RandomStandardNormal\\022\\n\\n\\005shape\\\"\\001T\\032\\017\\n\\006output\\\"\\005dtype\\\"\\017\\n\\004seed\\022\\003int\\032\\002\\030\\000\\\"\\020\\n\\005seed2\\022\\003int\\032\\002\\030\\000\\\"\\026\\n\\005dtype\\022\\004type:\\007\\n\\0052\\003\\023\\001\\002\\\"\\021\\n\\001T\\022\\004type:\\006\\n\\0042\\002\\003\\t\\210\\001\\001\\n}\\n\\rRandomUniform\\022\\n\\n\\005shape\\\"\\001T\\032\\017\\n\\006output\\\"\\005dtype\\\"\\017\\n\\004seed\\022\\003int\\032\\002\\030\\000\\\"\\020\\n\\005seed2\\022\\003int\\032\\002\\030\\000\\\"\\026\\n\\005dtype\\022\\004type:\\007\\n\\0052\\003\\023\\001\\002\\\"\\021\\n\\001T\\022\\004type:\\006\\n\\0042\\002\\003\\t\\210\\001\\001\\n=\\n\\007RealDiv\\022\\006\\n\\001x\\\"\\001T\\022\\006\\n\\001y\\\"\\001T\\032\\006\\n\\001z\\\"\\001T\\\"\\032\\n\\001T\\022\\004type:\\017\\n\\r2\\013\\023\\001\\002\\004\\006\\021\\005\\003\\t\\010\\022\\nA\\n\\004Relu\\022\\r\\n\\010features\\\"\\001T\\032\\020\\n\\013activations\\\"\\001T\\\"\\030\\n\\001T\\022\\004type:\\r\\n\\0132\\t\\001\\002\\003\\t\\004\\005\\006\\021\\023\\nS\\n\\010ReluGrad\\022\\016\\n\\tgradients\\\"\\001T\\022\\r\\n\\010features\\\"\\001T\\032\\016\\n\\tbackprops\\\"\\001T\\\"\\030\\n\\001T\\022\\004type:\\r\\n\\0132\\t\\001\\002\\003\\t\\004\\005\\006\\021\\023\\n[\\n\\007Reshape\\022\\013\\n\\006tensor\\\"\\001T\\022\\017\\n\\005shape\\\"\\006Tshape\\032\\013\\n\\006output\\\"\\001T\\\"\\t\\n\\001T\\022\\004type\\\"\\032\\n\\006Tshape\\022\\004type\\032\\0020\\003:\\006\\n\\0042\\002\\003\\t\\nM\\n\\rScalarSummary\\022\\010\\n\\004tags\\030\\007\\022\\013\\n\\006values\\\"\\001T\\032\\013\\n\\007summary\\030\\007\\\"\\030\\n\\001T\\022\\004type:\\r\\n\\0132\\t\\001\\002\\003\\t\\004\\005\\006\\021\\023\\nP\\n\\005Shape\\022\\n\\n\\005input\\\"\\001T\\032\\022\\n\\006output\\\"\\010out_type\\\"\\t\\n\\001T\\022\\004type\\\"\\034\\n\\010out_type\\022\\004type\\032\\0020\\003:\\006\\n\\0042\\002\\003\\t\\na\\n\\005Slice\\022\\n\\n\\005input\\\"\\001T\\022\\016\\n\\005begin\\\"\\005Index\\022\\r\\n\\004size\\\"\\005Index\\032\\013\\n\\006output\\\"\\001T\\\"\\t\\n\\001T\\022\\004type\\\"\\025\\n\\005Index\\022\\004type:\\006\\n\\0042\\002\\003\\t\\ni\\n\\035SoftmaxCrossEntropyWithLogits\\022\\r\\n\\010features\\\"\\001T\\022\\013\\n\\006labels\\\"\\001T\\032\\t\\n\\004loss\\\"\\001T\\032\\r\\n\\010backprop\\\"\\001T\\\"\\022\\n\\001T\\022\\004type:\\007\\n\\0052\\003\\023\\001\\002\\n5\\n\\003Sub\\022\\006\\n\\001x\\\"\\001T\\022\\006\\n\\001y\\\"\\001T\\032\\006\\n\\001z\\\"\\001T\\\"\\026\\n\\001T\\022\\004type:\\013\\n\\t2\\007\\023\\001\\002\\003\\t\\010\\022\\n\\211\\001\\n\\003Sum\\022\\n\\n\\005input\\\"\\001T\\022\\031\\n\\021reduction_indices\\\"\\004Tidx\\032\\013\\n\\006output\\\"\\001T\\\"\\025\\n\\tkeep_dims\\022\\004bool\\032\\002(\\000\\\"\\035\\n\\001T\\022\\004type:\\022\\n\\0202\\016\\001\\002\\t\\003\\004\\021\\005\\006\\010\\022\\013\\014\\r\\023\\\"\\030\\n\\004Tidx\\022\\004type\\032\\0020\\003:\\006\\n\\0042\\002\\003\\t\\nc\\n\\004Tile\\022\\n\\n\\005input\\\"\\001T\\022\\027\\n\\tmultiples\\\"\\nTmultiples\\032\\013\\n\\006output\\\"\\001T\\\"\\t\\n\\001T\\022\\004type\\\"\\036\\n\\nTmultiples\\022\\004type\\032\\0020\\003:\\006\\n\\0042\\002\\003\\t\\ns\\n\\nVariableV2\\032\\017\\n\\003ref\\\"\\005dtype\\200\\001\\001\\\"\\016\\n\\005shape\\022\\005shape\\\"\\r\\n\\005dtype\\022\\004type\\\"\\027\\n\\tcontainer\\022\\006string\\032\\002\\022\\000\\\"\\031\\n\\013shared_name\\022\\006string\\032\\002\\022\\000\\210\\001\\001\\n&\\n\\tZerosLike\\022\\006\\n\\001x\\\"\\001T\\032\\006\\n\\001y\\\"\\001T\\\"\\t\\n\\001T\\022\\004type*\\0051.0.02\\034v1.0.0-rc2-15-g47bba63-dirty\\022\\256\\303\\001\\nd\\n\\021input/Placeholder\\022\\013Placeholder*(\\n\\016_output_shapes\\022\\026\\n\\024:\\022\\022\\013\\010\\377\\377\\377\\377\\377\\377\\377\\377\\377\\001\\022\\003\\010\\220\\006*\\013\\n\\005shape\\022\\002:\\000*\\013\\n\\005dtype\\022\\0020\\001\\ne\\n\\023input/Placeholder_1\\022\\013Placeholder*\\'\\n\\016_output_shapes\\022\\025\\n\\023:\\021\\022\\013\\010\\377\\377\\377\\377\\377\\377\\377\\377\\377\\001\\022\\002\\010\\n*\\013\\n\\005shape\\022\\002:\\000*\\013\\n\\005dtype\\022\\0020\\001\\nl\\n\\033weights/random_normal/shape\\022\\005Const*\\032\\n\\016_output_shapes\\022\\010\\n\\006:\\004\\022\\002\\010\\002*\\035\\n\\005value\\022\\024B\\022\\010\\003\\022\\004\\022\\002\\010\\002\\\"\\010\\020\\003\\000\\000\\000\\003\\000\\000*\\013\\n\\005dtype\\022\\0020\\003\\n_\\n\\032weights/random_normal/mean\\022\\005Const*\\026\\n\\016_output_shapes\\022\\004\\n\\002:\\000*\\025\\n\\005value\\022\\014B\\n\\010\\001\\022\\000*\\004\\000\\000\\000\\000*\\013\\n\\005dtype\\022\\0020\\001\\na\\n\\034weights/random_normal/stddev\\022\\005Const*\\026\\n\\016_output_shapes\\022\\004\\n\\002:\\000*\\025\\n\\005value\\022\\014B\\n\\010\\001\\022\\000*\\004\\000\\000\\200?*\\013\\n\\005dtype\\022\\0020\\001\\n\\260\\001\\n*weights/random_normal/RandomStandardNormal\\022\\024RandomStandardNormal\\032\\033weights/random_normal/shape* \\n\\016_output_shapes\\022\\016\\n\\014:\\n\\022\\003\\010\\220\\006\\022\\003\\010\\200\\006*\\007\\n\\001T\\022\\0020\\003*\\n\\n\\004seed\\022\\002\\030\\000*\\013\\n\\005seed2\\022\\002\\030\\000*\\013\\n\\005dtype\\022\\0020\\001\\n\\225\\001\\n\\031weights/random_normal/mul\\022\\003Mul\\032*weights/random_normal/RandomStandardNormal\\032\\034weights/random_normal/stddev* \\n\\016_output_shapes\\022\\016\\n\\014:\\n\\022\\003\\010\\220\\006\\022\\003\\010\\200\\006*\\007\\n\\001T\\022\\0020\\001\\n~\\n\\025weights/random_normal\\022\\003Add\\032\\031weights/random_normal/mul\\032\\032weights/random_normal/mean* \\n\\016_output_shapes\\022\\016\\n\\014:\\n\\022\\003\\010\\220\\006\\022\\003\\010\\200\\006*\\007\\n\\001T\\022\\0020\\001\\n\\210\\001\\n\\020weights/Variable\\022\\nVariableV2* \\n\\016_output_shapes\\022\\016\\n\\014:\\n\\022\\003\\010\\220\\006\\022\\003\\010\\200\\006*\\025\\n\\005shape\\022\\014:\\n\\022\\003\\010\\220\\006\\022\\003\\010\\200\\006*\\021\\n\\013shared_name\\022\\002\\022\\000*\\013\\n\\005dtype\\022\\0020\\001*\\017\\n\\tcontainer\\022\\002\\022\\000\\n\\303\\001\\n\\027weights/Variable/Assign\\022\\006Assign\\032\\020weights/Variable\\032\\025weights/random_normal* \\n\\016_output_shapes\\022\\016\\n\\014:\\n\\022\\003\\010\\220\\006\\022\\003\\010\\200\\006*#\\n\\006_class\\022\\031\\n\\027\\022\\025loc:@weights/Variable*\\007\\n\\001T\\022\\0020\\001*\\024\\n\\016validate_shape\\022\\002(\\001*\\021\\n\\013use_locking\\022\\002(\\001\\n\\203\\001\\n\\025weights/Variable/read\\022\\010Identity\\032\\020weights/Variable* \\n\\016_output_shapes\\022\\016\\n\\014:\\n\\022\\003\\010\\220\\006\\022\\003\\010\\200\\006*#\\n\\006_class\\022\\031\\n\\027\\022\\025loc:@weights/Variable*\\007\\n\\001T\\022\\0020\\001\\n[\\n\\014biases/Const\\022\\005Const*\\033\\n\\016_output_shapes\\022\\t\\n\\007:\\005\\022\\003\\010\\200\\006*\\032\\n\\005value\\022\\021B\\017\\010\\001\\022\\005\\022\\003\\010\\200\\006*\\004\\315\\314\\314=*\\013\\n\\005dtype\\022\\0020\\001\\n}\\n\\017biases/Variable\\022\\nVariableV2*\\033\\n\\016_output_shapes\\022\\t\\n\\007:\\005\\022\\003\\010\\200\\006*\\020\\n\\005shape\\022\\007:\\005\\022\\003\\010\\200\\006*\\021\\n\\013shared_name\\022\\002\\022\\000*\\013\\n\\005dtype\\022\\0020\\001*\\017\\n\\tcontainer\\022\\002\\022\\000\\n\\262\\001\\n\\026biases/Variable/Assign\\022\\006Assign\\032\\017biases/Variable\\032\\014biases/Const*\\033\\n\\016_output_shapes\\022\\t\\n\\007:\\005\\022\\003\\010\\200\\006*\\\"\\n\\006_class\\022\\030\\n\\026\\022\\024loc:@biases/Variable*\\007\\n\\001T\\022\\0020\\001*\\024\\n\\016validate_shape\\022\\002(\\001*\\021\\n\\013use_locking\\022\\002(\\001\\n{\\n\\024biases/Variable/read\\022\\010Identity\\032\\017biases/Variable*\\033\\n\\016_output_shapes\\022\\t\\n\\007:\\005\\022\\003\\010\\200\\006*\\\"\\n\\006_class\\022\\030\\n\\026\\022\\024loc:@biases/Variable*\\007\\n\\001T\\022\\0020\\001\\nt\\n#hidden_layer_wb/random_normal/shape\\022\\005Const*\\032\\n\\016_output_shapes\\022\\010\\n\\006:\\004\\022\\002\\010\\002*\\035\\n\\005value\\022\\024B\\022\\010\\003\\022\\004\\022\\002\\010\\002\\\"\\010\\000\\003\\000\\000\\n\\000\\000\\000*\\013\\n\\005dtype\\022\\0020\\003\\ng\\n\\\"hidden_layer_wb/random_normal/mean\\022\\005Const*\\026\\n\\016_output_shapes\\022\\004\\n\\002:\\000*\\025\\n\\005value\\022\\014B\\n\\010\\001\\022\\000*\\004\\000\\000\\000\\000*\\013\\n\\005dtype\\022\\0020\\001\\ni\\n$hidden_layer_wb/random_normal/stddev\\022\\005Const*\\026\\n\\016_output_shapes\\022\\004\\n\\002:\\000*\\025\\n\\005value\\022\\014B\\n\\010\\001\\022\\000*\\004\\000\\000\\200?*\\013\\n\\005dtype\\022\\0020\\001\\n\\277\\001\\n2hidden_layer_wb/random_normal/RandomStandardNormal\\022\\024RandomStandardNormal\\032#hidden_layer_wb/random_normal/shape*\\037\\n\\016_output_shapes\\022\\r\\n\\013:\\t\\022\\003\\010\\200\\006\\022\\002\\010\\n*\\007\\n\\001T\\022\\0020\\003*\\n\\n\\004seed\\022\\002\\030\\000*\\013\\n\\005seed2\\022\\002\\030\\000*\\013\\n\\005dtype\\022\\0020\\001\\n\\254\\001\\n!hidden_layer_wb/random_normal/mul\\022\\003Mul\\0322hidden_layer_wb/random_normal/RandomStandardNormal\\032$hidden_layer_wb/random_normal/stddev*\\037\\n\\016_output_shapes\\022\\r\\n\\013:\\t\\022\\003\\010\\200\\006\\022\\002\\010\\n*\\007\\n\\001T\\022\\0020\\001\\n\\225\\001\\n\\035hidden_layer_wb/random_normal\\022\\003Add\\032!hidden_layer_wb/random_normal/mul\\032\\\"hidden_layer_wb/random_normal/mean*\\037\\n\\016_output_shapes\\022\\r\\n\\013:\\t\\022\\003\\010\\200\\006\\022\\002\\010\\n*\\007\\n\\001T\\022\\0020\\001\\n\\216\\001\\n\\030hidden_layer_wb/Variable\\022\\nVariableV2*\\037\\n\\016_output_shapes\\022\\r\\n\\013:\\t\\022\\003\\010\\200\\006\\022\\002\\010\\n*\\024\\n\\005shape\\022\\013:\\t\\022\\003\\010\\200\\006\\022\\002\\010\\n*\\021\\n\\013shared_name\\022\\002\\022\\000*\\013\\n\\005dtype\\022\\0020\\001*\\017\\n\\tcontainer\\022\\002\\022\\000\\n\\342\\001\\n\\037hidden_layer_wb/Variable/Assign\\022\\006Assign\\032\\030hidden_layer_wb/Variable\\032\\035hidden_layer_wb/random_normal*\\037\\n\\016_output_shapes\\022\\r\\n\\013:\\t\\022\\003\\010\\200\\006\\022\\002\\010\\n*+\\n\\006_class\\022!\\n\\037\\022\\035loc:@hidden_layer_wb/Variable*\\007\\n\\001T\\022\\0020\\001*\\024\\n\\016validate_shape\\022\\002(\\001*\\021\\n\\013use_locking\\022\\002(\\001\\n\\232\\001\\n\\035hidden_layer_wb/Variable/read\\022\\010Identity\\032\\030hidden_layer_wb/Variable*\\037\\n\\016_output_shapes\\022\\r\\n\\013:\\t\\022\\003\\010\\200\\006\\022\\002\\010\\n*+\\n\\006_class\\022!\\n\\037\\022\\035loc:@hidden_layer_wb/Variable*\\007\\n\\001T\\022\\0020\\001\\nb\\n\\025hidden_layer_wb/Const\\022\\005Const*\\032\\n\\016_output_shapes\\022\\010\\n\\006:\\004\\022\\002\\010\\n*\\031\\n\\005value\\022\\020B\\016\\010\\001\\022\\004\\022\\002\\010\\n*\\004\\315\\314\\314=*\\013\\n\\005dtype\\022\\0020\\001\\n\\206\\001\\n\\032hidden_layer_wb/Variable_1\\022\\nVariableV2*\\032\\n\\016_output_shapes\\022\\010\\n\\006:\\004\\022\\002\\010\\n*\\017\\n\\005shape\\022\\006:\\004\\022\\002\\010\\n*\\021\\n\\013shared_name\\022\\002\\022\\000*\\013\\n\\005dtype\\022\\0020\\001*\\017\\n\\tcontainer\\022\\002\\022\\000\\n\\333\\001\\n!hidden_layer_wb/Variable_1/Assign\\022\\006Assign\\032\\032hidden_layer_wb/Variable_1\\032\\025hidden_layer_wb/Const*\\032\\n\\016_output_shapes\\022\\010\\n\\006:\\004\\022\\002\\010\\n*-\\n\\006_class\\022#\\n!\\022\\037loc:@hidden_layer_wb/Variable_1*\\007\\n\\001T\\022\\0020\\001*\\024\\n\\016validate_shape\\022\\002(\\001*\\021\\n\\013use_locking\\022\\002(\\001\\n\\233\\001\\n\\037hidden_layer_wb/Variable_1/read\\022\\010Identity\\032\\032hidden_layer_wb/Variable_1*\\032\\n\\016_output_shapes\\022\\010\\n\\006:\\004\\022\\002\\010\\n*-\\n\\006_class\\022#\\n!\\022\\037loc:@hidden_layer_wb/Variable_1*\\007\\n\\001T\\022\\0020\\001\\n\\244\\001\\n\\027hidden_layer_cau/MatMul\\022\\006MatMul\\032\\021input/Placeholder\\032\\025weights/Variable/read*(\\n\\016_output_shapes\\022\\026\\n\\024:\\022\\022\\013\\010\\377\\377\\377\\377\\377\\377\\377\\377\\377\\001\\022\\003\\010\\200\\006*\\007\\n\\001T\\022\\0020\\001*\\021\\n\\013transpose_a\\022\\002(\\000*\\021\\n\\013transpose_b\\022\\002(\\000\\n}\\n\\024hidden_layer_cau/add\\022\\003Add\\032\\027hidden_layer_cau/MatMul\\032\\024biases/Variable/read*(\\n\\016_output_shapes\\022\\026\\n\\024:\\022\\022\\013\\010\\377\\377\\377\\377\\377\\377\\377\\377\\377\\001\\022\\003\\010\\200\\006*\\007\\n\\001T\\022\\0020\\001\\ng\\n\\\"hidden_layer_cau/dropout/keep_prob\\022\\005Const*\\026\\n\\016_output_shapes\\022\\004\\n\\002:\\000*\\025\\n\\005value\\022\\014B\\n\\010\\001\\022\\000*\\004\\000\\000\\000?*\\013\\n\\005dtype\\022\\0020\\001\\nr\\n\\036hidden_layer_cau/dropout/Shape\\022\\005Shape\\032\\024hidden_layer_cau/add*\\016\\n\\010out_type\\022\\0020\\003*\\032\\n\\016_output_shapes\\022\\010\\n\\006:\\004\\022\\002\\010\\002*\\007\\n\\001T\\022\\0020\\001\\np\\n+hidden_layer_cau/dropout/random_uniform/min\\022\\005Const*\\026\\n\\016_output_shapes\\022\\004\\n\\002:\\000*\\025\\n\\005value\\022\\014B\\n\\010\\001\\022\\000*\\004\\000\\000\\000\\000*\\013\\n\\005dtype\\022\\0020\\001\\np\\n+hidden_layer_cau/dropout/random_uniform/max\\022\\005Const*\\026\\n\\016_output_shapes\\022\\004\\n\\002:\\000*\\025\\n\\005value\\022\\014B\\n\\010\\001\\022\\000*\\004\\000\\000\\200?*\\013\\n\\005dtype\\022\\0020\\001\\n\\277\\001\\n5hidden_layer_cau/dropout/random_uniform/RandomUniform\\022\\rRandomUniform\\032\\036hidden_layer_cau/dropout/Shape*(\\n\\016_output_shapes\\022\\026\\n\\024:\\022\\022\\013\\010\\377\\377\\377\\377\\377\\377\\377\\377\\377\\001\\022\\003\\010\\200\\006*\\007\\n\\001T\\022\\0020\\003*\\n\\n\\004seed\\022\\002\\030\\000*\\013\\n\\005seed2\\022\\002\\030\\000*\\013\\n\\005dtype\\022\\0020\\001\\n\\255\\001\\n+hidden_layer_cau/dropout/random_uniform/sub\\022\\003Sub\\032+hidden_layer_cau/dropout/random_uniform/max\\032+hidden_layer_cau/dropout/random_uniform/min*\\026\\n\\016_output_shapes\\022\\004\\n\\002:\\000*\\007\\n\\001T\\022\\0020\\001\\n\\311\\001\\n+hidden_layer_cau/dropout/random_uniform/mul\\022\\003Mul\\0325hidden_layer_cau/dropout/random_uniform/RandomUniform\\032+hidden_layer_cau/dropout/random_uniform/sub*(\\n\\016_output_shapes\\022\\026\\n\\024:\\022\\022\\013\\010\\377\\377\\377\\377\\377\\377\\377\\377\\377\\001\\022\\003\\010\\200\\006*\\007\\n\\001T\\022\\0020\\001\\n\\273\\001\\n\\'hidden_layer_cau/dropout/random_uniform\\022\\003Add\\032+hidden_layer_cau/dropout/random_uniform/mul\\032+hidden_layer_cau/dropout/random_uniform/min*(\\n\\016_output_shapes\\022\\026\\n\\024:\\022\\022\\013\\010\\377\\377\\377\\377\\377\\377\\377\\377\\377\\001\\022\\003\\010\\200\\006*\\007\\n\\001T\\022\\0020\\001\\n\\243\\001\\n\\034hidden_layer_cau/dropout/add\\022\\003Add\\032\\\"hidden_layer_cau/dropout/keep_prob\\032\\'hidden_layer_cau/dropout/random_uniform*(\\n\\016_output_shapes\\022\\026\\n\\024:\\022\\022\\013\\010\\377\\377\\377\\377\\377\\377\\377\\377\\377\\001\\022\\003\\010\\200\\006*\\007\\n\\001T\\022\\0020\\001\\nx\\n\\036hidden_layer_cau/dropout/Floor\\022\\005Floor\\032\\034hidden_layer_cau/dropout/add*(\\n\\016_output_shapes\\022\\026\\n\\024:\\022\\022\\013\\010\\377\\377\\377\\377\\377\\377\\377\\377\\377\\001\\022\\003\\010\\200\\006*\\007\\n\\001T\\022\\0020\\001\\n\\224\\001\\n\\034hidden_layer_cau/dropout/div\\022\\007RealDiv\\032\\024hidden_layer_cau/add\\032\\\"hidden_layer_cau/dropout/keep_prob*(\\n\\016_output_shapes\\022\\026\\n\\024:\\022\\022\\013\\010\\377\\377\\377\\377\\377\\377\\377\\377\\377\\001\\022\\003\\010\\200\\006*\\007\\n\\001T\\022\\0020\\001\\n\\224\\001\\n\\034hidden_layer_cau/dropout/mul\\022\\003Mul\\032\\034hidden_layer_cau/dropout/div\\032\\036hidden_layer_cau/dropout/Floor*(\\n\\016_output_shapes\\022\\026\\n\\024:\\022\\022\\013\\010\\377\\377\\377\\377\\377\\377\\377\\377\\377\\001\\022\\003\\010\\200\\006*\\007\\n\\001T\\022\\0020\\001\\nf\\n\\025hidden_layer_cau/Relu\\022\\004Relu\\032\\024hidden_layer_cau/add*(\\n\\016_output_shapes\\022\\026\\n\\024:\\022\\022\\013\\010\\377\\377\\377\\377\\377\\377\\377\\377\\377\\001\\022\\003\\010\\200\\006*\\007\\n\\001T\\022\\0020\\001\\n\\261\\001\\n\\031hidden_layer_cau/MatMul_1\\022\\006MatMul\\032\\025hidden_layer_cau/Relu\\032\\035hidden_layer_wb/Variable/read*\\'\\n\\016_output_shapes\\022\\025\\n\\023:\\021\\022\\013\\010\\377\\377\\377\\377\\377\\377\\377\\377\\377\\001\\022\\002\\010\\n*\\007\\n\\001T\\022\\0020\\001*\\021\\n\\013transpose_a\\022\\002(\\000*\\021\\n\\013transpose_b\\022\\002(\\000\\n\\213\\001\\n\\026hidden_layer_cau/add_1\\022\\003Add\\032\\031hidden_layer_cau/MatMul_1\\032\\037hidden_layer_wb/Variable_1/read*\\'\\n\\016_output_shapes\\022\\025\\n\\023:\\021\\022\\013\\010\\377\\377\\377\\377\\377\\377\\377\\377\\377\\001\\022\\002\\010\\n*\\007\\n\\001T\\022\\0020\\001\\nK\\n\\tcost/Rank\\022\\005Const*\\026\\n\\016_output_shapes\\022\\004\\n\\002:\\000*\\022\\n\\005value\\022\\tB\\007\\010\\003\\022\\000:\\001\\002*\\013\\n\\005dtype\\022\\0020\\003\\n`\\n\\ncost/Shape\\022\\005Shape\\032\\026hidden_layer_cau/add_1*\\016\\n\\010out_type\\022\\0020\\003*\\032\\n\\016_output_shapes\\022\\010\\n\\006:\\004\\022\\002\\010\\002*\\007\\n\\001T\\022\\0020\\001\\nM\\n\\013cost/Rank_1\\022\\005Const*\\026\\n\\016_output_shapes\\022\\004\\n\\002:\\000*\\022\\n\\005value\\022\\tB\\007\\010\\003\\022\\000:\\001\\002*\\013\\n\\005dtype\\022\\0020\\003\\nb\\n\\014cost/Shape_1\\022\\005Shape\\032\\026hidden_layer_cau/add_1*\\016\\n\\010out_type\\022\\0020\\003*\\032\\n\\016_output_shapes\\022\\010\\n\\006:\\004\\022\\002\\010\\002*\\007\\n\\001T\\022\\0020\\001\\nL\\n\\ncost/Sub/y\\022\\005Const*\\026\\n\\016_output_shapes\\022\\004\\n\\002:\\000*\\022\\n\\005value\\022\\tB\\007\\010\\003\\022\\000:\\001\\001*\\013\\n\\005dtype\\022\\0020\\003\\nI\\n\\010cost/Sub\\022\\003Sub\\032\\013cost/Rank_1\\032\\ncost/Sub/y*\\026\\n\\016_output_shapes\\022\\004\\n\\002:\\000*\\007\\n\\001T\\022\\0020\\003\\n\\\\\\n\\020cost/Slice/begin\\022\\004Pack\\032\\010cost/Sub*\\032\\n\\016_output_shapes\\022\\010\\n\\006:\\004\\022\\002\\010\\001*\\007\\n\\001N\\022\\002\\030\\001*\\007\\n\\001T\\022\\0020\\003*\\n\\n\\004axis\\022\\002\\030\\000\\nY\\n\\017cost/Slice/size\\022\\005Const*\\032\\n\\016_output_shapes\\022\\010\\n\\006:\\004\\022\\002\\010\\001*\\026\\n\\005value\\022\\rB\\013\\010\\003\\022\\004\\022\\002\\010\\001:\\001\\001*\\013\\n\\005dtype\\022\\0020\\003\\nv\\n\\ncost/Slice\\022\\005Slice\\032\\014cost/Shape_1\\032\\020cost/Slice/begin\\032\\017cost/Slice/size*\\032\\n\\016_output_shapes\\022\\010\\n\\006:\\004\\022\\002\\010\\001*\\007\\n\\001T\\022\\0020\\003*\\013\\n\\005Index\\022\\0020\\003\\ng\\n\\024cost/concat/values_0\\022\\005Const*\\032\\n\\016_output_shapes\\022\\010\\n\\006:\\004\\022\\002\\010\\001*\\037\\n\\005value\\022\\026B\\024\\010\\003\\022\\004\\022\\002\\010\\001:\\n\\377\\377\\377\\377\\377\\377\\377\\377\\377\\001*\\013\\n\\005dtype\\022\\0020\\003\\nR\\n\\020cost/concat/axis\\022\\005Const*\\026\\n\\016_output_shapes\\022\\004\\n\\002:\\000*\\022\\n\\005value\\022\\tB\\007\\010\\003\\022\\000:\\001\\000*\\013\\n\\005dtype\\022\\0020\\003\\n\\205\\001\\n\\013cost/concat\\022\\010ConcatV2\\032\\024cost/concat/values_0\\032\\ncost/Slice\\032\\020cost/concat/axis*\\032\\n\\016_output_shapes\\022\\010\\n\\006:\\004\\022\\002\\010\\002*\\007\\n\\001N\\022\\002\\030\\002*\\007\\n\\001T\\022\\0020\\003*\\n\\n\\004Tidx\\022\\0020\\003\\n\\205\\001\\n\\014cost/Reshape\\022\\007Reshape\\032\\026hidden_layer_cau/add_1\\032\\013cost/concat*\\014\\n\\006Tshape\\022\\0020\\003*0\\n\\016_output_shapes\\022\\036\\n\\034:\\032\\022\\013\\010\\377\\377\\377\\377\\377\\377\\377\\377\\377\\001\\022\\013\\010\\377\\377\\377\\377\\377\\377\\377\\377\\377\\001*\\007\\n\\001T\\022\\0020\\001\\nM\\n\\013cost/Rank_2\\022\\005Const*\\026\\n\\016_output_shapes\\022\\004\\n\\002:\\000*\\022\\n\\005value\\022\\tB\\007\\010\\003\\022\\000:\\001\\002*\\013\\n\\005dtype\\022\\0020\\003\\n_\\n\\014cost/Shape_2\\022\\005Shape\\032\\023input/Placeholder_1*\\016\\n\\010out_type\\022\\0020\\003*\\032\\n\\016_output_shapes\\022\\010\\n\\006:\\004\\022\\002\\010\\002*\\007\\n\\001T\\022\\0020\\001\\nN\\n\\014cost/Sub_1/y\\022\\005Const*\\026\\n\\016_output_shapes\\022\\004\\n\\002:\\000*\\022\\n\\005value\\022\\tB\\007\\010\\003\\022\\000:\\001\\001*\\013\\n\\005dtype\\022\\0020\\003\\nM\\n\\ncost/Sub_1\\022\\003Sub\\032\\013cost/Rank_2\\032\\014cost/Sub_1/y*\\026\\n\\016_output_shapes\\022\\004\\n\\002:\\000*\\007\\n\\001T\\022\\0020\\003\\n`\\n\\022cost/Slice_1/begin\\022\\004Pack\\032\\ncost/Sub_1*\\032\\n\\016_output_shapes\\022\\010\\n\\006:\\004\\022\\002\\010\\001*\\007\\n\\001N\\022\\002\\030\\001*\\007\\n\\001T\\022\\0020\\003*\\n\\n\\004axis\\022\\002\\030\\000\\n[\\n\\021cost/Slice_1/size\\022\\005Const*\\032\\n\\016_output_shapes\\022\\010\\n\\006:\\004\\022\\002\\010\\001*\\026\\n\\005value\\022\\rB\\013\\010\\003\\022\\004\\022\\002\\010\\001:\\001\\001*\\013\\n\\005dtype\\022\\0020\\003\\n|\\n\\014cost/Slice_1\\022\\005Slice\\032\\014cost/Shape_2\\032\\022cost/Slice_1/begin\\032\\021cost/Slice_1/size*\\032\\n\\016_output_shapes\\022\\010\\n\\006:\\004\\022\\002\\010\\001*\\007\\n\\001T\\022\\0020\\003*\\013\\n\\005Index\\022\\0020\\003\\ni\\n\\026cost/concat_1/values_0\\022\\005Const*\\032\\n\\016_output_shapes\\022\\010\\n\\006:\\004\\022\\002\\010\\001*\\037\\n\\005value\\022\\026B\\024\\010\\003\\022\\004\\022\\002\\010\\001:\\n\\377\\377\\377\\377\\377\\377\\377\\377\\377\\001*\\013\\n\\005dtype\\022\\0020\\003\\nT\\n\\022cost/concat_1/axis\\022\\005Const*\\026\\n\\016_output_shapes\\022\\004\\n\\002:\\000*\\022\\n\\005value\\022\\tB\\007\\010\\003\\022\\000:\\001\\000*\\013\\n\\005dtype\\022\\0020\\003\\n\\215\\001\\n\\rcost/concat_1\\022\\010ConcatV2\\032\\026cost/concat_1/values_0\\032\\014cost/Slice_1\\032\\022cost/concat_1/axis*\\032\\n\\016_output_shapes\\022\\010\\n\\006:\\004\\022\\002\\010\\002*\\007\\n\\001N\\022\\002\\030\\002*\\007\\n\\001T\\022\\0020\\003*\\n\\n\\004Tidx\\022\\0020\\003\\n\\206\\001\\n\\016cost/Reshape_1\\022\\007Reshape\\032\\023input/Placeholder_1\\032\\rcost/concat_1*\\014\\n\\006Tshape\\022\\0020\\003*0\\n\\016_output_shapes\\022\\036\\n\\034:\\032\\022\\013\\010\\377\\377\\377\\377\\377\\377\\377\\377\\377\\001\\022\\013\\010\\377\\377\\377\\377\\377\\377\\377\\377\\377\\001*\\007\\n\\001T\\022\\0020\\001\\n\\253\\001\\n\\\"cost/SoftmaxCrossEntropyWithLogits\\022\\035SoftmaxCrossEntropyWithLogits\\032\\014cost/Reshape\\032\\016cost/Reshape_1*?\\n\\016_output_shapes\\022-\\n+:\\r\\022\\013\\010\\377\\377\\377\\377\\377\\377\\377\\377\\377\\001:\\032\\022\\013\\010\\377\\377\\377\\377\\377\\377\\377\\377\\377\\001\\022\\013\\010\\377\\377\\377\\377\\377\\377\\377\\377\\377\\001*\\007\\n\\001T\\022\\0020\\001\\nN\\n\\014cost/Sub_2/y\\022\\005Const*\\026\\n\\016_output_shapes\\022\\004\\n\\002:\\000*\\022\\n\\005value\\022\\tB\\007\\010\\003\\022\\000:\\001\\001*\\013\\n\\005dtype\\022\\0020\\003\\nK\\n\\ncost/Sub_2\\022\\003Sub\\032\\tcost/Rank\\032\\014cost/Sub_2/y*\\026\\n\\016_output_shapes\\022\\004\\n\\002:\\000*\\007\\n\\001T\\022\\0020\\003\\n\\\\\\n\\022cost/Slice_2/begin\\022\\005Const*\\032\\n\\016_output_shapes\\022\\010\\n\\006:\\004\\022\\002\\010\\001*\\026\\n\\005value\\022\\rB\\013\\010\\003\\022\\004\\022\\002\\010\\001:\\001\\000*\\013\\n\\005dtype\\022\\0020\\003\\n_\\n\\021cost/Slice_2/size\\022\\004Pack\\032\\ncost/Sub_2*\\032\\n\\016_output_shapes\\022\\010\\n\\006:\\004\\022\\002\\010\\001*\\007\\n\\001N\\022\\002\\030\\001*\\007\\n\\001T\\022\\0020\\003*\\n\\n\\004axis\\022\\002\\030\\000\\n\\203\\001\\n\\014cost/Slice_2\\022\\005Slice\\032\\ncost/Shape\\032\\022cost/Slice_2/begin\\032\\021cost/Slice_2/size*#\\n\\016_output_shapes\\022\\021\\n\\017:\\r\\022\\013\\010\\377\\377\\377\\377\\377\\377\\377\\377\\377\\001*\\007\\n\\001T\\022\\0020\\003*\\013\\n\\005Index\\022\\0020\\003\\n\\207\\001\\n\\016cost/Reshape_2\\022\\007Reshape\\032\\\"cost/SoftmaxCrossEntropyWithLogits\\032\\014cost/Slice_2*\\014\\n\\006Tshape\\022\\0020\\003*#\\n\\016_output_shapes\\022\\021\\n\\017:\\r\\022\\013\\010\\377\\377\\377\\377\\377\\377\\377\\377\\377\\001*\\007\\n\\001T\\022\\0020\\001\\nT\\n\\ncost/Const\\022\\005Const*\\032\\n\\016_output_shapes\\022\\010\\n\\006:\\004\\022\\002\\010\\001*\\026\\n\\005value\\022\\rB\\013\\010\\003\\022\\004\\022\\002\\010\\001:\\001\\000*\\013\\n\\005dtype\\022\\0020\\003\\nk\\n\\tcost/Mean\\022\\004Mean\\032\\016cost/Reshape_2\\032\\ncost/Const*\\026\\n\\016_output_shapes\\022\\004\\n\\002:\\000*\\017\\n\\tkeep_dims\\022\\002(\\000*\\007\\n\\001T\\022\\0020\\001*\\n\\n\\004Tidx\\022\\0020\\003\\nX\\n\\025train/gradients/Shape\\022\\005Const*\\030\\n\\016_output_shapes\\022\\006\\n\\004:\\002\\022\\000*\\021\\n\\005value\\022\\010B\\006\\010\\003\\022\\002\\022\\000*\\013\\n\\005dtype\\022\\0020\\003\\nZ\\n\\025train/gradients/Const\\022\\005Const*\\026\\n\\016_output_shapes\\022\\004\\n\\002:\\000*\\025\\n\\005value\\022\\014B\\n\\010\\001\\022\\000*\\004\\000\\000\\200?*\\013\\n\\005dtype\\022\\0020\\001\\nk\\n\\024train/gradients/Fill\\022\\004Fill\\032\\025train/gradients/Shape\\032\\025train/gradients/Const*\\026\\n\\016_output_shapes\\022\\004\\n\\002:\\000*\\007\\n\\001T\\022\\0020\\001\\nv\\n,train/gradients/cost/Mean_grad/Reshape/shape\\022\\005Const*\\032\\n\\016_output_shapes\\022\\010\\n\\006:\\004\\022\\002\\010\\001*\\026\\n\\005value\\022\\rB\\013\\010\\003\\022\\004\\022\\002\\010\\001:\\001\\001*\\013\\n\\005dtype\\022\\0020\\003\\n\\250\\001\\n&train/gradients/cost/Mean_grad/Reshape\\022\\007Reshape\\032\\024train/gradients/Fill\\032,train/gradients/cost/Mean_grad/Reshape/shape*\\014\\n\\006Tshape\\022\\0020\\003*\\032\\n\\016_output_shapes\\022\\010\\n\\006:\\004\\022\\002\\010\\001*\\007\\n\\001T\\022\\0020\\001\\nr\\n$train/gradients/cost/Mean_grad/Shape\\022\\005Shape\\032\\016cost/Reshape_2*\\016\\n\\010out_type\\022\\0020\\003*\\032\\n\\016_output_shapes\\022\\010\\n\\006:\\004\\022\\002\\010\\001*\\007\\n\\001T\\022\\0020\\001\\n\\271\\001\\n#train/gradients/cost/Mean_grad/Tile\\022\\004Tile\\032&train/gradients/cost/Mean_grad/Reshape\\032$train/gradients/cost/Mean_grad/Shape*#\\n\\016_output_shapes\\022\\021\\n\\017:\\r\\022\\013\\010\\377\\377\\377\\377\\377\\377\\377\\377\\377\\001*\\007\\n\\001T\\022\\0020\\001*\\020\\n\\nTmultiples\\022\\0020\\003\\nt\\n&train/gradients/cost/Mean_grad/Shape_1\\022\\005Shape\\032\\016cost/Reshape_2*\\016\\n\\010out_type\\022\\0020\\003*\\032\\n\\016_output_shapes\\022\\010\\n\\006:\\004\\022\\002\\010\\001*\\007\\n\\001T\\022\\0020\\001\\ni\\n&train/gradients/cost/Mean_grad/Shape_2\\022\\005Const*\\030\\n\\016_output_shapes\\022\\006\\n\\004:\\002\\022\\000*\\021\\n\\005value\\022\\010B\\006\\010\\003\\022\\002\\022\\000*\\013\\n\\005dtype\\022\\0020\\003\\nn\\n$train/gradients/cost/Mean_grad/Const\\022\\005Const*\\032\\n\\016_output_shapes\\022\\010\\n\\006:\\004\\022\\002\\010\\001*\\026\\n\\005value\\022\\rB\\013\\010\\003\\022\\004\\022\\002\\010\\001:\\001\\000*\\013\\n\\005dtype\\022\\0020\\003\\n\\267\\001\\n#train/gradients/cost/Mean_grad/Prod\\022\\004Prod\\032&train/gradients/cost/Mean_grad/Shape_1\\032$train/gradients/cost/Mean_grad/Const*\\026\\n\\016_output_shapes\\022\\004\\n\\002:\\000*\\017\\n\\tkeep_dims\\022\\002(\\000*\\007\\n\\001T\\022\\0020\\003*\\n\\n\\004Tidx\\022\\0020\\003\\np\\n&train/gradients/cost/Mean_grad/Const_1\\022\\005Const*\\032\\n\\016_output_shapes\\022\\010\\n\\006:\\004\\022\\002\\010\\001*\\026\\n\\005value\\022\\rB\\013\\010\\003\\022\\004\\022\\002\\010\\001:\\001\\000*\\013\\n\\005dtype\\022\\0020\\003\\n\\273\\001\\n%train/gradients/cost/Mean_grad/Prod_1\\022\\004Prod\\032&train/gradients/cost/Mean_grad/Shape_2\\032&train/gradients/cost/Mean_grad/Const_1*\\026\\n\\016_output_shapes\\022\\004\\n\\002:\\000*\\017\\n\\tkeep_dims\\022\\002(\\000*\\007\\n\\001T\\022\\0020\\003*\\n\\n\\004Tidx\\022\\0020\\003\\nj\\n(train/gradients/cost/Mean_grad/Maximum/y\\022\\005Const*\\026\\n\\016_output_shapes\\022\\004\\n\\002:\\000*\\022\\n\\005value\\022\\tB\\007\\010\\003\\022\\000:\\001\\001*\\013\\n\\005dtype\\022\\0020\\003\\n\\243\\001\\n&train/gradients/cost/Mean_grad/Maximum\\022\\007Maximum\\032%train/gradients/cost/Mean_grad/Prod_1\\032(train/gradients/cost/Mean_grad/Maximum/y*\\026\\n\\016_output_shapes\\022\\004\\n\\002:\\000*\\007\\n\\001T\\022\\0020\\003\\n\\241\\001\\n\\'train/gradients/cost/Mean_grad/floordiv\\022\\010FloorDiv\\032#train/gradients/cost/Mean_grad/Prod\\032&train/gradients/cost/Mean_grad/Maximum*\\026\\n\\016_output_shapes\\022\\004\\n\\002:\\000*\\007\\n\\001T\\022\\0020\\003\\n\\204\\001\\n#train/gradients/cost/Mean_grad/Cast\\022\\004Cast\\032\\'train/gradients/cost/Mean_grad/floordiv*\\n\\n\\004SrcT\\022\\0020\\003*\\026\\n\\016_output_shapes\\022\\004\\n\\002:\\000*\\n\\n\\004DstT\\022\\0020\\001\\n\\251\\001\\n&train/gradients/cost/Mean_grad/truediv\\022\\007RealDiv\\032#train/gradients/cost/Mean_grad/Tile\\032#train/gradients/cost/Mean_grad/Cast*#\\n\\016_output_shapes\\022\\021\\n\\017:\\r\\022\\013\\010\\377\\377\\377\\377\\377\\377\\377\\377\\377\\001*\\007\\n\\001T\\022\\0020\\001\\n\\213\\001\\n)train/gradients/cost/Reshape_2_grad/Shape\\022\\005Shape\\032\\\"cost/SoftmaxCrossEntropyWithLogits*\\016\\n\\010out_type\\022\\0020\\003*\\032\\n\\016_output_shapes\\022\\010\\n\\006:\\004\\022\\002\\010\\001*\\007\\n\\001T\\022\\0020\\001\\n\\305\\001\\n+train/gradients/cost/Reshape_2_grad/Reshape\\022\\007Reshape\\032&train/gradients/cost/Mean_grad/truediv\\032)train/gradients/cost/Reshape_2_grad/Shape*\\014\\n\\006Tshape\\022\\0020\\003*#\\n\\016_output_shapes\\022\\021\\n\\017:\\r\\022\\013\\010\\377\\377\\377\\377\\377\\377\\377\\377\\377\\001*\\007\\n\\001T\\022\\0020\\001\\n\\210\\001\\n\\032train/gradients/zeros_like\\022\\tZerosLike\\032$cost/SoftmaxCrossEntropyWithLogits:1*0\\n\\016_output_shapes\\022\\036\\n\\034:\\032\\022\\013\\010\\377\\377\\377\\377\\377\\377\\377\\377\\377\\001\\022\\013\\010\\377\\377\\377\\377\\377\\377\\377\\377\\377\\001*\\007\\n\\001T\\022\\0020\\001\\n\\273\\001\\nGtrain/gradients/cost/SoftmaxCrossEntropyWithLogits_grad/PreventGradient\\022\\017PreventGradient\\032$cost/SoftmaxCrossEntropyWithLogits:1*0\\n\\016_output_shapes\\022\\036\\n\\034:\\032\\022\\013\\010\\377\\377\\377\\377\\377\\377\\377\\377\\377\\001\\022\\013\\010\\377\\377\\377\\377\\377\\377\\377\\377\\377\\001*\\007\\n\\001T\\022\\0020\\001\\n\\221\\001\\nFtrain/gradients/cost/SoftmaxCrossEntropyWithLogits_grad/ExpandDims/dim\\022\\005Const*\\026\\n\\016_output_shapes\\022\\004\\n\\002:\\000*\\033\\n\\005value\\022\\022B\\020\\010\\003\\022\\000:\\n\\377\\377\\377\\377\\377\\377\\377\\377\\377\\001*\\013\\n\\005dtype\\022\\0020\\003\\n\\203\\002\\nBtrain/gradients/cost/SoftmaxCrossEntropyWithLogits_grad/ExpandDims\\022\\nExpandDims\\032+train/gradients/cost/Reshape_2_grad/Reshape\\032Ftrain/gradients/cost/SoftmaxCrossEntropyWithLogits_grad/ExpandDims/dim*\\n\\n\\004Tdim\\022\\0020\\003*\\'\\n\\016_output_shapes\\022\\025\\n\\023:\\021\\022\\013\\010\\377\\377\\377\\377\\377\\377\\377\\377\\377\\001\\022\\002\\010\\001*\\007\\n\\001T\\022\\0020\\001\\n\\212\\002\\n;train/gradients/cost/SoftmaxCrossEntropyWithLogits_grad/mul\\022\\003Mul\\032Btrain/gradients/cost/SoftmaxCrossEntropyWithLogits_grad/ExpandDims\\032Gtrain/gradients/cost/SoftmaxCrossEntropyWithLogits_grad/PreventGradient*0\\n\\016_output_shapes\\022\\036\\n\\034:\\032\\022\\013\\010\\377\\377\\377\\377\\377\\377\\377\\377\\377\\001\\022\\013\\010\\377\\377\\377\\377\\377\\377\\377\\377\\377\\001*\\007\\n\\001T\\022\\0020\\001\\n}\\n\\'train/gradients/cost/Reshape_grad/Shape\\022\\005Shape\\032\\026hidden_layer_cau/add_1*\\016\\n\\010out_type\\022\\0020\\003*\\032\\n\\016_output_shapes\\022\\010\\n\\006:\\004\\022\\002\\010\\002*\\007\\n\\001T\\022\\0020\\001\\n\\332\\001\\n)train/gradients/cost/Reshape_grad/Reshape\\022\\007Reshape\\032;train/gradients/cost/SoftmaxCrossEntropyWithLogits_grad/mul\\032\\'train/gradients/cost/Reshape_grad/Shape*\\014\\n\\006Tshape\\022\\0020\\003*\\'\\n\\016_output_shapes\\022\\025\\n\\023:\\021\\022\\013\\010\\377\\377\\377\\377\\377\\377\\377\\377\\377\\001\\022\\002\\010\\n*\\007\\n\\001T\\022\\0020\\001\\n\\212\\001\\n1train/gradients/hidden_layer_cau/add_1_grad/Shape\\022\\005Shape\\032\\031hidden_layer_cau/MatMul_1*\\016\\n\\010out_type\\022\\0020\\003*\\032\\n\\016_output_shapes\\022\\010\\n\\006:\\004\\022\\002\\010\\002*\\007\\n\\001T\\022\\0020\\001\\n}\\n3train/gradients/hidden_layer_cau/add_1_grad/Shape_1\\022\\005Const*\\032\\n\\016_output_shapes\\022\\010\\n\\006:\\004\\022\\002\\010\\001*\\026\\n\\005value\\022\\rB\\013\\010\\003\\022\\004\\022\\002\\010\\001:\\001\\n*\\013\\n\\005dtype\\022\\0020\\003\\n\\377\\001\\nAtrain/gradients/hidden_layer_cau/add_1_grad/BroadcastGradientArgs\\022\\025BroadcastGradientArgs\\0321train/gradients/hidden_layer_cau/add_1_grad/Shape\\0323train/gradients/hidden_layer_cau/add_1_grad/Shape_1*2\\n\\016_output_shapes\\022 \\n\\036:\\r\\022\\013\\010\\377\\377\\377\\377\\377\\377\\377\\377\\377\\001:\\r\\022\\013\\010\\377\\377\\377\\377\\377\\377\\377\\377\\377\\001*\\007\\n\\001T\\022\\0020\\003\\n\\344\\001\\n/train/gradients/hidden_layer_cau/add_1_grad/Sum\\022\\003Sum\\032)train/gradients/cost/Reshape_grad/Reshape\\032Atrain/gradients/hidden_layer_cau/add_1_grad/BroadcastGradientArgs*\\030\\n\\016_output_shapes\\022\\006\\n\\004:\\002\\030\\001*\\017\\n\\tkeep_dims\\022\\002(\\000*\\007\\n\\001T\\022\\0020\\001*\\n\\n\\004Tidx\\022\\0020\\003\\n\\342\\001\\n3train/gradients/hidden_layer_cau/add_1_grad/Reshape\\022\\007Reshape\\032/train/gradients/hidden_layer_cau/add_1_grad/Sum\\0321train/gradients/hidden_layer_cau/add_1_grad/Shape*\\014\\n\\006Tshape\\022\\0020\\003*\\'\\n\\016_output_shapes\\022\\025\\n\\023:\\021\\022\\013\\010\\377\\377\\377\\377\\377\\377\\377\\377\\377\\001\\022\\002\\010\\n*\\007\\n\\001T\\022\\0020\\001\\n\\350\\001\\n1train/gradients/hidden_layer_cau/add_1_grad/Sum_1\\022\\003Sum\\032)train/gradients/cost/Reshape_grad/Reshape\\032Ctrain/gradients/hidden_layer_cau/add_1_grad/BroadcastGradientArgs:1*\\030\\n\\016_output_shapes\\022\\006\\n\\004:\\002\\030\\001*\\017\\n\\tkeep_dims\\022\\002(\\000*\\007\\n\\001T\\022\\0020\\001*\\n\\n\\004Tidx\\022\\0020\\003\\n\\333\\001\\n5train/gradients/hidden_layer_cau/add_1_grad/Reshape_1\\022\\007Reshape\\0321train/gradients/hidden_layer_cau/add_1_grad/Sum_1\\0323train/gradients/hidden_layer_cau/add_1_grad/Shape_1*\\014\\n\\006Tshape\\022\\0020\\003*\\032\\n\\016_output_shapes\\022\\010\\n\\006:\\004\\022\\002\\010\\n*\\007\\n\\001T\\022\\0020\\001\\n\\262\\001\\n<train/gradients/hidden_layer_cau/add_1_grad/tuple/group_deps\\022\\004NoOp\\0324^train/gradients/hidden_layer_cau/add_1_grad/Reshape\\0326^train/gradients/hidden_layer_cau/add_1_grad/Reshape_1\\n\\276\\002\\nDtrain/gradients/hidden_layer_cau/add_1_grad/tuple/control_dependency\\022\\010Identity\\0323train/gradients/hidden_layer_cau/add_1_grad/Reshape\\032=^train/gradients/hidden_layer_cau/add_1_grad/tuple/group_deps*\\'\\n\\016_output_shapes\\022\\025\\n\\023:\\021\\022\\013\\010\\377\\377\\377\\377\\377\\377\\377\\377\\377\\001\\022\\002\\010\\n*F\\n\\006_class\\022<\\n:\\0228loc:@train/gradients/hidden_layer_cau/add_1_grad/Reshape*\\007\\n\\001T\\022\\0020\\001\\n\\267\\002\\nFtrain/gradients/hidden_layer_cau/add_1_grad/tuple/control_dependency_1\\022\\010Identity\\0325train/gradients/hidden_layer_cau/add_1_grad/Reshape_1\\032=^train/gradients/hidden_layer_cau/add_1_grad/tuple/group_deps*\\032\\n\\016_output_shapes\\022\\010\\n\\006:\\004\\022\\002\\010\\n*H\\n\\006_class\\022>\\n<\\022:loc:@train/gradients/hidden_layer_cau/add_1_grad/Reshape_1*\\007\\n\\001T\\022\\0020\\001\\n\\375\\001\\n5train/gradients/hidden_layer_cau/MatMul_1_grad/MatMul\\022\\006MatMul\\032Dtrain/gradients/hidden_layer_cau/add_1_grad/tuple/control_dependency\\032\\035hidden_layer_wb/Variable/read*(\\n\\016_output_shapes\\022\\026\\n\\024:\\022\\022\\013\\010\\377\\377\\377\\377\\377\\377\\377\\377\\377\\001\\022\\003\\010\\200\\006*\\007\\n\\001T\\022\\0020\\001*\\021\\n\\013transpose_a\\022\\002(\\000*\\021\\n\\013transpose_b\\022\\002(\\001\\n\\356\\001\\n7train/gradients/hidden_layer_cau/MatMul_1_grad/MatMul_1\\022\\006MatMul\\032\\025hidden_layer_cau/Relu\\032Dtrain/gradients/hidden_layer_cau/add_1_grad/tuple/control_dependency*\\037\\n\\016_output_shapes\\022\\r\\n\\013:\\t\\022\\003\\010\\200\\006\\022\\002\\010\\n*\\007\\n\\001T\\022\\0020\\001*\\021\\n\\013transpose_a\\022\\002(\\001*\\021\\n\\013transpose_b\\022\\002(\\000\\n\\271\\001\\n?train/gradients/hidden_layer_cau/MatMul_1_grad/tuple/group_deps\\022\\004NoOp\\0326^train/gradients/hidden_layer_cau/MatMul_1_grad/MatMul\\0328^train/gradients/hidden_layer_cau/MatMul_1_grad/MatMul_1\\n\\311\\002\\nGtrain/gradients/hidden_layer_cau/MatMul_1_grad/tuple/control_dependency\\022\\010Identity\\0325train/gradients/hidden_layer_cau/MatMul_1_grad/MatMul\\032@^train/gradients/hidden_layer_cau/MatMul_1_grad/tuple/group_deps*(\\n\\016_output_shapes\\022\\026\\n\\024:\\022\\022\\013\\010\\377\\377\\377\\377\\377\\377\\377\\377\\377\\001\\022\\003\\010\\200\\006*H\\n\\006_class\\022>\\n<\\022:loc:@train/gradients/hidden_layer_cau/MatMul_1_grad/MatMul*\\007\\n\\001T\\022\\0020\\001\\n\\306\\002\\nItrain/gradients/hidden_layer_cau/MatMul_1_grad/tuple/control_dependency_1\\022\\010Identity\\0327train/gradients/hidden_layer_cau/MatMul_1_grad/MatMul_1\\032@^train/gradients/hidden_layer_cau/MatMul_1_grad/tuple/group_deps*\\037\\n\\016_output_shapes\\022\\r\\n\\013:\\t\\022\\003\\010\\200\\006\\022\\002\\010\\n*J\\n\\006_class\\022@\\n>\\022<loc:@train/gradients/hidden_layer_cau/MatMul_1_grad/MatMul_1*\\007\\n\\001T\\022\\0020\\001\\n\\322\\001\\n3train/gradients/hidden_layer_cau/Relu_grad/ReluGrad\\022\\010ReluGrad\\032Gtrain/gradients/hidden_layer_cau/MatMul_1_grad/tuple/control_dependency\\032\\025hidden_layer_cau/Relu*(\\n\\016_output_shapes\\022\\026\\n\\024:\\022\\022\\013\\010\\377\\377\\377\\377\\377\\377\\377\\377\\377\\001\\022\\003\\010\\200\\006*\\007\\n\\001T\\022\\0020\\001\\n\\206\\001\\n/train/gradients/hidden_layer_cau/add_grad/Shape\\022\\005Shape\\032\\027hidden_layer_cau/MatMul*\\016\\n\\010out_type\\022\\0020\\003*\\032\\n\\016_output_shapes\\022\\010\\n\\006:\\004\\022\\002\\010\\002*\\007\\n\\001T\\022\\0020\\001\\n|\\n1train/gradients/hidden_layer_cau/add_grad/Shape_1\\022\\005Const*\\032\\n\\016_output_shapes\\022\\010\\n\\006:\\004\\022\\002\\010\\001*\\027\\n\\005value\\022\\016B\\014\\010\\003\\022\\004\\022\\002\\010\\001:\\002\\200\\006*\\013\\n\\005dtype\\022\\0020\\003\\n\\371\\001\\n?train/gradients/hidden_layer_cau/add_grad/BroadcastGradientArgs\\022\\025BroadcastGradientArgs\\032/train/gradients/hidden_layer_cau/add_grad/Shape\\0321train/gradients/hidden_layer_cau/add_grad/Shape_1*2\\n\\016_output_shapes\\022 \\n\\036:\\r\\022\\013\\010\\377\\377\\377\\377\\377\\377\\377\\377\\377\\001:\\r\\022\\013\\010\\377\\377\\377\\377\\377\\377\\377\\377\\377\\001*\\007\\n\\001T\\022\\0020\\003\\n\\352\\001\\n-train/gradients/hidden_layer_cau/add_grad/Sum\\022\\003Sum\\0323train/gradients/hidden_layer_cau/Relu_grad/ReluGrad\\032?train/gradients/hidden_layer_cau/add_grad/BroadcastGradientArgs*\\030\\n\\016_output_shapes\\022\\006\\n\\004:\\002\\030\\001*\\017\\n\\tkeep_dims\\022\\002(\\000*\\007\\n\\001T\\022\\0020\\001*\\n\\n\\004Tidx\\022\\0020\\003\\n\\335\\001\\n1train/gradients/hidden_layer_cau/add_grad/Reshape\\022\\007Reshape\\032-train/gradients/hidden_layer_cau/add_grad/Sum\\032/train/gradients/hidden_layer_cau/add_grad/Shape*\\014\\n\\006Tshape\\022\\0020\\003*(\\n\\016_output_shapes\\022\\026\\n\\024:\\022\\022\\013\\010\\377\\377\\377\\377\\377\\377\\377\\377\\377\\001\\022\\003\\010\\200\\006*\\007\\n\\001T\\022\\0020\\001\\n\\356\\001\\n/train/gradients/hidden_layer_cau/add_grad/Sum_1\\022\\003Sum\\0323train/gradients/hidden_layer_cau/Relu_grad/ReluGrad\\032Atrain/gradients/hidden_layer_cau/add_grad/BroadcastGradientArgs:1*\\030\\n\\016_output_shapes\\022\\006\\n\\004:\\002\\030\\001*\\017\\n\\tkeep_dims\\022\\002(\\000*\\007\\n\\001T\\022\\0020\\001*\\n\\n\\004Tidx\\022\\0020\\003\\n\\326\\001\\n3train/gradients/hidden_layer_cau/add_grad/Reshape_1\\022\\007Reshape\\032/train/gradients/hidden_layer_cau/add_grad/Sum_1\\0321train/gradients/hidden_layer_cau/add_grad/Shape_1*\\014\\n\\006Tshape\\022\\0020\\003*\\033\\n\\016_output_shapes\\022\\t\\n\\007:\\005\\022\\003\\010\\200\\006*\\007\\n\\001T\\022\\0020\\001\\n\\254\\001\\n:train/gradients/hidden_layer_cau/add_grad/tuple/group_deps\\022\\004NoOp\\0322^train/gradients/hidden_layer_cau/add_grad/Reshape\\0324^train/gradients/hidden_layer_cau/add_grad/Reshape_1\\n\\267\\002\\nBtrain/gradients/hidden_layer_cau/add_grad/tuple/control_dependency\\022\\010Identity\\0321train/gradients/hidden_layer_cau/add_grad/Reshape\\032;^train/gradients/hidden_layer_cau/add_grad/tuple/group_deps*(\\n\\016_output_shapes\\022\\026\\n\\024:\\022\\022\\013\\010\\377\\377\\377\\377\\377\\377\\377\\377\\377\\001\\022\\003\\010\\200\\006*D\\n\\006_class\\022:\\n8\\0226loc:@train/gradients/hidden_layer_cau/add_grad/Reshape*\\007\\n\\001T\\022\\0020\\001\\n\\260\\002\\nDtrain/gradients/hidden_layer_cau/add_grad/tuple/control_dependency_1\\022\\010Identity\\0323train/gradients/hidden_layer_cau/add_grad/Reshape_1\\032;^train/gradients/hidden_layer_cau/add_grad/tuple/group_deps*\\033\\n\\016_output_shapes\\022\\t\\n\\007:\\005\\022\\003\\010\\200\\006*F\\n\\006_class\\022<\\n:\\0228loc:@train/gradients/hidden_layer_cau/add_grad/Reshape_1*\\007\\n\\001T\\022\\0020\\001\\n\\361\\001\\n3train/gradients/hidden_layer_cau/MatMul_grad/MatMul\\022\\006MatMul\\032Btrain/gradients/hidden_layer_cau/add_grad/tuple/control_dependency\\032\\025weights/Variable/read*(\\n\\016_output_shapes\\022\\026\\n\\024:\\022\\022\\013\\010\\377\\377\\377\\377\\377\\377\\377\\377\\377\\001\\022\\003\\010\\220\\006*\\007\\n\\001T\\022\\0020\\001*\\021\\n\\013transpose_a\\022\\002(\\000*\\021\\n\\013transpose_b\\022\\002(\\001\\n\\347\\001\\n5train/gradients/hidden_layer_cau/MatMul_grad/MatMul_1\\022\\006MatMul\\032\\021input/Placeholder\\032Btrain/gradients/hidden_layer_cau/add_grad/tuple/control_dependency* \\n\\016_output_shapes\\022\\016\\n\\014:\\n\\022\\003\\010\\220\\006\\022\\003\\010\\200\\006*\\007\\n\\001T\\022\\0020\\001*\\021\\n\\013transpose_a\\022\\002(\\001*\\021\\n\\013transpose_b\\022\\002(\\000\\n\\263\\001\\n=train/gradients/hidden_layer_cau/MatMul_grad/tuple/group_deps\\022\\004NoOp\\0324^train/gradients/hidden_layer_cau/MatMul_grad/MatMul\\0326^train/gradients/hidden_layer_cau/MatMul_grad/MatMul_1\\n\\301\\002\\nEtrain/gradients/hidden_layer_cau/MatMul_grad/tuple/control_dependency\\022\\010Identity\\0323train/gradients/hidden_layer_cau/MatMul_grad/MatMul\\032>^train/gradients/hidden_layer_cau/MatMul_grad/tuple/group_deps*(\\n\\016_output_shapes\\022\\026\\n\\024:\\022\\022\\013\\010\\377\\377\\377\\377\\377\\377\\377\\377\\377\\001\\022\\003\\010\\220\\006*F\\n\\006_class\\022<\\n:\\0228loc:@train/gradients/hidden_layer_cau/MatMul_grad/MatMul*\\007\\n\\001T\\022\\0020\\001\\n\\277\\002\\nGtrain/gradients/hidden_layer_cau/MatMul_grad/tuple/control_dependency_1\\022\\010Identity\\0325train/gradients/hidden_layer_cau/MatMul_grad/MatMul_1\\032>^train/gradients/hidden_layer_cau/MatMul_grad/tuple/group_deps* \\n\\016_output_shapes\\022\\016\\n\\014:\\n\\022\\003\\010\\220\\006\\022\\003\\010\\200\\006*H\\n\\006_class\\022>\\n<\\022:loc:@train/gradients/hidden_layer_cau/MatMul_grad/MatMul_1*\\007\\n\\001T\\022\\0020\\001\\nh\\n#train/GradientDescent/learning_rate\\022\\005Const*\\026\\n\\016_output_shapes\\022\\004\\n\\002:\\000*\\025\\n\\005value\\022\\014B\\n\\010\\001\\022\\000*\\004\\315\\314\\314>*\\013\\n\\005dtype\\022\\0020\\001\\n\\275\\002\\nBtrain/GradientDescent/update_weights/Variable/ApplyGradientDescent\\022\\024ApplyGradientDescent\\032\\020weights/Variable\\032#train/GradientDescent/learning_rate\\032Gtrain/gradients/hidden_layer_cau/MatMul_grad/tuple/control_dependency_1* \\n\\016_output_shapes\\022\\016\\n\\014:\\n\\022\\003\\010\\220\\006\\022\\003\\010\\200\\006*#\\n\\006_class\\022\\031\\n\\027\\022\\025loc:@weights/Variable*\\007\\n\\001T\\022\\0020\\001*\\021\\n\\013use_locking\\022\\002(\\000\\n\\262\\002\\nAtrain/GradientDescent/update_biases/Variable/ApplyGradientDescent\\022\\024ApplyGradientDescent\\032\\017biases/Variable\\032#train/GradientDescent/learning_rate\\032Dtrain/gradients/hidden_layer_cau/add_grad/tuple/control_dependency_1*\\033\\n\\016_output_shapes\\022\\t\\n\\007:\\005\\022\\003\\010\\200\\006*\\\"\\n\\006_class\\022\\030\\n\\026\\022\\024loc:@biases/Variable*\\007\\n\\001T\\022\\0020\\001*\\021\\n\\013use_locking\\022\\002(\\000\\n\\326\\002\\nJtrain/GradientDescent/update_hidden_layer_wb/Variable/ApplyGradientDescent\\022\\024ApplyGradientDescent\\032\\030hidden_layer_wb/Variable\\032#train/GradientDescent/learning_rate\\032Itrain/gradients/hidden_layer_cau/MatMul_1_grad/tuple/control_dependency_1*\\037\\n\\016_output_shapes\\022\\r\\n\\013:\\t\\022\\003\\010\\200\\006\\022\\002\\010\\n*+\\n\\006_class\\022!\\n\\037\\022\\035loc:@hidden_layer_wb/Variable*\\007\\n\\001T\\022\\0020\\001*\\021\\n\\013use_locking\\022\\002(\\000\\n\\324\\002\\nLtrain/GradientDescent/update_hidden_layer_wb/Variable_1/ApplyGradientDescent\\022\\024ApplyGradientDescent\\032\\032hidden_layer_wb/Variable_1\\032#train/GradientDescent/learning_rate\\032Ftrain/gradients/hidden_layer_cau/add_1_grad/tuple/control_dependency_1*\\032\\n\\016_output_shapes\\022\\010\\n\\006:\\004\\022\\002\\010\\n*-\\n\\006_class\\022#\\n!\\022\\037loc:@hidden_layer_wb/Variable_1*\\007\\n\\001T\\022\\0020\\001*\\021\\n\\013use_locking\\022\\002(\\000\\n\\302\\002\\n\\025train/GradientDescent\\022\\004NoOp\\032C^train/GradientDescent/update_weights/Variable/ApplyGradientDescent\\032B^train/GradientDescent/update_biases/Variable/ApplyGradientDescent\\032K^train/GradientDescent/update_hidden_layer_wb/Variable/ApplyGradientDescent\\032M^train/GradientDescent/update_hidden_layer_wb/Variable_1/ApplyGradientDescent\\n[\\n\\031accuracy/ArgMax/dimension\\022\\005Const*\\026\\n\\016_output_shapes\\022\\004\\n\\002:\\000*\\022\\n\\005value\\022\\tB\\007\\010\\003\\022\\000:\\001\\001*\\013\\n\\005dtype\\022\\0020\\003\\n\\206\\001\\n\\017accuracy/ArgMax\\022\\006ArgMax\\032\\026hidden_layer_cau/add_1\\032\\031accuracy/ArgMax/dimension*#\\n\\016_output_shapes\\022\\021\\n\\017:\\r\\022\\013\\010\\377\\377\\377\\377\\377\\377\\377\\377\\377\\001*\\007\\n\\001T\\022\\0020\\001*\\n\\n\\004Tidx\\022\\0020\\003\\n]\\n\\033accuracy/ArgMax_1/dimension\\022\\005Const*\\026\\n\\016_output_shapes\\022\\004\\n\\002:\\000*\\022\\n\\005value\\022\\tB\\007\\010\\003\\022\\000:\\001\\001*\\013\\n\\005dtype\\022\\0020\\003\\n\\207\\001\\n\\021accuracy/ArgMax_1\\022\\006ArgMax\\032\\023input/Placeholder_1\\032\\033accuracy/ArgMax_1/dimension*#\\n\\016_output_shapes\\022\\021\\n\\017:\\r\\022\\013\\010\\377\\377\\377\\377\\377\\377\\377\\377\\377\\001*\\007\\n\\001T\\022\\0020\\001*\\n\\n\\004Tidx\\022\\0020\\003\\ni\\n\\016accuracy/Equal\\022\\005Equal\\032\\017accuracy/ArgMax\\032\\021accuracy/ArgMax_1*#\\n\\016_output_shapes\\022\\021\\n\\017:\\r\\022\\013\\010\\377\\377\\377\\377\\377\\377\\377\\377\\377\\001*\\007\\n\\001T\\022\\0020\\t\\nb\\n\\raccuracy/Cast\\022\\004Cast\\032\\016accuracy/Equal*\\n\\n\\004SrcT\\022\\0020\\n*#\\n\\016_output_shapes\\022\\021\\n\\017:\\r\\022\\013\\010\\377\\377\\377\\377\\377\\377\\377\\377\\377\\001*\\n\\n\\004DstT\\022\\0020\\001\\nX\\n\\016accuracy/Const\\022\\005Const*\\032\\n\\016_output_shapes\\022\\010\\n\\006:\\004\\022\\002\\010\\001*\\026\\n\\005value\\022\\rB\\013\\010\\003\\022\\004\\022\\002\\010\\001:\\001\\000*\\013\\n\\005dtype\\022\\0020\\003\\nr\\n\\raccuracy/Mean\\022\\004Mean\\032\\raccuracy/Cast\\032\\016accuracy/Const*\\026\\n\\016_output_shapes\\022\\004\\n\\002:\\000*\\017\\n\\tkeep_dims\\022\\002(\\000*\\007\\n\\001T\\022\\0020\\001*\\n\\n\\004Tidx\\022\\0020\\003\\nR\\n\\013cost_1/tags\\022\\005Const*\\026\\n\\016_output_shapes\\022\\004\\n\\002:\\000*\\027\\n\\005value\\022\\016B\\014\\010\\007\\022\\000B\\006cost_1*\\013\\n\\005dtype\\022\\0020\\007\\nP\\n\\006cost_1\\022\\rScalarSummary\\032\\013cost_1/tags\\032\\tcost/Mean*\\026\\n\\016_output_shapes\\022\\004\\n\\002:\\000*\\007\\n\\001T\\022\\0020\\001\\nZ\\n\\017accuracy_1/tags\\022\\005Const*\\026\\n\\016_output_shapes\\022\\004\\n\\002:\\000*\\033\\n\\005value\\022\\022B\\020\\010\\007\\022\\000B\\naccuracy_1*\\013\\n\\005dtype\\022\\0020\\007\\n\\\\\\n\\naccuracy_1\\022\\rScalarSummary\\032\\017accuracy_1/tags\\032\\raccuracy/Mean*\\026\\n\\016_output_shapes\\022\\004\\n\\002:\\000*\\007\\n\\001T\\022\\0020\\001\\nW\\n\\022Merge/MergeSummary\\022\\014MergeSummary\\032\\006cost_1\\032\\naccuracy_1*\\026\\n\\016_output_shapes\\022\\004\\n\\002:\\000*\\007\\n\\001N\\022\\002\\030\\002\\n\\205\\001\\n\\004init\\022\\004NoOp\\032\\030^weights/Variable/Assign\\032\\027^biases/Variable/Assign\\032 ^hidden_layer_wb/Variable/Assign\\032\\\"^hidden_layer_wb/Variable_1/Assign\\n\\207\\001\\n\\006init_1\\022\\004NoOp\\032\\030^weights/Variable/Assign\\032\\027^biases/Variable/Assign\\032 ^hidden_layer_wb/Variable/Assign\\032\\\"^hidden_layer_wb/Variable_1/Assign\\n\\207\\001\\n\\006init_2\\022\\004NoOp\\032\\030^weights/Variable/Assign\\032\\027^biases/Variable/Assign\\032 ^hidden_layer_wb/Variable/Assign\\032\\\"^hidden_layer_wb/Variable_1/Assign\\n\\207\\001\\n\\006init_3\\022\\004NoOp\\032\\030^weights/Variable/Assign\\032\\027^biases/Variable/Assign\\032 ^hidden_layer_wb/Variable/Assign\\032\\\"^hidden_layer_wb/Variable_1/Assign\\\"\\002\\010\\025\\\"\\'\\n\\tsummaries\\022\\032\\n\\030\\n\\010cost_1:0\\n\\014accuracy_1:0\\\"\\344\\002\\n\\tvariables\\022\\326\\002\\022\\323\\002\\nF\\n\\022weights/Variable:0\\022\\027weights/Variable/Assign\\032\\027weights/Variable/read:0\\nC\\n\\021biases/Variable:0\\022\\026biases/Variable/Assign\\032\\026biases/Variable/read:0\\n^\\n\\032hidden_layer_wb/Variable:0\\022\\037hidden_layer_wb/Variable/Assign\\032\\037hidden_layer_wb/Variable/read:0\\nd\\n\\034hidden_layer_wb/Variable_1:0\\022!hidden_layer_wb/Variable_1/Assign\\032!hidden_layer_wb/Variable_1/read:0\\\"\\356\\002\\n\\023trainable_variables\\022\\326\\002\\022\\323\\002\\nF\\n\\022weights/Variable:0\\022\\027weights/Variable/Assign\\032\\027weights/Variable/read:0\\nC\\n\\021biases/Variable:0\\022\\026biases/Variable/Assign\\032\\026biases/Variable/read:0\\n^\\n\\032hidden_layer_wb/Variable:0\\022\\037hidden_layer_wb/Variable/Assign\\032\\037hidden_layer_wb/Variable/read:0\\nd\\n\\034hidden_layer_wb/Variable_1:0\\022!hidden_layer_wb/Variable_1/Assign\\032!hidden_layer_wb/Variable_1/read:0\\\"%\\n\\010train_op\\022\\031\\n\\027\\n\\025train/GradientDescent\"\n",
      "\n",
      "wall_time: 1508854178.907205\n",
      "step: 1\n",
      "summary {\n",
      "  value {\n",
      "    tag: \"cost_1\"\n",
      "    simple_value: 4.244103908538818\n",
      "  }\n",
      "  value {\n",
      "    tag: \"accuracy_1\"\n",
      "    simple_value: 0.8873000144958496\n",
      "  }\n",
      "}\n",
      "\n",
      "wall_time: 1508854180.445808\n",
      "step: 2\n",
      "summary {\n",
      "  value {\n",
      "    tag: \"cost_1\"\n",
      "    simple_value: 2.7221922874450684\n",
      "  }\n",
      "  value {\n",
      "    tag: \"accuracy_1\"\n",
      "    simple_value: 0.9043999910354614\n",
      "  }\n",
      "}\n",
      "\n",
      "wall_time: 1508854182.32218\n",
      "step: 3\n",
      "summary {\n",
      "  value {\n",
      "    tag: \"cost_1\"\n",
      "    simple_value: 2.1201655864715576\n",
      "  }\n",
      "  value {\n",
      "    tag: \"accuracy_1\"\n",
      "    simple_value: 0.9103000164031982\n",
      "  }\n",
      "}\n",
      "\n",
      "wall_time: 1508854184.568126\n",
      "step: 4\n",
      "summary {\n",
      "  value {\n",
      "    tag: \"cost_1\"\n",
      "    simple_value: 1.668394923210144\n",
      "  }\n",
      "  value {\n",
      "    tag: \"accuracy_1\"\n",
      "    simple_value: 0.9246000051498413\n",
      "  }\n",
      "}\n",
      "\n",
      "wall_time: 1508854187.060055\n",
      "step: 1\n",
      "summary {\n",
      "  value {\n",
      "    tag: \"cost_1\"\n",
      "    simple_value: 1.5142048597335815\n",
      "  }\n",
      "  value {\n",
      "    tag: \"accuracy_1\"\n",
      "    simple_value: 0.9258000254631042\n",
      "  }\n",
      "}\n",
      "\n",
      "wall_time: 1508854188.976294\n",
      "step: 2\n",
      "summary {\n",
      "  value {\n",
      "    tag: \"cost_1\"\n",
      "    simple_value: 1.3807893991470337\n",
      "  }\n",
      "  value {\n",
      "    tag: \"accuracy_1\"\n",
      "    simple_value: 0.9279999732971191\n",
      "  }\n",
      "}\n",
      "\n",
      "wall_time: 1508854190.594986\n",
      "step: 3\n",
      "summary {\n",
      "  value {\n",
      "    tag: \"cost_1\"\n",
      "    simple_value: 1.2513035535812378\n",
      "  }\n",
      "  value {\n",
      "    tag: \"accuracy_1\"\n",
      "    simple_value: 0.932200014591217\n",
      "  }\n",
      "}\n",
      "\n",
      "wall_time: 1508854192.312135\n",
      "step: 4\n",
      "summary {\n",
      "  value {\n",
      "    tag: \"cost_1\"\n",
      "    simple_value: 1.181105136871338\n",
      "  }\n",
      "  value {\n",
      "    tag: \"accuracy_1\"\n",
      "    simple_value: 0.9365000128746033\n",
      "  }\n",
      "}\n",
      "\n",
      "wall_time: 1508854194.252344\n",
      "step: 1\n",
      "summary {\n",
      "  value {\n",
      "    tag: \"cost_1\"\n",
      "    simple_value: 1.1009674072265625\n",
      "  }\n",
      "  value {\n",
      "    tag: \"accuracy_1\"\n",
      "    simple_value: 0.9369000196456909\n",
      "  }\n",
      "}\n",
      "\n",
      "wall_time: 1508854195.819067\n",
      "step: 2\n",
      "summary {\n",
      "  value {\n",
      "    tag: \"cost_1\"\n",
      "    simple_value: 1.0758665800094604\n",
      "  }\n",
      "  value {\n",
      "    tag: \"accuracy_1\"\n",
      "    simple_value: 0.9363999962806702\n",
      "  }\n",
      "}\n",
      "\n",
      "wall_time: 1508854197.37392\n",
      "step: 3\n",
      "summary {\n",
      "  value {\n",
      "    tag: \"cost_1\"\n",
      "    simple_value: 1.0661020278930664\n",
      "  }\n",
      "  value {\n",
      "    tag: \"accuracy_1\"\n",
      "    simple_value: 0.9404000043869019\n",
      "  }\n",
      "}\n",
      "\n",
      "wall_time: 1508854199.028648\n",
      "step: 4\n",
      "summary {\n",
      "  value {\n",
      "    tag: \"cost_1\"\n",
      "    simple_value: 0.9719362258911133\n",
      "  }\n",
      "  value {\n",
      "    tag: \"accuracy_1\"\n",
      "    simple_value: 0.9409000277519226\n",
      "  }\n",
      "}\n",
      "\n",
      "wall_time: 1508854201.013458\n",
      "step: 1\n",
      "summary {\n",
      "  value {\n",
      "    tag: \"cost_1\"\n",
      "    simple_value: 0.984351396560669\n",
      "  }\n",
      "  value {\n",
      "    tag: \"accuracy_1\"\n",
      "    simple_value: 0.9398999810218811\n",
      "  }\n",
      "}\n",
      "\n",
      "wall_time: 1508854202.637043\n",
      "step: 2\n",
      "summary {\n",
      "  value {\n",
      "    tag: \"cost_1\"\n",
      "    simple_value: 0.9596361517906189\n",
      "  }\n",
      "  value {\n",
      "    tag: \"accuracy_1\"\n",
      "    simple_value: 0.9419999718666077\n",
      "  }\n",
      "}\n",
      "\n",
      "wall_time: 1508854204.305445\n",
      "step: 3\n",
      "summary {\n",
      "  value {\n",
      "    tag: \"cost_1\"\n",
      "    simple_value: 0.9825032949447632\n",
      "  }\n",
      "  value {\n",
      "    tag: \"accuracy_1\"\n",
      "    simple_value: 0.9401999711990356\n",
      "  }\n",
      "}\n",
      "\n",
      "wall_time: 1508854206.033515\n",
      "step: 4\n",
      "summary {\n",
      "  value {\n",
      "    tag: \"cost_1\"\n",
      "    simple_value: 0.9486566185951233\n",
      "  }\n",
      "  value {\n",
      "    tag: \"accuracy_1\"\n",
      "    simple_value: 0.9420999884605408\n",
      "  }\n",
      "}\n",
      "\n",
      "wall_time: 1508854208.018903\n",
      "step: 1\n",
      "summary {\n",
      "  value {\n",
      "    tag: \"cost_1\"\n",
      "    simple_value: 0.9079433679580688\n",
      "  }\n",
      "  value {\n",
      "    tag: \"accuracy_1\"\n",
      "    simple_value: 0.9420999884605408\n",
      "  }\n",
      "}\n",
      "\n",
      "wall_time: 1508854209.590183\n",
      "step: 2\n",
      "summary {\n",
      "  value {\n",
      "    tag: \"cost_1\"\n",
      "    simple_value: 0.8937527537345886\n",
      "  }\n",
      "  value {\n",
      "    tag: \"accuracy_1\"\n",
      "    simple_value: 0.9447000026702881\n",
      "  }\n",
      "}\n",
      "\n",
      "wall_time: 1508854211.147278\n",
      "step: 3\n",
      "summary {\n",
      "  value {\n",
      "    tag: \"cost_1\"\n",
      "    simple_value: 0.9201329350471497\n",
      "  }\n",
      "  value {\n",
      "    tag: \"accuracy_1\"\n",
      "    simple_value: 0.9433000087738037\n",
      "  }\n",
      "}\n",
      "\n",
      "wall_time: 1508854212.821291\n",
      "step: 4\n",
      "summary {\n",
      "  value {\n",
      "    tag: \"cost_1\"\n",
      "    simple_value: 0.882777750492096\n",
      "  }\n",
      "  value {\n",
      "    tag: \"accuracy_1\"\n",
      "    simple_value: 0.9422000050544739\n",
      "  }\n",
      "}\n",
      "\n",
      "wall_time: 1508854214.759552\n",
      "step: 1\n",
      "summary {\n",
      "  value {\n",
      "    tag: \"cost_1\"\n",
      "    simple_value: 0.8758275508880615\n",
      "  }\n",
      "  value {\n",
      "    tag: \"accuracy_1\"\n",
      "    simple_value: 0.9430999755859375\n",
      "  }\n",
      "}\n",
      "\n",
      "wall_time: 1508854216.30212\n",
      "step: 2\n",
      "summary {\n",
      "  value {\n",
      "    tag: \"cost_1\"\n",
      "    simple_value: 0.8722558617591858\n",
      "  }\n",
      "  value {\n",
      "    tag: \"accuracy_1\"\n",
      "    simple_value: 0.9437999725341797\n",
      "  }\n",
      "}\n",
      "\n",
      "wall_time: 1508854217.867152\n",
      "step: 3\n",
      "summary {\n",
      "  value {\n",
      "    tag: \"cost_1\"\n",
      "    simple_value: 0.8688626885414124\n",
      "  }\n",
      "  value {\n",
      "    tag: \"accuracy_1\"\n",
      "    simple_value: 0.9460999965667725\n",
      "  }\n",
      "}\n",
      "\n",
      "wall_time: 1508854219.583141\n",
      "step: 4\n",
      "summary {\n",
      "  value {\n",
      "    tag: \"cost_1\"\n",
      "    simple_value: 0.8507364988327026\n",
      "  }\n",
      "  value {\n",
      "    tag: \"accuracy_1\"\n",
      "    simple_value: 0.9455999732017517\n",
      "  }\n",
      "}\n",
      "\n",
      "wall_time: 1508854221.52056\n",
      "step: 1\n",
      "summary {\n",
      "  value {\n",
      "    tag: \"cost_1\"\n",
      "    simple_value: 0.8477652072906494\n",
      "  }\n",
      "  value {\n",
      "    tag: \"accuracy_1\"\n",
      "    simple_value: 0.9449999928474426\n",
      "  }\n",
      "}\n",
      "\n",
      "wall_time: 1508854223.088885\n",
      "step: 2\n",
      "summary {\n",
      "  value {\n",
      "    tag: \"cost_1\"\n",
      "    simple_value: 0.8279761672019958\n",
      "  }\n",
      "  value {\n",
      "    tag: \"accuracy_1\"\n",
      "    simple_value: 0.9466000199317932\n",
      "  }\n",
      "}\n",
      "\n",
      "wall_time: 1508854224.637553\n",
      "step: 3\n",
      "summary {\n",
      "  value {\n",
      "    tag: \"cost_1\"\n",
      "    simple_value: 0.8287322521209717\n",
      "  }\n",
      "  value {\n",
      "    tag: \"accuracy_1\"\n",
      "    simple_value: 0.9480999708175659\n",
      "  }\n",
      "}\n",
      "\n",
      "wall_time: 1508854226.302141\n",
      "step: 4\n",
      "summary {\n",
      "  value {\n",
      "    tag: \"cost_1\"\n",
      "    simple_value: 0.8379909992218018\n",
      "  }\n",
      "  value {\n",
      "    tag: \"accuracy_1\"\n",
      "    simple_value: 0.945900022983551\n",
      "  }\n",
      "}\n",
      "\n",
      "wall_time: 1508854228.23638\n",
      "step: 1\n",
      "summary {\n",
      "  value {\n",
      "    tag: \"cost_1\"\n",
      "    simple_value: 0.8479298949241638\n",
      "  }\n",
      "  value {\n",
      "    tag: \"accuracy_1\"\n",
      "    simple_value: 0.9455999732017517\n",
      "  }\n",
      "}\n",
      "\n",
      "wall_time: 1508854230.235632\n",
      "step: 2\n",
      "summary {\n",
      "  value {\n",
      "    tag: \"cost_1\"\n",
      "    simple_value: 0.8242236375808716\n",
      "  }\n",
      "  value {\n",
      "    tag: \"accuracy_1\"\n",
      "    simple_value: 0.9460999965667725\n",
      "  }\n",
      "}\n",
      "\n",
      "wall_time: 1508854232.183976\n",
      "step: 3\n",
      "summary {\n",
      "  value {\n",
      "    tag: \"cost_1\"\n",
      "    simple_value: 0.8264317512512207\n",
      "  }\n",
      "  value {\n",
      "    tag: \"accuracy_1\"\n",
      "    simple_value: 0.9480000138282776\n",
      "  }\n",
      "}\n",
      "\n",
      "wall_time: 1508854233.861703\n",
      "step: 4\n",
      "summary {\n",
      "  value {\n",
      "    tag: \"cost_1\"\n",
      "    simple_value: 0.8276622295379639\n",
      "  }\n",
      "  value {\n",
      "    tag: \"accuracy_1\"\n",
      "    simple_value: 0.9483000040054321\n",
      "  }\n",
      "}\n",
      "\n",
      "wall_time: 1508854235.814987\n",
      "step: 1\n",
      "summary {\n",
      "  value {\n",
      "    tag: \"cost_1\"\n",
      "    simple_value: 0.8302306532859802\n",
      "  }\n",
      "  value {\n",
      "    tag: \"accuracy_1\"\n",
      "    simple_value: 0.9490000009536743\n",
      "  }\n",
      "}\n",
      "\n",
      "wall_time: 1508854237.440535\n",
      "step: 2\n",
      "summary {\n",
      "  value {\n",
      "    tag: \"cost_1\"\n",
      "    simple_value: 0.829566240310669\n",
      "  }\n",
      "  value {\n",
      "    tag: \"accuracy_1\"\n",
      "    simple_value: 0.9483000040054321\n",
      "  }\n",
      "}\n",
      "\n",
      "wall_time: 1508854238.994479\n",
      "step: 3\n",
      "summary {\n",
      "  value {\n",
      "    tag: \"cost_1\"\n",
      "    simple_value: 0.829538881778717\n",
      "  }\n",
      "  value {\n",
      "    tag: \"accuracy_1\"\n",
      "    simple_value: 0.9473999738693237\n",
      "  }\n",
      "}\n",
      "\n",
      "wall_time: 1508854240.653633\n",
      "step: 4\n",
      "summary {\n",
      "  value {\n",
      "    tag: \"cost_1\"\n",
      "    simple_value: 0.829104483127594\n",
      "  }\n",
      "  value {\n",
      "    tag: \"accuracy_1\"\n",
      "    simple_value: 0.9477999806404114\n",
      "  }\n",
      "}\n",
      "\n",
      "wall_time: 1508854243.647927\n",
      "step: 1\n",
      "summary {\n",
      "  value {\n",
      "    tag: \"cost_1\"\n",
      "    simple_value: 0.8220713138580322\n",
      "  }\n",
      "  value {\n",
      "    tag: \"accuracy_1\"\n",
      "    simple_value: 0.9487000107765198\n",
      "  }\n",
      "}\n",
      "\n",
      "wall_time: 1508854246.596792\n",
      "step: 2\n",
      "summary {\n",
      "  value {\n",
      "    tag: \"cost_1\"\n",
      "    simple_value: 0.8180528879165649\n",
      "  }\n",
      "  value {\n",
      "    tag: \"accuracy_1\"\n",
      "    simple_value: 0.9478999972343445\n",
      "  }\n",
      "}\n",
      "\n",
      "wall_time: 1508854248.270637\n",
      "step: 3\n",
      "summary {\n",
      "  value {\n",
      "    tag: \"cost_1\"\n",
      "    simple_value: 0.8232800960540771\n",
      "  }\n",
      "  value {\n",
      "    tag: \"accuracy_1\"\n",
      "    simple_value: 0.9478999972343445\n",
      "  }\n",
      "}\n",
      "\n",
      "wall_time: 1508854250.036835\n",
      "step: 4\n",
      "summary {\n",
      "  value {\n",
      "    tag: \"cost_1\"\n",
      "    simple_value: 0.8190058469772339\n",
      "  }\n",
      "  value {\n",
      "    tag: \"accuracy_1\"\n",
      "    simple_value: 0.9485999941825867\n",
      "  }\n",
      "}\n",
      "\n"
     ]
    }
   ],
   "source": [
    "# start up tensorboard using $ tensorboard --logdir=/Users/shijian/git/3D-CNN/2d_mnist_dnn_tensorboard/ --port 6006\n",
    "# To see if the summary writer works well\n",
    "for i in tf.train.summary_iterator(logs_path + '/events.out.tfevents.1508854176.host-163-117.eduroam-local.wifi.le.ac.uk'):\n",
    "    print(i)"
   ]
  },
  {
   "cell_type": "code",
   "execution_count": 24,
   "metadata": {},
   "outputs": [
    {
     "data": {
      "image/png": "[encoded data removed]",
      "text/plain": [
       "<matplotlib.figure.Figure at 0x125498a58>"
      ]
     },
     "metadata": {},
     "output_type": "display_data"
    },
    {
     "data": {
      "image/png": "[encoded data removed]",
      "text/plain": [
       "<matplotlib.figure.Figure at 0x12559f3c8>"
      ]
     },
     "metadata": {},
     "output_type": "display_data"
    },
    {
     "data": {
      "image/png": "[encoded data removed]",
      "text/plain": [
       "<matplotlib.figure.Figure at 0x125611400>"
      ]
     },
     "metadata": {},
     "output_type": "display_data"
    },
    {
     "data": {
      "image/png": "[encoded data removed]",
      "text/plain": [
       "<matplotlib.figure.Figure at 0x1255e92e8>"
      ]
     },
     "metadata": {},
     "output_type": "display_data"
    },
    {
     "data": {
      "image/png": "[encoded data removed]",
      "text/plain": [
       "<matplotlib.figure.Figure at 0x125685a58>"
      ]
     },
     "metadata": {},
     "output_type": "display_data"
    },
    {
     "data": {
      "image/png": "[encoded data removed]",
      "text/plain": [
       "<matplotlib.figure.Figure at 0x1256b96a0>"
      ]
     },
     "metadata": {},
     "output_type": "display_data"
    },
    {
     "data": {
      "image/png": "[encoded data removed]",
      "text/plain": [
       "<matplotlib.figure.Figure at 0x1283469b0>"
      ]
     },
     "metadata": {},
     "output_type": "display_data"
    },
    {
     "data": {
      "image/png": "[encoded data removed]",
      "text/plain": [
       "<matplotlib.figure.Figure at 0x12837f400>"
      ]
     },
     "metadata": {},
     "output_type": "display_data"
    },
    {
     "data": {
      "image/png": "[encoded data removed]",
      "text/plain": [
       "<matplotlib.figure.Figure at 0x128392080>"
      ]
     },
     "metadata": {},
     "output_type": "display_data"
    },
    {
     "data": {
      "image/png": "[encoded data removed]",
      "text/plain": [
       "<matplotlib.figure.Figure at 0x1254883c8>"
      ]
     },
     "metadata": {},
     "output_type": "display_data"
    }
   ],
   "source": [
    "import numpy as np\n",
    "with sess.as_default():\n",
    "    for i in range(300):\n",
    "        acc, res = sess.run([correct_prediction, logits], feed_dict={input_images: mnist.test.images[i: i+1], input_labels: mnist.test.labels[i:i+1]})\n",
    "        if acc == False:\n",
    "            fig = plt.figure()\n",
    "            ax = fig.add_subplot()\n",
    "            plt.title(\"Labeled value: \"+ str(np.argmax(mnist.test.labels[i:i+1])) + \" Predicted value\"+ str(np.argmax(res)))\n",
    "            plt.imshow(mnist.test.images[i:i+1].reshape([28, 28]))"
   ]
  },
  {
   "cell_type": "markdown",
   "metadata": {},
   "source": [
    "# CNN"
   ]
  },
  {
   "cell_type": "code",
   "execution_count": 3,
   "metadata": {
    "collapsed": true
   },
   "outputs": [],
   "source": [
    "def weight_variable(shape):\n",
    "  initial = tf.truncated_normal(shape, stddev=0.1, seed=1)\n",
    "  return tf.Variable(initial)\n",
    "\n",
    "def bias_variable(shape):\n",
    "  initial = tf.constant(0.1, shape=shape)\n",
    "  return tf.Variable(initial)\n",
    "\n",
    "def conv2d(x, W):\n",
    "  return tf.nn.conv2d(x, W, strides=[1, 1, 1, 1], padding='SAME')\n",
    "\n",
    "def max_pool_2x2(x):\n",
    "  return tf.nn.max_pool(x, ksize=[1, 2, 2, 1],\n",
    "                        strides=[1, 2, 2, 1], padding='SAME')"
   ]
  },
  {
   "cell_type": "code",
   "execution_count": 4,
   "metadata": {
    "collapsed": true
   },
   "outputs": [],
   "source": [
    "input_images = tf.placeholder(tf.float32, shape=[None, mnist.train.images.shape[1]])\n",
    "input_labels = tf.placeholder(tf.float32, shape=[None, mnist.train.labels.shape[1]])"
   ]
  },
  {
   "cell_type": "code",
   "execution_count": 5,
   "metadata": {
    "collapsed": true
   },
   "outputs": [],
   "source": [
    "W_conv1 = weight_variable([5, 5, 1, 32])\n",
    "b_conv1 = bias_variable([32])\n",
    "\n",
    "x_image = tf.reshape(input_images, [-1, 28, 28, 1])\n",
    "\n",
    "h_conv1 = tf.nn.relu(conv2d(x_image, W_conv1) + b_conv1)\n",
    "h_pool1 = max_pool_2x2(h_conv1)"
   ]
  },
  {
   "cell_type": "code",
   "execution_count": 6,
   "metadata": {
    "collapsed": true
   },
   "outputs": [],
   "source": [
    "W_conv2 = weight_variable([5, 5, 32, 64])\n",
    "b_conv2 = bias_variable([64])\n",
    "\n",
    "h_conv2 = tf.nn.relu(conv2d(h_pool1, W_conv2) + b_conv2)\n",
    "h_pool2 = max_pool_2x2(h_conv2)"
   ]
  },
  {
   "cell_type": "code",
   "execution_count": 7,
   "metadata": {
    "collapsed": true
   },
   "outputs": [],
   "source": [
    "W_conv3 = weight_variable([5, 5, 64, 128])\n",
    "b_conv3 = bias_variable([128])\n",
    "\n",
    "h_conv3 = tf.nn.relu(conv2d(h_pool2, W_conv3) + b_conv3)\n",
    "h_pool3 = max_pool_2x2(h_conv3)"
   ]
  },
  {
   "cell_type": "code",
   "execution_count": 8,
   "metadata": {
    "collapsed": true
   },
   "outputs": [],
   "source": [
    "# W_fc1 = weight_variable([4 * 4 * 128, 1024])\n",
    "# b_fc1 = bias_variable([1024])\n",
    "# h_pool2_flat = tf.reshape(h_pool3, [-1, 4*4*128])\n",
    "\n",
    "W_fc1 = weight_variable([7 * 7 * 64, 1024])\n",
    "b_fc1 = bias_variable([1024])\n",
    "h_pool2_flat = tf.reshape(h_pool2, [-1, 7*7*64])\n",
    "\n",
    "h_fc1 = tf.nn.relu(tf.matmul(h_pool2_flat, W_fc1) + b_fc1)"
   ]
  },
  {
   "cell_type": "code",
   "execution_count": 9,
   "metadata": {
    "collapsed": true
   },
   "outputs": [],
   "source": [
    "keep_prob = tf.placeholder(tf.float32)\n",
    "h_fc1_drop = tf.nn.dropout(h_fc1, keep_prob)"
   ]
  },
  {
   "cell_type": "code",
   "execution_count": 10,
   "metadata": {
    "collapsed": true
   },
   "outputs": [],
   "source": [
    "W_fc2 = weight_variable([1024, 10])\n",
    "b_fc2 = bias_variable([10])\n",
    "\n",
    "y_conv = tf.matmul(h_fc1_drop, W_fc2) + b_fc2"
   ]
  },
  {
   "cell_type": "code",
   "execution_count": 11,
   "metadata": {
    "collapsed": true
   },
   "outputs": [],
   "source": [
    "cross_entropy = tf.reduce_mean(tf.nn.softmax_cross_entropy_with_logits(labels=input_labels, logits=y_conv))\n",
    "train_step = tf.train.AdamOptimizer(1e-4).minimize(cross_entropy)\n",
    "\n",
    "correct_prediction = tf.equal(tf.argmax(y_conv, axis=1), tf.argmax(input_labels, axis=1))\n",
    "accuracy = tf.reduce_mean(tf.cast(correct_prediction, tf.float32))"
   ]
  },
  {
   "cell_type": "code",
   "execution_count": 12,
   "metadata": {
    "collapsed": true
   },
   "outputs": [],
   "source": [
    "import os\n",
    "\n",
    "logs_path = os.path.join(os.getcwd(), '2d_mnist_cnn_tensorboard')\n",
    "\n",
    "tf.summary.scalar(\"cross_entropy\", cross_entropy)\n",
    "tf.summary.scalar(\"accuracy\", accuracy)\n",
    "# command line for tensorboard $tensorboard --logdir=train:`logs_path`/train,test:`logs_path`/test --port 6006\n",
    "# merge all summaries into a single \"operation\" which can execute in a session\n",
    "summary_all = tf.summary.merge_all()"
   ]
  },
  {
   "cell_type": "code",
   "execution_count": 18,
   "metadata": {},
   "outputs": [
    {
     "name": "stdout",
     "output_type": "stream",
     "text": [
      "Epoch 1\n",
      "\tTraining batch 1 Accuracy: 0.0899\n",
      "\tTraining batch 101 Accuracy: 0.8834\n",
      "\tTraining batch 201 Accuracy: 0.9239\n",
      "\tTraining batch 301 Accuracy: 0.944\n",
      "\tTraining batch 401 Accuracy: 0.9506\n",
      "Epoch 2\n",
      "\tTraining batch 1 Accuracy: 0.9525\n",
      "\tTraining batch 101 Accuracy: 0.9582\n",
      "\tTraining batch 201 Accuracy: 0.9622\n",
      "\tTraining batch 301 Accuracy: 0.964\n",
      "\tTraining batch 401 Accuracy: 0.968\n",
      "Epoch 3\n",
      "\tTraining batch 1 Accuracy: 0.9701\n",
      "\tTraining batch 101 Accuracy: 0.9701\n",
      "\tTraining batch 201 Accuracy: 0.9724\n",
      "\tTraining batch 301 Accuracy: 0.973\n",
      "\tTraining batch 401 Accuracy: 0.9752\n",
      "Epoch 4\n",
      "\tTraining batch 1 Accuracy: 0.9755\n",
      "\tTraining batch 101 Accuracy: 0.975\n",
      "\tTraining batch 201 Accuracy: 0.9779\n",
      "\tTraining batch 301 Accuracy: 0.9786\n",
      "\tTraining batch 401 Accuracy: 0.9807\n",
      "Epoch 5\n",
      "\tTraining batch 1 Accuracy: 0.98\n",
      "\tTraining batch 101 Accuracy: 0.9793\n",
      "\tTraining batch 201 Accuracy: 0.9809\n",
      "\tTraining batch 301 Accuracy: 0.9819\n",
      "\tTraining batch 401 Accuracy: 0.9825\n",
      "Final Accuracy: 0.9816\n"
     ]
    }
   ],
   "source": [
    "sess = tf.Session()\n",
    "sess.run(tf.global_variables_initializer())\n",
    "\n",
    "epochs = 5\n",
    "batch_size = 128\n",
    "\n",
    "dil = 100\n",
    "\n",
    "train_writer = tf.summary.FileWriter(os.path.join(logs_path, 'train'), graph=tf.get_default_graph())\n",
    "test_writer = tf.summary.FileWriter(os.path.join(logs_path, 'test'), graph=tf.get_default_graph())\n",
    "\n",
    "with sess.as_default():\n",
    "    count = 0\n",
    "    sess.run(tf.global_variables_initializer())\n",
    "    for i in range(epochs):\n",
    "        print(\"Epoch\", i+1)\n",
    "        for x in range(int(mnist.train.num_examples/batch_size)+1):\n",
    "            batch = mnist.train.next_batch(batch_size)\n",
    "            _, train_sum = sess.run([train_step, summary_all], feed_dict={input_images: batch[0], input_labels: batch[1], keep_prob: 0.5})\n",
    "            if x % dil == 0:\n",
    "                print(\"\\tTraining batch \" + str(x+1), end='')\n",
    "                ac, test_sum = sess.run([accuracy, summary_all], feed_dict={input_images: mnist.test.images, input_labels: mnist.test.labels, keep_prob: 1.0})\n",
    "                print(\" Accuracy: \" + str(ac))\n",
    "                train_writer.add_summary(train_sum, count)\n",
    "                test_writer.add_summary(test_sum, count )\n",
    "                count += 1\n",
    "                train_writer.flush()\n",
    "                test_writer.flush()\n",
    "   \n",
    "    ac, test_sum = sess.run([accuracy, summary_all], feed_dict={input_images: mnist.test.images, input_labels: mnist.test.labels, keep_prob: 1.0})\n",
    "    print(\"Final Accuracy: \" + str(ac))   \n",
    "    train_writer.add_summary(train_sum, count)\n",
    "    test_writer.add_summary(test_sum, count)\n",
    "    train_writer.close()\n",
    "    test_writer.close()"
   ]
  },
  {
   "cell_type": "code",
   "execution_count": null,
   "metadata": {
    "collapsed": true
   },
   "outputs": [],
   "source": [
    "import numpy as np\n",
    "\n",
    "with sess.as_default():\n",
    "    for i in range(3000):\n",
    "        acc, res = sess.run([correct_prediction, y_conv], feed_dict={input_images: mnist.test.images[i: i+1], input_labels: mnist.test.labels[i:i+1], keep_prob: 1.0})\n",
    "        if acc == False:\n",
    "            fig = plt.figure()\n",
    "            ax = fig.add_subplot()\n",
    "            plt.title(\"Labeled value: \"+ str(np.argmax(mnist.test.labels[i:i+1])) + \" Predicted value\"+ str(np.argmax(res)))\n",
    "            plt.imshow(mnist.test.images[i:i+1].reshape([28, 28]))"
   ]
  },
  {
   "cell_type": "code",
   "execution_count": null,
   "metadata": {
    "collapsed": true
   },
   "outputs": [],
   "source": []
  }
 ],
 "metadata": {
  "kernelspec": {
   "display_name": "Python 3",
   "language": "python",
   "name": "python3"
  },
  "language_info": {
   "codemirror_mode": {
    "name": "ipython",
    "version": 3
   },
   "file_extension": ".py",
   "mimetype": "text/x-python",
   "name": "python",
   "nbconvert_exporter": "python",
   "pygments_lexer": "ipython3",
   "version": "3.5.4"
  }
 },
 "nbformat": 4,
 "nbformat_minor": 2
}
