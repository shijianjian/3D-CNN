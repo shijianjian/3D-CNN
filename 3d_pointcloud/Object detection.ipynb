{
 "cells": [
  {
   "cell_type": "markdown",
   "metadata": {},
   "source": [
    "# piont cloud separator"
   ]
  },
  {
   "cell_type": "code",
   "execution_count": 23,
   "metadata": {},
   "outputs": [],
   "source": [
    "import numpy as np\n",
    "from pyntcloud import PyntCloud"
   ]
  },
  {
   "cell_type": "code",
   "execution_count": 65,
   "metadata": {},
   "outputs": [],
   "source": [
    "def find_ranges(point_cloud):\n",
    "\n",
    "    x_max = x_min = point_cloud[0][0]\n",
    "    y_max = y_min = point_cloud[0][1]\n",
    "    z_max = z_min = point_cloud[0][2]\n",
    "    \n",
    "    for ind, coor in enumerate(point_cloud):\n",
    "        if coor[0] > x_max:\n",
    "            x_max = coor[0]\n",
    "        if coor[0] < x_min:\n",
    "            x_min = coor[0]\n",
    "        if coor[1] > y_max:\n",
    "            y_max = coor[1]\n",
    "        if coor[1] < y_min:\n",
    "            y_min = coor[1]\n",
    "        if coor[2] > z_max:\n",
    "            z_max = coor[2]\n",
    "        if coor[2] < z_min:\n",
    "            z_min = coor[2]\n",
    "            \n",
    "    return ((x_min, x_max), (y_min, y_max), (z_min, z_max))\n",
    "\n",
    "\n",
    "def find_cube_length(t_range, overall_size):\n",
    "    length = (t_range[1] - t_range[0])/overall_size\n",
    "    return length\n",
    "\n",
    "def get_all_length(point_cloud, overall_size, xyz_ranges):\n",
    "    \n",
    "    x_length = find_cube_length(xyz_ranges[0], overall_size[0])\n",
    "    y_length = find_cube_length(xyz_ranges[1], overall_size[1])\n",
    "    z_length = find_cube_length(xyz_ranges[2], overall_size[2])\n",
    "    \n",
    "    return (x_length, y_length, z_length)\n",
    "    \n",
    "def find_target_area_range(point_cloud, target_area, xyz_length, xyz_ranges):\n",
    "    \n",
    "    target_x_range_max = xyz_ranges[0][1] - target_area[0][0]*xyz_length[0]\n",
    "    target_x_range_min = xyz_ranges[0][1] - target_area[0][1]*xyz_length[0]\n",
    "    target_y_range_max = xyz_ranges[1][1] - target_area[1][0]*xyz_length[1]\n",
    "    target_y_range_min = xyz_ranges[1][1] - target_area[1][1]*xyz_length[1]\n",
    "    target_z_range_max = xyz_ranges[2][1] - target_area[2][0]*xyz_length[2]\n",
    "    target_z_range_min = xyz_ranges[2][1] - target_area[2][1]*xyz_length[2]\n",
    "    \n",
    "    return (target_x_range_min, target_x_range_max), (target_y_range_min, target_y_range_max), (target_z_range_min, target_z_range_max)\n",
    "\n",
    "\n",
    "def segment_points(point_cloud, target_ranges):\n",
    "    \"\"\"\n",
    "    Recives orig point cloud data and a tuple of boundary tuples like:\n",
    "        ((x_min, x_max), (y_min, y_max), (z_min, z_max))\n",
    "    \"\"\"\n",
    "    \n",
    "    target_x_range, target_y_range, target_z_range = target_ranges[0], target_ranges[1], target_ranges[2]\n",
    "    \n",
    "    points = []\n",
    "    for ind, coor in enumerate(point_cloud):\n",
    "        if coor[0] >= target_x_range[0] and coor[0] <= target_x_range[1]:\n",
    "            if coor[1] >= target_y_range[0] and coor[1] <= target_y_range[1]:\n",
    "                if coor[2] >= target_z_range[0] and coor[2] <= target_z_range[1]:\n",
    "                    points.append(coor)\n",
    "                    \n",
    "    return np.asarray(points)"
   ]
  },
  {
   "cell_type": "code",
   "execution_count": 114,
   "metadata": {},
   "outputs": [],
   "source": [
    "def traverse_point(point_cloud, cube_size=(3,3,3), overall_size=[32,32,32], stride=(1,1,1), filter_percentage=None):\n",
    "    \"\"\"\n",
    "    It will return the target segment of point cloud.\n",
    "    \"\"\"\n",
    "    threshold = 0\n",
    "    \n",
    "    if filter_percentage is not None:\n",
    "        threshold = filter_percentage*len(point_cloud)\n",
    "    \n",
    "    xyz_range = find_ranges(point_cloud)\n",
    "    xyz_length = get_all_length(point_cloud, overall_size, xyz_range)\n",
    "\n",
    "    segmentations = []\n",
    "    areas = []\n",
    "    \n",
    "    x_num = int((overall_size[0] - cube_size[0]) / stride[0] + 1)\n",
    "    y_num = int((overall_size[1] - cube_size[1]) / stride[1] + 1)\n",
    "    z_num = int((overall_size[2] - cube_size[2]) / stride[2] + 1)\n",
    "    \n",
    "    for _x in range(x_num):\n",
    "        for _y in range(y_num):\n",
    "            for _z in range(z_num):\n",
    "                target_area = ((_x*stride[0], _x*stride[0] + cube_size[0]), (_y*stride[1], _y*stride[1] + cube_size[1]), (_z*stride[2], _z*stride[2] + cube_size[2]))\n",
    "    \n",
    "                target_x_range, target_y_range, target_z_range = find_target_area_range(point_cloud, target_area, xyz_length, xyz_range)\n",
    "                \n",
    "                segmented_point_cloud = segment_points(point_cloud, (target_x_range, target_y_range, target_z_range))\n",
    "                \n",
    "                if len(segmented_point_cloud) > threshold:\n",
    "                    \n",
    "                    segmentations.append(segmented_point_cloud)\n",
    "                    \n",
    "                    areas.append(target_area)\n",
    "                    \n",
    "                    \n",
    "    if overall_size[0]%cube_size[0] is not 0 or overall_size[1]%cube_size[1] is not 0 or overall_size[2]%cube_size[2] is not 0:\n",
    "        \n",
    "        target_area = ((overall_size[0] - cube_size[0], overall_size[0]), (overall_size[1] - cube_size[1], overall_size[1]), (overall_size[2] - cube_size[2], overall_size[2]))\n",
    "        \n",
    "        target_x_range, target_y_range, target_z_range = find_target_area_range(point_cloud, target_area, xyz_length, xyz_range)\n",
    "\n",
    "        segmented_point_cloud = segment_points(point_cloud, (target_x_range, target_y_range, target_z_range))\n",
    "            \n",
    "        if len(segmented_point_cloud) > threshold:\n",
    "            \n",
    "            segmentations.append(segmented_point_cloud)   \n",
    "            \n",
    "            areas.append(target_area)\n",
    "    \n",
    "    return {'data': segmentations, 'area': areas}"
   ]
  },
  {
   "cell_type": "code",
   "execution_count": 303,
   "metadata": {},
   "outputs": [],
   "source": [
    "my_point_cloud = PyntCloud.from_file(os.path.join(os.getcwd(), 'ttt.pts'), sep=\" \", header=0, names=[\"x\",\"y\",\"z\"])"
   ]
  },
  {
   "cell_type": "code",
   "execution_count": 304,
   "metadata": {},
   "outputs": [],
   "source": [
    "segs = traverse_point(my_point_cloud.xyz, cube_size=(6,6,6), overall_size=[13,13,13], stride=(1,1,1))"
   ]
  },
  {
   "cell_type": "code",
   "execution_count": 316,
   "metadata": {},
   "outputs": [
    {
     "name": "stdout",
     "output_type": "stream",
     "text": [
      "5167 1713\n",
      "322\n"
     ]
    }
   ],
   "source": [
    "print(len(my_point_cloud.xyz), len(segs['data'][0]))\n",
    "print(len(segs['area']))\n",
    "vox_segs = []\n",
    "whole_vox = voxelize3D(my_point_cloud_b.xyz, dim=[32,32,32])\n",
    "whole_vox = whole_vox.reshape(whole_vox.shape + (1,))\n",
    "\n",
    "for idx, value in enumerate(segs['data']):\n",
    "    vox = voxelize3D(value, dim=[32,32,32])\n",
    "    vox_chan = np.array(vox).reshape(vox.shape + (1,))\n",
    "    vox_segs.append(vox_chan)"
   ]
  },
  {
   "cell_type": "code",
   "execution_count": 148,
   "metadata": {},
   "outputs": [],
   "source": [
    "def voxelize3D(pts, dim=[1,1,1]):\n",
    "    \"\"\"\n",
    "    pts: receives .pts cloud point data. 2D array, arbitary sized X,Y,Z pairs. (We will only take x,y,z into account for now)\n",
    "    dim: dimensioin of output voxelized data\n",
    "    \n",
    "    This function will locate the grid cube and calculate the density of each cube.\n",
    "    The output will be normalized values.\n",
    "    \"\"\"\n",
    "    assert(pts.shape[1]>=3), \"pts file should contain at least x,y,z coordinate\"\n",
    "    assert(len(dim)==3), \"Please provide 3-d grid size like [32,32,32]\"\n",
    "    \n",
    "    if len(pts) > 1:\n",
    "        # move all the axis to positive area.\n",
    "        minimum_val = [pts[0][0], pts[0][1], pts[0][2]]\n",
    "\n",
    "        # find the smallest \n",
    "        for pair in pts:\n",
    "            if pair[0] < minimum_val[0]:\n",
    "                minimum_val[0] = pair[0]\n",
    "            if pair[1] < minimum_val[1]:\n",
    "                minimum_val[1] = pair[1]\n",
    "            if pair[2] < minimum_val[2]:\n",
    "                minimum_val[2] = pair[2]\n",
    "\n",
    "        # move it to first quadrant \n",
    "        rectified_pts = np.empty(pts.shape)\n",
    "        for index, pair in enumerate(pts):\n",
    "            point = np.zeros(3)\n",
    "            point[0] = pair[0] - minimum_val[0]\n",
    "            point[1] = pair[1] - minimum_val[1]\n",
    "            point[2] = pair[2] - minimum_val[2]\n",
    "            rectified_pts[index] = point\n",
    "\n",
    "        # biggest value in each axis \n",
    "        maximum_val = pts[0][0]\n",
    "\n",
    "        for pair in rectified_pts:\n",
    "            for val in pair:\n",
    "                if val > maximum_val:\n",
    "                    maximum_val = val\n",
    "\n",
    "        # normalize all the axises to (0,1)\n",
    "        normalized_pts = rectified_pts/maximum_val\n",
    "    \n",
    "    else:\n",
    "        # in case there is just one point\n",
    "        normalized_pts = pts\n",
    "    \n",
    "    x_grid_length = 1/dim[0]\n",
    "    y_grid_length = 1/dim[1]\n",
    "    z_grid_length = 1/dim[2]\n",
    "    \n",
    "    output = np.zeros((dim[0],dim[1],dim[2]))\n",
    "    \n",
    "    epsilon = 0.000000000001 # we will have at least a 1.0 value which will exceed the index of grid\n",
    "    # we can use a relativly small value to escape that to fit our data\n",
    "    \n",
    "    max_volume_size = 0\n",
    "    \n",
    "    for pair in normalized_pts:\n",
    "        x_loc = int(pair[0]/(x_grid_length + epsilon))\n",
    "        y_loc = int(pair[1]/(y_grid_length + epsilon))\n",
    "        z_loc = int(pair[2]/(z_grid_length + epsilon))\n",
    "        if output[x_loc, y_loc, z_loc] is None:\n",
    "            output[x_loc, y_loc, z_loc] = 1\n",
    "        else:\n",
    "            output[x_loc, y_loc, z_loc] += 1\n",
    "        \n",
    "        if output[x_loc, y_loc, z_loc] > max_volume_size:\n",
    "            max_volume_size = output[x_loc, y_loc, z_loc]\n",
    "    \n",
    "    output = output/max_volume_size    \n",
    "            \n",
    "    return output"
   ]
  },
  {
   "cell_type": "code",
   "execution_count": 283,
   "metadata": {},
   "outputs": [],
   "source": [
    "def count_v(array):\n",
    "    li = {}\n",
    "    for _, val in enumerate(array):\n",
    "        _max = np.argmax(val)\n",
    "        if _max not in li:\n",
    "            li.update({_max:1})\n",
    "        else:\n",
    "            li.update({_max: li[_max]+1})\n",
    "    return li"
   ]
  },
  {
   "cell_type": "code",
   "execution_count": 263,
   "metadata": {},
   "outputs": [],
   "source": [
    "def get_previous_vars(model_path):\n",
    "    \n",
    "    new_graph = tf.Graph()\n",
    "    config = tf.ConfigProto(allow_soft_placement=True) # allow passing gpu-trained model to a cpu machine\n",
    "    \n",
    "    with tf.Session(graph=new_graph, config=config) as sess:\n",
    "        saver = tf.train.import_meta_graph(model_fqn + \".meta\")\n",
    "        saver.restore(sess, model_fqn)\n",
    "        # Restore model\n",
    "        previous_vars = {var.op.name for var in tf.global_variables()}\n",
    "\n",
    "    return previous_vars"
   ]
  },
  {
   "cell_type": "code",
   "execution_count": 191,
   "metadata": {},
   "outputs": [],
   "source": [
    "import tensorflow as tf\n",
    "def cnn3d_model(x_train_data, label_size, stop_layer=0, keep_rate=0.7, seed=None):\n",
    "    \n",
    "    if seed is not None:\n",
    "        tf.set_random_seed(seed)\n",
    "        \n",
    "    stop_config = np.ones(14, dtype=bool)\n",
    "    for _ in range(stop_layer):\n",
    "        stop_config[_] = False\n",
    "    \n",
    "    with tf.name_scope(\"layer_a\"):\n",
    "        # conv => 32*32*32\n",
    "        conv1 = tf.layers.conv3d(inputs=x_train_data, filters=16, kernel_size=[3,3,3], padding='same',trainable=bool(stop_config[1]), activation=tf.nn.relu, name=\"conv1\", reuse=tf.AUTO_REUSE)\n",
    "        # conv => 32*32*32\n",
    "        conv2 = tf.layers.conv3d(inputs=conv1, filters=32, kernel_size=[3,3,3], padding='same',trainable=bool(stop_config[2]), activation=tf.nn.relu, name=\"conv2\", reuse=tf.AUTO_REUSE)\n",
    "        # pool => 16*16*16\n",
    "        pool3 = tf.layers.max_pooling3d(inputs=conv2, pool_size=[2, 2, 2], strides=2, name=\"pool3\")\n",
    "        \n",
    "    with tf.name_scope(\"layer_b\"):\n",
    "        # conv => 16*16*16\n",
    "        conv4 = tf.layers.conv3d(inputs=pool3, filters=64, kernel_size=[3,3,3], padding='same',trainable=bool(stop_config[4]), activation=tf.nn.relu, name=\"conv4\", reuse=tf.AUTO_REUSE)\n",
    "        # conv => 16*16*16\n",
    "        conv5 = tf.layers.conv3d(inputs=conv4, filters=128, kernel_size=[3,3,3], padding='same',trainable=bool(stop_config[5]), activation=tf.nn.relu, name=\"conv5\", reuse=tf.AUTO_REUSE)\n",
    "        # pool => 8*8*8\n",
    "        pool6 = tf.layers.max_pooling3d(inputs=conv5, pool_size=[2, 2, 2], strides=2, name=\"pool6\")\n",
    "        \n",
    "    with tf.name_scope(\"layer_c\"):\n",
    "        # conv => 8*8*8\n",
    "        conv7 = tf.layers.conv3d(inputs=pool6, filters=256, kernel_size=[3,3,3], padding='same',trainable=bool(stop_config[7]), activation=tf.nn.relu, name=\"conv7\", reuse=tf.AUTO_REUSE)\n",
    "        # conv => 8*8*8\n",
    "        conv8 = tf.layers.conv3d(inputs=conv7, filters=512, kernel_size=[3,3,3], padding='same',trainable=bool(stop_config[8]), activation=tf.nn.relu, name=\"conv8\", reuse=tf.AUTO_REUSE)\n",
    "        # pool => 4*4*4\n",
    "        pool9 = tf.layers.max_pooling3d(inputs=conv8, pool_size=[2, 2, 2], strides=2, name=\"pool9\")\n",
    "        \n",
    "    with tf.name_scope(\"batch_norm\"):\n",
    "        cnn3d_bn = tf.layers.batch_normalization(inputs=pool9, trainable=bool(stop_config[10]), name=\"bn\", reuse=tf.AUTO_REUSE)\n",
    "        \n",
    "    with tf.name_scope(\"fully_con\"):\n",
    "        flattening = tf.reshape(cnn3d_bn, [-1, 4*4*4*512])\n",
    "        dense = tf.layers.dense(inputs=flattening, units=1024, activation=tf.nn.relu, trainable=bool(stop_config[11]), name=\"full_con\", reuse=tf.AUTO_REUSE)\n",
    "        # (1-keep_rate) is the probability that the node will be kept\n",
    "        # training & trainable are different logic\n",
    "        dropout = tf.layers.dropout(inputs=dense, rate=keep_rate, training=bool(stop_config[12]), name=\"dropout\")\n",
    "        \n",
    "    with tf.name_scope(\"y_conv\"):\n",
    "        y_conv = tf.layers.dense(inputs=dropout, units=label_size, name=\"y_pred\", trainable=bool(stop_config[13]), reuse=tf.AUTO_REUSE)\n",
    "    \n",
    "    return y_conv"
   ]
  },
  {
   "cell_type": "code",
   "execution_count": 315,
   "metadata": {},
   "outputs": [
    {
     "name": "stdout",
     "output_type": "stream",
     "text": [
      "INFO:tensorflow:Restoring parameters from /Users/shijian/git/3D-CNN/3d_pointcloud/trained_model/model-4\n"
     ]
    },
    {
     "name": "stderr",
     "output_type": "stream",
     "text": [
      "INFO:tensorflow:Restoring parameters from /Users/shijian/git/3D-CNN/3d_pointcloud/trained_model/model-4\n"
     ]
    },
    {
     "name": "stdout",
     "output_type": "stream",
     "text": [
      "INFO:tensorflow:Initialize variable conv1/bias/Adam_1:0 from checkpoint /Users/shijian/git/3D-CNN/3d_pointcloud/trained_model/model-4 with conv1/bias/Adam_1\n"
     ]
    },
    {
     "name": "stderr",
     "output_type": "stream",
     "text": [
      "INFO:tensorflow:Initialize variable conv1/bias/Adam_1:0 from checkpoint /Users/shijian/git/3D-CNN/3d_pointcloud/trained_model/model-4 with conv1/bias/Adam_1\n"
     ]
    },
    {
     "name": "stdout",
     "output_type": "stream",
     "text": [
      "INFO:tensorflow:Initialize variable conv2/bias:0 from checkpoint /Users/shijian/git/3D-CNN/3d_pointcloud/trained_model/model-4 with conv2/bias\n"
     ]
    },
    {
     "name": "stderr",
     "output_type": "stream",
     "text": [
      "INFO:tensorflow:Initialize variable conv2/bias:0 from checkpoint /Users/shijian/git/3D-CNN/3d_pointcloud/trained_model/model-4 with conv2/bias\n"
     ]
    },
    {
     "name": "stdout",
     "output_type": "stream",
     "text": [
      "INFO:tensorflow:Initialize variable conv7/kernel/Adam:0 from checkpoint /Users/shijian/git/3D-CNN/3d_pointcloud/trained_model/model-4 with conv7/kernel/Adam\n"
     ]
    },
    {
     "name": "stderr",
     "output_type": "stream",
     "text": [
      "INFO:tensorflow:Initialize variable conv7/kernel/Adam:0 from checkpoint /Users/shijian/git/3D-CNN/3d_pointcloud/trained_model/model-4 with conv7/kernel/Adam\n"
     ]
    },
    {
     "name": "stdout",
     "output_type": "stream",
     "text": [
      "INFO:tensorflow:Initialize variable conv7/kernel/Adam_1:0 from checkpoint /Users/shijian/git/3D-CNN/3d_pointcloud/trained_model/model-4 with conv7/kernel/Adam_1\n"
     ]
    },
    {
     "name": "stderr",
     "output_type": "stream",
     "text": [
      "INFO:tensorflow:Initialize variable conv7/kernel/Adam_1:0 from checkpoint /Users/shijian/git/3D-CNN/3d_pointcloud/trained_model/model-4 with conv7/kernel/Adam_1\n"
     ]
    },
    {
     "name": "stdout",
     "output_type": "stream",
     "text": [
      "INFO:tensorflow:Initialize variable bn/beta/Adam_1:0 from checkpoint /Users/shijian/git/3D-CNN/3d_pointcloud/trained_model/model-4 with bn/beta/Adam_1\n"
     ]
    },
    {
     "name": "stderr",
     "output_type": "stream",
     "text": [
      "INFO:tensorflow:Initialize variable bn/beta/Adam_1:0 from checkpoint /Users/shijian/git/3D-CNN/3d_pointcloud/trained_model/model-4 with bn/beta/Adam_1\n"
     ]
    },
    {
     "name": "stdout",
     "output_type": "stream",
     "text": [
      "INFO:tensorflow:Initialize variable conv4/bias:0 from checkpoint /Users/shijian/git/3D-CNN/3d_pointcloud/trained_model/model-4 with conv4/bias\n"
     ]
    },
    {
     "name": "stderr",
     "output_type": "stream",
     "text": [
      "INFO:tensorflow:Initialize variable conv4/bias:0 from checkpoint /Users/shijian/git/3D-CNN/3d_pointcloud/trained_model/model-4 with conv4/bias\n"
     ]
    },
    {
     "name": "stdout",
     "output_type": "stream",
     "text": [
      "INFO:tensorflow:Initialize variable conv1/bias:0 from checkpoint /Users/shijian/git/3D-CNN/3d_pointcloud/trained_model/model-4 with conv1/bias\n"
     ]
    },
    {
     "name": "stderr",
     "output_type": "stream",
     "text": [
      "INFO:tensorflow:Initialize variable conv1/bias:0 from checkpoint /Users/shijian/git/3D-CNN/3d_pointcloud/trained_model/model-4 with conv1/bias\n"
     ]
    },
    {
     "name": "stdout",
     "output_type": "stream",
     "text": [
      "INFO:tensorflow:Initialize variable conv8/kernel:0 from checkpoint /Users/shijian/git/3D-CNN/3d_pointcloud/trained_model/model-4 with conv8/kernel\n"
     ]
    },
    {
     "name": "stderr",
     "output_type": "stream",
     "text": [
      "INFO:tensorflow:Initialize variable conv8/kernel:0 from checkpoint /Users/shijian/git/3D-CNN/3d_pointcloud/trained_model/model-4 with conv8/kernel\n"
     ]
    },
    {
     "name": "stdout",
     "output_type": "stream",
     "text": [
      "INFO:tensorflow:Initialize variable full_con/bias:0 from checkpoint /Users/shijian/git/3D-CNN/3d_pointcloud/trained_model/model-4 with full_con/bias\n"
     ]
    },
    {
     "name": "stderr",
     "output_type": "stream",
     "text": [
      "INFO:tensorflow:Initialize variable full_con/bias:0 from checkpoint /Users/shijian/git/3D-CNN/3d_pointcloud/trained_model/model-4 with full_con/bias\n"
     ]
    },
    {
     "name": "stdout",
     "output_type": "stream",
     "text": [
      "INFO:tensorflow:Initialize variable conv2/kernel/Adam_1:0 from checkpoint /Users/shijian/git/3D-CNN/3d_pointcloud/trained_model/model-4 with conv2/kernel/Adam_1\n"
     ]
    },
    {
     "name": "stderr",
     "output_type": "stream",
     "text": [
      "INFO:tensorflow:Initialize variable conv2/kernel/Adam_1:0 from checkpoint /Users/shijian/git/3D-CNN/3d_pointcloud/trained_model/model-4 with conv2/kernel/Adam_1\n"
     ]
    },
    {
     "name": "stdout",
     "output_type": "stream",
     "text": [
      "INFO:tensorflow:Initialize variable conv4/bias/Adam_1:0 from checkpoint /Users/shijian/git/3D-CNN/3d_pointcloud/trained_model/model-4 with conv4/bias/Adam_1\n"
     ]
    },
    {
     "name": "stderr",
     "output_type": "stream",
     "text": [
      "INFO:tensorflow:Initialize variable conv4/bias/Adam_1:0 from checkpoint /Users/shijian/git/3D-CNN/3d_pointcloud/trained_model/model-4 with conv4/bias/Adam_1\n"
     ]
    },
    {
     "name": "stdout",
     "output_type": "stream",
     "text": [
      "INFO:tensorflow:Initialize variable conv8/bias:0 from checkpoint /Users/shijian/git/3D-CNN/3d_pointcloud/trained_model/model-4 with conv8/bias\n"
     ]
    },
    {
     "name": "stderr",
     "output_type": "stream",
     "text": [
      "INFO:tensorflow:Initialize variable conv8/bias:0 from checkpoint /Users/shijian/git/3D-CNN/3d_pointcloud/trained_model/model-4 with conv8/bias\n"
     ]
    },
    {
     "name": "stdout",
     "output_type": "stream",
     "text": [
      "INFO:tensorflow:Initialize variable full_con/bias/Adam_1:0 from checkpoint /Users/shijian/git/3D-CNN/3d_pointcloud/trained_model/model-4 with full_con/bias/Adam_1\n"
     ]
    },
    {
     "name": "stderr",
     "output_type": "stream",
     "text": [
      "INFO:tensorflow:Initialize variable full_con/bias/Adam_1:0 from checkpoint /Users/shijian/git/3D-CNN/3d_pointcloud/trained_model/model-4 with full_con/bias/Adam_1\n"
     ]
    },
    {
     "name": "stdout",
     "output_type": "stream",
     "text": [
      "INFO:tensorflow:Initialize variable conv7/bias/Adam_1:0 from checkpoint /Users/shijian/git/3D-CNN/3d_pointcloud/trained_model/model-4 with conv7/bias/Adam_1\n"
     ]
    },
    {
     "name": "stderr",
     "output_type": "stream",
     "text": [
      "INFO:tensorflow:Initialize variable conv7/bias/Adam_1:0 from checkpoint /Users/shijian/git/3D-CNN/3d_pointcloud/trained_model/model-4 with conv7/bias/Adam_1\n"
     ]
    },
    {
     "name": "stdout",
     "output_type": "stream",
     "text": [
      "INFO:tensorflow:Initialize variable bn/moving_mean:0 from checkpoint /Users/shijian/git/3D-CNN/3d_pointcloud/trained_model/model-4 with bn/moving_mean\n"
     ]
    },
    {
     "name": "stderr",
     "output_type": "stream",
     "text": [
      "INFO:tensorflow:Initialize variable bn/moving_mean:0 from checkpoint /Users/shijian/git/3D-CNN/3d_pointcloud/trained_model/model-4 with bn/moving_mean\n"
     ]
    },
    {
     "name": "stdout",
     "output_type": "stream",
     "text": [
      "INFO:tensorflow:Initialize variable y_pred/bias:0 from checkpoint /Users/shijian/git/3D-CNN/3d_pointcloud/trained_model/model-4 with y_pred/bias\n"
     ]
    },
    {
     "name": "stderr",
     "output_type": "stream",
     "text": [
      "INFO:tensorflow:Initialize variable y_pred/bias:0 from checkpoint /Users/shijian/git/3D-CNN/3d_pointcloud/trained_model/model-4 with y_pred/bias\n"
     ]
    },
    {
     "name": "stdout",
     "output_type": "stream",
     "text": [
      "INFO:tensorflow:Initialize variable conv4/kernel:0 from checkpoint /Users/shijian/git/3D-CNN/3d_pointcloud/trained_model/model-4 with conv4/kernel\n"
     ]
    },
    {
     "name": "stderr",
     "output_type": "stream",
     "text": [
      "INFO:tensorflow:Initialize variable conv4/kernel:0 from checkpoint /Users/shijian/git/3D-CNN/3d_pointcloud/trained_model/model-4 with conv4/kernel\n"
     ]
    },
    {
     "name": "stdout",
     "output_type": "stream",
     "text": [
      "INFO:tensorflow:Initialize variable conv8/kernel/Adam:0 from checkpoint /Users/shijian/git/3D-CNN/3d_pointcloud/trained_model/model-4 with conv8/kernel/Adam\n"
     ]
    },
    {
     "name": "stderr",
     "output_type": "stream",
     "text": [
      "INFO:tensorflow:Initialize variable conv8/kernel/Adam:0 from checkpoint /Users/shijian/git/3D-CNN/3d_pointcloud/trained_model/model-4 with conv8/kernel/Adam\n"
     ]
    },
    {
     "name": "stdout",
     "output_type": "stream",
     "text": [
      "INFO:tensorflow:Initialize variable conv8/bias/Adam:0 from checkpoint /Users/shijian/git/3D-CNN/3d_pointcloud/trained_model/model-4 with conv8/bias/Adam\n"
     ]
    },
    {
     "name": "stderr",
     "output_type": "stream",
     "text": [
      "INFO:tensorflow:Initialize variable conv8/bias/Adam:0 from checkpoint /Users/shijian/git/3D-CNN/3d_pointcloud/trained_model/model-4 with conv8/bias/Adam\n"
     ]
    },
    {
     "name": "stdout",
     "output_type": "stream",
     "text": [
      "INFO:tensorflow:Initialize variable conv7/bias/Adam:0 from checkpoint /Users/shijian/git/3D-CNN/3d_pointcloud/trained_model/model-4 with conv7/bias/Adam\n"
     ]
    },
    {
     "name": "stderr",
     "output_type": "stream",
     "text": [
      "INFO:tensorflow:Initialize variable conv7/bias/Adam:0 from checkpoint /Users/shijian/git/3D-CNN/3d_pointcloud/trained_model/model-4 with conv7/bias/Adam\n"
     ]
    },
    {
     "name": "stdout",
     "output_type": "stream",
     "text": [
      "INFO:tensorflow:Initialize variable training/beta1_power:0 from checkpoint /Users/shijian/git/3D-CNN/3d_pointcloud/trained_model/model-4 with training/beta1_power\n"
     ]
    },
    {
     "name": "stderr",
     "output_type": "stream",
     "text": [
      "INFO:tensorflow:Initialize variable training/beta1_power:0 from checkpoint /Users/shijian/git/3D-CNN/3d_pointcloud/trained_model/model-4 with training/beta1_power\n"
     ]
    },
    {
     "name": "stdout",
     "output_type": "stream",
     "text": [
      "INFO:tensorflow:Initialize variable full_con/kernel/Adam_1:0 from checkpoint /Users/shijian/git/3D-CNN/3d_pointcloud/trained_model/model-4 with full_con/kernel/Adam_1\n"
     ]
    },
    {
     "name": "stderr",
     "output_type": "stream",
     "text": [
      "INFO:tensorflow:Initialize variable full_con/kernel/Adam_1:0 from checkpoint /Users/shijian/git/3D-CNN/3d_pointcloud/trained_model/model-4 with full_con/kernel/Adam_1\n"
     ]
    },
    {
     "name": "stdout",
     "output_type": "stream",
     "text": [
      "INFO:tensorflow:Initialize variable conv2/kernel:0 from checkpoint /Users/shijian/git/3D-CNN/3d_pointcloud/trained_model/model-4 with conv2/kernel\n"
     ]
    },
    {
     "name": "stderr",
     "output_type": "stream",
     "text": [
      "INFO:tensorflow:Initialize variable conv2/kernel:0 from checkpoint /Users/shijian/git/3D-CNN/3d_pointcloud/trained_model/model-4 with conv2/kernel\n"
     ]
    },
    {
     "name": "stdout",
     "output_type": "stream",
     "text": [
      "INFO:tensorflow:Initialize variable conv5/kernel/Adam_1:0 from checkpoint /Users/shijian/git/3D-CNN/3d_pointcloud/trained_model/model-4 with conv5/kernel/Adam_1\n"
     ]
    },
    {
     "name": "stderr",
     "output_type": "stream",
     "text": [
      "INFO:tensorflow:Initialize variable conv5/kernel/Adam_1:0 from checkpoint /Users/shijian/git/3D-CNN/3d_pointcloud/trained_model/model-4 with conv5/kernel/Adam_1\n"
     ]
    },
    {
     "name": "stdout",
     "output_type": "stream",
     "text": [
      "INFO:tensorflow:Initialize variable bn/moving_variance:0 from checkpoint /Users/shijian/git/3D-CNN/3d_pointcloud/trained_model/model-4 with bn/moving_variance\n"
     ]
    },
    {
     "name": "stderr",
     "output_type": "stream",
     "text": [
      "INFO:tensorflow:Initialize variable bn/moving_variance:0 from checkpoint /Users/shijian/git/3D-CNN/3d_pointcloud/trained_model/model-4 with bn/moving_variance\n"
     ]
    },
    {
     "name": "stdout",
     "output_type": "stream",
     "text": [
      "INFO:tensorflow:Initialize variable conv1/kernel/Adam:0 from checkpoint /Users/shijian/git/3D-CNN/3d_pointcloud/trained_model/model-4 with conv1/kernel/Adam\n"
     ]
    },
    {
     "name": "stderr",
     "output_type": "stream",
     "text": [
      "INFO:tensorflow:Initialize variable conv1/kernel/Adam:0 from checkpoint /Users/shijian/git/3D-CNN/3d_pointcloud/trained_model/model-4 with conv1/kernel/Adam\n"
     ]
    },
    {
     "name": "stdout",
     "output_type": "stream",
     "text": [
      "INFO:tensorflow:Initialize variable conv7/bias:0 from checkpoint /Users/shijian/git/3D-CNN/3d_pointcloud/trained_model/model-4 with conv7/bias\n"
     ]
    },
    {
     "name": "stderr",
     "output_type": "stream",
     "text": [
      "INFO:tensorflow:Initialize variable conv7/bias:0 from checkpoint /Users/shijian/git/3D-CNN/3d_pointcloud/trained_model/model-4 with conv7/bias\n"
     ]
    },
    {
     "name": "stdout",
     "output_type": "stream",
     "text": [
      "INFO:tensorflow:Initialize variable bn/beta:0 from checkpoint /Users/shijian/git/3D-CNN/3d_pointcloud/trained_model/model-4 with bn/beta\n"
     ]
    },
    {
     "name": "stderr",
     "output_type": "stream",
     "text": [
      "INFO:tensorflow:Initialize variable bn/beta:0 from checkpoint /Users/shijian/git/3D-CNN/3d_pointcloud/trained_model/model-4 with bn/beta\n"
     ]
    },
    {
     "name": "stdout",
     "output_type": "stream",
     "text": [
      "INFO:tensorflow:Initialize variable y_pred/bias/Adam:0 from checkpoint /Users/shijian/git/3D-CNN/3d_pointcloud/trained_model/model-4 with y_pred/bias/Adam\n"
     ]
    },
    {
     "name": "stderr",
     "output_type": "stream",
     "text": [
      "INFO:tensorflow:Initialize variable y_pred/bias/Adam:0 from checkpoint /Users/shijian/git/3D-CNN/3d_pointcloud/trained_model/model-4 with y_pred/bias/Adam\n"
     ]
    },
    {
     "name": "stdout",
     "output_type": "stream",
     "text": [
      "INFO:tensorflow:Initialize variable y_pred/bias/Adam_1:0 from checkpoint /Users/shijian/git/3D-CNN/3d_pointcloud/trained_model/model-4 with y_pred/bias/Adam_1\n"
     ]
    },
    {
     "name": "stderr",
     "output_type": "stream",
     "text": [
      "INFO:tensorflow:Initialize variable y_pred/bias/Adam_1:0 from checkpoint /Users/shijian/git/3D-CNN/3d_pointcloud/trained_model/model-4 with y_pred/bias/Adam_1\n"
     ]
    },
    {
     "name": "stdout",
     "output_type": "stream",
     "text": [
      "INFO:tensorflow:Initialize variable conv4/bias/Adam:0 from checkpoint /Users/shijian/git/3D-CNN/3d_pointcloud/trained_model/model-4 with conv4/bias/Adam\n"
     ]
    },
    {
     "name": "stderr",
     "output_type": "stream",
     "text": [
      "INFO:tensorflow:Initialize variable conv4/bias/Adam:0 from checkpoint /Users/shijian/git/3D-CNN/3d_pointcloud/trained_model/model-4 with conv4/bias/Adam\n"
     ]
    },
    {
     "name": "stdout",
     "output_type": "stream",
     "text": [
      "INFO:tensorflow:Initialize variable y_pred/kernel/Adam_1:0 from checkpoint /Users/shijian/git/3D-CNN/3d_pointcloud/trained_model/model-4 with y_pred/kernel/Adam_1\n"
     ]
    },
    {
     "name": "stderr",
     "output_type": "stream",
     "text": [
      "INFO:tensorflow:Initialize variable y_pred/kernel/Adam_1:0 from checkpoint /Users/shijian/git/3D-CNN/3d_pointcloud/trained_model/model-4 with y_pred/kernel/Adam_1\n"
     ]
    },
    {
     "name": "stdout",
     "output_type": "stream",
     "text": [
      "INFO:tensorflow:Initialize variable conv4/kernel/Adam_1:0 from checkpoint /Users/shijian/git/3D-CNN/3d_pointcloud/trained_model/model-4 with conv4/kernel/Adam_1\n"
     ]
    },
    {
     "name": "stderr",
     "output_type": "stream",
     "text": [
      "INFO:tensorflow:Initialize variable conv4/kernel/Adam_1:0 from checkpoint /Users/shijian/git/3D-CNN/3d_pointcloud/trained_model/model-4 with conv4/kernel/Adam_1\n"
     ]
    },
    {
     "name": "stdout",
     "output_type": "stream",
     "text": [
      "INFO:tensorflow:Initialize variable bn/gamma/Adam:0 from checkpoint /Users/shijian/git/3D-CNN/3d_pointcloud/trained_model/model-4 with bn/gamma/Adam\n"
     ]
    },
    {
     "name": "stderr",
     "output_type": "stream",
     "text": [
      "INFO:tensorflow:Initialize variable bn/gamma/Adam:0 from checkpoint /Users/shijian/git/3D-CNN/3d_pointcloud/trained_model/model-4 with bn/gamma/Adam\n"
     ]
    },
    {
     "name": "stdout",
     "output_type": "stream",
     "text": [
      "INFO:tensorflow:Initialize variable conv2/bias/Adam:0 from checkpoint /Users/shijian/git/3D-CNN/3d_pointcloud/trained_model/model-4 with conv2/bias/Adam\n"
     ]
    },
    {
     "name": "stderr",
     "output_type": "stream",
     "text": [
      "INFO:tensorflow:Initialize variable conv2/bias/Adam:0 from checkpoint /Users/shijian/git/3D-CNN/3d_pointcloud/trained_model/model-4 with conv2/bias/Adam\n"
     ]
    },
    {
     "name": "stdout",
     "output_type": "stream",
     "text": [
      "INFO:tensorflow:Initialize variable y_pred/kernel/Adam:0 from checkpoint /Users/shijian/git/3D-CNN/3d_pointcloud/trained_model/model-4 with y_pred/kernel/Adam\n"
     ]
    },
    {
     "name": "stderr",
     "output_type": "stream",
     "text": [
      "INFO:tensorflow:Initialize variable y_pred/kernel/Adam:0 from checkpoint /Users/shijian/git/3D-CNN/3d_pointcloud/trained_model/model-4 with y_pred/kernel/Adam\n"
     ]
    },
    {
     "name": "stdout",
     "output_type": "stream",
     "text": [
      "INFO:tensorflow:Initialize variable conv4/kernel/Adam:0 from checkpoint /Users/shijian/git/3D-CNN/3d_pointcloud/trained_model/model-4 with conv4/kernel/Adam\n"
     ]
    },
    {
     "name": "stderr",
     "output_type": "stream",
     "text": [
      "INFO:tensorflow:Initialize variable conv4/kernel/Adam:0 from checkpoint /Users/shijian/git/3D-CNN/3d_pointcloud/trained_model/model-4 with conv4/kernel/Adam\n"
     ]
    },
    {
     "name": "stdout",
     "output_type": "stream",
     "text": [
      "INFO:tensorflow:Initialize variable bn/gamma/Adam_1:0 from checkpoint /Users/shijian/git/3D-CNN/3d_pointcloud/trained_model/model-4 with bn/gamma/Adam_1\n"
     ]
    },
    {
     "name": "stderr",
     "output_type": "stream",
     "text": [
      "INFO:tensorflow:Initialize variable bn/gamma/Adam_1:0 from checkpoint /Users/shijian/git/3D-CNN/3d_pointcloud/trained_model/model-4 with bn/gamma/Adam_1\n"
     ]
    },
    {
     "name": "stdout",
     "output_type": "stream",
     "text": [
      "INFO:tensorflow:Initialize variable y_pred/kernel:0 from checkpoint /Users/shijian/git/3D-CNN/3d_pointcloud/trained_model/model-4 with y_pred/kernel\n"
     ]
    },
    {
     "name": "stderr",
     "output_type": "stream",
     "text": [
      "INFO:tensorflow:Initialize variable y_pred/kernel:0 from checkpoint /Users/shijian/git/3D-CNN/3d_pointcloud/trained_model/model-4 with y_pred/kernel\n"
     ]
    },
    {
     "name": "stdout",
     "output_type": "stream",
     "text": [
      "INFO:tensorflow:Initialize variable conv8/bias/Adam_1:0 from checkpoint /Users/shijian/git/3D-CNN/3d_pointcloud/trained_model/model-4 with conv8/bias/Adam_1\n"
     ]
    },
    {
     "name": "stderr",
     "output_type": "stream",
     "text": [
      "INFO:tensorflow:Initialize variable conv8/bias/Adam_1:0 from checkpoint /Users/shijian/git/3D-CNN/3d_pointcloud/trained_model/model-4 with conv8/bias/Adam_1\n"
     ]
    },
    {
     "name": "stdout",
     "output_type": "stream",
     "text": [
      "INFO:tensorflow:Initialize variable conv8/kernel/Adam_1:0 from checkpoint /Users/shijian/git/3D-CNN/3d_pointcloud/trained_model/model-4 with conv8/kernel/Adam_1\n"
     ]
    },
    {
     "name": "stderr",
     "output_type": "stream",
     "text": [
      "INFO:tensorflow:Initialize variable conv8/kernel/Adam_1:0 from checkpoint /Users/shijian/git/3D-CNN/3d_pointcloud/trained_model/model-4 with conv8/kernel/Adam_1\n"
     ]
    },
    {
     "name": "stdout",
     "output_type": "stream",
     "text": [
      "INFO:tensorflow:Initialize variable conv1/kernel:0 from checkpoint /Users/shijian/git/3D-CNN/3d_pointcloud/trained_model/model-4 with conv1/kernel\n"
     ]
    },
    {
     "name": "stderr",
     "output_type": "stream",
     "text": [
      "INFO:tensorflow:Initialize variable conv1/kernel:0 from checkpoint /Users/shijian/git/3D-CNN/3d_pointcloud/trained_model/model-4 with conv1/kernel\n"
     ]
    },
    {
     "name": "stdout",
     "output_type": "stream",
     "text": [
      "INFO:tensorflow:Initialize variable conv1/kernel/Adam_1:0 from checkpoint /Users/shijian/git/3D-CNN/3d_pointcloud/trained_model/model-4 with conv1/kernel/Adam_1\n"
     ]
    },
    {
     "name": "stderr",
     "output_type": "stream",
     "text": [
      "INFO:tensorflow:Initialize variable conv1/kernel/Adam_1:0 from checkpoint /Users/shijian/git/3D-CNN/3d_pointcloud/trained_model/model-4 with conv1/kernel/Adam_1\n"
     ]
    },
    {
     "name": "stdout",
     "output_type": "stream",
     "text": [
      "INFO:tensorflow:Initialize variable conv5/bias:0 from checkpoint /Users/shijian/git/3D-CNN/3d_pointcloud/trained_model/model-4 with conv5/bias\n"
     ]
    },
    {
     "name": "stderr",
     "output_type": "stream",
     "text": [
      "INFO:tensorflow:Initialize variable conv5/bias:0 from checkpoint /Users/shijian/git/3D-CNN/3d_pointcloud/trained_model/model-4 with conv5/bias\n"
     ]
    },
    {
     "name": "stdout",
     "output_type": "stream",
     "text": [
      "INFO:tensorflow:Initialize variable full_con/kernel/Adam:0 from checkpoint /Users/shijian/git/3D-CNN/3d_pointcloud/trained_model/model-4 with full_con/kernel/Adam\n"
     ]
    },
    {
     "name": "stderr",
     "output_type": "stream",
     "text": [
      "INFO:tensorflow:Initialize variable full_con/kernel/Adam:0 from checkpoint /Users/shijian/git/3D-CNN/3d_pointcloud/trained_model/model-4 with full_con/kernel/Adam\n"
     ]
    },
    {
     "name": "stdout",
     "output_type": "stream",
     "text": [
      "INFO:tensorflow:Initialize variable conv5/bias/Adam:0 from checkpoint /Users/shijian/git/3D-CNN/3d_pointcloud/trained_model/model-4 with conv5/bias/Adam\n"
     ]
    },
    {
     "name": "stderr",
     "output_type": "stream",
     "text": [
      "INFO:tensorflow:Initialize variable conv5/bias/Adam:0 from checkpoint /Users/shijian/git/3D-CNN/3d_pointcloud/trained_model/model-4 with conv5/bias/Adam\n"
     ]
    },
    {
     "name": "stdout",
     "output_type": "stream",
     "text": [
      "INFO:tensorflow:Initialize variable conv5/bias/Adam_1:0 from checkpoint /Users/shijian/git/3D-CNN/3d_pointcloud/trained_model/model-4 with conv5/bias/Adam_1\n"
     ]
    },
    {
     "name": "stderr",
     "output_type": "stream",
     "text": [
      "INFO:tensorflow:Initialize variable conv5/bias/Adam_1:0 from checkpoint /Users/shijian/git/3D-CNN/3d_pointcloud/trained_model/model-4 with conv5/bias/Adam_1\n"
     ]
    },
    {
     "name": "stdout",
     "output_type": "stream",
     "text": [
      "INFO:tensorflow:Initialize variable bn/beta/Adam:0 from checkpoint /Users/shijian/git/3D-CNN/3d_pointcloud/trained_model/model-4 with bn/beta/Adam\n"
     ]
    },
    {
     "name": "stderr",
     "output_type": "stream",
     "text": [
      "INFO:tensorflow:Initialize variable bn/beta/Adam:0 from checkpoint /Users/shijian/git/3D-CNN/3d_pointcloud/trained_model/model-4 with bn/beta/Adam\n"
     ]
    },
    {
     "name": "stdout",
     "output_type": "stream",
     "text": [
      "INFO:tensorflow:Initialize variable training/beta2_power:0 from checkpoint /Users/shijian/git/3D-CNN/3d_pointcloud/trained_model/model-4 with training/beta2_power\n"
     ]
    },
    {
     "name": "stderr",
     "output_type": "stream",
     "text": [
      "INFO:tensorflow:Initialize variable training/beta2_power:0 from checkpoint /Users/shijian/git/3D-CNN/3d_pointcloud/trained_model/model-4 with training/beta2_power\n"
     ]
    },
    {
     "name": "stdout",
     "output_type": "stream",
     "text": [
      "INFO:tensorflow:Initialize variable full_con/kernel:0 from checkpoint /Users/shijian/git/3D-CNN/3d_pointcloud/trained_model/model-4 with full_con/kernel\n"
     ]
    },
    {
     "name": "stderr",
     "output_type": "stream",
     "text": [
      "INFO:tensorflow:Initialize variable full_con/kernel:0 from checkpoint /Users/shijian/git/3D-CNN/3d_pointcloud/trained_model/model-4 with full_con/kernel\n"
     ]
    },
    {
     "name": "stdout",
     "output_type": "stream",
     "text": [
      "INFO:tensorflow:Initialize variable bn/gamma:0 from checkpoint /Users/shijian/git/3D-CNN/3d_pointcloud/trained_model/model-4 with bn/gamma\n"
     ]
    },
    {
     "name": "stderr",
     "output_type": "stream",
     "text": [
      "INFO:tensorflow:Initialize variable bn/gamma:0 from checkpoint /Users/shijian/git/3D-CNN/3d_pointcloud/trained_model/model-4 with bn/gamma\n"
     ]
    },
    {
     "name": "stdout",
     "output_type": "stream",
     "text": [
      "INFO:tensorflow:Initialize variable full_con/bias/Adam:0 from checkpoint /Users/shijian/git/3D-CNN/3d_pointcloud/trained_model/model-4 with full_con/bias/Adam\n"
     ]
    },
    {
     "name": "stderr",
     "output_type": "stream",
     "text": [
      "INFO:tensorflow:Initialize variable full_con/bias/Adam:0 from checkpoint /Users/shijian/git/3D-CNN/3d_pointcloud/trained_model/model-4 with full_con/bias/Adam\n"
     ]
    },
    {
     "name": "stdout",
     "output_type": "stream",
     "text": [
      "INFO:tensorflow:Initialize variable conv2/kernel/Adam:0 from checkpoint /Users/shijian/git/3D-CNN/3d_pointcloud/trained_model/model-4 with conv2/kernel/Adam\n"
     ]
    },
    {
     "name": "stderr",
     "output_type": "stream",
     "text": [
      "INFO:tensorflow:Initialize variable conv2/kernel/Adam:0 from checkpoint /Users/shijian/git/3D-CNN/3d_pointcloud/trained_model/model-4 with conv2/kernel/Adam\n"
     ]
    },
    {
     "name": "stdout",
     "output_type": "stream",
     "text": [
      "INFO:tensorflow:Initialize variable conv2/bias/Adam_1:0 from checkpoint /Users/shijian/git/3D-CNN/3d_pointcloud/trained_model/model-4 with conv2/bias/Adam_1\n"
     ]
    },
    {
     "name": "stderr",
     "output_type": "stream",
     "text": [
      "INFO:tensorflow:Initialize variable conv2/bias/Adam_1:0 from checkpoint /Users/shijian/git/3D-CNN/3d_pointcloud/trained_model/model-4 with conv2/bias/Adam_1\n"
     ]
    },
    {
     "name": "stdout",
     "output_type": "stream",
     "text": [
      "INFO:tensorflow:Initialize variable conv5/kernel/Adam:0 from checkpoint /Users/shijian/git/3D-CNN/3d_pointcloud/trained_model/model-4 with conv5/kernel/Adam\n"
     ]
    },
    {
     "name": "stderr",
     "output_type": "stream",
     "text": [
      "INFO:tensorflow:Initialize variable conv5/kernel/Adam:0 from checkpoint /Users/shijian/git/3D-CNN/3d_pointcloud/trained_model/model-4 with conv5/kernel/Adam\n"
     ]
    },
    {
     "name": "stdout",
     "output_type": "stream",
     "text": [
      "INFO:tensorflow:Initialize variable conv1/bias/Adam:0 from checkpoint /Users/shijian/git/3D-CNN/3d_pointcloud/trained_model/model-4 with conv1/bias/Adam\n"
     ]
    },
    {
     "name": "stderr",
     "output_type": "stream",
     "text": [
      "INFO:tensorflow:Initialize variable conv1/bias/Adam:0 from checkpoint /Users/shijian/git/3D-CNN/3d_pointcloud/trained_model/model-4 with conv1/bias/Adam\n"
     ]
    },
    {
     "name": "stdout",
     "output_type": "stream",
     "text": [
      "INFO:tensorflow:Initialize variable conv5/kernel:0 from checkpoint /Users/shijian/git/3D-CNN/3d_pointcloud/trained_model/model-4 with conv5/kernel\n"
     ]
    },
    {
     "name": "stderr",
     "output_type": "stream",
     "text": [
      "INFO:tensorflow:Initialize variable conv5/kernel:0 from checkpoint /Users/shijian/git/3D-CNN/3d_pointcloud/trained_model/model-4 with conv5/kernel\n"
     ]
    },
    {
     "name": "stdout",
     "output_type": "stream",
     "text": [
      "INFO:tensorflow:Initialize variable conv7/kernel:0 from checkpoint /Users/shijian/git/3D-CNN/3d_pointcloud/trained_model/model-4 with conv7/kernel\n"
     ]
    },
    {
     "name": "stderr",
     "output_type": "stream",
     "text": [
      "INFO:tensorflow:Initialize variable conv7/kernel:0 from checkpoint /Users/shijian/git/3D-CNN/3d_pointcloud/trained_model/model-4 with conv7/kernel\n"
     ]
    },
    {
     "name": "stdout",
     "output_type": "stream",
     "text": [
      "[3]\n",
      "[array([[  0.00000000e+00,   0.00000000e+00,   5.75125817e-18,\n",
      "          1.00000000e+00,   0.00000000e+00]], dtype=float32), array([[ 0.,  0.,  0.,  1.,  0.]], dtype=float32), array([[ 0.,  0.,  0.,  1.,  0.]], dtype=float32), array([[ 0.,  0.,  0.,  1.,  0.]], dtype=float32), array([[ 0.,  0.,  0.,  1.,  0.]], dtype=float32), array([[  0.00000000e+00,   0.00000000e+00,   1.00000000e+00,\n",
      "          3.04320967e-27,   0.00000000e+00]], dtype=float32), array([[ 0.,  0.,  0.,  1.,  0.]], dtype=float32), array([[ 0.,  0.,  0.,  1.,  0.]], dtype=float32), array([[ 0.,  0.,  0.,  1.,  0.]], dtype=float32), array([[ 0.,  0.,  0.,  1.,  0.]], dtype=float32), array([[ 0.,  0.,  0.,  1.,  0.]], dtype=float32), array([[ 0.,  0.,  0.,  1.,  0.]], dtype=float32), array([[ 0.,  0.,  0.,  1.,  0.]], dtype=float32), array([[ 0.,  0.,  0.,  1.,  0.]], dtype=float32), array([[ 0.,  0.,  0.,  1.,  0.]], dtype=float32), array([[ 0.,  0.,  0.,  1.,  0.]], dtype=float32), array([[ 0.,  0.,  0.,  1.,  0.]], dtype=float32), array([[ 0.,  0.,  0.,  1.,  0.]], dtype=float32), array([[ 0.,  0.,  0.,  1.,  0.]], dtype=float32), array([[ 0.,  0.,  0.,  1.,  0.]], dtype=float32), array([[ 0.,  0.,  0.,  1.,  0.]], dtype=float32), array([[  0.00000000e+00,   0.00000000e+00,   4.72070633e-33,\n",
      "          1.00000000e+00,   0.00000000e+00]], dtype=float32), array([[ 0.,  0.,  0.,  1.,  0.]], dtype=float32), array([[ 0.,  0.,  0.,  1.,  0.]], dtype=float32), array([[ 0.,  0.,  0.,  1.,  0.]], dtype=float32), array([[ 0.,  0.,  0.,  1.,  0.]], dtype=float32), array([[ 0.,  0.,  0.,  1.,  0.]], dtype=float32), array([[ 0.,  0.,  0.,  1.,  0.]], dtype=float32), array([[ 0.,  0.,  0.,  1.,  0.]], dtype=float32), array([[ 0.,  0.,  0.,  1.,  0.]], dtype=float32), array([[ 0.,  0.,  0.,  1.,  0.]], dtype=float32), array([[ 0.,  0.,  0.,  1.,  0.]], dtype=float32), array([[ 0.,  0.,  0.,  1.,  0.]], dtype=float32), array([[ 0.,  0.,  0.,  1.,  0.]], dtype=float32), array([[ 0.,  0.,  0.,  1.,  0.]], dtype=float32), array([[ 0.,  0.,  0.,  1.,  0.]], dtype=float32), array([[ 0.,  0.,  0.,  1.,  0.]], dtype=float32), array([[ 0.,  0.,  0.,  1.,  0.]], dtype=float32), array([[ 0.,  0.,  0.,  1.,  0.]], dtype=float32), array([[ 0.,  0.,  0.,  1.,  0.]], dtype=float32), array([[ 0.,  0.,  0.,  1.,  0.]], dtype=float32), array([[ 0.,  0.,  0.,  1.,  0.]], dtype=float32), array([[ 0.,  0.,  0.,  1.,  0.]], dtype=float32), array([[ 0.,  0.,  0.,  1.,  0.]], dtype=float32), array([[ 0.,  0.,  0.,  1.,  0.]], dtype=float32), array([[ 0.,  0.,  0.,  1.,  0.]], dtype=float32), array([[ 0.,  0.,  0.,  1.,  0.]], dtype=float32), array([[ 0.,  0.,  0.,  1.,  0.]], dtype=float32), array([[ 0.,  0.,  0.,  1.,  0.]], dtype=float32), array([[ 0.,  0.,  0.,  1.,  0.]], dtype=float32), array([[ 0.,  0.,  0.,  1.,  0.]], dtype=float32), array([[ 0.,  0.,  0.,  1.,  0.]], dtype=float32), array([[ 0.,  0.,  0.,  1.,  0.]], dtype=float32), array([[ 0.,  0.,  0.,  1.,  0.]], dtype=float32), array([[ 0.,  0.,  0.,  1.,  0.]], dtype=float32), array([[ 0.,  0.,  0.,  1.,  0.]], dtype=float32), array([[ 0.,  0.,  0.,  1.,  0.]], dtype=float32), array([[ 0.,  0.,  0.,  1.,  0.]], dtype=float32), array([[ 0.,  0.,  0.,  1.,  0.]], dtype=float32), array([[ 0.,  0.,  0.,  1.,  0.]], dtype=float32), array([[ 0.,  0.,  0.,  1.,  0.]], dtype=float32), array([[ 0.,  0.,  0.,  1.,  0.]], dtype=float32), array([[ 0.,  0.,  0.,  1.,  0.]], dtype=float32), array([[ 0.,  0.,  0.,  0.,  1.]], dtype=float32), array([[ 0.,  0.,  0.,  1.,  0.]], dtype=float32), array([[ 0.,  0.,  0.,  1.,  0.]], dtype=float32), array([[ 0.,  0.,  0.,  1.,  0.]], dtype=float32), array([[ 0.,  0.,  0.,  1.,  0.]], dtype=float32), array([[ 0.,  0.,  0.,  1.,  0.]], dtype=float32), array([[ 0.,  0.,  0.,  1.,  0.]], dtype=float32), array([[  0.00000000e+00,   0.00000000e+00,   0.00000000e+00,\n",
      "          1.00000000e+00,   3.10223092e-31]], dtype=float32), array([[ 0.,  0.,  0.,  1.,  0.]], dtype=float32), array([[ 0.,  0.,  0.,  1.,  0.]], dtype=float32), array([[ 0.,  0.,  0.,  1.,  0.]], dtype=float32), array([[ 0.,  0.,  0.,  1.,  0.]], dtype=float32), array([[ 0.,  0.,  0.,  1.,  0.]], dtype=float32), array([[ 0.,  0.,  0.,  1.,  0.]], dtype=float32), array([[ 0.,  0.,  0.,  1.,  0.]], dtype=float32), array([[ 0.,  0.,  0.,  1.,  0.]], dtype=float32), array([[ 0.,  0.,  0.,  1.,  0.]], dtype=float32), array([[ 0.,  0.,  0.,  1.,  0.]], dtype=float32), array([[ 0.,  0.,  0.,  1.,  0.]], dtype=float32), array([[ 0.,  0.,  0.,  1.,  0.]], dtype=float32), array([[ 0.,  0.,  0.,  1.,  0.]], dtype=float32), array([[  0.00000000e+00,   0.00000000e+00,   0.00000000e+00,\n",
      "          3.22847787e-18,   1.00000000e+00]], dtype=float32), array([[ 0.,  0.,  0.,  1.,  0.]], dtype=float32), array([[ 0.,  0.,  0.,  1.,  0.]], dtype=float32), array([[ 0.,  0.,  0.,  1.,  0.]], dtype=float32), array([[ 0.,  0.,  0.,  1.,  0.]], dtype=float32), array([[ 0.,  0.,  0.,  1.,  0.]], dtype=float32), array([[ 0.,  0.,  0.,  1.,  0.]], dtype=float32), array([[ 0.,  0.,  0.,  1.,  0.]], dtype=float32), array([[ 0.,  0.,  0.,  1.,  0.]], dtype=float32), array([[ 0.,  0.,  0.,  1.,  0.]], dtype=float32), array([[  0.00000000e+00,   0.00000000e+00,   1.00000000e+00,\n",
      "          5.24318441e-30,   0.00000000e+00]], dtype=float32), array([[ 0.,  0.,  0.,  1.,  0.]], dtype=float32), array([[ 0.,  0.,  0.,  1.,  0.]], dtype=float32), array([[ 0.,  0.,  0.,  1.,  0.]], dtype=float32), array([[ 0.,  0.,  0.,  1.,  0.]], dtype=float32), array([[ 0.,  0.,  0.,  1.,  0.]], dtype=float32), array([[ 0.,  0.,  0.,  1.,  0.]], dtype=float32), array([[ 0.,  0.,  0.,  1.,  0.]], dtype=float32), array([[ 0.,  0.,  0.,  1.,  0.]], dtype=float32), array([[ 0.,  0.,  0.,  1.,  0.]], dtype=float32), array([[ 0.,  0.,  0.,  1.,  0.]], dtype=float32), array([[ 0.,  0.,  0.,  1.,  0.]], dtype=float32), array([[ 0.,  0.,  0.,  1.,  0.]], dtype=float32), array([[ 0.,  0.,  1.,  0.,  0.]], dtype=float32), array([[ 0.,  0.,  0.,  1.,  0.]], dtype=float32), array([[ 0.,  0.,  0.,  1.,  0.]], dtype=float32), array([[ 0.,  0.,  0.,  1.,  0.]], dtype=float32), array([[ 0.,  0.,  0.,  1.,  0.]], dtype=float32), array([[ 0.,  0.,  0.,  1.,  0.]], dtype=float32), array([[ 0.,  0.,  0.,  1.,  0.]], dtype=float32), array([[  0.00000000e+00,   0.00000000e+00,   1.00000000e+00,\n",
      "          3.60148925e-11,   0.00000000e+00]], dtype=float32), array([[ 0.,  0.,  0.,  1.,  0.]], dtype=float32), array([[ 0.,  0.,  0.,  1.,  0.]], dtype=float32), array([[ 0.,  0.,  0.,  1.,  0.]], dtype=float32), array([[ 0.,  0.,  0.,  1.,  0.]], dtype=float32), array([[ 0.,  0.,  0.,  1.,  0.]], dtype=float32), array([[  0.00000000e+00,   0.00000000e+00,   1.00000000e+00,\n",
      "          7.62348762e-09,   0.00000000e+00]], dtype=float32), array([[ 0.,  0.,  0.,  1.,  0.]], dtype=float32), array([[ 0.,  0.,  0.,  1.,  0.]], dtype=float32), array([[ 0.,  0.,  0.,  1.,  0.]], dtype=float32), array([[ 0.,  0.,  0.,  1.,  0.]], dtype=float32), array([[ 0.,  0.,  0.,  1.,  0.]], dtype=float32), array([[ 0.,  0.,  0.,  1.,  0.]], dtype=float32), array([[ 0.,  0.,  0.,  1.,  0.]], dtype=float32), array([[ 0.,  0.,  0.,  1.,  0.]], dtype=float32), array([[ 0.,  0.,  0.,  1.,  0.]], dtype=float32), array([[ 0.,  0.,  0.,  1.,  0.]], dtype=float32), array([[ 0.,  0.,  0.,  1.,  0.]], dtype=float32), array([[ 0.,  0.,  0.,  1.,  0.]], dtype=float32), array([[ 0.,  0.,  0.,  1.,  0.]], dtype=float32), array([[ 0.,  0.,  0.,  1.,  0.]], dtype=float32), array([[ 0.,  0.,  0.,  1.,  0.]], dtype=float32), array([[ 0.,  0.,  0.,  1.,  0.]], dtype=float32), array([[ 0.,  0.,  0.,  1.,  0.]], dtype=float32), array([[ 0.,  0.,  0.,  1.,  0.]], dtype=float32), array([[ 0.,  0.,  0.,  1.,  0.]], dtype=float32), array([[ 0.,  0.,  0.,  1.,  0.]], dtype=float32), array([[ 0.,  0.,  0.,  1.,  0.]], dtype=float32), array([[ 0.,  0.,  0.,  1.,  0.]], dtype=float32), array([[ 0.,  0.,  0.,  1.,  0.]], dtype=float32), array([[ 0.,  0.,  0.,  1.,  0.]], dtype=float32), array([[ 0.,  0.,  0.,  1.,  0.]], dtype=float32), array([[ 0.,  0.,  0.,  1.,  0.]], dtype=float32), array([[ 0.,  0.,  0.,  1.,  0.]], dtype=float32), array([[ 0.,  0.,  0.,  1.,  0.]], dtype=float32), array([[ 0.,  0.,  0.,  1.,  0.]], dtype=float32), array([[ 0.,  0.,  0.,  1.,  0.]], dtype=float32), array([[ 0.,  0.,  0.,  1.,  0.]], dtype=float32), array([[ 0.,  0.,  0.,  1.,  0.]], dtype=float32), array([[ 0.,  0.,  0.,  1.,  0.]], dtype=float32), array([[ 0.,  0.,  0.,  1.,  0.]], dtype=float32), array([[ 0.,  0.,  1.,  0.,  0.]], dtype=float32), array([[ 0.,  0.,  0.,  1.,  0.]], dtype=float32), array([[ 0.,  0.,  0.,  1.,  0.]], dtype=float32), array([[ 0.,  0.,  0.,  1.,  0.]], dtype=float32), array([[ 0.,  0.,  0.,  1.,  0.]], dtype=float32), array([[ 0.,  0.,  0.,  1.,  0.]], dtype=float32), array([[ 0.,  0.,  0.,  1.,  0.]], dtype=float32), array([[ 0.,  0.,  0.,  1.,  0.]], dtype=float32), array([[ 0.,  0.,  0.,  1.,  0.]], dtype=float32), array([[ 0.,  0.,  0.,  1.,  0.]], dtype=float32), array([[ 0.,  0.,  0.,  1.,  0.]], dtype=float32), array([[ 0.,  0.,  0.,  1.,  0.]], dtype=float32), array([[ 0.,  0.,  0.,  1.,  0.]], dtype=float32), array([[ 0.,  0.,  0.,  1.,  0.]], dtype=float32), array([[ 0.,  0.,  0.,  1.,  0.]], dtype=float32), array([[ 0.,  0.,  0.,  1.,  0.]], dtype=float32), array([[ 0.,  0.,  0.,  1.,  0.]], dtype=float32), array([[ 0.,  0.,  0.,  1.,  0.]], dtype=float32), array([[ 0.,  0.,  0.,  1.,  0.]], dtype=float32), array([[ 0.,  0.,  1.,  0.,  0.]], dtype=float32), array([[ 0.,  0.,  0.,  1.,  0.]], dtype=float32), array([[ 0.,  0.,  0.,  1.,  0.]], dtype=float32), array([[ 0.,  0.,  0.,  1.,  0.]], dtype=float32), array([[ 0.,  0.,  0.,  1.,  0.]], dtype=float32), array([[ 0.,  0.,  0.,  1.,  0.]], dtype=float32), array([[ 0.,  0.,  0.,  1.,  0.]], dtype=float32), array([[ 0.,  0.,  0.,  1.,  0.]], dtype=float32), array([[ 0.,  0.,  0.,  1.,  0.]], dtype=float32), array([[ 0.,  0.,  0.,  1.,  0.]], dtype=float32), array([[ 0.,  0.,  0.,  1.,  0.]], dtype=float32), array([[ 0.,  0.,  0.,  1.,  0.]], dtype=float32), array([[ 0.,  0.,  0.,  1.,  0.]], dtype=float32), array([[ 0.,  0.,  0.,  1.,  0.]], dtype=float32), array([[ 0.,  0.,  0.,  1.,  0.]], dtype=float32), array([[  0.00000000e+00,   0.00000000e+00,   1.00000000e+00,\n",
      "          1.34887330e-32,   0.00000000e+00]], dtype=float32), array([[ 0.,  0.,  0.,  1.,  0.]], dtype=float32), array([[ 0.,  0.,  0.,  1.,  0.]], dtype=float32), array([[ 0.,  0.,  0.,  1.,  0.]], dtype=float32), array([[ 0.,  0.,  0.,  1.,  0.]], dtype=float32), array([[ 0.,  0.,  0.,  1.,  0.]], dtype=float32), array([[ 0.,  0.,  0.,  1.,  0.]], dtype=float32), array([[ 0.,  0.,  0.,  1.,  0.]], dtype=float32), array([[ 0.,  0.,  0.,  1.,  0.]], dtype=float32), array([[ 0.,  0.,  0.,  1.,  0.]], dtype=float32), array([[  0.00000000e+00,   0.00000000e+00,   6.91870261e-35,\n",
      "          1.00000000e+00,   0.00000000e+00]], dtype=float32), array([[ 0.,  0.,  0.,  1.,  0.]], dtype=float32), array([[ 0.,  0.,  0.,  1.,  0.]], dtype=float32), array([[ 0.,  0.,  0.,  1.,  0.]], dtype=float32), array([[  0.00000000e+00,   0.00000000e+00,   2.37796361e-24,\n",
      "          1.00000000e+00,   0.00000000e+00]], dtype=float32), array([[  0.00000000e+00,   0.00000000e+00,   1.00000000e+00,\n",
      "          9.86126421e-26,   0.00000000e+00]], dtype=float32), array([[ 0.,  0.,  0.,  1.,  0.]], dtype=float32), array([[ 0.,  0.,  0.,  1.,  0.]], dtype=float32), array([[ 0.,  0.,  0.,  1.,  0.]], dtype=float32), array([[ 0.,  0.,  0.,  1.,  0.]], dtype=float32), array([[ 0.,  0.,  0.,  1.,  0.]], dtype=float32), array([[ 0.,  0.,  0.,  1.,  0.]], dtype=float32), array([[ 0.,  0.,  0.,  1.,  0.]], dtype=float32), array([[ 0.,  0.,  0.,  1.,  0.]], dtype=float32), array([[ 0.,  0.,  0.,  1.,  0.]], dtype=float32), array([[ 0.,  0.,  0.,  1.,  0.]], dtype=float32), array([[ 0.,  0.,  0.,  1.,  0.]], dtype=float32), array([[ 0.,  0.,  0.,  1.,  0.]], dtype=float32), array([[ 0.,  0.,  0.,  1.,  0.]], dtype=float32), array([[ 0.,  0.,  0.,  1.,  0.]], dtype=float32), array([[ 0.,  0.,  0.,  1.,  0.]], dtype=float32), array([[ 0.,  0.,  0.,  1.,  0.]], dtype=float32), array([[ 0.,  0.,  0.,  1.,  0.]], dtype=float32), array([[ 0.,  0.,  0.,  1.,  0.]], dtype=float32), array([[ 0.,  0.,  0.,  1.,  0.]], dtype=float32), array([[ 0.,  0.,  0.,  1.,  0.]], dtype=float32), array([[ 0.,  0.,  0.,  1.,  0.]], dtype=float32), array([[ 0.,  0.,  0.,  1.,  0.]], dtype=float32), array([[ 0.,  0.,  0.,  1.,  0.]], dtype=float32), array([[ 0.,  0.,  0.,  1.,  0.]], dtype=float32), array([[ 0.,  0.,  0.,  1.,  0.]], dtype=float32), array([[ 0.,  0.,  0.,  1.,  0.]], dtype=float32), array([[ 0.,  0.,  0.,  1.,  0.]], dtype=float32), array([[ 0.,  0.,  0.,  1.,  0.]], dtype=float32), array([[  0.00000000e+00,   0.00000000e+00,   9.99998808e-01,\n",
      "          1.18972798e-06,   0.00000000e+00]], dtype=float32), array([[ 0.,  0.,  0.,  1.,  0.]], dtype=float32), array([[ 0.,  0.,  0.,  1.,  0.]], dtype=float32), array([[ 0.,  0.,  0.,  1.,  0.]], dtype=float32), array([[ 0.,  0.,  0.,  1.,  0.]], dtype=float32), array([[ 0.,  0.,  0.,  1.,  0.]], dtype=float32), array([[ 0.,  0.,  1.,  0.,  0.]], dtype=float32), array([[ 0.,  0.,  0.,  1.,  0.]], dtype=float32), array([[ 0.,  0.,  0.,  1.,  0.]], dtype=float32), array([[ 0.,  0.,  0.,  1.,  0.]], dtype=float32), array([[ 0.,  0.,  0.,  1.,  0.]], dtype=float32), array([[ 0.,  0.,  0.,  1.,  0.]], dtype=float32), array([[ 0.,  0.,  0.,  1.,  0.]], dtype=float32), array([[ 0.,  0.,  0.,  1.,  0.]], dtype=float32), array([[ 0.,  0.,  0.,  1.,  0.]], dtype=float32), array([[ 0.,  0.,  0.,  1.,  0.]], dtype=float32), array([[ 0.,  0.,  0.,  1.,  0.]], dtype=float32), array([[  0.00000000e+00,   0.00000000e+00,   0.00000000e+00,\n",
      "          1.63294826e-05,   9.99983668e-01]], dtype=float32), array([[ 0.,  0.,  1.,  0.,  0.]], dtype=float32), array([[ 0.,  0.,  0.,  1.,  0.]], dtype=float32), array([[ 0.,  0.,  0.,  1.,  0.]], dtype=float32), array([[ 0.,  0.,  1.,  0.,  0.]], dtype=float32), array([[ 0.,  0.,  0.,  1.,  0.]], dtype=float32), array([[ 0.,  0.,  0.,  1.,  0.]], dtype=float32), array([[ 0.,  0.,  0.,  1.,  0.]], dtype=float32), array([[ 0.,  0.,  0.,  1.,  0.]], dtype=float32), array([[ 0.,  0.,  0.,  1.,  0.]], dtype=float32), array([[ 0.,  0.,  0.,  1.,  0.]], dtype=float32), array([[ 0.,  0.,  0.,  1.,  0.]], dtype=float32), array([[  0.00000000e+00,   0.00000000e+00,   0.00000000e+00,\n",
      "          1.00000000e+00,   1.05489748e-41]], dtype=float32), array([[ 0.,  0.,  0.,  1.,  0.]], dtype=float32), array([[ 0.,  0.,  0.,  1.,  0.]], dtype=float32), array([[ 0.,  0.,  0.,  1.,  0.]], dtype=float32), array([[ 0.,  0.,  0.,  1.,  0.]], dtype=float32), array([[  0.00000000e+00,   0.00000000e+00,   0.00000000e+00,\n",
      "          5.92021767e-16,   1.00000000e+00]], dtype=float32), array([[ 0.,  0.,  0.,  1.,  0.]], dtype=float32), array([[ 0.,  0.,  0.,  1.,  0.]], dtype=float32), array([[ 0.,  0.,  0.,  1.,  0.]], dtype=float32), array([[ 0.,  0.,  0.,  1.,  0.]], dtype=float32), array([[ 0.,  0.,  0.,  1.,  0.]], dtype=float32), array([[ 0.,  0.,  0.,  1.,  0.]], dtype=float32), array([[ 0.,  0.,  0.,  1.,  0.]], dtype=float32), array([[ 0.,  0.,  0.,  1.,  0.]], dtype=float32), array([[ 0.,  0.,  0.,  1.,  0.]], dtype=float32), array([[ 0.,  0.,  0.,  1.,  0.]], dtype=float32), array([[ 0.,  0.,  0.,  1.,  0.]], dtype=float32), array([[ 0.,  0.,  0.,  1.,  0.]], dtype=float32), array([[ 0.,  0.,  0.,  1.,  0.]], dtype=float32), array([[ 0.,  0.,  0.,  1.,  0.]], dtype=float32), array([[ 0.,  0.,  0.,  1.,  0.]], dtype=float32), array([[ 0.,  0.,  0.,  1.,  0.]], dtype=float32), array([[ 0.,  0.,  0.,  1.,  0.]], dtype=float32), array([[ 0.,  0.,  0.,  1.,  0.]], dtype=float32), array([[ 0.,  0.,  0.,  1.,  0.]], dtype=float32), array([[ 0.,  0.,  0.,  1.,  0.]], dtype=float32), array([[ 0.,  0.,  0.,  1.,  0.]], dtype=float32), array([[ 0.,  0.,  0.,  1.,  0.]], dtype=float32), array([[ 0.,  0.,  0.,  1.,  0.]], dtype=float32), array([[ 0.,  0.,  0.,  1.,  0.]], dtype=float32), array([[ 0.,  0.,  0.,  1.,  0.]], dtype=float32), array([[ 0.,  0.,  0.,  1.,  0.]], dtype=float32), array([[ 0.,  0.,  0.,  1.,  0.]], dtype=float32), array([[ 0.,  0.,  0.,  1.,  0.]], dtype=float32), array([[ 0.,  0.,  0.,  1.,  0.]], dtype=float32), array([[ 0.,  0.,  0.,  1.,  0.]], dtype=float32), array([[ 0.,  0.,  0.,  1.,  0.]], dtype=float32), array([[ 0.,  0.,  0.,  1.,  0.]], dtype=float32), array([[ 0.,  0.,  0.,  1.,  0.]], dtype=float32), array([[ 0.,  0.,  0.,  1.,  0.]], dtype=float32), array([[ 0.,  0.,  0.,  1.,  0.]], dtype=float32), array([[ 0.,  0.,  0.,  1.,  0.]], dtype=float32), array([[ 0.,  0.,  0.,  1.,  0.]], dtype=float32), array([[ 0.,  0.,  0.,  1.,  0.]], dtype=float32), array([[ 0.,  0.,  0.,  1.,  0.]], dtype=float32), array([[ 0.,  0.,  0.,  1.,  0.]], dtype=float32), array([[ 0.,  0.,  0.,  1.,  0.]], dtype=float32), array([[ 0.,  0.,  0.,  1.,  0.]], dtype=float32), array([[ 0.,  0.,  0.,  1.,  0.]], dtype=float32), array([[ 0.,  0.,  0.,  1.,  0.]], dtype=float32), array([[ 0.,  0.,  0.,  1.,  0.]], dtype=float32), array([[ 0.,  0.,  0.,  1.,  0.]], dtype=float32), array([[ 0.,  0.,  0.,  1.,  0.]], dtype=float32), array([[ 0.,  0.,  0.,  1.,  0.]], dtype=float32), array([[ 0.,  0.,  0.,  1.,  0.]], dtype=float32), array([[ 0.,  0.,  0.,  1.,  0.]], dtype=float32), array([[ 0.,  0.,  0.,  1.,  0.]], dtype=float32), array([[ 0.,  0.,  0.,  1.,  0.]], dtype=float32), array([[ 0.,  0.,  0.,  1.,  0.]], dtype=float32), array([[ 0.,  0.,  0.,  1.,  0.]], dtype=float32)]\n"
     ]
    }
   ],
   "source": [
    "# one hot indexes\n",
    "\n",
    "import os\n",
    "model_path = os.path.join(os.getcwd(), 'trained_model', 'model-4')\n",
    "\n",
    "previous_vars = get_previous_vars(model_path)\n",
    "\n",
    "learning_rate = 0.001\n",
    "keep_rate = 0.5\n",
    "\n",
    "device_name = '/cpu:0' \n",
    "\n",
    "n_classes=5\n",
    "\n",
    "with tf.Session(graph=tf.Graph()) as sess:\n",
    "    with tf.device(device_name):\n",
    "        with tf.name_scope('inputs'):\n",
    "            x_input = tf.placeholder(tf.float32, shape=[None, 32, 32, 32, 1], name=\"x_input\")\n",
    "            y_input = tf.placeholder(tf.float32, shape=[None, n_classes], name=\"y_input\") \n",
    "\n",
    "        prediction = cnn3d_model(x_input, n_classes, seed=1234, keep_rate=0.5)\n",
    "        tf.add_to_collection(\"logits\", prediction)\n",
    "\n",
    "        with tf.name_scope(\"cross_entropy\"):\n",
    "            cost = tf.reduce_mean(tf.nn.softmax_cross_entropy_with_logits(logits=prediction, labels=y_input), name=\"cross_entropy\")\n",
    "\n",
    "        with tf.name_scope(\"training\"):\n",
    "            optimizer = tf.train.AdamOptimizer(learning_rate).minimize(cost)\n",
    "            tf.add_to_collection(\"optimizer\", optimizer)\n",
    "\n",
    "        correct = tf.equal(tf.argmax(prediction, 1), tf.argmax(y_input, 1))\n",
    "        accuracy = tf.reduce_mean(tf.cast(correct, tf.float32), name=\"acc\")\n",
    "\n",
    "    restore_map = {variable.op.name : variable for variable in tf.global_variables() if variable.op.name in previous_vars}\n",
    "\n",
    "    tf.contrib.framework.init_from_checkpoint(model_path, restore_map)\n",
    "\n",
    "    sess.run(tf.global_variables_initializer())\n",
    "\n",
    "    y = sess.run(prediction, feed_dict={x_input: [whole_vox]})\n",
    "    print(tf.argmax(y, axis=1).eval())\n",
    "#     probs = []\n",
    "#     ys = []\n",
    "#     for _, val in enumerate(vox_segs):\n",
    "#         y = sess.run(prediction, feed_dict={x_input: [val]})\n",
    "#         ys.append(y)\n",
    "#         probs.append(tf.nn.softmax(y).eval())"
   ]
  },
  {
   "cell_type": "code",
   "execution_count": 310,
   "metadata": {},
   "outputs": [
    {
     "data": {
      "text/plain": [
       "array([[-3551.70117188, -1068.67895508,   408.73684692,   531.11138916,\n",
       "         -842.57104492]], dtype=float32)"
      ]
     },
     "execution_count": 310,
     "metadata": {},
     "output_type": "execute_result"
    }
   ],
   "source": [
    "y"
   ]
  },
  {
   "cell_type": "code",
   "execution_count": 307,
   "metadata": {},
   "outputs": [
    {
     "data": {
      "text/plain": [
       "{2: 13, 3: 305, 4: 4}"
      ]
     },
     "execution_count": 307,
     "metadata": {},
     "output_type": "execute_result"
    }
   ],
   "source": [
    "count_v(probs)"
   ]
  },
  {
   "cell_type": "code",
   "execution_count": 56,
   "metadata": {},
   "outputs": [],
   "source": [
    "def write_to_file(xyz, filename='xyz'):\n",
    "    import os\n",
    "    file = open(os.path.join(os.getcwd(), filename + \".pts\"), \"w\") \n",
    "    \n",
    "    for point in xyz:\n",
    "        st = \"\"\n",
    "        for item in point:\n",
    "            st += str(item) + \" \"\n",
    "        file.write(st.strip() + \"\\n\")\n",
    "\n",
    "    file.close() \n",
    "    \n",
    "write_to_file(segmented_point_cloud)"
   ]
  },
  {
   "cell_type": "code",
   "execution_count": 285,
   "metadata": {},
   "outputs": [],
   "source": [
    "write_to_file(segs['data'][0])\n",
    "se_point_cloud = PyntCloud.from_file(os.path.join(os.getcwd(), 'xyz.pts'), sep=\" \", header=0, names=[\"x\",\"y\",\"z\"])"
   ]
  },
  {
   "cell_type": "code",
   "execution_count": 286,
   "metadata": {},
   "outputs": [
    {
     "data": {
      "text/html": [
       "\n",
       "        <iframe\n",
       "            width=\"800\"\n",
       "            height=\"500\"\n",
       "            src=\"pyntcloud_plot.html\"\n",
       "            frameborder=\"0\"\n",
       "            allowfullscreen\n",
       "        ></iframe>\n",
       "        "
      ],
      "text/plain": [
       "<IPython.lib.display.IFrame at 0x1a1db83518>"
      ]
     },
     "execution_count": 286,
     "metadata": {},
     "output_type": "execute_result"
    }
   ],
   "source": [
    "se_point_cloud.plot(point_size=0.003)"
   ]
  },
  {
   "cell_type": "markdown",
   "metadata": {},
   "source": [
    "# produce multi data"
   ]
  },
  {
   "cell_type": "code",
   "execution_count": 301,
   "metadata": {},
   "outputs": [
    {
     "name": "stdout",
     "output_type": "stream",
     "text": [
      "<class 'numpy.ndarray'>\n",
      "(5168, 3)\n"
     ]
    }
   ],
   "source": [
    "my_point_cloud_a = PyntCloud.from_file(os.path.join(os.getcwd(), 'PartAnnotation', 'airplane', 'points', '1a74b169a76e651ebc0909d98a1ff2b4.pts'), sep=\" \", header=0, names=[\"x\",\"y\",\"z\"])\n",
    "my_point_cloud_b = PyntCloud.from_file(os.path.join(os.getcwd(), 'PartAnnotation', 'lamp', 'points', '1a9c1cbf1ca9ca24274623f5a5d0bcdc.pts'), sep=\" \", header=0, names=[\"x\",\"y\",\"z\"])\n",
    "\n",
    "print(type(my_point_cloud_a.xyz))\n",
    "c = np.concatenate((my_point_cloud_a.xyz, my_point_cloud_b.xyz + 0.5))\n",
    "print(c.shape)\n",
    "\n",
    "write_to_file(c, filename=\"ttt\")"
   ]
  },
  {
   "cell_type": "code",
   "execution_count": 302,
   "metadata": {},
   "outputs": [
    {
     "data": {
      "text/html": [
       "\n",
       "        <iframe\n",
       "            width=\"800\"\n",
       "            height=\"500\"\n",
       "            src=\"pyntcloud_plot.html\"\n",
       "            frameborder=\"0\"\n",
       "            allowfullscreen\n",
       "        ></iframe>\n",
       "        "
      ],
      "text/plain": [
       "<IPython.lib.display.IFrame at 0x1a30368dd8>"
      ]
     },
     "execution_count": 302,
     "metadata": {},
     "output_type": "execute_result"
    }
   ],
   "source": [
    "PyntCloud.from_file(os.path.join(os.getcwd(), 'ttt.pts'), sep=\" \", header=0, names=[\"x\",\"y\",\"z\"]).plot(point_size=0.01)"
   ]
  },
  {
   "cell_type": "markdown",
   "metadata": {},
   "source": [
    "# Testing"
   ]
  },
  {
   "cell_type": "code",
   "execution_count": 91,
   "metadata": {},
   "outputs": [],
   "source": [
    "def find_ranges(point_cloud):\n",
    "\n",
    "    x_max = x_min = point_cloud[0][0]\n",
    "    y_max = y_min = point_cloud[0][1]\n",
    "    z_max = z_min = point_cloud[0][2]\n",
    "    \n",
    "    for ind, coor in enumerate(point_cloud):\n",
    "        if coor[0] > x_max:\n",
    "            x_max = coor[0]\n",
    "        if coor[0] < x_min:\n",
    "            x_min = coor[0]\n",
    "        if coor[1] > y_max:\n",
    "            y_max = coor[1]\n",
    "        if coor[1] < y_min:\n",
    "            y_min = coor[1]\n",
    "        if coor[2] > z_max:\n",
    "            z_max = coor[2]\n",
    "        if coor[2] < z_min:\n",
    "            z_min = coor[2]\n",
    "            \n",
    "    return ((x_min, x_max), (y_min, y_max), (z_min, z_max))\n",
    "\n",
    "\n",
    "def find_cube_length(t_range, overall_size):\n",
    "    length = (t_range[1] - t_range[0])/overall_size\n",
    "    return length\n",
    "\n",
    "def get_all_length(point_cloud, overall_size, xyz_ranges):\n",
    "    \n",
    "    x_length = find_cube_length(xyz_ranges[0], overall_size[0])\n",
    "    y_length = find_cube_length(xyz_ranges[1], overall_size[1])\n",
    "    z_length = find_cube_length(xyz_ranges[2], overall_size[2])\n",
    "    \n",
    "    return (x_length, y_length, z_length)\n",
    "    \n",
    "def find_target_area_range(point_cloud, target_area, xyz_length, xyz_ranges):\n",
    "    \n",
    "    target_x_range_max = xyz_ranges[0][1] - target_area[0][0]*xyz_length[0]\n",
    "    target_x_range_min = xyz_ranges[0][1] - target_area[0][1]*xyz_length[0]\n",
    "    target_y_range_max = xyz_ranges[1][1] - target_area[1][0]*xyz_length[1]\n",
    "    target_y_range_min = xyz_ranges[1][1] - target_area[1][1]*xyz_length[1]\n",
    "    target_z_range_max = xyz_ranges[2][1] - target_area[2][0]*xyz_length[2]\n",
    "    target_z_range_min = xyz_ranges[2][1] - target_area[2][1]*xyz_length[2]\n",
    "    \n",
    "    return (target_x_range_min, target_x_range_max), (target_y_range_min, target_y_range_max), (target_z_range_min, target_z_range_max)\n",
    "\n",
    "\n",
    "def segment_points(point_cloud, target_ranges):\n",
    "    \"\"\"\n",
    "    Recives orig point cloud data and a tuple of boundary tuples like:\n",
    "        ((x_min, x_max), (y_min, y_max), (z_min, z_max))\n",
    "    \"\"\"\n",
    "    \n",
    "    target_x_range, target_y_range, target_z_range = target_ranges[0], target_ranges[1], target_ranges[2]\n",
    "    \n",
    "    points = []\n",
    "    for ind, coor in enumerate(point_cloud):\n",
    "        if coor[0] >= target_x_range[0] and coor[0] <= target_x_range[1]:\n",
    "            if coor[1] >= target_y_range[0] and coor[1] <= target_y_range[1]:\n",
    "                if coor[2] >= target_z_range[0] and coor[2] <= target_z_range[1]:\n",
    "                    points.append(coor)\n",
    "                    \n",
    "    return np.asarray(points)"
   ]
  },
  {
   "cell_type": "code",
   "execution_count": null,
   "metadata": {},
   "outputs": [],
   "source": [
    "def diagonal_cubes(point_cloud, overall_size=(16,16,16)):\n",
    "    \n",
    "    xyz_range = find_ranges(point_cloud)\n",
    "    xyz_length = get_all_length(point_cloud, overall_size, xyz_range)\n",
    "    \n",
    "    "
   ]
  }
 ],
 "metadata": {
  "kernelspec": {
   "display_name": "Python 3",
   "language": "python",
   "name": "python3"
  },
  "language_info": {
   "codemirror_mode": {
    "name": "ipython",
    "version": 3
   },
   "file_extension": ".py",
   "mimetype": "text/x-python",
   "name": "python",
   "nbconvert_exporter": "python",
   "pygments_lexer": "ipython3",
   "version": "3.5.4"
  }
 },
 "nbformat": 4,
 "nbformat_minor": 2
}
