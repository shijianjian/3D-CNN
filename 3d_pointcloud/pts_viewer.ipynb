{
 "cells": [
  {
   "cell_type": "code",
   "execution_count": 1,
   "metadata": {},
   "outputs": [],
   "source": [
    "# data comes from http://web.stanford.edu/~ericyi/project_page/part_annotation/index.html\n",
    "from pyntcloud import PyntCloud\n",
    "from matplotlib import pyplot as plt\n",
    "%matplotlib inline\n",
    "\n",
    "import sys\n",
    "import os\n",
    "if sys.platform == 'darwin':\n",
    "    data_path = os.getcwd() + \"/PartAnnotation\"\n",
    "else:\n",
    "    data_path = os.getcwd() + \"\\\\PartAnnotation\""
   ]
  },
  {
   "cell_type": "markdown",
   "metadata": {},
   "source": [
    "# Data explorer"
   ]
  },
  {
   "cell_type": "markdown",
   "metadata": {},
   "source": [
    "Data comes from http://web.stanford.edu/~ericyi/project_page/part_annotation/index.html\n",
    "\n",
    "Rename the folder into proper class names if you want to see the results properly. It won't affect the results but it is better to see a proper label rather than random numbers."
   ]
  },
  {
   "cell_type": "code",
   "execution_count": 2,
   "metadata": {},
   "outputs": [],
   "source": [
    "def count_data(data_path):\n",
    "    \"\"\"\n",
    "    Will read all the data under specific data path\n",
    "    \n",
    "    Return:\n",
    "        cate: a dict which all the names encoded by numbers\n",
    "        label: a dict contains all the number & name mappings.\n",
    "    \"\"\"\n",
    "    cate = {}\n",
    "    label = {}\n",
    "    count = 0\n",
    "    for entry in os.scandir(data_path):\n",
    "        if entry.is_dir():\n",
    "            for pts_data in os.scandir(os.path.join(data_path, entry.name, 'points')):\n",
    "                if count in cate:\n",
    "                    cate.update({count: cate.get(count) + 1})\n",
    "                else:\n",
    "                    cate.update({count: 1})\n",
    "                    label.update({count: entry.name})\n",
    "            count += 1\n",
    "    return cate, label"
   ]
  },
  {
   "cell_type": "code",
   "execution_count": 3,
   "metadata": {},
   "outputs": [],
   "source": [
    "cate, label = count_data(data_path)"
   ]
  },
  {
   "cell_type": "code",
   "execution_count": 4,
   "metadata": {},
   "outputs": [
    {
     "name": "stdout",
     "output_type": "stream",
     "text": [
      "{0: 4045, 1: 83, 2: 56, 3: 7497, 4: 6778, 5: 73, 6: 797, 7: 424, 8: 2318, 9: 460, 10: 337, 11: 214, 12: 307, 13: 85, 14: 152, 15: 8509}\n",
      "{0: 'airplane', 1: 'bag', 2: 'cap', 3: 'car', 4: 'chair', 5: 'earphone', 6: 'guitar', 7: 'knife', 8: 'lamp', 9: 'laptop', 10: 'motorbike', 11: 'mug', 12: 'pistol', 13: 'rocket', 14: 'skateboard', 15: 'table'}\n"
     ]
    }
   ],
   "source": [
    "print(cate)\n",
    "print(label)"
   ]
  },
  {
   "cell_type": "code",
   "execution_count": 5,
   "metadata": {
    "scrolled": false
   },
   "outputs": [
    {
     "data": {
      "image/png": "[encoded data removed]",
      "text/plain": [
       "<matplotlib.figure.Figure at 0x5ec83cc0>"
      ]
     },
     "metadata": {},
     "output_type": "display_data"
    }
   ],
   "source": [
    "fig = plt.figure(figsize=(15,7))\n",
    "\n",
    "plt.bar(list(cate), height=list(cate.values()))\n",
    "plt.xticks(list(cate), list(label.values()))\n",
    "plt.show()"
   ]
  },
  {
   "cell_type": "markdown",
   "metadata": {},
   "source": [
    "# Data Imbalance problem\n",
    "\n",
    "Method 1: pick same amount of samples from each class\n",
    "\n",
    "Method 2: Repeat small sample classes 10 times or so.\n",
    "\n",
    "    - Add Gaussian Noise\n",
    "    - Add invariant transformations(shift left, right, rotate, etc.)\n",
    "\n",
    "Method 2 is more preferable. since less variance, more data"
   ]
  },
  {
   "cell_type": "code",
   "execution_count": 6,
   "metadata": {},
   "outputs": [],
   "source": [
    "def find_data(data_path, max_file_num=None, folder_filter=(None, None)):\n",
    "    \"\"\"\n",
    "    Find file in each folder according to the 'data_path'.\n",
    "    \n",
    "    Giving the max number of files via `max_file_num`, it will read first `max_file_num` in each folder. Read all if there is no enough file inside.\n",
    "    \n",
    "    `folder_filter` is a tuple like (100, 2000) which indicates the number of files will between 100 and 2000.\n",
    "    \"\"\"\n",
    "    \n",
    "    min_th, max_th = folder_filter\n",
    "    if max_file_num is not None and folder_filter is not None:\n",
    "        if min_th is not None:\n",
    "            assert(max_file_num > min_th), \"`max_file_num` should be greater than `\" + min_th + \"` in \" + folder_filter\n",
    "        \n",
    "    data = []\n",
    "    label = []\n",
    "    for entry in os.scandir(data_path):\n",
    "        if entry.is_dir():\n",
    "            target_dir_path = os.path.join(data_path, entry.name, 'points')\n",
    "            path, dirs, files = os.walk(target_dir_path).__next__()\n",
    "            file_count = len(files)\n",
    "            if (min_th is None or file_count >= min_th) and (max_th is None or file_count <= max_th):\n",
    "                count = 0\n",
    "                for pts_data in os.scandir(target_dir_path):\n",
    "                    if (max_file_num is None) or (count < max_file_num):\n",
    "                        data.append(os.path.join(data_path, entry.name, 'points', pts_data.name))\n",
    "                        label.append(entry.name)\n",
    "                        count += 1\n",
    "                    else:\n",
    "                        break\n",
    "    return data, label"
   ]
  },
  {
   "cell_type": "code",
   "execution_count": 7,
   "metadata": {},
   "outputs": [],
   "source": [
    "data, label = find_data(data_path, folder_filter=(2000, None))"
   ]
  },
  {
   "cell_type": "markdown",
   "metadata": {},
   "source": [
    "# Plot"
   ]
  },
  {
   "cell_type": "code",
   "execution_count": 41,
   "metadata": {},
   "outputs": [],
   "source": [
    "my_point_cloud = PyntCloud.from_file(data[120], sep=\" \", header=0, names=[\"x\",\"y\",\"z\"])"
   ]
  },
  {
   "cell_type": "code",
   "execution_count": 42,
   "metadata": {},
   "outputs": [
    {
     "name": "stdout",
     "output_type": "stream",
     "text": [
      "29147\n"
     ]
    },
    {
     "data": {
      "text/plain": [
       "'table'"
      ]
     },
     "execution_count": 42,
     "metadata": {},
     "output_type": "execute_result"
    }
   ],
   "source": [
    "print(len(label))\n",
    "label[30]"
   ]
  },
  {
   "cell_type": "code",
   "execution_count": 43,
   "metadata": {},
   "outputs": [
    {
     "data": {
      "text/html": [
       "\n",
       "        <iframe\n",
       "            width=\"800\"\n",
       "            height=\"500\"\n",
       "            src=\"pyntcloud_plot.html\"\n",
       "            frameborder=\"0\"\n",
       "            allowfullscreen\n",
       "        ></iframe>\n",
       "        "
      ],
      "text/plain": [
       "<IPython.lib.display.IFrame at 0x5ec9ecf8>"
      ]
     },
     "execution_count": 43,
     "metadata": {},
     "output_type": "execute_result"
    }
   ],
   "source": [
    "my_point_cloud.plot(point_size=0.005)"
   ]
  },
  {
   "cell_type": "markdown",
   "metadata": {},
   "source": [
    "# Data augmentation\n",
    "- Rotate\n",
    "- Squeeze\n",
    "- Gaussian Noise"
   ]
  },
  {
   "cell_type": "markdown",
   "metadata": {},
   "source": [
    "### Rotate"
   ]
  },
  {
   "cell_type": "code",
   "execution_count": 11,
   "metadata": {},
   "outputs": [],
   "source": [
    "def rotate(pts, axis=0, angle_degree=30):\n",
    "    \"\"\"\n",
    "    Rotate the pts point cloud by a specific angle.\n",
    "    \n",
    "    axis = 0 : rotate around x-axis\n",
    "    axis = 1 : rotate around y-axis\n",
    "    axis = 2 : rotate around z-axis\n",
    "    \n",
    "    angle_degree : how much degree you want to rotate the point cloud.\n",
    "    \n",
    "    Algorithm comes in: https://uk.mathworks.com/matlabcentral/answers/123763-how-to-rotate-entire-3d-data-with-x-y-z-values-along-a-particular-axis-say-x-axis\n",
    "    \"\"\"\n",
    "    if axis == 0: \n",
    "        return rotate_by_x(pts, angle_degree)\n",
    "    if axis == 1: \n",
    "        return rotate_by_y(pts, angle_degree)\n",
    "    if axis == 2: \n",
    "        return rotate_by_z(pts, angle_degree)\n",
    "    \n",
    "def rotate_by_x(pts, angle_degree=30):\n",
    "    import numpy as np\n",
    "    degree = np.deg2rad(angle_degree)\n",
    "    res = np.empty(pts.shape)\n",
    "    for index, point in enumerate(pts):\n",
    "        new_point = np.zeros(3)\n",
    "        new_point[0] = point[0] # x\n",
    "        new_point[1] = point[1]*np.cos(degree) - point[2]*np.sin(degree) # y\n",
    "        new_point[2] = point[1]*np.sin(degree) + point[2]*np.cos(degree) # z\n",
    "        res[index] = new_point\n",
    "        \n",
    "    return res\n",
    "\n",
    "    \n",
    "def rotate_by_y(pts, angle_degree=30):\n",
    "    import numpy as np\n",
    "    degree = np.deg2rad(angle_degree)\n",
    "    res = np.empty(pts.shape)\n",
    "    for index, point in enumerate(pts):\n",
    "        new_point = np.zeros(3)\n",
    "        new_point[0] = point[0]*np.cos(degree) + point[2]*np.sin(degree) # x\n",
    "        new_point[1] = point[1] # y\n",
    "        new_point[2] = point[2]*np.cos(degree) - point[0]*np.sin(degree) # z\n",
    "        res[index] = new_point\n",
    "        \n",
    "    return res\n",
    "\n",
    "    \n",
    "def rotate_by_z(pts, angle_degree=30):\n",
    "    import numpy as np\n",
    "    degree = np.deg2rad(angle_degree)\n",
    "    res = np.empty(pts.shape)\n",
    "    for index, point in enumerate(pts):\n",
    "        new_point = np.zeros(3)\n",
    "        new_point[0] = point[0]*np.cos(degree) - point[1]*np.sin(degree) # x\n",
    "        new_point[1] = point[0]*np.sin(degree) + point[1]*np.cos(degree) # y\n",
    "        new_point[2] = point[2] # z\n",
    "        res[index] = new_point\n",
    "        \n",
    "    return res"
   ]
  },
  {
   "cell_type": "code",
   "execution_count": 12,
   "metadata": {},
   "outputs": [],
   "source": [
    "def write_to_file(xyz, filename='xyz'):\n",
    "    import os\n",
    "    file = open(os.path.join(os.getcwd(), filename + \".pts\"), \"w\") \n",
    "    \n",
    "    for point in xyz:\n",
    "        st = \"\"\n",
    "        for item in point:\n",
    "            st += str(item) + \" \"\n",
    "        file.write(st.strip() + \"\\n\")\n",
    "\n",
    "    file.close() "
   ]
  },
  {
   "cell_type": "code",
   "execution_count": 13,
   "metadata": {},
   "outputs": [],
   "source": [
    "rotated_point_cloud = rotate(my_point_cloud.xyz, angle_degree=180)\n",
    "write_to_file(rotated_point_cloud)"
   ]
  },
  {
   "cell_type": "code",
   "execution_count": 14,
   "metadata": {},
   "outputs": [
    {
     "data": {
      "text/html": [
       "\n",
       "        <iframe\n",
       "            width=\"800\"\n",
       "            height=\"500\"\n",
       "            src=\"pyntcloud_plot.html\"\n",
       "            frameborder=\"0\"\n",
       "            allowfullscreen\n",
       "        ></iframe>\n",
       "        "
      ],
      "text/plain": [
       "<IPython.lib.display.IFrame at 0x614b4978>"
      ]
     },
     "execution_count": 14,
     "metadata": {},
     "output_type": "execute_result"
    }
   ],
   "source": [
    "rotated_point_cloud_file = PyntCloud.from_file(os.path.join(os.getcwd(), \"xyz.pts\"), sep=\" \", header=0, names=[\"x\",\"y\",\"z\"])\n",
    "rotated_point_cloud_file.plot(point_size=0.005)"
   ]
  },
  {
   "cell_type": "code",
   "execution_count": 15,
   "metadata": {},
   "outputs": [],
   "source": [
    "def voxelize3D(pts, dim=[1,1,1]):\n",
    "    \"\"\"\n",
    "    pts: receives .pts cloud point data. 2D array, arbitary sized X,Y,Z pairs. (We will only take x,y,z into account for now)\n",
    "    dim: dimensioin of output voxelized data\n",
    "    \n",
    "    This function will locate the grid cube and calculate the density of each cube.\n",
    "    The output will be normalized values.\n",
    "    \"\"\"\n",
    "    assert(pts.shape[1]>=3), \"pts file should contain at least x,y,z coordinate\"\n",
    "    assert(len(dim)==3), \"Please provide 3-d grid size like [32,32,32]\"\n",
    "    \n",
    "    # move all the axis to positive area.\n",
    "    minimum_val = [pts[0][0], pts[0][1], pts[0][2]]\n",
    "\n",
    "    # find the smallest \n",
    "    for pair in pts:\n",
    "        if pair[0] < minimum_val[0]:\n",
    "            minimum_val[0] = pair[0]\n",
    "        if pair[1] < minimum_val[1]:\n",
    "            minimum_val[1] = pair[1]\n",
    "        if pair[2] < minimum_val[2]:\n",
    "            minimum_val[2] = pair[2]\n",
    "            \n",
    "    # move it to first quadrant \n",
    "    rectified_pts = np.empty(pts.shape)\n",
    "    for index, pair in enumerate(pts):\n",
    "        point = np.zeros(3)\n",
    "        point[0] = pair[0] - minimum_val[0]\n",
    "        point[1] = pair[1] - minimum_val[1]\n",
    "        point[2] = pair[2] - minimum_val[2]\n",
    "        rectified_pts[index] = point\n",
    "    \n",
    "    # biggest value in each axis \n",
    "    maximum_val = pts[0][0]\n",
    "    \n",
    "    for pair in rectified_pts:\n",
    "        for val in pair:\n",
    "            if val > maximum_val:\n",
    "                maximum_val = val\n",
    "     \n",
    "    # normalize all the axises to (0,1)\n",
    "    normalized_pts = rectified_pts/maximum_val\n",
    "    \n",
    "    x_grid_length = 1/dim[0]\n",
    "    y_grid_length = 1/dim[1]\n",
    "    z_grid_length = 1/dim[2]\n",
    "    \n",
    "    output = np.zeros((dim[0],dim[1],dim[2]))\n",
    "    \n",
    "    epsilon = 0.000000000001 # we will have at least a 1.0 value which will exceed the index of grid\n",
    "    # we can use a relativly small value to escape that to fit our data\n",
    "    \n",
    "    max_volume_size = 0\n",
    "    \n",
    "    for pair in normalized_pts:\n",
    "        x_loc = int(pair[0]/(x_grid_length + epsilon))\n",
    "        y_loc = int(pair[1]/(y_grid_length + epsilon))\n",
    "        z_loc = int(pair[2]/(z_grid_length + epsilon))\n",
    "        if output[x_loc, y_loc, z_loc] is None:\n",
    "            output[x_loc, y_loc, z_loc] = 1\n",
    "        else:\n",
    "            output[x_loc, y_loc, z_loc] += 1\n",
    "        \n",
    "        if output[x_loc, y_loc, z_loc] > max_volume_size:\n",
    "            max_volume_size = output[x_loc, y_loc, z_loc]\n",
    "    \n",
    "    output = output/max_volume_size    \n",
    "            \n",
    "    return output"
   ]
  },
  {
   "cell_type": "code",
   "execution_count": 16,
   "metadata": {},
   "outputs": [],
   "source": [
    "# %load ./voxel_grid_plot.py\n",
    "import os\n",
    "import shutil\n",
    "\n",
    "import numpy as np\n",
    "\n",
    "from IPython.display import IFrame\n",
    "from matplotlib import pyplot as plt\n",
    "\n",
    "\n",
    "def plot_voxelgrid(voxelgrid,\n",
    "                   output_name=None,\n",
    "                   cmap=\"Oranges\",\n",
    "                   axis=True,\n",
    "                   width=800,\n",
    "                   height=600):\n",
    "\n",
    "    scaled_shape = voxelgrid.shape\n",
    "\n",
    "    vector = voxelgrid\n",
    "    points = np.argwhere(vector) * scaled_shape\n",
    "\n",
    "    s_m = plt.cm.ScalarMappable(cmap=cmap)\n",
    "    rgb = s_m.to_rgba(vector.reshape(-1)[vector.reshape(-1) > 0])\n",
    "\n",
    "    camera_position = points.max(0) + abs(points.max(0))\n",
    "\n",
    "    look = points.mean(0)\n",
    "\n",
    "    if axis:\n",
    "        axis_size = points.ptp() * 1.5\n",
    "    else:\n",
    "        axis_size = 0\n",
    "\n",
    "    placeholders = {}\n",
    "\n",
    "    placeholders[\"POINTS_X_PLACEHOLDER\"] = points[:, 0].tolist()\n",
    "    placeholders[\"POINTS_Y_PLACEHOLDER\"] = points[:, 1].tolist()\n",
    "    placeholders[\"POINTS_Z_PLACEHOLDER\"] = points[:, 2].tolist()\n",
    "\n",
    "    placeholders[\"R_PLACEHOLDER\"] = rgb[:, 0].tolist()\n",
    "    placeholders[\"G_PLACEHOLDER\"] = rgb[:, 1].tolist()\n",
    "    placeholders[\"B_PLACEHOLDER\"] = rgb[:, 2].tolist()\n",
    "\n",
    "    placeholders[\"S_x_PLACEHOLDER\"] = scaled_shape[0]\n",
    "    placeholders[\"S_y_PLACEHOLDER\"] = scaled_shape[1]\n",
    "    placeholders[\"S_z_PLACEHOLDER\"] = scaled_shape[2]\n",
    "\n",
    "    placeholders[\"CAMERA_X_PLACEHOLDER\"] = camera_position[0]\n",
    "    placeholders[\"CAMERA_Y_PLACEHOLDER\"] = camera_position[1]\n",
    "    placeholders[\"CAMERA_Z_PLACEHOLDER\"] = camera_position[2]\n",
    "\n",
    "    placeholders[\"LOOK_X_PLACEHOLDER\"] = look[0]\n",
    "    placeholders[\"LOOK_Y_PLACEHOLDER\"] = look[1]\n",
    "    placeholders[\"LOOK_Z_PLACEHOLDER\"] = look[2]\n",
    "\n",
    "    placeholders[\"AXIS_SIZE_PLACEHOLDER\"] = axis_size\n",
    "\n",
    "    placeholders[\"N_VOXELS_PLACEHOLDER\"] = sum(vector.reshape(-1) > 0)\n",
    "\n",
    "    if output_name is None:\n",
    "        output_name = \"plotVG.html\"\n",
    "\n",
    "    BASE_PATH = os.getcwd()\n",
    "    src = \"{}/{}\".format(BASE_PATH, \"voxelgrid.html\")\n",
    "    dst = \"{}/{}\".format(os.getcwd(), output_name)\n",
    "\n",
    "    with open(src, \"r\") as inp, open(dst, \"w\") as out:\n",
    "        for line in inp:\n",
    "            for key, val in placeholders.items():\n",
    "                if key in line:\n",
    "                    line = line.replace(key, str(val))\n",
    "            out.write(line)\n",
    "\n",
    "    return IFrame(output_name, width=width, height=height)"
   ]
  },
  {
   "cell_type": "code",
   "execution_count": 44,
   "metadata": {},
   "outputs": [
    {
     "name": "stdout",
     "output_type": "stream",
     "text": [
      "Zoom in a little bit, seems like some visual bugs inside the code if you have a large set of points\n"
     ]
    },
    {
     "data": {
      "text/html": [
       "\n",
       "        <iframe\n",
       "            width=\"800\"\n",
       "            height=\"600\"\n",
       "            src=\"plotVG.html\"\n",
       "            frameborder=\"0\"\n",
       "            allowfullscreen\n",
       "        ></iframe>\n",
       "        "
      ],
      "text/plain": [
       "<IPython.lib.display.IFrame at 0x27d41ff98>"
      ]
     },
     "execution_count": 44,
     "metadata": {},
     "output_type": "execute_result"
    }
   ],
   "source": [
    "print(\"Zoom in a little bit, seems like some visual bugs inside the code if you have a large set of points\")\n",
    "vox = voxelize3D(my_point_cloud.xyz, dim=[48,48,48])\n",
    "plot_voxelgrid(vox)"
   ]
  },
  {
   "cell_type": "markdown",
   "metadata": {},
   "source": [
    "### Squeeze"
   ]
  },
  {
   "cell_type": "code",
   "execution_count": 18,
   "metadata": {},
   "outputs": [],
   "source": [
    "def squeeze_pts(pts, axis=0, percentage=10):\n",
    "    if axis==0:\n",
    "        return squeeze_by_x(pts, percentage)\n",
    "    if axis==1:\n",
    "        return squeeze_by_y(pts, percentage)\n",
    "    if axis==2:\n",
    "        return squeeze_by_z(pts, percentage)\n",
    "    \n",
    "def squeeze_by_x(pts, percentage):\n",
    "    \n",
    "    v = (100-percentage)/100\n",
    "    output = np.empty(pts.shape)\n",
    "    \n",
    "    assert(v>=0 and v<=1), \"Percentage should between 0 and 100\"\n",
    "    \n",
    "    for index, point in enumerate(pts):\n",
    "        output[index] = point\n",
    "        output[index][0] = output[index][0]*v\n",
    "        \n",
    "    return output\n",
    "    \n",
    "def squeeze_by_y(pts, percentage):\n",
    "    \n",
    "    v = (100-percentage)/100\n",
    "    output = np.empty(pts.shape)\n",
    "    \n",
    "    assert(v>=0 and v<=1), \"Percentage should between 0 and 100\"\n",
    "    \n",
    "    for index, point in enumerate(pts):\n",
    "        output[index] = point\n",
    "        output[index][1] = output[index][1]*v\n",
    "        \n",
    "    return output\n",
    "\n",
    "    \n",
    "def squeeze_by_z(pts, percentage):\n",
    "    \n",
    "    v = (100-percentage)/100\n",
    "    output = np.empty(pts.shape)\n",
    "    \n",
    "    assert(v>=0 and v<=1), \"Percentage should between 0 and 100\"\n",
    "    \n",
    "    for index, point in enumerate(pts):\n",
    "        output[index] = point\n",
    "        output[index][2] = output[index][2]*v\n",
    "        \n",
    "    return output"
   ]
  },
  {
   "cell_type": "code",
   "execution_count": 19,
   "metadata": {},
   "outputs": [],
   "source": [
    "squeezed_pts = squeeze_pts(my_point_cloud.xyz, axis=1, percentage=30)\n",
    "write_to_file(squeezed_pts, filename=\"sq\")"
   ]
  },
  {
   "cell_type": "code",
   "execution_count": 20,
   "metadata": {},
   "outputs": [
    {
     "data": {
      "text/html": [
       "\n",
       "        <iframe\n",
       "            width=\"800\"\n",
       "            height=\"500\"\n",
       "            src=\"pyntcloud_plot.html\"\n",
       "            frameborder=\"0\"\n",
       "            allowfullscreen\n",
       "        ></iframe>\n",
       "        "
      ],
      "text/plain": [
       "<IPython.lib.display.IFrame at 0x611beac8>"
      ]
     },
     "execution_count": 20,
     "metadata": {},
     "output_type": "execute_result"
    }
   ],
   "source": [
    "rotated_point_cloud_file = PyntCloud.from_file(os.path.join(os.getcwd(), \"sq.pts\"), sep=\" \", header=0, names=[\"x\",\"y\",\"z\"])\n",
    "rotated_point_cloud_file.plot(point_size=0.005)"
   ]
  },
  {
   "cell_type": "markdown",
   "metadata": {},
   "source": [
    "### Gaussian Noise"
   ]
  },
  {
   "cell_type": "code",
   "execution_count": 21,
   "metadata": {},
   "outputs": [],
   "source": [
    "def add_noise(pts, noise_percentage=0.05):\n",
    "    \n",
    "    noise_size = int(noise_percentage*len(pts))\n",
    "    \n",
    "    max_x = min_x = pts[0][0]\n",
    "    max_y = min_y = pts[0][1]\n",
    "    max_z = min_z = pts[0][2]\n",
    "    \n",
    "    for point in pts:\n",
    "        if max_x < point[0]:\n",
    "            max_x = point[0]\n",
    "        if max_y < point[1]:\n",
    "            max_y = point[1]\n",
    "        if max_z < point[2]:\n",
    "            max_z = point[2]\n",
    "            \n",
    "        if min_x < point[0]:\n",
    "            min_x = point[0]\n",
    "        if min_y < point[1]:\n",
    "            min_y = point[1]\n",
    "        if min_y < point[2]:\n",
    "            min_y = point[2]\n",
    "            \n",
    "    import numpy as np\n",
    "    \n",
    "    noise_pts = np.empty((noise_size, 3))\n",
    "    noise_x = np.random.randn(noise_size)*(max_x - min_x)/2\n",
    "    noise_y = np.random.randn(noise_size)*(max_y - min_y)/2\n",
    "    noise_z = np.random.randn(noise_size)*(max_z - min_z)/2\n",
    "    \n",
    "    for i, _ in enumerate(range(noise_size)):\n",
    "        pos = np.random.randint(0,len(pts)-1)\n",
    "        noise_pts[i][0] = pts[pos][0] + noise_x[i]\n",
    "        noise_pts[i][1] = pts[pos][1] + noise_y[i]\n",
    "        noise_pts[i][2] = pts[pos][2] + noise_z[i]\n",
    "        \n",
    "    return np.concatenate((pts, noise_pts))"
   ]
  },
  {
   "cell_type": "code",
   "execution_count": 22,
   "metadata": {},
   "outputs": [],
   "source": [
    "noisy_pts = add_noise(my_point_cloud.xyz)\n",
    "write_to_file(noisy_pts, filename=\"no\")"
   ]
  },
  {
   "cell_type": "code",
   "execution_count": 23,
   "metadata": {},
   "outputs": [
    {
     "data": {
      "text/html": [
       "\n",
       "        <iframe\n",
       "            width=\"800\"\n",
       "            height=\"500\"\n",
       "            src=\"pyntcloud_plot.html\"\n",
       "            frameborder=\"0\"\n",
       "            allowfullscreen\n",
       "        ></iframe>\n",
       "        "
      ],
      "text/plain": [
       "<IPython.lib.display.IFrame at 0x614c5dd8>"
      ]
     },
     "execution_count": 23,
     "metadata": {},
     "output_type": "execute_result"
    }
   ],
   "source": [
    "noisy_pts_file = PyntCloud.from_file(os.path.join(os.getcwd(), \"no.pts\"), sep=\" \", header=0, names=[\"x\",\"y\",\"z\"])\n",
    "noisy_pts_file.plot(point_size=0.005)"
   ]
  },
  {
   "cell_type": "markdown",
   "metadata": {},
   "source": [
    "#### Noisy voxelized point cloud"
   ]
  },
  {
   "cell_type": "code",
   "execution_count": 24,
   "metadata": {},
   "outputs": [
    {
     "data": {
      "text/html": [
       "\n",
       "        <iframe\n",
       "            width=\"800\"\n",
       "            height=\"600\"\n",
       "            src=\"plotVG.html\"\n",
       "            frameborder=\"0\"\n",
       "            allowfullscreen\n",
       "        ></iframe>\n",
       "        "
      ],
      "text/plain": [
       "<IPython.lib.display.IFrame at 0x614c5588>"
      ]
     },
     "execution_count": 24,
     "metadata": {},
     "output_type": "execute_result"
    }
   ],
   "source": [
    "vox = voxelize3D(noisy_pts, dim=[48,48,48])\n",
    "plot_voxelgrid(vox)"
   ]
  },
  {
   "cell_type": "code",
   "execution_count": 25,
   "metadata": {
    "scrolled": true
   },
   "outputs": [],
   "source": [
    "# PyntCloud.get_filter()"
   ]
  },
  {
   "cell_type": "markdown",
   "metadata": {},
   "source": [
    "# Data Reading & preprocessing"
   ]
  },
  {
   "cell_type": "code",
   "execution_count": 26,
   "metadata": {},
   "outputs": [],
   "source": [
    "def label_cates(labels):\n",
    "    cates = []\n",
    "    for l in labels:\n",
    "        if l not in cates:\n",
    "            cates.append(l)\n",
    "    return cates\n",
    "\n",
    "def data_onehot_encode(labels):\n",
    "    \"\"\"\n",
    "    Recieves an array of labels.\n",
    "    \"\"\"\n",
    "    cates = label_cates(labels)\n",
    "    # one-hot\n",
    "    onehot = []\n",
    "    for l in labels:\n",
    "        x = np.zeros(len(cates))\n",
    "        x[cates.index(l)] = 1.0\n",
    "        onehot.append(x)\n",
    "    return onehot"
   ]
  },
  {
   "cell_type": "code",
   "execution_count": 27,
   "metadata": {},
   "outputs": [],
   "source": [
    "def data_reshape(data):\n",
    "    \"\"\"\n",
    "    Will read and voxelize the data\n",
    "    \"\"\"\n",
    "    x_reshaped = []\n",
    "    \n",
    "    for i in range(len(data)):\n",
    "        if i % 20 == 0:\n",
    "            print(\"Process: \", str('{0:.2f}'.format(i/len(data))) + \"%\", end='\\r')\n",
    "        my_point_cloud = PyntCloud.from_file(data[i], sep=\" \", header=0, names=[\"x\",\"y\",\"z\"])\n",
    "        vox = voxelize3D(my_point_cloud.xyz, [32,32,32])\n",
    "        vox_chan = np.array(vox).reshape(vox.shape + (1,))\n",
    "        x_reshaped.append(vox_chan)\n",
    "        \n",
    "    print(\"Process: \", \" 100% \")        \n",
    "    return x_reshaped"
   ]
  },
  {
   "cell_type": "markdown",
   "metadata": {},
   "source": [
    "# Data Shuffling"
   ]
  },
  {
   "cell_type": "code",
   "execution_count": 28,
   "metadata": {},
   "outputs": [],
   "source": [
    "def data_swap(data, index_a, index_b):\n",
    "    temp = data[index_a]\n",
    "    data[index_a] = data[index_b]\n",
    "    data[index_b] = temp\n",
    "    return data\n",
    "\n",
    "def data_random_position(data):\n",
    "    import random\n",
    "    return random.randint(0,len(data)-1)\n",
    "\n",
    "def data_shuffling(data, label):\n",
    "    for i in range(len(data)):\n",
    "        target = data_random_position(data)\n",
    "        data = data_swap(data, i, target)\n",
    "        label = data_swap(label, i, target)\n",
    "    return data, label"
   ]
  },
  {
   "cell_type": "code",
   "execution_count": 29,
   "metadata": {},
   "outputs": [],
   "source": [
    "shuffled_data_raw, shuffled_label_raw = data_shuffling(data, label)"
   ]
  },
  {
   "cell_type": "code",
   "execution_count": 30,
   "metadata": {},
   "outputs": [
    {
     "name": "stdout",
     "output_type": "stream",
     "text": [
      "Process:   100% \n"
     ]
    }
   ],
   "source": [
    "shuffled_data = data_reshape(shuffled_data_raw)\n",
    "shuffled_label = data_onehot_encode(shuffled_label_raw)"
   ]
  },
  {
   "cell_type": "code",
   "execution_count": 31,
   "metadata": {},
   "outputs": [],
   "source": [
    "label_classes = label_cates(label)"
   ]
  },
  {
   "cell_type": "code",
   "execution_count": 32,
   "metadata": {},
   "outputs": [
    {
     "name": "stdout",
     "output_type": "stream",
     "text": [
      "(32, 32, 32, 1)\n",
      "[ 1.  0.  0.  0.  0.]\n",
      "5\n",
      "['car', 'table', 'airplane', 'chair', 'lamp']\n"
     ]
    }
   ],
   "source": [
    "print(shuffled_data[100].shape)\n",
    "print(shuffled_label[100])\n",
    "print(len(shuffled_label[100]))\n",
    "print(label_classes)"
   ]
  },
  {
   "cell_type": "code",
   "execution_count": null,
   "metadata": {},
   "outputs": [],
   "source": []
  }
 ],
 "metadata": {
  "kernelspec": {
   "display_name": "Python 3",
   "language": "python",
   "name": "python3"
  },
  "language_info": {
   "codemirror_mode": {
    "name": "ipython",
    "version": 3
   },
   "file_extension": ".py",
   "mimetype": "text/x-python",
   "name": "python",
   "nbconvert_exporter": "python",
   "pygments_lexer": "ipython3",
   "version": "3.6.3"
  }
 },
 "nbformat": 4,
 "nbformat_minor": 2
}
