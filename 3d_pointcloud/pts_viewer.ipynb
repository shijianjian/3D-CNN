{
 "cells": [
  {
   "cell_type": "code",
   "execution_count": 92,
   "metadata": {
    "collapsed": true
   },
   "outputs": [],
   "source": [
    "# data comes from http://web.stanford.edu/~ericyi/project_page/part_annotation/index.html\n",
    "from pyntcloud import PyntCloud\n",
    "\n",
    "import sys\n",
    "import os\n",
    "if sys.platform == 'darwin':\n",
    "    data_path = os.getcwd() + \"/PartAnnotation\"\n",
    "else:\n",
    "    data_path = os.getcwd() + \"\\\\PartAnnotation\""
   ]
  },
  {
   "cell_type": "code",
   "execution_count": 93,
   "metadata": {},
   "outputs": [
    {
     "data": {
      "text/plain": [
       "'/Users/shijian/git/3D-CNN/3d_pointcloud/PartAnnotation'"
      ]
     },
     "execution_count": 93,
     "metadata": {},
     "output_type": "execute_result"
    }
   ],
   "source": [
    "data_path"
   ]
  },
  {
   "cell_type": "code",
   "execution_count": 94,
   "metadata": {
    "collapsed": true
   },
   "outputs": [],
   "source": [
    "def find_data(data_path):\n",
    "    data = []\n",
    "    label = []\n",
    "    for entry in os.scandir(data_path):\n",
    "        if entry.is_dir():\n",
    "            for pts_data in os.scandir(os.path.join(data_path, entry.name, 'points')):\n",
    "                data.append(os.path.join(data_path, entry.name, 'points', pts_data.name))\n",
    "                label.append(entry.name)\n",
    "    return data, label"
   ]
  },
  {
   "cell_type": "code",
   "execution_count": 95,
   "metadata": {
    "collapsed": true
   },
   "outputs": [],
   "source": [
    "data, label = find_data(data_path)"
   ]
  },
  {
   "cell_type": "code",
   "execution_count": 96,
   "metadata": {
    "collapsed": true
   },
   "outputs": [],
   "source": [
    "my_point_cloud = PyntCloud.from_file(data[9000], sep=\" \", header=0, names=[\"x\",\"y\",\"z\"])"
   ]
  },
  {
   "cell_type": "code",
   "execution_count": 109,
   "metadata": {},
   "outputs": [
    {
     "data": {
      "text/html": [
       "\n",
       "        <iframe\n",
       "            width=\"800\"\n",
       "            height=\"500\"\n",
       "            src=\"pyntcloud_plot.html\"\n",
       "            frameborder=\"0\"\n",
       "            allowfullscreen\n",
       "        ></iframe>\n",
       "        "
      ],
      "text/plain": [
       "<IPython.lib.display.IFrame at 0x10c1bcb38>"
      ]
     },
     "execution_count": 109,
     "metadata": {},
     "output_type": "execute_result"
    }
   ],
   "source": [
    "my_point_cloud.add_structure(\"voxelgrid\", x_y_z=[32, 32, 32])\n",
    "\n",
    "my_point_cloud.plot()"
   ]
  },
  {
   "cell_type": "code",
   "execution_count": 98,
   "metadata": {
    "collapsed": true
   },
   "outputs": [],
   "source": [
    "import math\n",
    "import numpy as np\n",
    "\n",
    "def voxelize3D(pts, dim=[1,1,1]):\n",
    "    \"\"\"\n",
    "    pts: receives .pts cloud point data. 2D array, arbitary sized X,Y,Z pairs.\n",
    "    dim: dimensioin of output voxelized data\n",
    "    \n",
    "    .pts data X, Y, Z ranged from -0.5~0.5.\n",
    "    This function will locate the grid cube and calculate the density of each cube.\n",
    "    \"\"\"\n",
    "    assert(pts.shape[1]==3)\n",
    "    assert(len(dim)==3)\n",
    "    \n",
    "    x_grid_length = 1/dim[0]\n",
    "    y_grid_length = 1/dim[1]\n",
    "    z_grid_length = 1/dim[2]\n",
    "    \n",
    "    output = np.zeros((dim[0],dim[1],dim[2])) # Make a 10 by 20 by 30 array\n",
    "    \n",
    "    for pair in pts:\n",
    "        x_loc = int(pair[0]/x_grid_length) + int(dim[0]/2)\n",
    "        y_loc = int(pair[1]/y_grid_length) + int(dim[1]/2)\n",
    "        z_loc = int(pair[2]/z_grid_length) + int(dim[2]/2)\n",
    "        if output[x_loc, y_loc, z_loc] is None:\n",
    "            output[x_loc, y_loc, z_loc] = 1\n",
    "        else:\n",
    "            output[x_loc, y_loc, z_loc] += 1\n",
    "            \n",
    "    return output"
   ]
  },
  {
   "cell_type": "code",
   "execution_count": 106,
   "metadata": {
    "collapsed": true
   },
   "outputs": [],
   "source": [
    "vox = voxelize3D(my_point_cloud.xyz, [32,32,32])"
   ]
  },
  {
   "cell_type": "code",
   "execution_count": 110,
   "metadata": {
    "collapsed": true
   },
   "outputs": [],
   "source": [
    "import matplotlib.pyplot as plt\n",
    "from IPython.display import IFrame\n",
    "\n",
    "TEMPLATE_VG = \"\"\"\n",
    "<!DOCTYPE html>\n",
    "<head>\n",
    "\n",
    "<title>PyntCloud</title>\n",
    "<meta charset=\"utf-8\">\n",
    "<meta name=\"viewport\" content=\"width=device-width, user-scalable=no, minimum-scale=1.0, maximum-scale=1.0\">\n",
    "<style>\n",
    "    body {{\n",
    "        color: #cccccc;font-family: Monospace;\n",
    "        font-size: 13px;\n",
    "        text-align: center;\n",
    "        background-color: #050505;\n",
    "        margin: 0px;\n",
    "        overflow: hidden;\n",
    "    }}\n",
    "    #logo_container {{\n",
    "        position: absolute;\n",
    "        top: 0px;\n",
    "        width: 100%;\n",
    "    }}\n",
    "    .logo {{\n",
    "        max-width: 20%;\n",
    "    }}\n",
    "</style>\n",
    "\n",
    "</head>\n",
    "<body>\n",
    "\n",
    "<div>\n",
    "    <img class=\"logo\" src=\"https://github.com/daavoo/pyntcloud/blob/master/docs/images/pyntcloud_logo.png\">\n",
    "</div>\n",
    "\n",
    "<div id=\"container\">\n",
    "</div>\n",
    "\n",
    "<script src=\"http://threejs.org/build/three.js\"></script>\n",
    "<script src=\"http://threejs.org/examples/js/Detector.js\"></script>\n",
    "<script src=\"http://threejs.org/examples/js/controls/OrbitControls.js\"></script>\n",
    "<script src=\"http://threejs.org/examples/js/libs/stats.min.js\"></script>\n",
    "\n",
    "<script>\n",
    "\n",
    "    if ( ! Detector.webgl ) Detector.addGetWebGLMessage();\n",
    "\n",
    "    var container, stats;\n",
    "    var camera, scene, renderer;\n",
    "    var points;\n",
    "\n",
    "    init();\n",
    "    animate();\n",
    "\n",
    "    function init() {{\n",
    "\n",
    "        var camera_x = {camera_x};\n",
    "\t\tvar camera_y = {camera_y};\n",
    "\t\tvar camera_z = {camera_z};\n",
    "\n",
    "        var look_x = {look_x};\n",
    "        var look_y = {look_y};\n",
    "        var look_z = {look_z};\n",
    "\n",
    "\t\tvar X = new Float32Array({X});\n",
    "        var Y = new Float32Array({Y});\n",
    "        var Z = new Float32Array({Z});\n",
    "\n",
    "        var R = new Float32Array({R});\n",
    "        var G = new Float32Array({G});\n",
    "        var B = new Float32Array({B});\n",
    "\n",
    "        var S_x = {S_x};\n",
    "        var S_y = {S_y};\n",
    "        var S_z = {S_z};\n",
    "\n",
    "        var n_voxels = {n_voxels};\n",
    "        var axis_size = {axis_size};\n",
    "\n",
    "        container = document.getElementById( 'container' );\n",
    "\n",
    "        scene = new THREE.Scene();\n",
    "\n",
    "        camera = new THREE.PerspectiveCamera( 90, window.innerWidth / window.innerHeight, 0.1, 1000 );\n",
    "        camera.position.x = camera_x;\n",
    "        camera.position.y = camera_y;\n",
    "        camera.position.z = camera_z;\n",
    "        camera.up = new THREE.Vector3( 0, 0, 1 );\t\n",
    "\n",
    "        if (axis_size > 0){{\n",
    "            var axisHelper = new THREE.AxisHelper( axis_size );\n",
    "\t\t    scene.add( axisHelper );\n",
    "        }}\n",
    "\n",
    "        var geometry = new THREE.BoxGeometry( S_x, S_z, S_y );\n",
    "\n",
    "        for ( var i = 0; i < n_voxels; i ++ ) {{            \n",
    "            var mesh = new THREE.Mesh( geometry, new THREE.MeshBasicMaterial() );\n",
    "            mesh.material.color.setRGB(R[i], G[i], B[i]);\n",
    "            mesh.position.x = X[i];\n",
    "            mesh.position.y = Y[i];\n",
    "            mesh.position.z = Z[i];\n",
    "            scene.add(mesh);\n",
    "        }}\n",
    "        \n",
    "        renderer = new THREE.WebGLRenderer( {{ antialias: false }} );\n",
    "        renderer.setPixelRatio( window.devicePixelRatio );\n",
    "        renderer.setSize( window.innerWidth, window.innerHeight );\n",
    "\n",
    "        controls = new THREE.OrbitControls( camera, renderer.domElement );\n",
    "        controls.target.copy( new THREE.Vector3(look_x, look_y, look_z) );\n",
    "        camera.lookAt( new THREE.Vector3(look_x, look_y, look_z));\n",
    "\n",
    "        container.appendChild( renderer.domElement );\n",
    "\n",
    "        window.addEventListener( 'resize', onWindowResize, false );\n",
    "    }}\n",
    "\n",
    "    function onWindowResize() {{\n",
    "        camera.aspect = window.innerWidth / window.innerHeight;\n",
    "        camera.updateProjectionMatrix();\n",
    "        renderer.setSize( window.innerWidth, window.innerHeight );\n",
    "    }}\n",
    "\n",
    "    function animate() {{\n",
    "        requestAnimationFrame( animate );\n",
    "        render();\n",
    "    }}\n",
    "\n",
    "    function render() {{\n",
    "        renderer.render( scene, camera );\n",
    "    }}\n",
    "</script>\n",
    "</body>\n",
    "</html>\n",
    "\"\"\"\n",
    "\n",
    "\n",
    "def plot_voxelgrid(v_grid, cmap=\"Oranges\", axis=False):\n",
    "\n",
    "    scaled_shape = v_grid.shape\n",
    "\n",
    "    # coordinates returned from argwhere are inversed so use [:, ::-1]\n",
    "    points = np.argwhere(v_grid)[:, ::-1] * scaled_shape\n",
    "\n",
    "    s_m = plt.cm.ScalarMappable(cmap=cmap)\n",
    "    rgb = s_m.to_rgba(v_grid.reshape(-1)[v_grid.reshape(-1) > 0])[:,:-1]\n",
    "\n",
    "    camera_position = points.max(0) + abs(points.max(0))\n",
    "    look = points.mean(0)\n",
    "    \n",
    "    if axis:\n",
    "        axis_size = points.ptp() * 1.5\n",
    "    else:\n",
    "        axis_size = 0\n",
    "\n",
    "    with open(\"voxel_grid_plot.html\", \"w\") as html:\n",
    "        html.write(TEMPLATE_VG.format( \n",
    "            camera_x=camera_position[0],\n",
    "            camera_y=camera_position[1],\n",
    "            camera_z=camera_position[2],\n",
    "            look_x=look[0],\n",
    "            look_y=look[1],\n",
    "            look_z=look[2],\n",
    "            X=points[:,0].tolist(),\n",
    "            Y=points[:,1].tolist(),\n",
    "            Z=points[:,2].tolist(),\n",
    "            R=rgb[:,0].tolist(),\n",
    "            G=rgb[:,1].tolist(),\n",
    "            B=rgb[:,2].tolist(),\n",
    "            S_x=scaled_shape[0],\n",
    "            S_y=scaled_shape[2],\n",
    "            S_z=scaled_shape[1],\n",
    "            n_voxels=sum(v_grid.reshape(-1) > 0),\n",
    "            axis_size=axis_size))\n",
    "\n",
    "    return IFrame(\"voxel_grid_plot.html\",width=800, height=600)"
   ]
  },
  {
   "cell_type": "code",
   "execution_count": 111,
   "metadata": {},
   "outputs": [
    {
     "data": {
      "text/html": [
       "\n",
       "        <iframe\n",
       "            width=\"800\"\n",
       "            height=\"600\"\n",
       "            src=\"voxel_grid_plot.html\"\n",
       "            frameborder=\"0\"\n",
       "            allowfullscreen\n",
       "        ></iframe>\n",
       "        "
      ],
      "text/plain": [
       "<IPython.lib.display.IFrame at 0x11b215518>"
      ]
     },
     "execution_count": 111,
     "metadata": {},
     "output_type": "execute_result"
    }
   ],
   "source": [
    "plot_voxelgrid(vox)"
   ]
  },
  {
   "cell_type": "code",
   "execution_count": null,
   "metadata": {
    "collapsed": true
   },
   "outputs": [],
   "source": []
  }
 ],
 "metadata": {
  "kernelspec": {
   "display_name": "Python 3",
   "language": "python",
   "name": "python3"
  },
  "language_info": {
   "codemirror_mode": {
    "name": "ipython",
    "version": 3
   },
   "file_extension": ".py",
   "mimetype": "text/x-python",
   "name": "python",
   "nbconvert_exporter": "python",
   "pygments_lexer": "ipython3",
   "version": "3.5.4"
  }
 },
 "nbformat": 4,
 "nbformat_minor": 2
}
